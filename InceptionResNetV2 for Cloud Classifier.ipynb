{
 "cells": [
  {
   "cell_type": "markdown",
   "metadata": {},
   "source": [
    "this kernel was forked from here : https://www.kaggle.com/samusram/cloud-classifier-for-post-processing?scriptVersionId=20265194\n",
    "\n",
    "highest  accuracy of that kernel was 0.629 which is same as this one : https://www.kaggle.com/artgor/segmentation-in-pytorch-using-convenient-tools?scriptVersionId=20202006 of Andrew Lukyanenko (  @artgor) \n",
    "thanks a lot to them for their public kernels,i recommend everyone playing with those kernels because those kernels has got solid baseline. my special thanks goes to Andrew Lukyanenko (  @artgor) ,i learnt plenty from his works \n",
    "\n",
    "Here in this kernel i got 0.63 after trying InceptionResNetV2 so i decided to share it with you guys,please leave your precious comment below,this is just a starting,i will write my own notebook when time permits but i would like to spend more time on @artgor's kernel to observe if i can improve his work little bit,i recommend you the same.\n",
    "\n",
    "whats new here?\n",
    "1. InceptionResNetV2 instead of densenet121\n",
    "2. image height and width 229x229 instead of 224\n",
    "3. version 1 has got 0.63 public lb accuracy ,so please upvote this notebok and obviously main author's notebook if you find these helpful\n",
    "4.  in version 3 i will try to leave everything as it was before but 5 epochs for initial tuning and 10 epochs for fine tuning"
   ]
  },
  {
   "cell_type": "markdown",
   "metadata": {},
   "source": [
    "**Version 6**\n",
    "- replacing this notebook's submission.csv with my trained models submission.csv file(got 0.658 public lb score) which comes from version 13 of this notebook : https://www.kaggle.com/mobassir/keras-efficientnetb2-for-classifying-cloud\n",
    "\n",
    "- using 0.90 as both precision and recall threshold\n",
    "- Rotate(limit=20)\n"
   ]
  },
  {
   "cell_type": "markdown",
   "metadata": {},
   "source": [
    "# version 7\n",
    "- using 0.94 as both precision and recall threshold\n",
    "- 17% for test set\n",
    "- lower learning rate\n",
    "- train for less epoches"
   ]
  },
  {
   "cell_type": "markdown",
   "metadata": {},
   "source": [
    "<font color=\"red\">i hope this kernel is helpful and some upvotes are highly appreciated!</font>"
   ]
  },
  {
   "cell_type": "markdown",
   "metadata": {
    "_cell_guid": "b1076dfc-b9ad-4769-8c92-a6c4dae69d19",
    "_uuid": "8f2839f25d086af736a60e9eeb907d3b93b6e0e5"
   },
   "source": [
    "# Intro\n",
    "In this notebook I'd create a classifier to distinguish types of cloud formations. Using this classifier I'd check if it improves currently the best LB score from the great [public notebook by Andrew](https://www.kaggle.com/artgor/segmentation-in-pytorch-using-convenient-tools?scriptVersionId=20202006). "
   ]
  },
  {
   "cell_type": "markdown",
   "metadata": {
    "_cell_guid": "79c7e3d0-c299-4dcb-8224-4455121ee9b0",
    "_uuid": "d629ff2d2480ee46fbb7e2d37f6b5fab8052498a",
    "collapsed": true
   },
   "source": [
    "# Plan\n",
    "1. [Libraries](#Libraries)\n",
    "2. [Data Generators](#Data-Generators)\n",
    "  * [One-hot encoding classes](#One-hot-encoding-classes)\n",
    "  * [Stratified split into train/val](#Stratified-split-into-train/val)\n",
    "  * [Generator class](#Generator-class)\n",
    "3. [PR-AUC-based Callback](#PR-AUC-based-Callback)\n",
    "4. [Classifier](#Classifier)\n",
    "  * [Defining a model](#Defining-a-model)\n",
    "  * [Initial tuning of the added fully-connected layer](#Initial-tuning-of-the-added-fully-connected-layer)\n",
    "  * [Fine-tuning the whole model](#Fine-tuning-the-whole-model)\n",
    "  * [Visualizing train and val PR AUC](#Visualizing-train-and-val-PR-AUC)\n",
    "5. [Selecting postprocessing thresholds](#Selecting-postprocessing-thresholds)\n",
    "6. [Post-processing Andrew's submission](#Post-processing-Andrew's-submission)\n",
    "7. [Future work](#Future-work)"
   ]
  },
  {
   "cell_type": "markdown",
   "metadata": {},
   "source": [
    "# Libraries"
   ]
  },
  {
   "cell_type": "code",
   "execution_count": 1,
   "metadata": {
    "_kg_hide-output": true
   },
   "outputs": [],
   "source": [
    "import os, glob\n",
    "import random\n",
    "from sklearn.model_selection import train_test_split\n",
    "import cv2\n",
    "import numpy as np\n",
    "import pandas as pd\n",
    "import multiprocessing\n",
    "from copy import deepcopy\n",
    "from sklearn.metrics import precision_recall_curve, auc\n",
    "import tensorflow.keras as keras\n",
    "from tensorflow.keras.optimizers import Adam, RMSprop, SGD\n",
    "from tensorflow.keras.callbacks import Callback\n",
    "from tensorflow.keras.applications.densenet import DenseNet121\n",
    "from tensorflow.keras.layers import Dense, Flatten\n",
    "from tensorflow.keras.models import Model, load_model\n",
    "from tensorflow.keras.utils import Sequence\n",
    "from albumentations import Compose, VerticalFlip, HorizontalFlip, Rotate, GridDistortion,CenterCrop\n",
    "import matplotlib.pyplot as plt\n",
    "from IPython.display import Image\n",
    "from tqdm import tqdm_notebook as tqdm\n",
    "from numpy.random import seed\n",
    "seed(10)\n",
    "from tensorflow import set_random_seed\n",
    "set_random_seed(10)\n",
    "%matplotlib inline"
   ]
  },
  {
   "cell_type": "code",
   "execution_count": 3,
   "metadata": {},
   "outputs": [],
   "source": [
    "test_imgs_folder = './input/test_images/'\n",
    "train_imgs_folder = './input/train_images/'\n",
    "num_cores = multiprocessing.cpu_count()"
   ]
  },
  {
   "cell_type": "markdown",
   "metadata": {},
   "source": [
    "# Data Generators"
   ]
  },
  {
   "cell_type": "markdown",
   "metadata": {},
   "source": [
    "## One-hot encoding classes"
   ]
  },
  {
   "cell_type": "code",
   "execution_count": 4,
   "metadata": {},
   "outputs": [
    {
     "data": {
      "text/html": [
       "<div>\n",
       "<style scoped>\n",
       "    .dataframe tbody tr th:only-of-type {\n",
       "        vertical-align: middle;\n",
       "    }\n",
       "\n",
       "    .dataframe tbody tr th {\n",
       "        vertical-align: top;\n",
       "    }\n",
       "\n",
       "    .dataframe thead th {\n",
       "        text-align: right;\n",
       "    }\n",
       "</style>\n",
       "<table border=\"1\" class=\"dataframe\">\n",
       "  <thead>\n",
       "    <tr style=\"text-align: right;\">\n",
       "      <th></th>\n",
       "      <th>Image_Label</th>\n",
       "      <th>EncodedPixels</th>\n",
       "    </tr>\n",
       "  </thead>\n",
       "  <tbody>\n",
       "    <tr>\n",
       "      <th>0</th>\n",
       "      <td>0011165.jpg_Fish</td>\n",
       "      <td>264918 937 266318 937 267718 937 269118 937 27...</td>\n",
       "    </tr>\n",
       "    <tr>\n",
       "      <th>1</th>\n",
       "      <td>0011165.jpg_Flower</td>\n",
       "      <td>1355565 1002 1356965 1002 1358365 1002 1359765...</td>\n",
       "    </tr>\n",
       "    <tr>\n",
       "      <th>2</th>\n",
       "      <td>0011165.jpg_Gravel</td>\n",
       "      <td>NaN</td>\n",
       "    </tr>\n",
       "    <tr>\n",
       "      <th>3</th>\n",
       "      <td>0011165.jpg_Sugar</td>\n",
       "      <td>NaN</td>\n",
       "    </tr>\n",
       "    <tr>\n",
       "      <th>4</th>\n",
       "      <td>002be4f.jpg_Fish</td>\n",
       "      <td>233813 878 235213 878 236613 878 238010 881 23...</td>\n",
       "    </tr>\n",
       "  </tbody>\n",
       "</table>\n",
       "</div>"
      ],
      "text/plain": [
       "          Image_Label                                      EncodedPixels\n",
       "0    0011165.jpg_Fish  264918 937 266318 937 267718 937 269118 937 27...\n",
       "1  0011165.jpg_Flower  1355565 1002 1356965 1002 1358365 1002 1359765...\n",
       "2  0011165.jpg_Gravel                                                NaN\n",
       "3   0011165.jpg_Sugar                                                NaN\n",
       "4    002be4f.jpg_Fish  233813 878 235213 878 236613 878 238010 881 23..."
      ]
     },
     "execution_count": 4,
     "metadata": {},
     "output_type": "execute_result"
    }
   ],
   "source": [
    "train_df = pd.read_csv('./input/train.csv')\n",
    "train_df.head()"
   ]
  },
  {
   "cell_type": "code",
   "execution_count": 5,
   "metadata": {},
   "outputs": [
    {
     "data": {
      "text/html": [
       "<div>\n",
       "<style scoped>\n",
       "    .dataframe tbody tr th:only-of-type {\n",
       "        vertical-align: middle;\n",
       "    }\n",
       "\n",
       "    .dataframe tbody tr th {\n",
       "        vertical-align: top;\n",
       "    }\n",
       "\n",
       "    .dataframe thead th {\n",
       "        text-align: right;\n",
       "    }\n",
       "</style>\n",
       "<table border=\"1\" class=\"dataframe\">\n",
       "  <thead>\n",
       "    <tr style=\"text-align: right;\">\n",
       "      <th></th>\n",
       "      <th>Image</th>\n",
       "      <th>Class</th>\n",
       "      <th>Fish</th>\n",
       "      <th>Flower</th>\n",
       "      <th>Sugar</th>\n",
       "      <th>Gravel</th>\n",
       "    </tr>\n",
       "  </thead>\n",
       "  <tbody>\n",
       "    <tr>\n",
       "      <th>0</th>\n",
       "      <td>0011165.jpg</td>\n",
       "      <td>{Fish, Flower}</td>\n",
       "      <td>1</td>\n",
       "      <td>1</td>\n",
       "      <td>0</td>\n",
       "      <td>0</td>\n",
       "    </tr>\n",
       "    <tr>\n",
       "      <th>1</th>\n",
       "      <td>002be4f.jpg</td>\n",
       "      <td>{Sugar, Fish, Flower}</td>\n",
       "      <td>1</td>\n",
       "      <td>1</td>\n",
       "      <td>1</td>\n",
       "      <td>0</td>\n",
       "    </tr>\n",
       "    <tr>\n",
       "      <th>2</th>\n",
       "      <td>0031ae9.jpg</td>\n",
       "      <td>{Sugar, Fish, Flower}</td>\n",
       "      <td>1</td>\n",
       "      <td>1</td>\n",
       "      <td>1</td>\n",
       "      <td>0</td>\n",
       "    </tr>\n",
       "    <tr>\n",
       "      <th>3</th>\n",
       "      <td>0035239.jpg</td>\n",
       "      <td>{Gravel, Flower}</td>\n",
       "      <td>0</td>\n",
       "      <td>1</td>\n",
       "      <td>0</td>\n",
       "      <td>1</td>\n",
       "    </tr>\n",
       "    <tr>\n",
       "      <th>4</th>\n",
       "      <td>003994e.jpg</td>\n",
       "      <td>{Sugar, Fish, Gravel}</td>\n",
       "      <td>1</td>\n",
       "      <td>0</td>\n",
       "      <td>1</td>\n",
       "      <td>1</td>\n",
       "    </tr>\n",
       "  </tbody>\n",
       "</table>\n",
       "</div>"
      ],
      "text/plain": [
       "         Image                  Class  Fish  Flower  Sugar  Gravel\n",
       "0  0011165.jpg         {Fish, Flower}     1       1      0       0\n",
       "1  002be4f.jpg  {Sugar, Fish, Flower}     1       1      1       0\n",
       "2  0031ae9.jpg  {Sugar, Fish, Flower}     1       1      1       0\n",
       "3  0035239.jpg       {Gravel, Flower}     0       1      0       1\n",
       "4  003994e.jpg  {Sugar, Fish, Gravel}     1       0      1       1"
      ]
     },
     "execution_count": 5,
     "metadata": {},
     "output_type": "execute_result"
    }
   ],
   "source": [
    "train_df = train_df[~train_df['EncodedPixels'].isnull()]\n",
    "train_df['Image'] = train_df['Image_Label'].map(lambda x: x.split('_')[0])\n",
    "train_df['Class'] = train_df['Image_Label'].map(lambda x: x.split('_')[1])\n",
    "classes = train_df['Class'].unique()\n",
    "train_df = train_df.groupby('Image')['Class'].agg(set).reset_index()\n",
    "for class_name in classes:\n",
    "    train_df[class_name] = train_df['Class'].map(lambda x: 1 if class_name in x else 0)\n",
    "train_df.head()"
   ]
  },
  {
   "cell_type": "code",
   "execution_count": 6,
   "metadata": {},
   "outputs": [],
   "source": [
    "# dictionary for fast access to ohe vectors\n",
    "img_2_ohe_vector = {img:vec for img, vec in zip(train_df['Image'], train_df.iloc[:, 2:].values)}"
   ]
  },
  {
   "cell_type": "markdown",
   "metadata": {},
   "source": [
    "## Stratified split into train/val"
   ]
  },
  {
   "cell_type": "code",
   "execution_count": 7,
   "metadata": {},
   "outputs": [],
   "source": [
    "train_imgs, val_imgs = train_test_split(train_df['Image'].values, \n",
    "                                        test_size=0.12, \n",
    "                                        stratify=train_df['Class'].map(lambda x: str(sorted(list(x)))), # sorting present classes in lexicographical order, just to be sure\n",
    "                                        random_state=13)"
   ]
  },
  {
   "cell_type": "markdown",
   "metadata": {},
   "source": [
    "## Generator class"
   ]
  },
  {
   "cell_type": "code",
   "execution_count": 8,
   "metadata": {},
   "outputs": [],
   "source": [
    "class DataGenenerator(Sequence):\n",
    "    def __init__(self, images_list=None, folder_imgs=train_imgs_folder, \n",
    "                 batch_size=16, shuffle=True, augmentation=None,\n",
    "                 resized_height=299, resized_width=299, num_channels=3):\n",
    "        self.batch_size = batch_size\n",
    "        self.shuffle = shuffle\n",
    "        self.augmentation = augmentation\n",
    "        if images_list is None:\n",
    "            self.images_list = os.listdir(folder_imgs)\n",
    "        else:\n",
    "            self.images_list = deepcopy(images_list)\n",
    "        self.folder_imgs = folder_imgs\n",
    "        self.len = len(self.images_list) // self.batch_size\n",
    "        self.resized_height = resized_height\n",
    "        self.resized_width = resized_width\n",
    "        self.num_channels = num_channels\n",
    "        self.num_classes = 4\n",
    "        self.is_test = not 'train' in folder_imgs\n",
    "        if not shuffle and not self.is_test:\n",
    "            self.labels = [img_2_ohe_vector[img] for img in self.images_list[:self.len*self.batch_size]]\n",
    "\n",
    "    def __len__(self):\n",
    "        return self.len\n",
    "    \n",
    "    def on_epoch_start(self):\n",
    "        if self.shuffle:\n",
    "            random.shuffle(self.images_list)\n",
    "\n",
    "    def __getitem__(self, idx):\n",
    "        current_batch = self.images_list[idx * self.batch_size: (idx + 1) * self.batch_size]\n",
    "        X = np.empty((self.batch_size, self.resized_height, self.resized_width, self.num_channels))\n",
    "        y = np.empty((self.batch_size, self.num_classes))\n",
    "\n",
    "        for i, image_name in enumerate(current_batch):\n",
    "            path = os.path.join(self.folder_imgs, image_name)\n",
    "            img = cv2.resize(cv2.imread(path), (self.resized_height, self.resized_width)).astype(np.float32)\n",
    "            if not self.augmentation is None:\n",
    "                augmented = self.augmentation(image=img)\n",
    "                img = augmented['image']\n",
    "            X[i, :, :, :] = img/255.0\n",
    "            if not self.is_test:\n",
    "                y[i, :] = img_2_ohe_vector[image_name]\n",
    "        return X, y\n",
    "\n",
    "    def get_labels(self):\n",
    "        if self.shuffle:\n",
    "            images_current = self.images_list[:self.len*self.batch_size]\n",
    "            labels = [img_2_ohe_vector[img] for img in images_current]\n",
    "        else:\n",
    "            labels = self.labels\n",
    "        return np.array(labels)"
   ]
  },
  {
   "cell_type": "code",
   "execution_count": 9,
   "metadata": {},
   "outputs": [],
   "source": [
    "albumentations_train = Compose([\n",
    "    VerticalFlip(), HorizontalFlip(), Rotate(limit=20), GridDistortion()\n",
    "], p=1)"
   ]
  },
  {
   "cell_type": "markdown",
   "metadata": {},
   "source": [
    "Generator instances"
   ]
  },
  {
   "cell_type": "code",
   "execution_count": 10,
   "metadata": {},
   "outputs": [],
   "source": [
    "data_generator_train = DataGenenerator(train_imgs, augmentation=albumentations_train)\n",
    "data_generator_train_eval = DataGenenerator(train_imgs, shuffle=False)\n",
    "data_generator_val = DataGenenerator(val_imgs, shuffle=False)"
   ]
  },
  {
   "cell_type": "markdown",
   "metadata": {},
   "source": [
    "# PR-AUC-based Callback"
   ]
  },
  {
   "cell_type": "markdown",
   "metadata": {},
   "source": [
    "The callback would be used:\n",
    "1. to estimate AUC under precision recall curve for each class,\n",
    "2. to early stop after 5 epochs of no improvement in mean PR AUC,\n",
    "3. save a model with the best PR AUC in validation,\n",
    "4. to reduce learning rate on PR AUC plateau."
   ]
  },
  {
   "cell_type": "code",
   "execution_count": 11,
   "metadata": {},
   "outputs": [],
   "source": [
    "class PrAucCallback(Callback):\n",
    "    def __init__(self, data_generator, num_workers=num_cores, \n",
    "                 early_stopping_patience=3, \n",
    "                 plateau_patience=3, reduction_rate=0.5,\n",
    "                 stage='train', checkpoints_path='checkpoints/'):\n",
    "        super(Callback, self).__init__()\n",
    "        self.data_generator = data_generator\n",
    "        self.num_workers = num_workers\n",
    "        self.class_names = ['Fish', 'Flower', 'Sugar', 'Gravel']\n",
    "        self.history = [[] for _ in range(len(self.class_names) + 1)] # to store per each class and also mean PR AUC\n",
    "        self.early_stopping_patience = early_stopping_patience\n",
    "        self.plateau_patience = plateau_patience\n",
    "        self.reduction_rate = reduction_rate\n",
    "        self.stage = stage\n",
    "        self.best_pr_auc = -float('inf')\n",
    "        if not os.path.exists(checkpoints_path):\n",
    "            os.makedirs(checkpoints_path)\n",
    "        self.checkpoints_path = checkpoints_path\n",
    "        \n",
    "    def compute_pr_auc(self, y_true, y_pred):\n",
    "        pr_auc_mean = 0\n",
    "        print(f\"\\n{'#'*30}\\n\")\n",
    "        for class_i in range(len(self.class_names)):\n",
    "            precision, recall, _ = precision_recall_curve(y_true[:, class_i], y_pred[:, class_i])\n",
    "            pr_auc = auc(recall, precision)\n",
    "            pr_auc_mean += pr_auc/len(self.class_names)\n",
    "            print(f\"PR AUC {self.class_names[class_i]}, {self.stage}: {pr_auc:.3f}\\n\")\n",
    "            self.history[class_i].append(pr_auc)        \n",
    "        print(f\"\\n{'#'*20}\\n PR AUC mean, {self.stage}: {pr_auc_mean:.3f}\\n{'#'*20}\\n\")\n",
    "        self.history[-1].append(pr_auc_mean)\n",
    "        return pr_auc_mean\n",
    "              \n",
    "    def is_patience_lost(self, patience):\n",
    "        if len(self.history[-1]) > patience:\n",
    "            best_performance = max(self.history[-1][-(patience + 1):-1])\n",
    "            return best_performance == self.history[-1][-(patience + 1)] and best_performance >= self.history[-1][-1]    \n",
    "              \n",
    "    def early_stopping_check(self, pr_auc_mean):\n",
    "        if self.is_patience_lost(self.early_stopping_patience):\n",
    "            self.model.stop_training = True    \n",
    "              \n",
    "    def model_checkpoint(self, pr_auc_mean, epoch):\n",
    "        if pr_auc_mean > self.best_pr_auc:\n",
    "            # remove previous checkpoints to save space\n",
    "            for checkpoint in glob.glob(os.path.join(self.checkpoints_path, 'classifier_epoch_*')):\n",
    "                os.remove(checkpoint)\n",
    "        self.best_pr_auc = pr_auc_mean\n",
    "        self.model.save(os.path.join(self.checkpoints_path, f'classifier_epoch_{epoch}_val_pr_auc_{pr_auc_mean}.h5'))              \n",
    "        print(f\"\\n{'#'*20}\\nSaved new checkpoint\\n{'#'*20}\\n\")\n",
    "              \n",
    "    def reduce_lr_on_plateau(self):\n",
    "        if self.is_patience_lost(self.plateau_patience):\n",
    "            new_lr = float(keras.backend.get_value(self.model.optimizer.lr)) * self.reduction_rate\n",
    "            keras.backend.set_value(self.model.optimizer.lr, new_lr)\n",
    "            print(f\"\\n{'#'*20}\\nReduced learning rate to {new_lr}.\\n{'#'*20}\\n\")\n",
    "        \n",
    "    def on_epoch_end(self, epoch, logs={}):\n",
    "        y_pred = self.model.predict_generator(self.data_generator, workers=self.num_workers)\n",
    "        y_true = self.data_generator.get_labels()\n",
    "        # estimate AUC under precision recall curve for each class\n",
    "        pr_auc_mean = self.compute_pr_auc(y_true, y_pred)\n",
    "              \n",
    "        if self.stage == 'val':\n",
    "            # early stop after early_stopping_patience=4 epochs of no improvement in mean PR AUC\n",
    "            self.early_stopping_check(pr_auc_mean)\n",
    "\n",
    "            # save a model with the best PR AUC in validation\n",
    "            self.model_checkpoint(pr_auc_mean, epoch)\n",
    "\n",
    "            # reduce learning rate on PR AUC plateau\n",
    "            self.reduce_lr_on_plateau()            \n",
    "        \n",
    "    def get_pr_auc_history(self):\n",
    "        return self.history"
   ]
  },
  {
   "cell_type": "markdown",
   "metadata": {},
   "source": [
    "Callback instances"
   ]
  },
  {
   "cell_type": "code",
   "execution_count": 16,
   "metadata": {},
   "outputs": [],
   "source": [
    "train_metric_callback = PrAucCallback(data_generator_train_eval, early_stopping_patience=7, plateau_patience=2, reduction_rate=0.3,)\n",
    "val_callback = PrAucCallback(data_generator_val, stage='val')"
   ]
  },
  {
   "cell_type": "markdown",
   "metadata": {},
   "source": [
    "# Classifier"
   ]
  },
  {
   "cell_type": "markdown",
   "metadata": {},
   "source": [
    "## Defining a model"
   ]
  },
  {
   "cell_type": "markdown",
   "metadata": {},
   "source": [
    "> Let's us InceptionResNetV2 pretrained on ImageNet."
   ]
  },
  {
   "cell_type": "code",
   "execution_count": 13,
   "metadata": {},
   "outputs": [
    {
     "name": "stdout",
     "output_type": "stream",
     "text": [
      "WARNING:tensorflow:From E:\\Anaconda3\\envs\\tensorflow-gpu\\lib\\site-packages\\tensorflow\\python\\ops\\resource_variable_ops.py:435: colocate_with (from tensorflow.python.framework.ops) is deprecated and will be removed in a future version.\n",
      "Instructions for updating:\n",
      "Colocations handled automatically by placer.\n"
     ]
    }
   ],
   "source": [
    "from tensorflow.keras.applications.inception_resnet_v2 import InceptionResNetV2\n",
    "def get_model():\n",
    "    base_model = InceptionResNetV2(weights='imagenet', include_top=False, pooling='avg')\n",
    "    x = base_model.output\n",
    "    y_pred = Dense(4, activation='sigmoid')(x)\n",
    "    return Model(inputs=base_model.input, outputs=y_pred)\n",
    "\n",
    "model = get_model()"
   ]
  },
  {
   "cell_type": "markdown",
   "metadata": {},
   "source": [
    "> ## Initial tuning of the added fully-connected layer"
   ]
  },
  {
   "cell_type": "code",
   "execution_count": 21,
   "metadata": {},
   "outputs": [
    {
     "name": "stdout",
     "output_type": "stream",
     "text": [
      "Epoch 1/5\n"
     ]
    },
    {
     "ename": "KeyboardInterrupt",
     "evalue": "",
     "output_type": "error",
     "traceback": [
      "\u001b[1;31m---------------------------------------------------------------------------\u001b[0m",
      "\u001b[1;31mKeyboardInterrupt\u001b[0m                         Traceback (most recent call last)",
      "\u001b[1;32m<ipython-input-21-21171c94307a>\u001b[0m in \u001b[0;36m<module>\u001b[1;34m\u001b[0m\n\u001b[0;32m      8\u001b[0m                               \u001b[0mcallbacks\u001b[0m\u001b[1;33m=\u001b[0m\u001b[1;33m[\u001b[0m\u001b[0mtrain_metric_callback\u001b[0m\u001b[1;33m,\u001b[0m \u001b[0mval_callback\u001b[0m\u001b[1;33m]\u001b[0m\u001b[1;33m,\u001b[0m\u001b[1;33m\u001b[0m\u001b[1;33m\u001b[0m\u001b[0m\n\u001b[0;32m      9\u001b[0m                               \u001b[0mworkers\u001b[0m\u001b[1;33m=\u001b[0m\u001b[0mnum_cores\u001b[0m\u001b[1;33m,\u001b[0m\u001b[1;33m\u001b[0m\u001b[1;33m\u001b[0m\u001b[0m\n\u001b[1;32m---> 10\u001b[1;33m                               \u001b[0mverbose\u001b[0m\u001b[1;33m=\u001b[0m\u001b[1;36m1\u001b[0m\u001b[1;33m\u001b[0m\u001b[1;33m\u001b[0m\u001b[0m\n\u001b[0m\u001b[0;32m     11\u001b[0m                              )\n",
      "\u001b[1;32mE:\\Anaconda3\\envs\\tensorflow-gpu\\lib\\site-packages\\tensorflow\\python\\keras\\engine\\training.py\u001b[0m in \u001b[0;36mfit_generator\u001b[1;34m(self, generator, steps_per_epoch, epochs, verbose, callbacks, validation_data, validation_steps, class_weight, max_queue_size, workers, use_multiprocessing, shuffle, initial_epoch)\u001b[0m\n\u001b[0;32m   1424\u001b[0m         \u001b[0muse_multiprocessing\u001b[0m\u001b[1;33m=\u001b[0m\u001b[0muse_multiprocessing\u001b[0m\u001b[1;33m,\u001b[0m\u001b[1;33m\u001b[0m\u001b[1;33m\u001b[0m\u001b[0m\n\u001b[0;32m   1425\u001b[0m         \u001b[0mshuffle\u001b[0m\u001b[1;33m=\u001b[0m\u001b[0mshuffle\u001b[0m\u001b[1;33m,\u001b[0m\u001b[1;33m\u001b[0m\u001b[1;33m\u001b[0m\u001b[0m\n\u001b[1;32m-> 1426\u001b[1;33m         initial_epoch=initial_epoch)\n\u001b[0m\u001b[0;32m   1427\u001b[0m \u001b[1;33m\u001b[0m\u001b[0m\n\u001b[0;32m   1428\u001b[0m   def evaluate_generator(self,\n",
      "\u001b[1;32mE:\\Anaconda3\\envs\\tensorflow-gpu\\lib\\site-packages\\tensorflow\\python\\keras\\engine\\training_generator.py\u001b[0m in \u001b[0;36mmodel_iteration\u001b[1;34m(model, data, steps_per_epoch, epochs, verbose, callbacks, validation_data, validation_steps, class_weight, max_queue_size, workers, use_multiprocessing, shuffle, initial_epoch, mode, batch_size, **kwargs)\u001b[0m\n\u001b[0;32m    189\u001b[0m       \u001b[0mprogbar\u001b[0m\u001b[1;33m.\u001b[0m\u001b[0mon_batch_begin\u001b[0m\u001b[1;33m(\u001b[0m\u001b[0mstep\u001b[0m\u001b[1;33m,\u001b[0m \u001b[0mbatch_logs\u001b[0m\u001b[1;33m)\u001b[0m\u001b[1;33m\u001b[0m\u001b[1;33m\u001b[0m\u001b[0m\n\u001b[0;32m    190\u001b[0m \u001b[1;33m\u001b[0m\u001b[0m\n\u001b[1;32m--> 191\u001b[1;33m       \u001b[0mbatch_outs\u001b[0m \u001b[1;33m=\u001b[0m \u001b[0mbatch_function\u001b[0m\u001b[1;33m(\u001b[0m\u001b[1;33m*\u001b[0m\u001b[0mbatch_data\u001b[0m\u001b[1;33m)\u001b[0m\u001b[1;33m\u001b[0m\u001b[1;33m\u001b[0m\u001b[0m\n\u001b[0m\u001b[0;32m    192\u001b[0m       \u001b[1;32mif\u001b[0m \u001b[1;32mnot\u001b[0m \u001b[0misinstance\u001b[0m\u001b[1;33m(\u001b[0m\u001b[0mbatch_outs\u001b[0m\u001b[1;33m,\u001b[0m \u001b[0mlist\u001b[0m\u001b[1;33m)\u001b[0m\u001b[1;33m:\u001b[0m\u001b[1;33m\u001b[0m\u001b[1;33m\u001b[0m\u001b[0m\n\u001b[0;32m    193\u001b[0m         \u001b[0mbatch_outs\u001b[0m \u001b[1;33m=\u001b[0m \u001b[1;33m[\u001b[0m\u001b[0mbatch_outs\u001b[0m\u001b[1;33m]\u001b[0m\u001b[1;33m\u001b[0m\u001b[1;33m\u001b[0m\u001b[0m\n",
      "\u001b[1;32mE:\\Anaconda3\\envs\\tensorflow-gpu\\lib\\site-packages\\tensorflow\\python\\keras\\engine\\training.py\u001b[0m in \u001b[0;36mtrain_on_batch\u001b[1;34m(self, x, y, sample_weight, class_weight, reset_metrics)\u001b[0m\n\u001b[0;32m   1189\u001b[0m       \u001b[1;32melse\u001b[0m\u001b[1;33m:\u001b[0m\u001b[1;33m\u001b[0m\u001b[1;33m\u001b[0m\u001b[0m\n\u001b[0;32m   1190\u001b[0m         \u001b[0mself\u001b[0m\u001b[1;33m.\u001b[0m\u001b[0m_make_fit_function\u001b[0m\u001b[1;33m(\u001b[0m\u001b[1;33m)\u001b[0m\u001b[1;33m\u001b[0m\u001b[1;33m\u001b[0m\u001b[0m\n\u001b[1;32m-> 1191\u001b[1;33m         \u001b[0moutputs\u001b[0m \u001b[1;33m=\u001b[0m \u001b[0mself\u001b[0m\u001b[1;33m.\u001b[0m\u001b[0m_fit_function\u001b[0m\u001b[1;33m(\u001b[0m\u001b[0mins\u001b[0m\u001b[1;33m)\u001b[0m  \u001b[1;31m# pylint: disable=not-callable\u001b[0m\u001b[1;33m\u001b[0m\u001b[1;33m\u001b[0m\u001b[0m\n\u001b[0m\u001b[0;32m   1192\u001b[0m \u001b[1;33m\u001b[0m\u001b[0m\n\u001b[0;32m   1193\u001b[0m     \u001b[1;32mif\u001b[0m \u001b[0mreset_metrics\u001b[0m\u001b[1;33m:\u001b[0m\u001b[1;33m\u001b[0m\u001b[1;33m\u001b[0m\u001b[0m\n",
      "\u001b[1;32mE:\\Anaconda3\\envs\\tensorflow-gpu\\lib\\site-packages\\tensorflow\\python\\keras\\backend.py\u001b[0m in \u001b[0;36m__call__\u001b[1;34m(self, inputs)\u001b[0m\n\u001b[0;32m   3071\u001b[0m         \u001b[0mfeed_symbols\u001b[0m \u001b[1;33m!=\u001b[0m \u001b[0mself\u001b[0m\u001b[1;33m.\u001b[0m\u001b[0m_feed_symbols\u001b[0m \u001b[1;32mor\u001b[0m \u001b[0mself\u001b[0m\u001b[1;33m.\u001b[0m\u001b[0mfetches\u001b[0m \u001b[1;33m!=\u001b[0m \u001b[0mself\u001b[0m\u001b[1;33m.\u001b[0m\u001b[0m_fetches\u001b[0m \u001b[1;32mor\u001b[0m\u001b[1;33m\u001b[0m\u001b[1;33m\u001b[0m\u001b[0m\n\u001b[0;32m   3072\u001b[0m         session != self._session):\n\u001b[1;32m-> 3073\u001b[1;33m       \u001b[0mself\u001b[0m\u001b[1;33m.\u001b[0m\u001b[0m_make_callable\u001b[0m\u001b[1;33m(\u001b[0m\u001b[0mfeed_arrays\u001b[0m\u001b[1;33m,\u001b[0m \u001b[0mfeed_symbols\u001b[0m\u001b[1;33m,\u001b[0m \u001b[0msymbol_vals\u001b[0m\u001b[1;33m,\u001b[0m \u001b[0msession\u001b[0m\u001b[1;33m)\u001b[0m\u001b[1;33m\u001b[0m\u001b[1;33m\u001b[0m\u001b[0m\n\u001b[0m\u001b[0;32m   3074\u001b[0m \u001b[1;33m\u001b[0m\u001b[0m\n\u001b[0;32m   3075\u001b[0m     fetched = self._callable_fn(*array_vals,\n",
      "\u001b[1;32mE:\\Anaconda3\\envs\\tensorflow-gpu\\lib\\site-packages\\tensorflow\\python\\keras\\backend.py\u001b[0m in \u001b[0;36m_make_callable\u001b[1;34m(self, feed_arrays, feed_symbols, symbol_vals, session)\u001b[0m\n\u001b[0;32m   3017\u001b[0m       \u001b[0mcallable_opts\u001b[0m\u001b[1;33m.\u001b[0m\u001b[0mrun_options\u001b[0m\u001b[1;33m.\u001b[0m\u001b[0mCopyFrom\u001b[0m\u001b[1;33m(\u001b[0m\u001b[0mself\u001b[0m\u001b[1;33m.\u001b[0m\u001b[0mrun_options\u001b[0m\u001b[1;33m)\u001b[0m\u001b[1;33m\u001b[0m\u001b[1;33m\u001b[0m\u001b[0m\n\u001b[0;32m   3018\u001b[0m     \u001b[1;31m# Create callable.\u001b[0m\u001b[1;33m\u001b[0m\u001b[1;33m\u001b[0m\u001b[1;33m\u001b[0m\u001b[0m\n\u001b[1;32m-> 3019\u001b[1;33m     \u001b[0mcallable_fn\u001b[0m \u001b[1;33m=\u001b[0m \u001b[0msession\u001b[0m\u001b[1;33m.\u001b[0m\u001b[0m_make_callable_from_options\u001b[0m\u001b[1;33m(\u001b[0m\u001b[0mcallable_opts\u001b[0m\u001b[1;33m)\u001b[0m\u001b[1;33m\u001b[0m\u001b[1;33m\u001b[0m\u001b[0m\n\u001b[0m\u001b[0;32m   3020\u001b[0m     \u001b[1;31m# Cache parameters corresponding to the generated callable, so that\u001b[0m\u001b[1;33m\u001b[0m\u001b[1;33m\u001b[0m\u001b[1;33m\u001b[0m\u001b[0m\n\u001b[0;32m   3021\u001b[0m     \u001b[1;31m# we can detect future mismatches and refresh the callable.\u001b[0m\u001b[1;33m\u001b[0m\u001b[1;33m\u001b[0m\u001b[1;33m\u001b[0m\u001b[0m\n",
      "\u001b[1;32mE:\\Anaconda3\\envs\\tensorflow-gpu\\lib\\site-packages\\tensorflow\\python\\client\\session.py\u001b[0m in \u001b[0;36m_make_callable_from_options\u001b[1;34m(self, callable_options)\u001b[0m\n\u001b[0;32m   1469\u001b[0m     \"\"\"\n\u001b[0;32m   1470\u001b[0m     \u001b[0mself\u001b[0m\u001b[1;33m.\u001b[0m\u001b[0m_extend_graph\u001b[0m\u001b[1;33m(\u001b[0m\u001b[1;33m)\u001b[0m\u001b[1;33m\u001b[0m\u001b[1;33m\u001b[0m\u001b[0m\n\u001b[1;32m-> 1471\u001b[1;33m     \u001b[1;32mreturn\u001b[0m \u001b[0mBaseSession\u001b[0m\u001b[1;33m.\u001b[0m\u001b[0m_Callable\u001b[0m\u001b[1;33m(\u001b[0m\u001b[0mself\u001b[0m\u001b[1;33m,\u001b[0m \u001b[0mcallable_options\u001b[0m\u001b[1;33m)\u001b[0m\u001b[1;33m\u001b[0m\u001b[1;33m\u001b[0m\u001b[0m\n\u001b[0m\u001b[0;32m   1472\u001b[0m \u001b[1;33m\u001b[0m\u001b[0m\n\u001b[0;32m   1473\u001b[0m \u001b[1;33m\u001b[0m\u001b[0m\n",
      "\u001b[1;32mE:\\Anaconda3\\envs\\tensorflow-gpu\\lib\\site-packages\\tensorflow\\python\\client\\session.py\u001b[0m in \u001b[0;36m__init__\u001b[1;34m(self, session, callable_options)\u001b[0m\n\u001b[0;32m   1423\u001b[0m         \u001b[1;32mwith\u001b[0m \u001b[0merrors\u001b[0m\u001b[1;33m.\u001b[0m\u001b[0mraise_exception_on_not_ok_status\u001b[0m\u001b[1;33m(\u001b[0m\u001b[1;33m)\u001b[0m \u001b[1;32mas\u001b[0m \u001b[0mstatus\u001b[0m\u001b[1;33m:\u001b[0m\u001b[1;33m\u001b[0m\u001b[1;33m\u001b[0m\u001b[0m\n\u001b[0;32m   1424\u001b[0m           self._handle = tf_session.TF_SessionMakeCallable(\n\u001b[1;32m-> 1425\u001b[1;33m               session._session, options_ptr, status)\n\u001b[0m\u001b[0;32m   1426\u001b[0m       \u001b[1;32mfinally\u001b[0m\u001b[1;33m:\u001b[0m\u001b[1;33m\u001b[0m\u001b[1;33m\u001b[0m\u001b[0m\n\u001b[0;32m   1427\u001b[0m         \u001b[0mtf_session\u001b[0m\u001b[1;33m.\u001b[0m\u001b[0mTF_DeleteBuffer\u001b[0m\u001b[1;33m(\u001b[0m\u001b[0moptions_ptr\u001b[0m\u001b[1;33m)\u001b[0m\u001b[1;33m\u001b[0m\u001b[1;33m\u001b[0m\u001b[0m\n",
      "\u001b[1;31mKeyboardInterrupt\u001b[0m: "
     ]
    }
   ],
   "source": [
    "for base_layer in model.layers[:-1]:\n",
    "    base_layer.trainable = False\n",
    "    \n",
    "model.compile(optimizer=Adam(lr=0.001), loss='categorical_crossentropy')\n",
    "history_0 = model.fit_generator(generator=data_generator_train,\n",
    "                              validation_data=data_generator_val,\n",
    "                              epochs=5,\n",
    "                              callbacks=[train_metric_callback, val_callback],\n",
    "                              workers=num_cores,\n",
    "                              verbose=1\n",
    "                             )"
   ]
  },
  {
   "cell_type": "markdown",
   "metadata": {},
   "source": [
    "## Fine-tuning the whole model"
   ]
  },
  {
   "cell_type": "markdown",
   "metadata": {},
   "source": [
    "After unfreezing all the layers I set a less aggressive initial learning rate and train until early stopping (or 100 epochs max)."
   ]
  },
  {
   "cell_type": "code",
   "execution_count": 55,
   "metadata": {},
   "outputs": [
    {
     "name": "stdout",
     "output_type": "stream",
     "text": [
      "Epoch 2/13\n"
     ]
    },
    {
     "name": "stdout",
     "output_type": "stream",
     "text": [
      "12/41 [=======>......................].] - ETA: 11:07:38 - loss: 0.433 - ETA: 5:34:43 - loss: 0.426 - ETA: 3:43:45 - loss: 0.43 - ETA: 2:48:15 - loss: 0.43 - ETA: 2:14:56 - loss: 0.45 - ETA: 1:52:44 - loss: 0.44 - ETA: 1:36:51 - loss: 0.43 - ETA: 1:24:57 - loss: 0.44 - ETA: 1:15:42 - loss: 0.44 - ETA: 1:08:17 - loss: 0.44 - ETA: 1:02:13 - loss: 0.44 - ETA: 57:11 - loss: 0.4379 - ETA: 52:55 - loss: 0.44 - ETA: 49:14 - loss: 0.44 - ETA: 46:04 - loss: 0.46 - ETA: 43:17 - loss: 0.45 - ETA: 40:49 - loss: 0.45 - ETA: 38:38 - loss: 0.45 - ETA: 36:40 - loss: 0.45 - ETA: 34:54 - loss: 0.45 - ETA: 33:18 - loss: 0.45 - ETA: 31:50 - loss: 0.45 - ETA: 30:31 - loss: 0.45 - ETA: 29:17 - loss: 0.45 - ETA: 28:10 - loss: 0.45 - ETA: 27:08 - loss: 0.44 - ETA: 26:10 - loss: 0.44 - ETA: 25:16 - loss: 0.44 - ETA: 24:26 - loss: 0.44 - ETA: 23:40 - loss: 0.44 - ETA: 22:56 - loss: 0.44 - ETA: 22:15 - loss: 0.44 - ETA: 21:36 - loss: 0.44 - ETA: 21:00 - loss: 0.45 - ETA: 20:25 - loss: 0.44 - ETA: 19:53 - loss: 0.45 - ETA: 19:22 - loss: 0.45 - ETA: 18:53 - loss: 0.44 - ETA: 18:25 - loss: 0.44 - ETA: 17:58 - loss: 0.44 - ETA: 17:33 - loss: 0.45 - ETA: 17:09 - loss: 0.45 - ETA: 16:46 - loss: 0.45 - ETA: 16:24 - loss: 0.45 - ETA: 16:03 - loss: 0.44 - ETA: 15:43 - loss: 0.44 - ETA: 15:24 - loss: 0.44 - ETA: 15:05 - loss: 0.44 - ETA: 14:47 - loss: 0.44 - ETA: 14:30 - loss: 0.45 - ETA: 14:14 - loss: 0.45 - ETA: 13:58 - loss: 0.45 - ETA: 13:42 - loss: 0.45 - ETA: 13:28 - loss: 0.45 - ETA: 13:13 - loss: 0.45 - ETA: 13:00 - loss: 0.45 - ETA: 12:46 - loss: 0.45 - ETA: 12:34 - loss: 0.44 - ETA: 12:21 - loss: 0.45 - ETA: 12:09 - loss: 0.45 - ETA: 11:57 - loss: 0.45 - ETA: 11:46 - loss: 0.45 - ETA: 11:35 - loss: 0.45 - ETA: 11:24 - loss: 0.45 - ETA: 11:14 - loss: 0.45 - ETA: 11:04 - loss: 0.45 - ETA: 10:54 - loss: 0.45 - ETA: 10:44 - loss: 0.45 - ETA: 10:35 - loss: 0.45 - ETA: 10:26 - loss: 0.45 - ETA: 10:17 - loss: 0.45 - ETA: 10:08 - loss: 0.45 - ETA: 10:00 - loss: 0.45 - ETA: 9:52 - loss: 0.4548 - ETA: 9:44 - loss: 0.454 - ETA: 9:36 - loss: 0.454 - ETA: 9:28 - loss: 0.455 - ETA: 9:21 - loss: 0.455 - ETA: 9:14 - loss: 0.456 - ETA: 9:07 - loss: 0.457 - ETA: 9:00 - loss: 0.457 - ETA: 8:53 - loss: 0.458 - ETA: 8:46 - loss: 0.459 - ETA: 8:40 - loss: 0.461 - ETA: 8:33 - loss: 0.461 - ETA: 8:27 - loss: 0.461 - ETA: 8:21 - loss: 0.461 - ETA: 8:15 - loss: 0.461 - ETA: 8:09 - loss: 0.461 - ETA: 8:03 - loss: 0.460 - ETA: 7:57 - loss: 0.460 - ETA: 7:52 - loss: 0.461 - ETA: 7:46 - loss: 0.462 - ETA: 7:41 - loss: 0.462 - ETA: 7:36 - loss: 0.463 - ETA: 7:31 - loss: 0.464 - ETA: 7:26 - loss: 0.464 - ETA: 7:21 - loss: 0.465 - ETA: 7:16 - loss: 0.464 - ETA: 7:11 - loss: 0.464 - ETA: 7:06 - loss: 0.464 - ETA: 7:01 - loss: 0.463 - ETA: 6:57 - loss: 0.464 - ETA: 6:52 - loss: 0.466 - ETA: 6:48 - loss: 0.466 - ETA: 6:43 - loss: 0.468 - ETA: 6:39 - loss: 0.468 - ETA: 6:35 - loss: 0.468 - ETA: 6:31 - loss: 0.468 - ETA: 6:27 - loss: 0.468 - ETA: 6:22 - loss: 0.468 - ETA: 6:18 - loss: 0.467 - ETA: 6:15 - loss: 0.467 - ETA: 6:11 - loss: 0.467 - ETA: 6:07 - loss: 0.467 - ETA: 6:03 - loss: 0.467 - ETA: 5:59 - loss: 0.466 - ETA: 5:56 - loss: 0.467 - ETA: 5:52 - loss: 0.467 - ETA: 5:48 - loss: 0.466 - ETA: 5:45 - loss: 0.467 - ETA: 5:41 - loss: 0.466 - ETA: 5:38 - loss: 0.467 - ETA: 5:34 - loss: 0.467 - ETA: 5:31 - loss: 0.466 - ETA: 5:28 - loss: 0.466 - ETA: 5:24 - loss: 0.467 - ETA: 5:21 - loss: 0.467 - ETA: 5:18 - loss: 0.467 - ETA: 5:15 - loss: 0.467 - ETA: 5:12 - loss: 0.467 - ETA: 5:09 - loss: 0.466 - ETA: 5:05 - loss: 0.466 - ETA: 5:02 - loss: 0.466 - ETA: 4:59 - loss: 0.466 - ETA: 4:56 - loss: 0.467 - ETA: 4:54 - loss: 0.467 - ETA: 4:51 - loss: 0.466 - ETA: 4:48 - loss: 0.466 - ETA: 4:45 - loss: 0.466 - ETA: 4:42 - loss: 0.465 - ETA: 4:39 - loss: 0.465 - ETA: 4:37 - loss: 0.465 - ETA: 4:34 - loss: 0.465 - ETA: 4:31 - loss: 0.465 - ETA: 4:28 - loss: 0.466 - ETA: 4:26 - loss: 0.466 - ETA: 4:23 - loss: 0.465 - ETA: 4:20 - loss: 0.466 - ETA: 4:18 - loss: 0.466 - ETA: 4:15 - loss: 0.466 - ETA: 4:13 - loss: 0.466 - ETA: 4:10 - loss: 0.466 - ETA: 4:08 - loss: 0.467 - ETA: 4:05 - loss: 0.466 - ETA: 4:03 - loss: 0.466 - ETA: 4:00 - loss: 0.466 - ETA: 3:58 - loss: 0.466 - ETA: 3:56 - loss: 0.466 - ETA: 3:53 - loss: 0.466 - ETA: 3:51 - loss: 0.465 - ETA: 3:49 - loss: 0.465 - ETA: 3:46 - loss: 0.465 - ETA: 3:44 - loss: 0.465 - ETA: 3:42 - loss: 0.466 - ETA: 3:40 - loss: 0.466 - ETA: 3:37 - loss: 0.465 - ETA: 3:35 - loss: 0.465 - ETA: 3:33 - loss: 0.466 - ETA: 3:31 - loss: 0.466 - ETA: 3:29 - loss: 0.466 - ETA: 3:26 - loss: 0.466 - ETA: 3:24 - loss: 0.467 - ETA: 3:22 - loss: 0.467 - ETA: 3:20 - loss: 0.467 - ETA: 3:18 - loss: 0.467 - ETA: 3:16 - loss: 0.467 - ETA: 3:14 - loss: 0.467 - ETA: 3:12 - loss: 0.466 - ETA: 3:10 - loss: 0.466 - ETA: 3:08 - loss: 0.467 - ETA: 3:06 - loss: 0.467 - ETA: 3:04 - loss: 0.466 - ETA: 3:02 - loss: 0.467 - ETA: 3:00 - loss: 0.467 - ETA: 2:58 - loss: 0.467 - ETA: 2:56 - loss: 0.467 - ETA: 2:54 - loss: 0.468 - ETA: 2:52 - loss: 0.468 - ETA: 2:50 - loss: 0.468 - ETA: 2:48 - loss: 0.468 - ETA: 2:46 - loss: 0.468 - ETA: 2:44 - loss: 0.467 - ETA: 2:43 - loss: 0.468 - ETA: 2:41 - loss: 0.467 - ETA: 2:39 - loss: 0.467 - ETA: 2:37 - loss: 0.467 - ETA: 2:35 - loss: 0.467 - ETA: 2:33 - loss: 0.468 - ETA: 2:32 - loss: 0.468 - ETA: 2:30 - loss: 0.467 - ETA: 2:28 - loss: 0.468 - ETA: 2:26 - loss: 0.468 - ETA: 2:25 - loss: 0.469 - ETA: 2:23 - loss: 0.469 - ETA: 2:21 - loss: 0.468 - ETA: 2:19 - loss: 0.468 - ETA: 2:18 - loss: 0.468 - ETA: 2:16 - loss: 0.468 - ETA: 2:14 - loss: 0.468 - ETA: 2:12 - loss: 0.467 - ETA: 2:11 - loss: 0.467 - ETA: 2:09 - loss: 0.467 - ETA: 2:07 - loss: 0.467 - ETA: 2:06 - loss: 0.467 - ETA: 2:04 - loss: 0.467 - ETA: 2:02 - loss: 0.467 - ETA: 2:01 - loss: 0.467 - ETA: 1:59 - loss: 0.467 - ETA: 1:58 - loss: 0.468 - ETA: 1:56 - loss: 0.468 - ETA: 1:54 - loss: 0.469 - ETA: 1:53 - loss: 0.469 - ETA: 1:51 - loss: 0.468 - ETA: 1:50 - loss: 0.469 - ETA: 1:48 - loss: 0.469 - ETA: 1:46 - loss: 0.469 - ETA: 1:45 - loss: 0.469 - ETA: 1:43 - loss: 0.469 - ETA: 1:42 - loss: 0.469 - ETA: 1:40 - loss: 0.468 - ETA: 1:39 - loss: 0.468 - ETA: 1:37 - loss: 0.468 - ETA: 1:36 - loss: 0.469 - ETA: 1:34 - loss: 0.469 - ETA: 1:33 - loss: 0.469 - ETA: 1:31 - loss: 0.469 - ETA: 1:30 - loss: 0.469 - ETA: 1:28 - loss: 0.469 - ETA: 1:27 - loss: 0.470 - ETA: 1:25 - loss: 0.470 - ETA: 1:24 - loss: 0.469 - ETA: 1:22 - loss: 0.470 - ETA: 1:21 - loss: 0.470 - ETA: 1:19 - loss: 0.470 - ETA: 1:18 - loss: 0.470 - ETA: 1:16 - loss: 0.470 - ETA: 1:15 - loss: 0.470 - ETA: 1:13 - loss: 0.470 - ETA: 1:12 - loss: 0.470 - ETA: 1:11 - loss: 0.470 - ETA: 1:09 - loss: 0.470 - ETA: 1:08 - loss: 0.470 - ETA: 1:06 - loss: 0.470 - ETA: 1:05 - loss: 0.470 - ETA: 1:03 - loss: 0.470 - ETA: 1:02 - loss: 0.469 - ETA: 1:01 - loss: 0.469 - ETA: 59s - loss: 0.469 - ETA: 58s - loss: 0.47 - ETA: 57s - loss: 0.47 - ETA: 55s - loss: 0.47 - ETA: 54s - loss: 0.47 - ETA: 52s - loss: 0.47 - ETA: 51s - loss: 0.47 - ETA: 50s - loss: 0.47 - ETA: 48s - loss: 0.47 - ETA: 47s - loss: 0.47 - ETA: 46s - loss: 0.47 - ETA: 44s - loss: 0.47 - ETA: 43s - loss: 0.47 - ETA: 42s - loss: 0.47 - ETA: 40s - loss: 0.47 - ETA: 39s - loss: 0.47 - ETA: 38s - loss: 0.47 - ETA: 36s - loss: 0.47 - ETA: 35s - loss: 0.47 - ETA: 34s - loss: 0.47 - ETA: 32s - loss: 0.47 - ETA: 31s - loss: 0.47 - ETA: 30s - loss: 0.47 - ETA: 28s - loss: 0.47 - ETA: 27s - loss: 0.47 - ETA: 26s - loss: 0.47 - ETA: 25s - loss: 0.47 - ETA: 23s - loss: 0.47 - ETA: 22s - loss: 0.47 - ETA: 21s - loss: 0.47 - ETA: 19s - loss: 0.47 - ETA: 18s - loss: 0.47 - ETA: 17s - loss: 0.47 - ETA: 16s - loss: 0.47 - ETA: 14s - loss: 0.47 - ETA: 13s - loss: 0.47 - ETA: 12s - loss: 0.47 - ETA: 11s - loss: 0.47 - ETA: 9s - loss: 0.4729 - ETA: 8s - loss: 0.473 - ETA: 7s - loss: 0.473 - ETA: 6s - loss: 0.473 - ETA: 4s - loss: 0.473 - ETA: 3s - loss: 0.473 - ETA: 2s - loss: 0.473 - ETA: 1s - loss: 0.4737 - ETA: 7:49 - loss: 0.739 - ETA: 3:54 - loss: 0.734 - ETA: 2:35 - loss: 0.659 - ETA: 1:55 - loss: 0.625 - ETA: 1:31 - loss: 0.644 - ETA: 1:16 - loss: 0.695 - ETA: 1:04 - loss: 0.713 - ETA: 56s - loss: 0.696 - ETA: 49s - loss: 0.68 - ETA: 43s - loss: 0.66 - ETA: 39s - loss: 0.66 - ETA: 35s - loss: 0.6541/41 [==============================] - ETA: 32s - loss: 0.64 - ETA: 29s - loss: 0.65 - ETA: 27s - loss: 0.64 - ETA: 25s - loss: 0.64 - ETA: 24s - loss: 0.64 - ETA: 22s - loss: 0.62 - ETA: 20s - loss: 0.63 - ETA: 19s - loss: 0.63 - ETA: 18s - loss: 0.62 - ETA: 17s - loss: 0.62 - ETA: 15s - loss: 0.62 - ETA: 14s - loss: 0.61 - ETA: 13s - loss: 0.61 - ETA: 12s - loss: 0.61 - ETA: 11s - loss: 0.61 - ETA: 10s - loss: 0.62 - ETA: 9s - loss: 0.6165 - ETA: 8s - loss: 0.621 - ETA: 7s - loss: 0.618 - ETA: 7s - loss: 0.620 - ETA: 6s - loss: 0.622 - ETA: 5s - loss: 0.621 - ETA: 4s - loss: 0.625 - ETA: 3s - loss: 0.628 - ETA: 2s - loss: 0.630 - ETA: 2s - loss: 0.628 - ETA: 1s - loss: 0.630 - ETA: 0s - loss: 0.631 - 29s 704ms/step - loss: 0.6321\n",
      "\n",
      "##############################\n",
      "\n",
      "PR AUC Fish, train: 0.867\n",
      "\n",
      "PR AUC Flower, train: 0.906\n",
      "\n",
      "PR AUC Sugar, train: 0.935\n",
      "\n",
      "PR AUC Gravel, train: 0.851\n",
      "\n",
      "\n",
      "####################\n",
      " PR AUC mean, train: 0.890\n",
      "####################\n",
      "\n",
      "\n",
      "##############################\n",
      "\n",
      "PR AUC Fish, val: 0.760\n",
      "\n",
      "PR AUC Flower, val: 0.815\n",
      "\n",
      "PR AUC Sugar, val: 0.881\n",
      "\n",
      "PR AUC Gravel, val: 0.789\n",
      "\n",
      "\n",
      "####################\n",
      " PR AUC mean, val: 0.811\n",
      "####################\n",
      "\n",
      "\n",
      "####################\n",
      "Saved new checkpoint\n",
      "####################\n",
      "\n",
      "305/305 [==============================] - 539s 2s/step - loss: 0.4737 - val_loss: 0.6321\n",
      "Epoch 3/13\n"
     ]
    },
    {
     "name": "stdout",
     "output_type": "stream",
     "text": [
      "17/41 [===========>..................].] - ETA: 4:03 - loss: 0.456 - ETA: 4:00 - loss: 0.399 - ETA: 3:58 - loss: 0.415 - ETA: 3:56 - loss: 0.411 - ETA: 3:55 - loss: 0.433 - ETA: 3:54 - loss: 0.448 - ETA: 3:54 - loss: 0.459 - ETA: 3:53 - loss: 0.460 - ETA: 3:53 - loss: 0.448 - ETA: 3:52 - loss: 0.449 - ETA: 3:51 - loss: 0.451 - ETA: 3:50 - loss: 0.441 - ETA: 3:49 - loss: 0.444 - ETA: 3:48 - loss: 0.438 - ETA: 3:47 - loss: 0.445 - ETA: 3:47 - loss: 0.445 - ETA: 3:46 - loss: 0.442 - ETA: 3:45 - loss: 0.439 - ETA: 3:45 - loss: 0.445 - ETA: 3:44 - loss: 0.445 - ETA: 3:43 - loss: 0.446 - ETA: 3:42 - loss: 0.450 - ETA: 3:42 - loss: 0.447 - ETA: 3:41 - loss: 0.445 - ETA: 3:40 - loss: 0.439 - ETA: 3:39 - loss: 0.441 - ETA: 3:38 - loss: 0.443 - ETA: 3:38 - loss: 0.442 - ETA: 3:37 - loss: 0.445 - ETA: 3:36 - loss: 0.450 - ETA: 3:35 - loss: 0.449 - ETA: 3:34 - loss: 0.447 - ETA: 3:33 - loss: 0.446 - ETA: 3:33 - loss: 0.448 - ETA: 3:32 - loss: 0.448 - ETA: 3:31 - loss: 0.448 - ETA: 3:31 - loss: 0.449 - ETA: 3:30 - loss: 0.454 - ETA: 3:29 - loss: 0.457 - ETA: 3:28 - loss: 0.455 - ETA: 3:28 - loss: 0.453 - ETA: 3:27 - loss: 0.454 - ETA: 3:26 - loss: 0.452 - ETA: 3:25 - loss: 0.452 - ETA: 3:24 - loss: 0.456 - ETA: 3:24 - loss: 0.454 - ETA: 3:23 - loss: 0.455 - ETA: 3:22 - loss: 0.454 - ETA: 3:21 - loss: 0.453 - ETA: 3:20 - loss: 0.452 - ETA: 3:20 - loss: 0.451 - ETA: 3:19 - loss: 0.451 - ETA: 3:18 - loss: 0.450 - ETA: 3:17 - loss: 0.451 - ETA: 3:17 - loss: 0.451 - ETA: 3:16 - loss: 0.451 - ETA: 3:15 - loss: 0.451 - ETA: 3:14 - loss: 0.452 - ETA: 3:14 - loss: 0.452 - ETA: 3:13 - loss: 0.454 - ETA: 3:12 - loss: 0.453 - ETA: 3:11 - loss: 0.452 - ETA: 3:11 - loss: 0.450 - ETA: 3:10 - loss: 0.450 - ETA: 3:09 - loss: 0.449 - ETA: 3:08 - loss: 0.448 - ETA: 3:07 - loss: 0.447 - ETA: 3:07 - loss: 0.447 - ETA: 3:06 - loss: 0.448 - ETA: 3:05 - loss: 0.447 - ETA: 3:04 - loss: 0.448 - ETA: 3:03 - loss: 0.448 - ETA: 3:03 - loss: 0.447 - ETA: 3:02 - loss: 0.447 - ETA: 3:01 - loss: 0.448 - ETA: 3:00 - loss: 0.448 - ETA: 2:59 - loss: 0.447 - ETA: 2:59 - loss: 0.447 - ETA: 2:58 - loss: 0.447 - ETA: 2:57 - loss: 0.449 - ETA: 2:56 - loss: 0.450 - ETA: 2:55 - loss: 0.449 - ETA: 2:55 - loss: 0.449 - ETA: 2:54 - loss: 0.450 - ETA: 2:53 - loss: 0.451 - ETA: 2:52 - loss: 0.450 - ETA: 2:51 - loss: 0.450 - ETA: 2:51 - loss: 0.450 - ETA: 2:50 - loss: 0.450 - ETA: 2:49 - loss: 0.449 - ETA: 2:48 - loss: 0.450 - ETA: 2:47 - loss: 0.449 - ETA: 2:47 - loss: 0.448 - ETA: 2:46 - loss: 0.448 - ETA: 2:45 - loss: 0.449 - ETA: 2:44 - loss: 0.449 - ETA: 2:43 - loss: 0.449 - ETA: 2:43 - loss: 0.450 - ETA: 2:42 - loss: 0.450 - ETA: 2:41 - loss: 0.450 - ETA: 2:40 - loss: 0.450 - ETA: 2:39 - loss: 0.449 - ETA: 2:39 - loss: 0.449 - ETA: 2:38 - loss: 0.450 - ETA: 2:37 - loss: 0.451 - ETA: 2:36 - loss: 0.450 - ETA: 2:36 - loss: 0.450 - ETA: 2:35 - loss: 0.449 - ETA: 2:34 - loss: 0.449 - ETA: 2:33 - loss: 0.448 - ETA: 2:32 - loss: 0.448 - ETA: 2:32 - loss: 0.449 - ETA: 2:31 - loss: 0.449 - ETA: 2:30 - loss: 0.450 - ETA: 2:29 - loss: 0.450 - ETA: 2:29 - loss: 0.449 - ETA: 2:28 - loss: 0.448 - ETA: 2:27 - loss: 0.448 - ETA: 2:26 - loss: 0.448 - ETA: 2:25 - loss: 0.448 - ETA: 2:25 - loss: 0.448 - ETA: 2:24 - loss: 0.448 - ETA: 2:23 - loss: 0.448 - ETA: 2:22 - loss: 0.449 - ETA: 2:21 - loss: 0.448 - ETA: 2:21 - loss: 0.448 - ETA: 2:20 - loss: 0.447 - ETA: 2:19 - loss: 0.448 - ETA: 2:18 - loss: 0.448 - ETA: 2:18 - loss: 0.449 - ETA: 2:17 - loss: 0.449 - ETA: 2:16 - loss: 0.449 - ETA: 2:15 - loss: 0.449 - ETA: 2:14 - loss: 0.449 - ETA: 2:14 - loss: 0.449 - ETA: 2:13 - loss: 0.448 - ETA: 2:12 - loss: 0.448 - ETA: 2:11 - loss: 0.448 - ETA: 2:11 - loss: 0.448 - ETA: 2:10 - loss: 0.447 - ETA: 2:09 - loss: 0.448 - ETA: 2:08 - loss: 0.448 - ETA: 2:07 - loss: 0.448 - ETA: 2:07 - loss: 0.448 - ETA: 2:06 - loss: 0.448 - ETA: 2:05 - loss: 0.449 - ETA: 2:04 - loss: 0.449 - ETA: 2:03 - loss: 0.450 - ETA: 2:03 - loss: 0.449 - ETA: 2:02 - loss: 0.449 - ETA: 2:01 - loss: 0.449 - ETA: 2:00 - loss: 0.449 - ETA: 1:59 - loss: 0.449 - ETA: 1:59 - loss: 0.449 - ETA: 1:58 - loss: 0.450 - ETA: 1:57 - loss: 0.449 - ETA: 1:56 - loss: 0.449 - ETA: 1:56 - loss: 0.450 - ETA: 1:55 - loss: 0.450 - ETA: 1:54 - loss: 0.451 - ETA: 1:53 - loss: 0.451 - ETA: 1:52 - loss: 0.451 - ETA: 1:52 - loss: 0.451 - ETA: 1:51 - loss: 0.451 - ETA: 1:50 - loss: 0.451 - ETA: 1:49 - loss: 0.452 - ETA: 1:48 - loss: 0.451 - ETA: 1:48 - loss: 0.451 - ETA: 1:47 - loss: 0.451 - ETA: 1:46 - loss: 0.451 - ETA: 1:45 - loss: 0.451 - ETA: 1:44 - loss: 0.451 - ETA: 1:44 - loss: 0.451 - ETA: 1:43 - loss: 0.451 - ETA: 1:42 - loss: 0.451 - ETA: 1:41 - loss: 0.451 - ETA: 1:40 - loss: 0.452 - ETA: 1:40 - loss: 0.452 - ETA: 1:39 - loss: 0.452 - ETA: 1:38 - loss: 0.452 - ETA: 1:37 - loss: 0.452 - ETA: 1:37 - loss: 0.452 - ETA: 1:36 - loss: 0.453 - ETA: 1:35 - loss: 0.453 - ETA: 1:34 - loss: 0.453 - ETA: 1:33 - loss: 0.453 - ETA: 1:33 - loss: 0.453 - ETA: 1:32 - loss: 0.454 - ETA: 1:31 - loss: 0.454 - ETA: 1:30 - loss: 0.454 - ETA: 1:29 - loss: 0.454 - ETA: 1:29 - loss: 0.454 - ETA: 1:28 - loss: 0.455 - ETA: 1:27 - loss: 0.456 - ETA: 1:26 - loss: 0.456 - ETA: 1:25 - loss: 0.456 - ETA: 1:25 - loss: 0.456 - ETA: 1:24 - loss: 0.456 - ETA: 1:23 - loss: 0.456 - ETA: 1:22 - loss: 0.457 - ETA: 1:22 - loss: 0.457 - ETA: 1:21 - loss: 0.457 - ETA: 1:20 - loss: 0.457 - ETA: 1:19 - loss: 0.457 - ETA: 1:18 - loss: 0.457 - ETA: 1:18 - loss: 0.457 - ETA: 1:17 - loss: 0.456 - ETA: 1:16 - loss: 0.456 - ETA: 1:15 - loss: 0.456 - ETA: 1:14 - loss: 0.456 - ETA: 1:14 - loss: 0.456 - ETA: 1:13 - loss: 0.457 - ETA: 1:12 - loss: 0.457 - ETA: 1:11 - loss: 0.457 - ETA: 1:10 - loss: 0.457 - ETA: 1:10 - loss: 0.457 - ETA: 1:09 - loss: 0.457 - ETA: 1:08 - loss: 0.457 - ETA: 1:07 - loss: 0.457 - ETA: 1:07 - loss: 0.457 - ETA: 1:06 - loss: 0.457 - ETA: 1:05 - loss: 0.457 - ETA: 1:04 - loss: 0.457 - ETA: 1:03 - loss: 0.457 - ETA: 1:03 - loss: 0.458 - ETA: 1:02 - loss: 0.458 - ETA: 1:01 - loss: 0.458 - ETA: 1:00 - loss: 0.457 - ETA: 59s - loss: 0.457 - ETA: 59s - loss: 0.45 - ETA: 58s - loss: 0.45 - ETA: 57s - loss: 0.45 - ETA: 56s - loss: 0.45 - ETA: 56s - loss: 0.45 - ETA: 55s - loss: 0.45 - ETA: 54s - loss: 0.45 - ETA: 53s - loss: 0.45 - ETA: 52s - loss: 0.45 - ETA: 52s - loss: 0.45 - ETA: 51s - loss: 0.45 - ETA: 50s - loss: 0.45 - ETA: 49s - loss: 0.45 - ETA: 48s - loss: 0.45 - ETA: 48s - loss: 0.45 - ETA: 47s - loss: 0.45 - ETA: 46s - loss: 0.45 - ETA: 45s - loss: 0.45 - ETA: 44s - loss: 0.45 - ETA: 44s - loss: 0.45 - ETA: 43s - loss: 0.45 - ETA: 42s - loss: 0.45 - ETA: 41s - loss: 0.45 - ETA: 41s - loss: 0.45 - ETA: 40s - loss: 0.45 - ETA: 39s - loss: 0.45 - ETA: 38s - loss: 0.45 - ETA: 37s - loss: 0.45 - ETA: 37s - loss: 0.45 - ETA: 36s - loss: 0.45 - ETA: 35s - loss: 0.45 - ETA: 34s - loss: 0.45 - ETA: 33s - loss: 0.45 - ETA: 33s - loss: 0.45 - ETA: 32s - loss: 0.45 - ETA: 31s - loss: 0.45 - ETA: 30s - loss: 0.45 - ETA: 29s - loss: 0.45 - ETA: 29s - loss: 0.45 - ETA: 28s - loss: 0.45 - ETA: 27s - loss: 0.45 - ETA: 26s - loss: 0.45 - ETA: 26s - loss: 0.45 - ETA: 25s - loss: 0.45 - ETA: 24s - loss: 0.45 - ETA: 23s - loss: 0.45 - ETA: 22s - loss: 0.45 - ETA: 22s - loss: 0.45 - ETA: 21s - loss: 0.45 - ETA: 20s - loss: 0.45 - ETA: 19s - loss: 0.45 - ETA: 18s - loss: 0.45 - ETA: 18s - loss: 0.45 - ETA: 17s - loss: 0.45 - ETA: 16s - loss: 0.45 - ETA: 15s - loss: 0.45 - ETA: 14s - loss: 0.45 - ETA: 14s - loss: 0.45 - ETA: 13s - loss: 0.45 - ETA: 12s - loss: 0.45 - ETA: 11s - loss: 0.45 - ETA: 11s - loss: 0.45 - ETA: 10s - loss: 0.45 - ETA: 9s - loss: 0.4593 - ETA: 8s - loss: 0.459 - ETA: 7s - loss: 0.459 - ETA: 7s - loss: 0.459 - ETA: 6s - loss: 0.459 - ETA: 5s - loss: 0.459 - ETA: 4s - loss: 0.459 - ETA: 3s - loss: 0.458 - ETA: 3s - loss: 0.459 - ETA: 2s - loss: 0.459 - ETA: 1s - loss: 0.459 - ETA: 0s - loss: 0.4594 - ETA: 2:32 - loss: 0.706 - ETA: 1:21 - loss: 0.682 - ETA: 57s - loss: 0.671 - ETA: 45s - loss: 0.64 - ETA: 38s - loss: 0.63 - ETA: 33s - loss: 0.71 - ETA: 29s - loss: 0.70 - ETA: 26s - loss: 0.68 - ETA: 24s - loss: 0.66 - ETA: 22s - loss: 0.66 - ETA: 20s - loss: 0.64 - ETA: 18s - loss: 0.63 - ETA: 17s - loss: 0.63 - ETA: 16s - loss: 0.63 - ETA: 15s - loss: 0.62 - ETA: 14s - loss: 0.61 - ETA: 13s - loss: 0.6123"
     ]
    },
    {
     "name": "stdout",
     "output_type": "stream",
     "text": [
      "41/41 [==============================] - ETA: 12s - loss: 0.60 - ETA: 11s - loss: 0.60 - ETA: 10s - loss: 0.60 - ETA: 10s - loss: 0.60 - ETA: 9s - loss: 0.6039 - ETA: 8s - loss: 0.602 - ETA: 8s - loss: 0.597 - ETA: 7s - loss: 0.590 - ETA: 7s - loss: 0.584 - ETA: 6s - loss: 0.595 - ETA: 5s - loss: 0.604 - ETA: 5s - loss: 0.600 - ETA: 4s - loss: 0.604 - ETA: 4s - loss: 0.604 - ETA: 3s - loss: 0.602 - ETA: 3s - loss: 0.601 - ETA: 3s - loss: 0.603 - ETA: 2s - loss: 0.604 - ETA: 2s - loss: 0.605 - ETA: 1s - loss: 0.611 - ETA: 1s - loss: 0.608 - ETA: 0s - loss: 0.608 - ETA: 0s - loss: 0.609 - 16s 402ms/step - loss: 0.6102\n",
      "\n",
      "##############################\n",
      "\n",
      "PR AUC Fish, train: 0.871\n",
      "\n",
      "PR AUC Flower, train: 0.890\n",
      "\n",
      "PR AUC Sugar, train: 0.936\n",
      "\n",
      "PR AUC Gravel, train: 0.874\n",
      "\n",
      "\n",
      "####################\n",
      " PR AUC mean, train: 0.893\n",
      "####################\n",
      "\n",
      "\n",
      "##############################\n",
      "\n",
      "PR AUC Fish, val: 0.775\n",
      "\n",
      "PR AUC Flower, val: 0.825\n",
      "\n",
      "PR AUC Sugar, val: 0.882\n",
      "\n",
      "PR AUC Gravel, val: 0.831\n",
      "\n",
      "\n",
      "####################\n",
      " PR AUC mean, val: 0.828\n",
      "####################\n",
      "\n",
      "\n",
      "####################\n",
      "Saved new checkpoint\n",
      "####################\n",
      "\n",
      "305/305 [==============================] - 371s 1s/step - loss: 0.4594 - val_loss: 0.6102\n",
      "Epoch 4/13\n"
     ]
    },
    {
     "name": "stdout",
     "output_type": "stream",
     "text": [
      "17/41 [===========>..................].] - ETA: 3:57 - loss: 0.413 - ETA: 3:55 - loss: 0.489 - ETA: 3:56 - loss: 0.530 - ETA: 3:56 - loss: 0.506 - ETA: 3:56 - loss: 0.472 - ETA: 3:55 - loss: 0.462 - ETA: 3:54 - loss: 0.462 - ETA: 3:53 - loss: 0.455 - ETA: 3:52 - loss: 0.457 - ETA: 3:51 - loss: 0.463 - ETA: 3:50 - loss: 0.475 - ETA: 3:49 - loss: 0.476 - ETA: 3:49 - loss: 0.468 - ETA: 3:48 - loss: 0.467 - ETA: 3:47 - loss: 0.467 - ETA: 3:46 - loss: 0.458 - ETA: 3:45 - loss: 0.458 - ETA: 3:45 - loss: 0.460 - ETA: 3:44 - loss: 0.456 - ETA: 3:44 - loss: 0.456 - ETA: 3:43 - loss: 0.454 - ETA: 3:42 - loss: 0.456 - ETA: 3:41 - loss: 0.457 - ETA: 3:41 - loss: 0.459 - ETA: 3:40 - loss: 0.457 - ETA: 3:39 - loss: 0.459 - ETA: 3:38 - loss: 0.459 - ETA: 3:37 - loss: 0.461 - ETA: 3:36 - loss: 0.459 - ETA: 3:36 - loss: 0.459 - ETA: 3:35 - loss: 0.455 - ETA: 3:34 - loss: 0.453 - ETA: 3:33 - loss: 0.450 - ETA: 3:33 - loss: 0.448 - ETA: 3:32 - loss: 0.447 - ETA: 3:31 - loss: 0.446 - ETA: 3:31 - loss: 0.444 - ETA: 3:30 - loss: 0.445 - ETA: 3:29 - loss: 0.445 - ETA: 3:28 - loss: 0.442 - ETA: 3:28 - loss: 0.442 - ETA: 3:27 - loss: 0.441 - ETA: 3:26 - loss: 0.439 - ETA: 3:25 - loss: 0.439 - ETA: 3:25 - loss: 0.440 - ETA: 3:24 - loss: 0.438 - ETA: 3:23 - loss: 0.437 - ETA: 3:22 - loss: 0.436 - ETA: 3:21 - loss: 0.433 - ETA: 3:20 - loss: 0.433 - ETA: 3:20 - loss: 0.438 - ETA: 3:19 - loss: 0.436 - ETA: 3:18 - loss: 0.437 - ETA: 3:17 - loss: 0.437 - ETA: 3:16 - loss: 0.439 - ETA: 3:16 - loss: 0.437 - ETA: 3:15 - loss: 0.436 - ETA: 3:14 - loss: 0.435 - ETA: 3:13 - loss: 0.435 - ETA: 3:13 - loss: 0.435 - ETA: 3:12 - loss: 0.435 - ETA: 3:11 - loss: 0.434 - ETA: 3:10 - loss: 0.432 - ETA: 3:09 - loss: 0.433 - ETA: 3:09 - loss: 0.434 - ETA: 3:08 - loss: 0.438 - ETA: 3:07 - loss: 0.438 - ETA: 3:06 - loss: 0.438 - ETA: 3:06 - loss: 0.438 - ETA: 3:05 - loss: 0.438 - ETA: 3:04 - loss: 0.438 - ETA: 3:03 - loss: 0.439 - ETA: 3:03 - loss: 0.438 - ETA: 3:02 - loss: 0.438 - ETA: 3:01 - loss: 0.437 - ETA: 3:00 - loss: 0.436 - ETA: 2:59 - loss: 0.437 - ETA: 2:59 - loss: 0.437 - ETA: 2:58 - loss: 0.437 - ETA: 2:57 - loss: 0.438 - ETA: 2:56 - loss: 0.437 - ETA: 2:55 - loss: 0.437 - ETA: 2:55 - loss: 0.438 - ETA: 2:54 - loss: 0.437 - ETA: 2:53 - loss: 0.438 - ETA: 2:52 - loss: 0.436 - ETA: 2:52 - loss: 0.436 - ETA: 2:51 - loss: 0.438 - ETA: 2:50 - loss: 0.438 - ETA: 2:49 - loss: 0.438 - ETA: 2:48 - loss: 0.438 - ETA: 2:48 - loss: 0.438 - ETA: 2:47 - loss: 0.437 - ETA: 2:46 - loss: 0.437 - ETA: 2:45 - loss: 0.436 - ETA: 2:44 - loss: 0.436 - ETA: 2:44 - loss: 0.436 - ETA: 2:43 - loss: 0.437 - ETA: 2:42 - loss: 0.437 - ETA: 2:42 - loss: 0.438 - ETA: 2:41 - loss: 0.438 - ETA: 2:40 - loss: 0.438 - ETA: 2:39 - loss: 0.439 - ETA: 2:38 - loss: 0.440 - ETA: 2:38 - loss: 0.440 - ETA: 2:37 - loss: 0.441 - ETA: 2:36 - loss: 0.442 - ETA: 2:35 - loss: 0.442 - ETA: 2:34 - loss: 0.442 - ETA: 2:34 - loss: 0.441 - ETA: 2:33 - loss: 0.442 - ETA: 2:32 - loss: 0.442 - ETA: 2:31 - loss: 0.443 - ETA: 2:31 - loss: 0.443 - ETA: 2:30 - loss: 0.443 - ETA: 2:29 - loss: 0.444 - ETA: 2:28 - loss: 0.444 - ETA: 2:27 - loss: 0.444 - ETA: 2:27 - loss: 0.444 - ETA: 2:26 - loss: 0.445 - ETA: 2:25 - loss: 0.446 - ETA: 2:24 - loss: 0.447 - ETA: 2:23 - loss: 0.447 - ETA: 2:23 - loss: 0.447 - ETA: 2:22 - loss: 0.446 - ETA: 2:21 - loss: 0.446 - ETA: 2:20 - loss: 0.446 - ETA: 2:19 - loss: 0.446 - ETA: 2:19 - loss: 0.446 - ETA: 2:18 - loss: 0.445 - ETA: 2:17 - loss: 0.446 - ETA: 2:16 - loss: 0.445 - ETA: 2:15 - loss: 0.445 - ETA: 2:15 - loss: 0.446 - ETA: 2:14 - loss: 0.446 - ETA: 2:13 - loss: 0.445 - ETA: 2:12 - loss: 0.446 - ETA: 2:12 - loss: 0.446 - ETA: 2:11 - loss: 0.447 - ETA: 2:10 - loss: 0.447 - ETA: 2:09 - loss: 0.447 - ETA: 2:08 - loss: 0.446 - ETA: 2:08 - loss: 0.446 - ETA: 2:07 - loss: 0.446 - ETA: 2:06 - loss: 0.446 - ETA: 2:05 - loss: 0.446 - ETA: 2:04 - loss: 0.446 - ETA: 2:04 - loss: 0.445 - ETA: 2:03 - loss: 0.445 - ETA: 2:02 - loss: 0.445 - ETA: 2:01 - loss: 0.445 - ETA: 2:00 - loss: 0.446 - ETA: 2:00 - loss: 0.446 - ETA: 1:59 - loss: 0.445 - ETA: 1:58 - loss: 0.445 - ETA: 1:57 - loss: 0.445 - ETA: 1:56 - loss: 0.445 - ETA: 1:56 - loss: 0.446 - ETA: 1:55 - loss: 0.445 - ETA: 1:54 - loss: 0.445 - ETA: 1:53 - loss: 0.445 - ETA: 1:52 - loss: 0.445 - ETA: 1:52 - loss: 0.445 - ETA: 1:51 - loss: 0.446 - ETA: 1:50 - loss: 0.445 - ETA: 1:49 - loss: 0.445 - ETA: 1:48 - loss: 0.445 - ETA: 1:48 - loss: 0.445 - ETA: 1:47 - loss: 0.445 - ETA: 1:46 - loss: 0.445 - ETA: 1:45 - loss: 0.445 - ETA: 1:44 - loss: 0.445 - ETA: 1:44 - loss: 0.445 - ETA: 1:43 - loss: 0.445 - ETA: 1:42 - loss: 0.445 - ETA: 1:41 - loss: 0.445 - ETA: 1:41 - loss: 0.444 - ETA: 1:40 - loss: 0.444 - ETA: 1:39 - loss: 0.444 - ETA: 1:38 - loss: 0.444 - ETA: 1:37 - loss: 0.444 - ETA: 1:37 - loss: 0.444 - ETA: 1:36 - loss: 0.444 - ETA: 1:35 - loss: 0.444 - ETA: 1:34 - loss: 0.444 - ETA: 1:33 - loss: 0.444 - ETA: 1:33 - loss: 0.443 - ETA: 1:32 - loss: 0.443 - ETA: 1:31 - loss: 0.444 - ETA: 1:30 - loss: 0.444 - ETA: 1:29 - loss: 0.444 - ETA: 1:29 - loss: 0.444 - ETA: 1:28 - loss: 0.445 - ETA: 1:27 - loss: 0.445 - ETA: 1:26 - loss: 0.445 - ETA: 1:26 - loss: 0.445 - ETA: 1:25 - loss: 0.445 - ETA: 1:24 - loss: 0.445 - ETA: 1:23 - loss: 0.445 - ETA: 1:22 - loss: 0.445 - ETA: 1:22 - loss: 0.446 - ETA: 1:21 - loss: 0.445 - ETA: 1:20 - loss: 0.445 - ETA: 1:19 - loss: 0.445 - ETA: 1:18 - loss: 0.445 - ETA: 1:18 - loss: 0.445 - ETA: 1:17 - loss: 0.444 - ETA: 1:16 - loss: 0.445 - ETA: 1:15 - loss: 0.445 - ETA: 1:14 - loss: 0.445 - ETA: 1:14 - loss: 0.446 - ETA: 1:13 - loss: 0.446 - ETA: 1:12 - loss: 0.446 - ETA: 1:11 - loss: 0.446 - ETA: 1:11 - loss: 0.446 - ETA: 1:10 - loss: 0.446 - ETA: 1:09 - loss: 0.446 - ETA: 1:08 - loss: 0.446 - ETA: 1:07 - loss: 0.446 - ETA: 1:07 - loss: 0.446 - ETA: 1:06 - loss: 0.446 - ETA: 1:05 - loss: 0.445 - ETA: 1:04 - loss: 0.445 - ETA: 1:03 - loss: 0.445 - ETA: 1:03 - loss: 0.446 - ETA: 1:02 - loss: 0.446 - ETA: 1:01 - loss: 0.446 - ETA: 1:00 - loss: 0.447 - ETA: 59s - loss: 0.447 - ETA: 59s - loss: 0.44 - ETA: 58s - loss: 0.44 - ETA: 57s - loss: 0.44 - ETA: 56s - loss: 0.44 - ETA: 55s - loss: 0.44 - ETA: 55s - loss: 0.44 - ETA: 54s - loss: 0.44 - ETA: 53s - loss: 0.44 - ETA: 52s - loss: 0.44 - ETA: 52s - loss: 0.44 - ETA: 51s - loss: 0.44 - ETA: 50s - loss: 0.44 - ETA: 49s - loss: 0.44 - ETA: 48s - loss: 0.44 - ETA: 48s - loss: 0.44 - ETA: 47s - loss: 0.44 - ETA: 46s - loss: 0.44 - ETA: 45s - loss: 0.44 - ETA: 44s - loss: 0.44 - ETA: 44s - loss: 0.44 - ETA: 43s - loss: 0.44 - ETA: 42s - loss: 0.44 - ETA: 41s - loss: 0.44 - ETA: 40s - loss: 0.44 - ETA: 40s - loss: 0.44 - ETA: 39s - loss: 0.44 - ETA: 38s - loss: 0.44 - ETA: 37s - loss: 0.44 - ETA: 37s - loss: 0.44 - ETA: 36s - loss: 0.44 - ETA: 35s - loss: 0.44 - ETA: 34s - loss: 0.44 - ETA: 33s - loss: 0.44 - ETA: 33s - loss: 0.44 - ETA: 32s - loss: 0.44 - ETA: 31s - loss: 0.44 - ETA: 30s - loss: 0.44 - ETA: 29s - loss: 0.44 - ETA: 29s - loss: 0.44 - ETA: 28s - loss: 0.44 - ETA: 27s - loss: 0.44 - ETA: 26s - loss: 0.44 - ETA: 26s - loss: 0.44 - ETA: 25s - loss: 0.44 - ETA: 24s - loss: 0.44 - ETA: 23s - loss: 0.44 - ETA: 22s - loss: 0.44 - ETA: 22s - loss: 0.44 - ETA: 21s - loss: 0.44 - ETA: 20s - loss: 0.44 - ETA: 19s - loss: 0.44 - ETA: 18s - loss: 0.44 - ETA: 18s - loss: 0.44 - ETA: 17s - loss: 0.44 - ETA: 16s - loss: 0.44 - ETA: 15s - loss: 0.44 - ETA: 14s - loss: 0.44 - ETA: 14s - loss: 0.44 - ETA: 13s - loss: 0.44 - ETA: 12s - loss: 0.44 - ETA: 11s - loss: 0.44 - ETA: 11s - loss: 0.44 - ETA: 10s - loss: 0.44 - ETA: 9s - loss: 0.4483 - ETA: 8s - loss: 0.448 - ETA: 7s - loss: 0.448 - ETA: 7s - loss: 0.448 - ETA: 6s - loss: 0.449 - ETA: 5s - loss: 0.448 - ETA: 4s - loss: 0.448 - ETA: 3s - loss: 0.449 - ETA: 3s - loss: 0.448 - ETA: 2s - loss: 0.448 - ETA: 1s - loss: 0.448 - ETA: 0s - loss: 0.4489 - ETA: 2:35 - loss: 0.701 - ETA: 1:22 - loss: 0.728 - ETA: 58s - loss: 0.685 - ETA: 46s - loss: 0.64 - ETA: 38s - loss: 0.66 - ETA: 33s - loss: 0.73 - ETA: 29s - loss: 0.73 - ETA: 26s - loss: 0.72 - ETA: 23s - loss: 0.70 - ETA: 21s - loss: 0.69 - ETA: 20s - loss: 0.67 - ETA: 18s - loss: 0.67 - ETA: 17s - loss: 0.66 - ETA: 16s - loss: 0.65 - ETA: 15s - loss: 0.64 - ETA: 14s - loss: 0.64 - ETA: 13s - loss: 0.641441/41 [==============================] - ETA: 12s - loss: 0.63 - ETA: 11s - loss: 0.63 - ETA: 10s - loss: 0.63 - ETA: 10s - loss: 0.63 - ETA: 9s - loss: 0.6361 - ETA: 8s - loss: 0.627 - ETA: 8s - loss: 0.622 - ETA: 7s - loss: 0.616 - ETA: 7s - loss: 0.616 - ETA: 6s - loss: 0.625 - ETA: 5s - loss: 0.632 - ETA: 5s - loss: 0.625 - ETA: 4s - loss: 0.624 - ETA: 4s - loss: 0.621 - ETA: 3s - loss: 0.620 - ETA: 3s - loss: 0.619 - ETA: 3s - loss: 0.622 - ETA: 2s - loss: 0.624 - ETA: 2s - loss: 0.627 - ETA: 1s - loss: 0.631 - ETA: 1s - loss: 0.631 - ETA: 0s - loss: 0.631 - ETA: 0s - loss: 0.630 - 16s 400ms/step - loss: 0.6323\n",
      "\n",
      "##############################\n",
      "\n",
      "PR AUC Fish, train: 0.886\n",
      "\n",
      "PR AUC Flower, train: 0.922\n",
      "\n",
      "PR AUC Sugar, train: 0.944\n",
      "\n",
      "PR AUC Gravel, train: 0.881\n",
      "\n",
      "\n",
      "####################\n",
      " PR AUC mean, train: 0.908\n",
      "####################\n",
      "\n",
      "\n",
      "##############################\n",
      "\n",
      "PR AUC Fish, val: 0.763\n",
      "\n",
      "PR AUC Flower, val: 0.814\n",
      "\n",
      "PR AUC Sugar, val: 0.888\n",
      "\n",
      "PR AUC Gravel, val: 0.797\n",
      "\n",
      "\n",
      "####################\n",
      " PR AUC mean, val: 0.816\n",
      "####################\n",
      "\n",
      "\n",
      "####################\n",
      "Saved new checkpoint\n",
      "####################\n",
      "\n",
      "305/305 [==============================] - 370s 1s/step - loss: 0.4488 - val_loss: 0.6323\n",
      "Epoch 5/13\n"
     ]
    },
    {
     "name": "stdout",
     "output_type": "stream",
     "text": [
      "17/41 [===========>..................].] - ETA: 3:54 - loss: 0.500 - ETA: 3:57 - loss: 0.440 - ETA: 3:55 - loss: 0.442 - ETA: 3:54 - loss: 0.423 - ETA: 3:54 - loss: 0.402 - ETA: 3:54 - loss: 0.387 - ETA: 3:53 - loss: 0.378 - ETA: 3:52 - loss: 0.383 - ETA: 3:51 - loss: 0.384 - ETA: 3:50 - loss: 0.392 - ETA: 3:49 - loss: 0.392 - ETA: 3:49 - loss: 0.389 - ETA: 3:48 - loss: 0.387 - ETA: 3:47 - loss: 0.397 - ETA: 3:46 - loss: 0.394 - ETA: 3:46 - loss: 0.399 - ETA: 3:45 - loss: 0.409 - ETA: 3:44 - loss: 0.415 - ETA: 3:44 - loss: 0.414 - ETA: 3:43 - loss: 0.424 - ETA: 3:42 - loss: 0.420 - ETA: 3:41 - loss: 0.417 - ETA: 3:41 - loss: 0.414 - ETA: 3:40 - loss: 0.415 - ETA: 3:39 - loss: 0.415 - ETA: 3:38 - loss: 0.413 - ETA: 3:37 - loss: 0.409 - ETA: 3:36 - loss: 0.412 - ETA: 3:36 - loss: 0.409 - ETA: 3:35 - loss: 0.406 - ETA: 3:34 - loss: 0.408 - ETA: 3:34 - loss: 0.411 - ETA: 3:33 - loss: 0.409 - ETA: 3:33 - loss: 0.408 - ETA: 3:32 - loss: 0.409 - ETA: 3:31 - loss: 0.412 - ETA: 3:30 - loss: 0.413 - ETA: 3:29 - loss: 0.409 - ETA: 3:29 - loss: 0.405 - ETA: 3:28 - loss: 0.407 - ETA: 3:27 - loss: 0.407 - ETA: 3:26 - loss: 0.407 - ETA: 3:25 - loss: 0.408 - ETA: 3:24 - loss: 0.409 - ETA: 3:24 - loss: 0.409 - ETA: 3:23 - loss: 0.408 - ETA: 3:22 - loss: 0.412 - ETA: 3:21 - loss: 0.411 - ETA: 3:20 - loss: 0.409 - ETA: 3:20 - loss: 0.408 - ETA: 3:19 - loss: 0.411 - ETA: 3:18 - loss: 0.410 - ETA: 3:17 - loss: 0.411 - ETA: 3:16 - loss: 0.413 - ETA: 3:16 - loss: 0.413 - ETA: 3:15 - loss: 0.412 - ETA: 3:14 - loss: 0.414 - ETA: 3:13 - loss: 0.416 - ETA: 3:13 - loss: 0.416 - ETA: 3:12 - loss: 0.418 - ETA: 3:11 - loss: 0.417 - ETA: 3:10 - loss: 0.418 - ETA: 3:10 - loss: 0.419 - ETA: 3:09 - loss: 0.419 - ETA: 3:08 - loss: 0.420 - ETA: 3:07 - loss: 0.421 - ETA: 3:06 - loss: 0.421 - ETA: 3:05 - loss: 0.423 - ETA: 3:05 - loss: 0.424 - ETA: 3:04 - loss: 0.423 - ETA: 3:03 - loss: 0.424 - ETA: 3:02 - loss: 0.424 - ETA: 3:02 - loss: 0.423 - ETA: 3:01 - loss: 0.424 - ETA: 3:00 - loss: 0.424 - ETA: 2:59 - loss: 0.424 - ETA: 2:59 - loss: 0.424 - ETA: 2:58 - loss: 0.423 - ETA: 2:57 - loss: 0.423 - ETA: 2:56 - loss: 0.421 - ETA: 2:55 - loss: 0.423 - ETA: 2:55 - loss: 0.422 - ETA: 2:54 - loss: 0.422 - ETA: 2:53 - loss: 0.421 - ETA: 2:52 - loss: 0.420 - ETA: 2:51 - loss: 0.420 - ETA: 2:51 - loss: 0.420 - ETA: 2:50 - loss: 0.421 - ETA: 2:49 - loss: 0.420 - ETA: 2:48 - loss: 0.420 - ETA: 2:48 - loss: 0.422 - ETA: 2:47 - loss: 0.423 - ETA: 2:46 - loss: 0.423 - ETA: 2:45 - loss: 0.423 - ETA: 2:44 - loss: 0.424 - ETA: 2:44 - loss: 0.424 - ETA: 2:43 - loss: 0.424 - ETA: 2:42 - loss: 0.423 - ETA: 2:41 - loss: 0.423 - ETA: 2:40 - loss: 0.423 - ETA: 2:40 - loss: 0.422 - ETA: 2:39 - loss: 0.422 - ETA: 2:38 - loss: 0.423 - ETA: 2:37 - loss: 0.422 - ETA: 2:37 - loss: 0.423 - ETA: 2:36 - loss: 0.423 - ETA: 2:35 - loss: 0.423 - ETA: 2:34 - loss: 0.423 - ETA: 2:33 - loss: 0.423 - ETA: 2:33 - loss: 0.422 - ETA: 2:32 - loss: 0.422 - ETA: 2:31 - loss: 0.422 - ETA: 2:30 - loss: 0.422 - ETA: 2:29 - loss: 0.423 - ETA: 2:29 - loss: 0.422 - ETA: 2:28 - loss: 0.422 - ETA: 2:27 - loss: 0.421 - ETA: 2:26 - loss: 0.421 - ETA: 2:26 - loss: 0.421 - ETA: 2:25 - loss: 0.422 - ETA: 2:24 - loss: 0.422 - ETA: 2:23 - loss: 0.423 - ETA: 2:22 - loss: 0.423 - ETA: 2:22 - loss: 0.423 - ETA: 2:21 - loss: 0.424 - ETA: 2:20 - loss: 0.426 - ETA: 2:19 - loss: 0.426 - ETA: 2:18 - loss: 0.426 - ETA: 2:18 - loss: 0.427 - ETA: 2:17 - loss: 0.427 - ETA: 2:16 - loss: 0.426 - ETA: 2:15 - loss: 0.426 - ETA: 2:14 - loss: 0.426 - ETA: 2:14 - loss: 0.426 - ETA: 2:13 - loss: 0.426 - ETA: 2:12 - loss: 0.425 - ETA: 2:11 - loss: 0.426 - ETA: 2:10 - loss: 0.427 - ETA: 2:10 - loss: 0.427 - ETA: 2:09 - loss: 0.427 - ETA: 2:08 - loss: 0.427 - ETA: 2:07 - loss: 0.427 - ETA: 2:07 - loss: 0.427 - ETA: 2:06 - loss: 0.428 - ETA: 2:05 - loss: 0.428 - ETA: 2:04 - loss: 0.428 - ETA: 2:03 - loss: 0.428 - ETA: 2:03 - loss: 0.428 - ETA: 2:02 - loss: 0.428 - ETA: 2:01 - loss: 0.428 - ETA: 2:00 - loss: 0.428 - ETA: 1:59 - loss: 0.427 - ETA: 1:59 - loss: 0.428 - ETA: 1:58 - loss: 0.428 - ETA: 1:57 - loss: 0.428 - ETA: 1:56 - loss: 0.428 - ETA: 1:56 - loss: 0.428 - ETA: 1:55 - loss: 0.428 - ETA: 1:54 - loss: 0.428 - ETA: 1:53 - loss: 0.428 - ETA: 1:52 - loss: 0.428 - ETA: 1:52 - loss: 0.429 - ETA: 1:51 - loss: 0.429 - ETA: 1:50 - loss: 0.428 - ETA: 1:49 - loss: 0.429 - ETA: 1:49 - loss: 0.428 - ETA: 1:48 - loss: 0.427 - ETA: 1:47 - loss: 0.427 - ETA: 1:46 - loss: 0.426 - ETA: 1:45 - loss: 0.428 - ETA: 1:45 - loss: 0.428 - ETA: 1:44 - loss: 0.429 - ETA: 1:43 - loss: 0.429 - ETA: 1:42 - loss: 0.430 - ETA: 1:41 - loss: 0.430 - ETA: 1:41 - loss: 0.430 - ETA: 1:40 - loss: 0.430 - ETA: 1:39 - loss: 0.430 - ETA: 1:38 - loss: 0.430 - ETA: 1:37 - loss: 0.430 - ETA: 1:37 - loss: 0.430 - ETA: 1:36 - loss: 0.430 - ETA: 1:35 - loss: 0.430 - ETA: 1:34 - loss: 0.430 - ETA: 1:34 - loss: 0.430 - ETA: 1:33 - loss: 0.430 - ETA: 1:32 - loss: 0.430 - ETA: 1:31 - loss: 0.430 - ETA: 1:30 - loss: 0.430 - ETA: 1:30 - loss: 0.430 - ETA: 1:29 - loss: 0.430 - ETA: 1:28 - loss: 0.430 - ETA: 1:27 - loss: 0.430 - ETA: 1:27 - loss: 0.430 - ETA: 1:26 - loss: 0.429 - ETA: 1:25 - loss: 0.429 - ETA: 1:24 - loss: 0.429 - ETA: 1:23 - loss: 0.429 - ETA: 1:23 - loss: 0.429 - ETA: 1:22 - loss: 0.429 - ETA: 1:21 - loss: 0.429 - ETA: 1:20 - loss: 0.429 - ETA: 1:20 - loss: 0.429 - ETA: 1:19 - loss: 0.429 - ETA: 1:18 - loss: 0.429 - ETA: 1:17 - loss: 0.429 - ETA: 1:16 - loss: 0.429 - ETA: 1:16 - loss: 0.430 - ETA: 1:15 - loss: 0.431 - ETA: 1:14 - loss: 0.430 - ETA: 1:13 - loss: 0.431 - ETA: 1:13 - loss: 0.432 - ETA: 1:12 - loss: 0.431 - ETA: 1:11 - loss: 0.432 - ETA: 1:10 - loss: 0.432 - ETA: 1:09 - loss: 0.432 - ETA: 1:09 - loss: 0.433 - ETA: 1:08 - loss: 0.433 - ETA: 1:07 - loss: 0.432 - ETA: 1:06 - loss: 0.432 - ETA: 1:05 - loss: 0.432 - ETA: 1:05 - loss: 0.432 - ETA: 1:04 - loss: 0.433 - ETA: 1:03 - loss: 0.433 - ETA: 1:02 - loss: 0.433 - ETA: 1:02 - loss: 0.433 - ETA: 1:01 - loss: 0.432 - ETA: 1:00 - loss: 0.432 - ETA: 59s - loss: 0.432 - ETA: 58s - loss: 0.43 - ETA: 58s - loss: 0.43 - ETA: 57s - loss: 0.43 - ETA: 56s - loss: 0.43 - ETA: 55s - loss: 0.43 - ETA: 54s - loss: 0.43 - ETA: 54s - loss: 0.43 - ETA: 53s - loss: 0.43 - ETA: 52s - loss: 0.43 - ETA: 51s - loss: 0.43 - ETA: 51s - loss: 0.43 - ETA: 50s - loss: 0.43 - ETA: 49s - loss: 0.43 - ETA: 48s - loss: 0.43 - ETA: 47s - loss: 0.43 - ETA: 47s - loss: 0.43 - ETA: 46s - loss: 0.43 - ETA: 45s - loss: 0.43 - ETA: 44s - loss: 0.43 - ETA: 43s - loss: 0.43 - ETA: 43s - loss: 0.43 - ETA: 42s - loss: 0.43 - ETA: 41s - loss: 0.43 - ETA: 40s - loss: 0.43 - ETA: 40s - loss: 0.43 - ETA: 39s - loss: 0.43 - ETA: 38s - loss: 0.43 - ETA: 37s - loss: 0.43 - ETA: 36s - loss: 0.43 - ETA: 36s - loss: 0.43 - ETA: 35s - loss: 0.43 - ETA: 34s - loss: 0.43 - ETA: 33s - loss: 0.43 - ETA: 32s - loss: 0.43 - ETA: 32s - loss: 0.43 - ETA: 31s - loss: 0.43 - ETA: 30s - loss: 0.43 - ETA: 29s - loss: 0.43 - ETA: 29s - loss: 0.43 - ETA: 28s - loss: 0.43 - ETA: 27s - loss: 0.43 - ETA: 26s - loss: 0.43 - ETA: 25s - loss: 0.43 - ETA: 25s - loss: 0.43 - ETA: 24s - loss: 0.43 - ETA: 23s - loss: 0.43 - ETA: 22s - loss: 0.43 - ETA: 21s - loss: 0.43 - ETA: 21s - loss: 0.43 - ETA: 20s - loss: 0.43 - ETA: 19s - loss: 0.43 - ETA: 18s - loss: 0.43 - ETA: 18s - loss: 0.43 - ETA: 17s - loss: 0.43 - ETA: 16s - loss: 0.43 - ETA: 15s - loss: 0.43 - ETA: 14s - loss: 0.43 - ETA: 14s - loss: 0.43 - ETA: 13s - loss: 0.43 - ETA: 12s - loss: 0.43 - ETA: 11s - loss: 0.43 - ETA: 10s - loss: 0.43 - ETA: 10s - loss: 0.43 - ETA: 9s - loss: 0.4352 - ETA: 8s - loss: 0.435 - ETA: 7s - loss: 0.435 - ETA: 7s - loss: 0.435 - ETA: 6s - loss: 0.435 - ETA: 5s - loss: 0.435 - ETA: 4s - loss: 0.435 - ETA: 3s - loss: 0.435 - ETA: 3s - loss: 0.434 - ETA: 2s - loss: 0.434 - ETA: 1s - loss: 0.435 - ETA: 0s - loss: 0.4354 - ETA: 2:36 - loss: 0.591 - ETA: 1:23 - loss: 0.608 - ETA: 58s - loss: 0.637 - ETA: 46s - loss: 0.66 - ETA: 39s - loss: 0.66 - ETA: 34s - loss: 0.67 - ETA: 30s - loss: 0.67 - ETA: 27s - loss: 0.66 - ETA: 24s - loss: 0.63 - ETA: 22s - loss: 0.61 - ETA: 20s - loss: 0.60 - ETA: 19s - loss: 0.59 - ETA: 17s - loss: 0.59 - ETA: 16s - loss: 0.60 - ETA: 15s - loss: 0.59 - ETA: 14s - loss: 0.59 - ETA: 13s - loss: 0.5980"
     ]
    },
    {
     "name": "stdout",
     "output_type": "stream",
     "text": [
      "41/41 [==============================] - ETA: 12s - loss: 0.59 - ETA: 11s - loss: 0.60 - ETA: 10s - loss: 0.59 - ETA: 10s - loss: 0.58 - ETA: 9s - loss: 0.5916 - ETA: 8s - loss: 0.581 - ETA: 8s - loss: 0.582 - ETA: 7s - loss: 0.585 - ETA: 7s - loss: 0.585 - ETA: 6s - loss: 0.584 - ETA: 6s - loss: 0.585 - ETA: 5s - loss: 0.587 - ETA: 4s - loss: 0.587 - ETA: 4s - loss: 0.584 - ETA: 3s - loss: 0.582 - ETA: 3s - loss: 0.579 - ETA: 3s - loss: 0.581 - ETA: 2s - loss: 0.587 - ETA: 2s - loss: 0.585 - ETA: 1s - loss: 0.591 - ETA: 1s - loss: 0.590 - ETA: 0s - loss: 0.589 - ETA: 0s - loss: 0.588 - 16s 401ms/step - loss: 0.5893\n",
      "\n",
      "##############################\n",
      "\n",
      "PR AUC Fish, train: 0.897\n",
      "\n",
      "PR AUC Flower, train: 0.942\n",
      "\n",
      "PR AUC Sugar, train: 0.950\n",
      "\n",
      "PR AUC Gravel, train: 0.886\n",
      "\n",
      "\n",
      "####################\n",
      " PR AUC mean, train: 0.919\n",
      "####################\n",
      "\n",
      "\n",
      "##############################\n",
      "\n",
      "PR AUC Fish, val: 0.779\n",
      "\n",
      "PR AUC Flower, val: 0.847\n",
      "\n",
      "PR AUC Sugar, val: 0.891\n",
      "\n",
      "PR AUC Gravel, val: 0.809\n",
      "\n",
      "\n",
      "####################\n",
      " PR AUC mean, val: 0.832\n",
      "####################\n",
      "\n",
      "\n",
      "####################\n",
      "Saved new checkpoint\n",
      "####################\n",
      "\n",
      "305/305 [==============================] - 369s 1s/step - loss: 0.4353 - val_loss: 0.5893\n",
      "Epoch 6/13\n"
     ]
    },
    {
     "name": "stdout",
     "output_type": "stream",
     "text": [
      "17/41 [===========>..................].] - ETA: 3:58 - loss: 0.425 - ETA: 3:57 - loss: 0.337 - ETA: 3:56 - loss: 0.351 - ETA: 3:54 - loss: 0.331 - ETA: 3:54 - loss: 0.345 - ETA: 3:54 - loss: 0.350 - ETA: 3:52 - loss: 0.377 - ETA: 3:51 - loss: 0.384 - ETA: 3:51 - loss: 0.385 - ETA: 3:50 - loss: 0.382 - ETA: 3:49 - loss: 0.391 - ETA: 3:49 - loss: 0.396 - ETA: 3:48 - loss: 0.399 - ETA: 3:47 - loss: 0.402 - ETA: 3:46 - loss: 0.404 - ETA: 3:45 - loss: 0.402 - ETA: 3:44 - loss: 0.403 - ETA: 3:44 - loss: 0.402 - ETA: 3:43 - loss: 0.407 - ETA: 3:42 - loss: 0.408 - ETA: 3:41 - loss: 0.409 - ETA: 3:40 - loss: 0.411 - ETA: 3:40 - loss: 0.410 - ETA: 3:39 - loss: 0.413 - ETA: 3:38 - loss: 0.412 - ETA: 3:37 - loss: 0.415 - ETA: 3:37 - loss: 0.413 - ETA: 3:36 - loss: 0.408 - ETA: 3:35 - loss: 0.410 - ETA: 3:34 - loss: 0.410 - ETA: 3:34 - loss: 0.410 - ETA: 3:33 - loss: 0.407 - ETA: 3:32 - loss: 0.405 - ETA: 3:31 - loss: 0.403 - ETA: 3:31 - loss: 0.405 - ETA: 3:30 - loss: 0.406 - ETA: 3:29 - loss: 0.405 - ETA: 3:28 - loss: 0.403 - ETA: 3:28 - loss: 0.402 - ETA: 3:27 - loss: 0.402 - ETA: 3:26 - loss: 0.405 - ETA: 3:25 - loss: 0.407 - ETA: 3:24 - loss: 0.407 - ETA: 3:24 - loss: 0.406 - ETA: 3:23 - loss: 0.404 - ETA: 3:22 - loss: 0.403 - ETA: 3:21 - loss: 0.403 - ETA: 3:21 - loss: 0.405 - ETA: 3:20 - loss: 0.405 - ETA: 3:19 - loss: 0.408 - ETA: 3:18 - loss: 0.411 - ETA: 3:17 - loss: 0.412 - ETA: 3:17 - loss: 0.411 - ETA: 3:16 - loss: 0.410 - ETA: 3:15 - loss: 0.409 - ETA: 3:14 - loss: 0.410 - ETA: 3:14 - loss: 0.411 - ETA: 3:13 - loss: 0.410 - ETA: 3:12 - loss: 0.410 - ETA: 3:11 - loss: 0.411 - ETA: 3:10 - loss: 0.411 - ETA: 3:10 - loss: 0.411 - ETA: 3:09 - loss: 0.411 - ETA: 3:08 - loss: 0.409 - ETA: 3:07 - loss: 0.408 - ETA: 3:07 - loss: 0.406 - ETA: 3:06 - loss: 0.406 - ETA: 3:05 - loss: 0.405 - ETA: 3:04 - loss: 0.406 - ETA: 3:03 - loss: 0.409 - ETA: 3:03 - loss: 0.410 - ETA: 3:02 - loss: 0.410 - ETA: 3:01 - loss: 0.410 - ETA: 3:00 - loss: 0.409 - ETA: 3:00 - loss: 0.408 - ETA: 2:59 - loss: 0.408 - ETA: 2:58 - loss: 0.408 - ETA: 2:57 - loss: 0.409 - ETA: 2:56 - loss: 0.410 - ETA: 2:56 - loss: 0.412 - ETA: 2:55 - loss: 0.413 - ETA: 2:54 - loss: 0.415 - ETA: 2:53 - loss: 0.416 - ETA: 2:52 - loss: 0.418 - ETA: 2:52 - loss: 0.417 - ETA: 2:51 - loss: 0.418 - ETA: 2:50 - loss: 0.417 - ETA: 2:49 - loss: 0.417 - ETA: 2:49 - loss: 0.416 - ETA: 2:48 - loss: 0.416 - ETA: 2:47 - loss: 0.417 - ETA: 2:46 - loss: 0.416 - ETA: 2:45 - loss: 0.416 - ETA: 2:45 - loss: 0.416 - ETA: 2:44 - loss: 0.416 - ETA: 2:43 - loss: 0.415 - ETA: 2:42 - loss: 0.415 - ETA: 2:42 - loss: 0.415 - ETA: 2:41 - loss: 0.415 - ETA: 2:40 - loss: 0.416 - ETA: 2:39 - loss: 0.417 - ETA: 2:39 - loss: 0.418 - ETA: 2:38 - loss: 0.417 - ETA: 2:37 - loss: 0.417 - ETA: 2:36 - loss: 0.417 - ETA: 2:35 - loss: 0.416 - ETA: 2:35 - loss: 0.416 - ETA: 2:34 - loss: 0.415 - ETA: 2:33 - loss: 0.415 - ETA: 2:32 - loss: 0.414 - ETA: 2:32 - loss: 0.415 - ETA: 2:31 - loss: 0.414 - ETA: 2:30 - loss: 0.413 - ETA: 2:29 - loss: 0.412 - ETA: 2:29 - loss: 0.412 - ETA: 2:28 - loss: 0.412 - ETA: 2:27 - loss: 0.413 - ETA: 2:26 - loss: 0.412 - ETA: 2:25 - loss: 0.412 - ETA: 2:25 - loss: 0.413 - ETA: 2:24 - loss: 0.413 - ETA: 2:23 - loss: 0.413 - ETA: 2:22 - loss: 0.414 - ETA: 2:21 - loss: 0.413 - ETA: 2:21 - loss: 0.413 - ETA: 2:20 - loss: 0.413 - ETA: 2:19 - loss: 0.413 - ETA: 2:18 - loss: 0.413 - ETA: 2:17 - loss: 0.414 - ETA: 2:17 - loss: 0.414 - ETA: 2:16 - loss: 0.414 - ETA: 2:15 - loss: 0.415 - ETA: 2:14 - loss: 0.415 - ETA: 2:14 - loss: 0.415 - ETA: 2:13 - loss: 0.415 - ETA: 2:12 - loss: 0.415 - ETA: 2:11 - loss: 0.415 - ETA: 2:10 - loss: 0.415 - ETA: 2:10 - loss: 0.414 - ETA: 2:09 - loss: 0.414 - ETA: 2:08 - loss: 0.413 - ETA: 2:07 - loss: 0.413 - ETA: 2:06 - loss: 0.413 - ETA: 2:06 - loss: 0.413 - ETA: 2:05 - loss: 0.412 - ETA: 2:04 - loss: 0.412 - ETA: 2:03 - loss: 0.412 - ETA: 2:03 - loss: 0.412 - ETA: 2:02 - loss: 0.411 - ETA: 2:01 - loss: 0.411 - ETA: 2:00 - loss: 0.410 - ETA: 1:59 - loss: 0.411 - ETA: 1:59 - loss: 0.411 - ETA: 1:58 - loss: 0.412 - ETA: 1:57 - loss: 0.412 - ETA: 1:56 - loss: 0.412 - ETA: 1:56 - loss: 0.412 - ETA: 1:55 - loss: 0.413 - ETA: 1:54 - loss: 0.413 - ETA: 1:53 - loss: 0.413 - ETA: 1:52 - loss: 0.413 - ETA: 1:52 - loss: 0.413 - ETA: 1:51 - loss: 0.413 - ETA: 1:50 - loss: 0.412 - ETA: 1:49 - loss: 0.412 - ETA: 1:48 - loss: 0.412 - ETA: 1:48 - loss: 0.413 - ETA: 1:47 - loss: 0.412 - ETA: 1:46 - loss: 0.412 - ETA: 1:45 - loss: 0.413 - ETA: 1:45 - loss: 0.413 - ETA: 1:44 - loss: 0.412 - ETA: 1:43 - loss: 0.413 - ETA: 1:42 - loss: 0.413 - ETA: 1:41 - loss: 0.413 - ETA: 1:41 - loss: 0.414 - ETA: 1:40 - loss: 0.414 - ETA: 1:39 - loss: 0.414 - ETA: 1:38 - loss: 0.414 - ETA: 1:38 - loss: 0.414 - ETA: 1:37 - loss: 0.414 - ETA: 1:36 - loss: 0.415 - ETA: 1:35 - loss: 0.415 - ETA: 1:34 - loss: 0.414 - ETA: 1:34 - loss: 0.415 - ETA: 1:33 - loss: 0.414 - ETA: 1:32 - loss: 0.415 - ETA: 1:31 - loss: 0.415 - ETA: 1:30 - loss: 0.415 - ETA: 1:30 - loss: 0.415 - ETA: 1:29 - loss: 0.414 - ETA: 1:28 - loss: 0.415 - ETA: 1:27 - loss: 0.415 - ETA: 1:27 - loss: 0.415 - ETA: 1:26 - loss: 0.415 - ETA: 1:25 - loss: 0.415 - ETA: 1:24 - loss: 0.415 - ETA: 1:23 - loss: 0.416 - ETA: 1:23 - loss: 0.415 - ETA: 1:22 - loss: 0.415 - ETA: 1:21 - loss: 0.416 - ETA: 1:20 - loss: 0.416 - ETA: 1:19 - loss: 0.416 - ETA: 1:19 - loss: 0.415 - ETA: 1:18 - loss: 0.416 - ETA: 1:17 - loss: 0.416 - ETA: 1:16 - loss: 0.416 - ETA: 1:16 - loss: 0.416 - ETA: 1:15 - loss: 0.416 - ETA: 1:14 - loss: 0.417 - ETA: 1:13 - loss: 0.417 - ETA: 1:12 - loss: 0.416 - ETA: 1:12 - loss: 0.416 - ETA: 1:11 - loss: 0.416 - ETA: 1:10 - loss: 0.416 - ETA: 1:09 - loss: 0.416 - ETA: 1:08 - loss: 0.417 - ETA: 1:08 - loss: 0.417 - ETA: 1:07 - loss: 0.417 - ETA: 1:06 - loss: 0.417 - ETA: 1:05 - loss: 0.417 - ETA: 1:05 - loss: 0.417 - ETA: 1:04 - loss: 0.418 - ETA: 1:03 - loss: 0.417 - ETA: 1:02 - loss: 0.418 - ETA: 1:01 - loss: 0.418 - ETA: 1:01 - loss: 0.418 - ETA: 1:00 - loss: 0.418 - ETA: 59s - loss: 0.418 - ETA: 58s - loss: 0.41 - ETA: 57s - loss: 0.41 - ETA: 57s - loss: 0.41 - ETA: 56s - loss: 0.41 - ETA: 55s - loss: 0.41 - ETA: 54s - loss: 0.41 - ETA: 54s - loss: 0.41 - ETA: 53s - loss: 0.41 - ETA: 52s - loss: 0.41 - ETA: 51s - loss: 0.42 - ETA: 50s - loss: 0.42 - ETA: 50s - loss: 0.42 - ETA: 49s - loss: 0.41 - ETA: 48s - loss: 0.42 - ETA: 47s - loss: 0.42 - ETA: 47s - loss: 0.42 - ETA: 46s - loss: 0.42 - ETA: 45s - loss: 0.42 - ETA: 44s - loss: 0.42 - ETA: 43s - loss: 0.42 - ETA: 43s - loss: 0.42 - ETA: 42s - loss: 0.42 - ETA: 41s - loss: 0.42 - ETA: 40s - loss: 0.42 - ETA: 39s - loss: 0.42 - ETA: 39s - loss: 0.42 - ETA: 38s - loss: 0.42 - ETA: 37s - loss: 0.42 - ETA: 36s - loss: 0.42 - ETA: 36s - loss: 0.41 - ETA: 35s - loss: 0.41 - ETA: 34s - loss: 0.41 - ETA: 33s - loss: 0.41 - ETA: 32s - loss: 0.41 - ETA: 32s - loss: 0.41 - ETA: 31s - loss: 0.41 - ETA: 30s - loss: 0.41 - ETA: 29s - loss: 0.41 - ETA: 29s - loss: 0.41 - ETA: 28s - loss: 0.41 - ETA: 27s - loss: 0.41 - ETA: 26s - loss: 0.41 - ETA: 25s - loss: 0.41 - ETA: 25s - loss: 0.41 - ETA: 24s - loss: 0.41 - ETA: 23s - loss: 0.41 - ETA: 22s - loss: 0.41 - ETA: 21s - loss: 0.41 - ETA: 21s - loss: 0.41 - ETA: 20s - loss: 0.41 - ETA: 19s - loss: 0.41 - ETA: 18s - loss: 0.41 - ETA: 18s - loss: 0.41 - ETA: 17s - loss: 0.41 - ETA: 16s - loss: 0.41 - ETA: 15s - loss: 0.41 - ETA: 14s - loss: 0.41 - ETA: 14s - loss: 0.41 - ETA: 13s - loss: 0.41 - ETA: 12s - loss: 0.42 - ETA: 11s - loss: 0.41 - ETA: 10s - loss: 0.41 - ETA: 10s - loss: 0.41 - ETA: 9s - loss: 0.4193 - ETA: 8s - loss: 0.419 - ETA: 7s - loss: 0.419 - ETA: 7s - loss: 0.420 - ETA: 6s - loss: 0.419 - ETA: 5s - loss: 0.420 - ETA: 4s - loss: 0.419 - ETA: 3s - loss: 0.420 - ETA: 3s - loss: 0.419 - ETA: 2s - loss: 0.419 - ETA: 1s - loss: 0.419 - ETA: 0s - loss: 0.4193 - ETA: 2:35 - loss: 0.626 - ETA: 1:22 - loss: 0.660 - ETA: 58s - loss: 0.626 - ETA: 45s - loss: 0.62 - ETA: 38s - loss: 0.63 - ETA: 33s - loss: 0.67 - ETA: 29s - loss: 0.66 - ETA: 26s - loss: 0.65 - ETA: 23s - loss: 0.63 - ETA: 21s - loss: 0.62 - ETA: 20s - loss: 0.60 - ETA: 18s - loss: 0.60 - ETA: 17s - loss: 0.59 - ETA: 16s - loss: 0.59 - ETA: 15s - loss: 0.58 - ETA: 14s - loss: 0.58 - ETA: 13s - loss: 0.589841/41 [==============================] - ETA: 12s - loss: 0.57 - ETA: 11s - loss: 0.58 - ETA: 10s - loss: 0.57 - ETA: 10s - loss: 0.57 - ETA: 9s - loss: 0.5745 - ETA: 8s - loss: 0.565 - ETA: 8s - loss: 0.562 - ETA: 7s - loss: 0.560 - ETA: 7s - loss: 0.557 - ETA: 6s - loss: 0.565 - ETA: 5s - loss: 0.572 - ETA: 5s - loss: 0.570 - ETA: 4s - loss: 0.570 - ETA: 4s - loss: 0.570 - ETA: 3s - loss: 0.570 - ETA: 3s - loss: 0.570 - ETA: 2s - loss: 0.571 - ETA: 2s - loss: 0.574 - ETA: 2s - loss: 0.575 - ETA: 1s - loss: 0.579 - ETA: 1s - loss: 0.576 - ETA: 0s - loss: 0.575 - ETA: 0s - loss: 0.574 - 16s 397ms/step - loss: 0.5768\n",
      "\n",
      "##############################\n",
      "\n",
      "PR AUC Fish, train: 0.905\n",
      "\n",
      "PR AUC Flower, train: 0.945\n",
      "\n",
      "PR AUC Sugar, train: 0.959\n",
      "\n",
      "PR AUC Gravel, train: 0.898\n",
      "\n",
      "\n",
      "####################\n",
      " PR AUC mean, train: 0.927\n",
      "####################\n",
      "\n",
      "\n",
      "##############################\n",
      "\n",
      "PR AUC Fish, val: 0.746\n",
      "\n",
      "PR AUC Flower, val: 0.798\n",
      "\n",
      "PR AUC Sugar, val: 0.904\n",
      "\n",
      "PR AUC Gravel, val: 0.794\n",
      "\n",
      "\n",
      "####################\n",
      " PR AUC mean, val: 0.810\n",
      "####################\n",
      "\n",
      "\n",
      "####################\n",
      "Saved new checkpoint\n",
      "####################\n",
      "\n",
      "305/305 [==============================] - 367s 1s/step - loss: 0.4192 - val_loss: 0.5768\n",
      "Epoch 7/13\n"
     ]
    },
    {
     "name": "stdout",
     "output_type": "stream",
     "text": [
      "17/41 [===========>..................].] - ETA: 3:52 - loss: 0.292 - ETA: 3:54 - loss: 0.387 - ETA: 3:54 - loss: 0.364 - ETA: 3:54 - loss: 0.345 - ETA: 3:54 - loss: 0.348 - ETA: 3:53 - loss: 0.347 - ETA: 3:52 - loss: 0.348 - ETA: 3:51 - loss: 0.357 - ETA: 3:51 - loss: 0.345 - ETA: 3:49 - loss: 0.362 - ETA: 3:50 - loss: 0.379 - ETA: 3:48 - loss: 0.376 - ETA: 3:49 - loss: 0.372 - ETA: 3:49 - loss: 0.369 - ETA: 3:48 - loss: 0.377 - ETA: 3:47 - loss: 0.382 - ETA: 3:46 - loss: 0.389 - ETA: 3:45 - loss: 0.386 - ETA: 3:44 - loss: 0.383 - ETA: 3:44 - loss: 0.378 - ETA: 3:43 - loss: 0.377 - ETA: 3:42 - loss: 0.371 - ETA: 3:41 - loss: 0.369 - ETA: 3:41 - loss: 0.369 - ETA: 3:40 - loss: 0.368 - ETA: 3:39 - loss: 0.366 - ETA: 3:39 - loss: 0.367 - ETA: 3:38 - loss: 0.364 - ETA: 3:37 - loss: 0.361 - ETA: 3:36 - loss: 0.362 - ETA: 3:35 - loss: 0.365 - ETA: 3:34 - loss: 0.365 - ETA: 3:34 - loss: 0.365 - ETA: 3:33 - loss: 0.364 - ETA: 3:32 - loss: 0.364 - ETA: 3:31 - loss: 0.366 - ETA: 3:31 - loss: 0.367 - ETA: 3:30 - loss: 0.369 - ETA: 3:29 - loss: 0.373 - ETA: 3:28 - loss: 0.376 - ETA: 3:27 - loss: 0.377 - ETA: 3:26 - loss: 0.377 - ETA: 3:26 - loss: 0.381 - ETA: 3:25 - loss: 0.381 - ETA: 3:24 - loss: 0.380 - ETA: 3:23 - loss: 0.382 - ETA: 3:22 - loss: 0.383 - ETA: 3:22 - loss: 0.383 - ETA: 3:21 - loss: 0.383 - ETA: 3:20 - loss: 0.381 - ETA: 3:19 - loss: 0.379 - ETA: 3:18 - loss: 0.378 - ETA: 3:18 - loss: 0.378 - ETA: 3:17 - loss: 0.376 - ETA: 3:16 - loss: 0.378 - ETA: 3:15 - loss: 0.379 - ETA: 3:14 - loss: 0.378 - ETA: 3:14 - loss: 0.379 - ETA: 3:13 - loss: 0.380 - ETA: 3:12 - loss: 0.380 - ETA: 3:11 - loss: 0.381 - ETA: 3:11 - loss: 0.382 - ETA: 3:10 - loss: 0.381 - ETA: 3:09 - loss: 0.381 - ETA: 3:08 - loss: 0.381 - ETA: 3:07 - loss: 0.381 - ETA: 3:07 - loss: 0.383 - ETA: 3:06 - loss: 0.382 - ETA: 3:05 - loss: 0.382 - ETA: 3:04 - loss: 0.381 - ETA: 3:04 - loss: 0.381 - ETA: 3:03 - loss: 0.381 - ETA: 3:02 - loss: 0.381 - ETA: 3:01 - loss: 0.384 - ETA: 3:00 - loss: 0.382 - ETA: 3:00 - loss: 0.380 - ETA: 2:59 - loss: 0.383 - ETA: 2:58 - loss: 0.381 - ETA: 2:57 - loss: 0.381 - ETA: 2:56 - loss: 0.381 - ETA: 2:56 - loss: 0.384 - ETA: 2:55 - loss: 0.382 - ETA: 2:54 - loss: 0.384 - ETA: 2:53 - loss: 0.384 - ETA: 2:52 - loss: 0.383 - ETA: 2:52 - loss: 0.385 - ETA: 2:51 - loss: 0.384 - ETA: 2:50 - loss: 0.383 - ETA: 2:49 - loss: 0.384 - ETA: 2:48 - loss: 0.385 - ETA: 2:48 - loss: 0.385 - ETA: 2:47 - loss: 0.384 - ETA: 2:46 - loss: 0.384 - ETA: 2:45 - loss: 0.385 - ETA: 2:45 - loss: 0.386 - ETA: 2:44 - loss: 0.385 - ETA: 2:43 - loss: 0.385 - ETA: 2:42 - loss: 0.385 - ETA: 2:41 - loss: 0.385 - ETA: 2:41 - loss: 0.385 - ETA: 2:40 - loss: 0.385 - ETA: 2:39 - loss: 0.385 - ETA: 2:38 - loss: 0.384 - ETA: 2:37 - loss: 0.385 - ETA: 2:37 - loss: 0.386 - ETA: 2:36 - loss: 0.387 - ETA: 2:35 - loss: 0.387 - ETA: 2:34 - loss: 0.387 - ETA: 2:33 - loss: 0.386 - ETA: 2:33 - loss: 0.385 - ETA: 2:32 - loss: 0.385 - ETA: 2:31 - loss: 0.385 - ETA: 2:30 - loss: 0.386 - ETA: 2:29 - loss: 0.387 - ETA: 2:29 - loss: 0.387 - ETA: 2:28 - loss: 0.387 - ETA: 2:27 - loss: 0.387 - ETA: 2:26 - loss: 0.388 - ETA: 2:26 - loss: 0.389 - ETA: 2:25 - loss: 0.390 - ETA: 2:24 - loss: 0.389 - ETA: 2:23 - loss: 0.390 - ETA: 2:22 - loss: 0.390 - ETA: 2:22 - loss: 0.390 - ETA: 2:21 - loss: 0.390 - ETA: 2:20 - loss: 0.390 - ETA: 2:19 - loss: 0.390 - ETA: 2:18 - loss: 0.391 - ETA: 2:18 - loss: 0.391 - ETA: 2:17 - loss: 0.390 - ETA: 2:16 - loss: 0.390 - ETA: 2:15 - loss: 0.390 - ETA: 2:14 - loss: 0.391 - ETA: 2:14 - loss: 0.391 - ETA: 2:13 - loss: 0.391 - ETA: 2:12 - loss: 0.390 - ETA: 2:11 - loss: 0.391 - ETA: 2:11 - loss: 0.391 - ETA: 2:10 - loss: 0.392 - ETA: 2:09 - loss: 0.393 - ETA: 2:08 - loss: 0.393 - ETA: 2:07 - loss: 0.393 - ETA: 2:07 - loss: 0.393 - ETA: 2:06 - loss: 0.393 - ETA: 2:05 - loss: 0.393 - ETA: 2:04 - loss: 0.395 - ETA: 2:03 - loss: 0.394 - ETA: 2:03 - loss: 0.395 - ETA: 2:02 - loss: 0.394 - ETA: 2:01 - loss: 0.395 - ETA: 2:00 - loss: 0.395 - ETA: 2:00 - loss: 0.395 - ETA: 1:59 - loss: 0.395 - ETA: 1:58 - loss: 0.395 - ETA: 1:57 - loss: 0.395 - ETA: 1:56 - loss: 0.395 - ETA: 1:56 - loss: 0.395 - ETA: 1:55 - loss: 0.395 - ETA: 1:54 - loss: 0.395 - ETA: 1:53 - loss: 0.396 - ETA: 1:52 - loss: 0.396 - ETA: 1:52 - loss: 0.397 - ETA: 1:51 - loss: 0.397 - ETA: 1:50 - loss: 0.397 - ETA: 1:49 - loss: 0.397 - ETA: 1:49 - loss: 0.397 - ETA: 1:48 - loss: 0.397 - ETA: 1:47 - loss: 0.397 - ETA: 1:46 - loss: 0.397 - ETA: 1:45 - loss: 0.397 - ETA: 1:45 - loss: 0.396 - ETA: 1:44 - loss: 0.398 - ETA: 1:43 - loss: 0.397 - ETA: 1:42 - loss: 0.398 - ETA: 1:42 - loss: 0.399 - ETA: 1:41 - loss: 0.398 - ETA: 1:40 - loss: 0.398 - ETA: 1:39 - loss: 0.398 - ETA: 1:38 - loss: 0.398 - ETA: 1:38 - loss: 0.398 - ETA: 1:37 - loss: 0.398 - ETA: 1:36 - loss: 0.397 - ETA: 1:35 - loss: 0.399 - ETA: 1:34 - loss: 0.399 - ETA: 1:34 - loss: 0.399 - ETA: 1:33 - loss: 0.399 - ETA: 1:32 - loss: 0.399 - ETA: 1:31 - loss: 0.399 - ETA: 1:31 - loss: 0.398 - ETA: 1:30 - loss: 0.398 - ETA: 1:29 - loss: 0.397 - ETA: 1:28 - loss: 0.397 - ETA: 1:27 - loss: 0.397 - ETA: 1:27 - loss: 0.398 - ETA: 1:26 - loss: 0.398 - ETA: 1:25 - loss: 0.398 - ETA: 1:24 - loss: 0.397 - ETA: 1:23 - loss: 0.397 - ETA: 1:23 - loss: 0.397 - ETA: 1:22 - loss: 0.397 - ETA: 1:21 - loss: 0.398 - ETA: 1:20 - loss: 0.398 - ETA: 1:20 - loss: 0.398 - ETA: 1:19 - loss: 0.397 - ETA: 1:18 - loss: 0.397 - ETA: 1:17 - loss: 0.397 - ETA: 1:16 - loss: 0.397 - ETA: 1:16 - loss: 0.397 - ETA: 1:15 - loss: 0.397 - ETA: 1:14 - loss: 0.397 - ETA: 1:13 - loss: 0.397 - ETA: 1:12 - loss: 0.397 - ETA: 1:12 - loss: 0.396 - ETA: 1:11 - loss: 0.396 - ETA: 1:10 - loss: 0.396 - ETA: 1:09 - loss: 0.395 - ETA: 1:09 - loss: 0.395 - ETA: 1:08 - loss: 0.395 - ETA: 1:07 - loss: 0.395 - ETA: 1:06 - loss: 0.395 - ETA: 1:05 - loss: 0.395 - ETA: 1:05 - loss: 0.395 - ETA: 1:04 - loss: 0.396 - ETA: 1:03 - loss: 0.397 - ETA: 1:02 - loss: 0.396 - ETA: 1:01 - loss: 0.397 - ETA: 1:01 - loss: 0.397 - ETA: 1:00 - loss: 0.398 - ETA: 59s - loss: 0.398 - ETA: 58s - loss: 0.39 - ETA: 58s - loss: 0.39 - ETA: 57s - loss: 0.39 - ETA: 56s - loss: 0.39 - ETA: 55s - loss: 0.39 - ETA: 54s - loss: 0.39 - ETA: 54s - loss: 0.39 - ETA: 53s - loss: 0.39 - ETA: 52s - loss: 0.39 - ETA: 51s - loss: 0.39 - ETA: 50s - loss: 0.39 - ETA: 50s - loss: 0.39 - ETA: 49s - loss: 0.39 - ETA: 48s - loss: 0.39 - ETA: 47s - loss: 0.40 - ETA: 47s - loss: 0.40 - ETA: 46s - loss: 0.40 - ETA: 45s - loss: 0.40 - ETA: 44s - loss: 0.40 - ETA: 43s - loss: 0.40 - ETA: 43s - loss: 0.40 - ETA: 42s - loss: 0.40 - ETA: 41s - loss: 0.40 - ETA: 40s - loss: 0.40 - ETA: 39s - loss: 0.40 - ETA: 39s - loss: 0.40 - ETA: 38s - loss: 0.40 - ETA: 37s - loss: 0.40 - ETA: 36s - loss: 0.40 - ETA: 36s - loss: 0.40 - ETA: 35s - loss: 0.40 - ETA: 34s - loss: 0.40 - ETA: 33s - loss: 0.40 - ETA: 32s - loss: 0.40 - ETA: 32s - loss: 0.40 - ETA: 31s - loss: 0.40 - ETA: 30s - loss: 0.40 - ETA: 29s - loss: 0.40 - ETA: 29s - loss: 0.40 - ETA: 28s - loss: 0.40 - ETA: 27s - loss: 0.40 - ETA: 26s - loss: 0.40 - ETA: 25s - loss: 0.40 - ETA: 25s - loss: 0.40 - ETA: 24s - loss: 0.40 - ETA: 23s - loss: 0.40 - ETA: 22s - loss: 0.40 - ETA: 21s - loss: 0.40 - ETA: 21s - loss: 0.40 - ETA: 20s - loss: 0.40 - ETA: 19s - loss: 0.40 - ETA: 18s - loss: 0.40 - ETA: 18s - loss: 0.40 - ETA: 17s - loss: 0.40 - ETA: 16s - loss: 0.40 - ETA: 15s - loss: 0.40 - ETA: 14s - loss: 0.40 - ETA: 14s - loss: 0.40 - ETA: 13s - loss: 0.40 - ETA: 12s - loss: 0.40 - ETA: 11s - loss: 0.40 - ETA: 10s - loss: 0.40 - ETA: 10s - loss: 0.40 - ETA: 9s - loss: 0.4043 - ETA: 8s - loss: 0.404 - ETA: 7s - loss: 0.404 - ETA: 7s - loss: 0.404 - ETA: 6s - loss: 0.404 - ETA: 5s - loss: 0.404 - ETA: 4s - loss: 0.405 - ETA: 3s - loss: 0.406 - ETA: 3s - loss: 0.406 - ETA: 2s - loss: 0.406 - ETA: 1s - loss: 0.406 - ETA: 0s - loss: 0.4069 - ETA: 2:32 - loss: 0.493 - ETA: 1:21 - loss: 0.647 - ETA: 57s - loss: 0.642 - ETA: 45s - loss: 0.65 - ETA: 38s - loss: 0.65 - ETA: 33s - loss: 0.69 - ETA: 29s - loss: 0.69 - ETA: 26s - loss: 0.68 - ETA: 23s - loss: 0.66 - ETA: 21s - loss: 0.64 - ETA: 19s - loss: 0.63 - ETA: 18s - loss: 0.61 - ETA: 16s - loss: 0.60 - ETA: 15s - loss: 0.60 - ETA: 14s - loss: 0.60 - ETA: 13s - loss: 0.60 - ETA: 12s - loss: 0.6022"
     ]
    },
    {
     "name": "stdout",
     "output_type": "stream",
     "text": [
      "41/41 [==============================] - ETA: 12s - loss: 0.59 - ETA: 11s - loss: 0.59 - ETA: 10s - loss: 0.59 - ETA: 9s - loss: 0.5883 - ETA: 9s - loss: 0.587 - ETA: 8s - loss: 0.583 - ETA: 8s - loss: 0.582 - ETA: 7s - loss: 0.585 - ETA: 6s - loss: 0.582 - ETA: 6s - loss: 0.582 - ETA: 5s - loss: 0.586 - ETA: 5s - loss: 0.585 - ETA: 4s - loss: 0.587 - ETA: 4s - loss: 0.587 - ETA: 3s - loss: 0.585 - ETA: 3s - loss: 0.580 - ETA: 2s - loss: 0.584 - ETA: 2s - loss: 0.586 - ETA: 2s - loss: 0.585 - ETA: 1s - loss: 0.588 - ETA: 1s - loss: 0.586 - ETA: 0s - loss: 0.587 - ETA: 0s - loss: 0.586 - 16s 391ms/step - loss: 0.5874\n",
      "\n",
      "##############################\n",
      "\n",
      "PR AUC Fish, train: 0.920\n",
      "\n",
      "PR AUC Flower, train: 0.963\n",
      "\n",
      "PR AUC Sugar, train: 0.968\n",
      "\n",
      "PR AUC Gravel, train: 0.921\n",
      "\n",
      "\n",
      "####################\n",
      " PR AUC mean, train: 0.943\n",
      "####################\n",
      "\n",
      "\n",
      "##############################\n",
      "\n",
      "PR AUC Fish, val: 0.748\n",
      "\n",
      "PR AUC Flower, val: 0.815\n",
      "\n",
      "PR AUC Sugar, val: 0.891\n",
      "\n",
      "PR AUC Gravel, val: 0.812\n",
      "\n",
      "\n",
      "####################\n",
      " PR AUC mean, val: 0.816\n",
      "####################\n",
      "\n",
      "\n",
      "####################\n",
      "Saved new checkpoint\n",
      "####################\n",
      "\n",
      "305/305 [==============================] - 367s 1s/step - loss: 0.4068 - val_loss: 0.5874\n",
      "Epoch 8/13\n"
     ]
    },
    {
     "name": "stdout",
     "output_type": "stream",
     "text": [
      "17/41 [===========>..................].] - ETA: 3:57 - loss: 0.283 - ETA: 3:56 - loss: 0.347 - ETA: 3:56 - loss: 0.345 - ETA: 3:55 - loss: 0.337 - ETA: 3:54 - loss: 0.353 - ETA: 3:53 - loss: 0.354 - ETA: 3:53 - loss: 0.352 - ETA: 3:52 - loss: 0.360 - ETA: 3:51 - loss: 0.368 - ETA: 3:50 - loss: 0.365 - ETA: 3:49 - loss: 0.367 - ETA: 3:48 - loss: 0.364 - ETA: 3:47 - loss: 0.362 - ETA: 3:47 - loss: 0.360 - ETA: 3:46 - loss: 0.356 - ETA: 3:45 - loss: 0.358 - ETA: 3:44 - loss: 0.363 - ETA: 3:43 - loss: 0.367 - ETA: 3:43 - loss: 0.361 - ETA: 3:42 - loss: 0.357 - ETA: 3:42 - loss: 0.356 - ETA: 3:41 - loss: 0.358 - ETA: 3:40 - loss: 0.362 - ETA: 3:39 - loss: 0.366 - ETA: 3:38 - loss: 0.366 - ETA: 3:37 - loss: 0.365 - ETA: 3:37 - loss: 0.366 - ETA: 3:36 - loss: 0.363 - ETA: 3:35 - loss: 0.361 - ETA: 3:34 - loss: 0.360 - ETA: 3:33 - loss: 0.360 - ETA: 3:33 - loss: 0.360 - ETA: 3:32 - loss: 0.357 - ETA: 3:31 - loss: 0.362 - ETA: 3:30 - loss: 0.358 - ETA: 3:29 - loss: 0.361 - ETA: 3:29 - loss: 0.358 - ETA: 3:28 - loss: 0.361 - ETA: 3:27 - loss: 0.361 - ETA: 3:26 - loss: 0.362 - ETA: 3:26 - loss: 0.363 - ETA: 3:25 - loss: 0.366 - ETA: 3:24 - loss: 0.365 - ETA: 3:23 - loss: 0.364 - ETA: 3:23 - loss: 0.362 - ETA: 3:22 - loss: 0.364 - ETA: 3:21 - loss: 0.364 - ETA: 3:20 - loss: 0.363 - ETA: 3:19 - loss: 0.363 - ETA: 3:19 - loss: 0.365 - ETA: 3:18 - loss: 0.366 - ETA: 3:17 - loss: 0.366 - ETA: 3:16 - loss: 0.366 - ETA: 3:15 - loss: 0.366 - ETA: 3:15 - loss: 0.366 - ETA: 3:14 - loss: 0.365 - ETA: 3:13 - loss: 0.365 - ETA: 3:12 - loss: 0.363 - ETA: 3:12 - loss: 0.362 - ETA: 3:11 - loss: 0.364 - ETA: 3:10 - loss: 0.363 - ETA: 3:09 - loss: 0.361 - ETA: 3:08 - loss: 0.364 - ETA: 3:08 - loss: 0.364 - ETA: 3:07 - loss: 0.365 - ETA: 3:06 - loss: 0.364 - ETA: 3:05 - loss: 0.366 - ETA: 3:05 - loss: 0.367 - ETA: 3:04 - loss: 0.366 - ETA: 3:03 - loss: 0.365 - ETA: 3:02 - loss: 0.364 - ETA: 3:01 - loss: 0.364 - ETA: 3:01 - loss: 0.364 - ETA: 3:00 - loss: 0.364 - ETA: 2:59 - loss: 0.364 - ETA: 2:58 - loss: 0.362 - ETA: 2:57 - loss: 0.364 - ETA: 2:57 - loss: 0.366 - ETA: 2:56 - loss: 0.365 - ETA: 2:55 - loss: 0.364 - ETA: 2:54 - loss: 0.364 - ETA: 2:54 - loss: 0.363 - ETA: 2:53 - loss: 0.362 - ETA: 2:52 - loss: 0.362 - ETA: 2:51 - loss: 0.363 - ETA: 2:51 - loss: 0.362 - ETA: 2:50 - loss: 0.363 - ETA: 2:49 - loss: 0.364 - ETA: 2:48 - loss: 0.363 - ETA: 2:47 - loss: 0.364 - ETA: 2:47 - loss: 0.364 - ETA: 2:46 - loss: 0.364 - ETA: 2:45 - loss: 0.364 - ETA: 2:44 - loss: 0.364 - ETA: 2:43 - loss: 0.365 - ETA: 2:43 - loss: 0.367 - ETA: 2:42 - loss: 0.367 - ETA: 2:41 - loss: 0.367 - ETA: 2:40 - loss: 0.368 - ETA: 2:40 - loss: 0.367 - ETA: 2:39 - loss: 0.367 - ETA: 2:38 - loss: 0.366 - ETA: 2:37 - loss: 0.366 - ETA: 2:37 - loss: 0.367 - ETA: 2:36 - loss: 0.367 - ETA: 2:35 - loss: 0.367 - ETA: 2:34 - loss: 0.367 - ETA: 2:33 - loss: 0.366 - ETA: 2:33 - loss: 0.366 - ETA: 2:32 - loss: 0.366 - ETA: 2:31 - loss: 0.366 - ETA: 2:30 - loss: 0.366 - ETA: 2:30 - loss: 0.367 - ETA: 2:29 - loss: 0.368 - ETA: 2:28 - loss: 0.367 - ETA: 2:27 - loss: 0.369 - ETA: 2:26 - loss: 0.369 - ETA: 2:26 - loss: 0.368 - ETA: 2:25 - loss: 0.369 - ETA: 2:24 - loss: 0.369 - ETA: 2:23 - loss: 0.369 - ETA: 2:23 - loss: 0.369 - ETA: 2:22 - loss: 0.370 - ETA: 2:21 - loss: 0.370 - ETA: 2:20 - loss: 0.370 - ETA: 2:19 - loss: 0.371 - ETA: 2:19 - loss: 0.371 - ETA: 2:18 - loss: 0.372 - ETA: 2:17 - loss: 0.372 - ETA: 2:16 - loss: 0.373 - ETA: 2:16 - loss: 0.374 - ETA: 2:15 - loss: 0.376 - ETA: 2:14 - loss: 0.375 - ETA: 2:13 - loss: 0.376 - ETA: 2:12 - loss: 0.376 - ETA: 2:12 - loss: 0.375 - ETA: 2:11 - loss: 0.375 - ETA: 2:10 - loss: 0.374 - ETA: 2:09 - loss: 0.376 - ETA: 2:09 - loss: 0.377 - ETA: 2:08 - loss: 0.377 - ETA: 2:07 - loss: 0.377 - ETA: 2:06 - loss: 0.377 - ETA: 2:06 - loss: 0.376 - ETA: 2:05 - loss: 0.377 - ETA: 2:04 - loss: 0.377 - ETA: 2:03 - loss: 0.377 - ETA: 2:02 - loss: 0.377 - ETA: 2:02 - loss: 0.377 - ETA: 2:01 - loss: 0.377 - ETA: 2:00 - loss: 0.377 - ETA: 1:59 - loss: 0.377 - ETA: 1:58 - loss: 0.378 - ETA: 1:58 - loss: 0.378 - ETA: 1:57 - loss: 0.378 - ETA: 1:56 - loss: 0.379 - ETA: 1:55 - loss: 0.379 - ETA: 1:55 - loss: 0.379 - ETA: 1:54 - loss: 0.378 - ETA: 1:53 - loss: 0.379 - ETA: 1:52 - loss: 0.379 - ETA: 1:51 - loss: 0.379 - ETA: 1:51 - loss: 0.379 - ETA: 1:50 - loss: 0.379 - ETA: 1:49 - loss: 0.379 - ETA: 1:48 - loss: 0.380 - ETA: 1:48 - loss: 0.380 - ETA: 1:47 - loss: 0.380 - ETA: 1:46 - loss: 0.380 - ETA: 1:45 - loss: 0.381 - ETA: 1:44 - loss: 0.381 - ETA: 1:44 - loss: 0.382 - ETA: 1:43 - loss: 0.382 - ETA: 1:42 - loss: 0.382 - ETA: 1:41 - loss: 0.382 - ETA: 1:40 - loss: 0.382 - ETA: 1:40 - loss: 0.382 - ETA: 1:39 - loss: 0.382 - ETA: 1:38 - loss: 0.382 - ETA: 1:37 - loss: 0.382 - ETA: 1:37 - loss: 0.382 - ETA: 1:36 - loss: 0.382 - ETA: 1:35 - loss: 0.382 - ETA: 1:34 - loss: 0.382 - ETA: 1:33 - loss: 0.383 - ETA: 1:33 - loss: 0.383 - ETA: 1:32 - loss: 0.383 - ETA: 1:31 - loss: 0.383 - ETA: 1:30 - loss: 0.383 - ETA: 1:30 - loss: 0.383 - ETA: 1:29 - loss: 0.382 - ETA: 1:28 - loss: 0.382 - ETA: 1:27 - loss: 0.383 - ETA: 1:26 - loss: 0.382 - ETA: 1:26 - loss: 0.382 - ETA: 1:25 - loss: 0.382 - ETA: 1:24 - loss: 0.381 - ETA: 1:23 - loss: 0.381 - ETA: 1:22 - loss: 0.381 - ETA: 1:22 - loss: 0.381 - ETA: 1:21 - loss: 0.382 - ETA: 1:20 - loss: 0.381 - ETA: 1:19 - loss: 0.381 - ETA: 1:19 - loss: 0.381 - ETA: 1:18 - loss: 0.381 - ETA: 1:17 - loss: 0.381 - ETA: 1:16 - loss: 0.382 - ETA: 1:15 - loss: 0.381 - ETA: 1:15 - loss: 0.382 - ETA: 1:14 - loss: 0.382 - ETA: 1:13 - loss: 0.383 - ETA: 1:12 - loss: 0.384 - ETA: 1:12 - loss: 0.383 - ETA: 1:11 - loss: 0.384 - ETA: 1:10 - loss: 0.383 - ETA: 1:09 - loss: 0.383 - ETA: 1:08 - loss: 0.383 - ETA: 1:08 - loss: 0.383 - ETA: 1:07 - loss: 0.383 - ETA: 1:06 - loss: 0.383 - ETA: 1:05 - loss: 0.384 - ETA: 1:04 - loss: 0.384 - ETA: 1:04 - loss: 0.383 - ETA: 1:03 - loss: 0.383 - ETA: 1:02 - loss: 0.383 - ETA: 1:01 - loss: 0.383 - ETA: 1:01 - loss: 0.383 - ETA: 1:00 - loss: 0.383 - ETA: 59s - loss: 0.383 - ETA: 58s - loss: 0.38 - ETA: 57s - loss: 0.38 - ETA: 57s - loss: 0.38 - ETA: 56s - loss: 0.38 - ETA: 55s - loss: 0.38 - ETA: 54s - loss: 0.38 - ETA: 54s - loss: 0.38 - ETA: 53s - loss: 0.38 - ETA: 52s - loss: 0.38 - ETA: 51s - loss: 0.38 - ETA: 50s - loss: 0.38 - ETA: 50s - loss: 0.38 - ETA: 49s - loss: 0.38 - ETA: 48s - loss: 0.38 - ETA: 47s - loss: 0.38 - ETA: 46s - loss: 0.38 - ETA: 46s - loss: 0.38 - ETA: 45s - loss: 0.38 - ETA: 44s - loss: 0.38 - ETA: 43s - loss: 0.38 - ETA: 43s - loss: 0.38 - ETA: 42s - loss: 0.38 - ETA: 41s - loss: 0.38 - ETA: 40s - loss: 0.38 - ETA: 39s - loss: 0.38 - ETA: 39s - loss: 0.38 - ETA: 38s - loss: 0.38 - ETA: 37s - loss: 0.38 - ETA: 36s - loss: 0.38 - ETA: 36s - loss: 0.38 - ETA: 35s - loss: 0.38 - ETA: 34s - loss: 0.38 - ETA: 33s - loss: 0.38 - ETA: 32s - loss: 0.38 - ETA: 32s - loss: 0.38 - ETA: 31s - loss: 0.38 - ETA: 30s - loss: 0.38 - ETA: 29s - loss: 0.38 - ETA: 28s - loss: 0.38 - ETA: 28s - loss: 0.38 - ETA: 27s - loss: 0.38 - ETA: 26s - loss: 0.38 - ETA: 25s - loss: 0.38 - ETA: 25s - loss: 0.38 - ETA: 24s - loss: 0.38 - ETA: 23s - loss: 0.38 - ETA: 22s - loss: 0.38 - ETA: 21s - loss: 0.38 - ETA: 21s - loss: 0.38 - ETA: 20s - loss: 0.38 - ETA: 19s - loss: 0.38 - ETA: 18s - loss: 0.38 - ETA: 18s - loss: 0.38 - ETA: 17s - loss: 0.38 - ETA: 16s - loss: 0.38 - ETA: 15s - loss: 0.38 - ETA: 14s - loss: 0.38 - ETA: 14s - loss: 0.38 - ETA: 13s - loss: 0.38 - ETA: 12s - loss: 0.38 - ETA: 11s - loss: 0.38 - ETA: 10s - loss: 0.38 - ETA: 10s - loss: 0.38 - ETA: 9s - loss: 0.3865 - ETA: 8s - loss: 0.386 - ETA: 7s - loss: 0.386 - ETA: 7s - loss: 0.386 - ETA: 6s - loss: 0.386 - ETA: 5s - loss: 0.386 - ETA: 4s - loss: 0.386 - ETA: 3s - loss: 0.385 - ETA: 3s - loss: 0.386 - ETA: 2s - loss: 0.386 - ETA: 1s - loss: 0.385 - ETA: 0s - loss: 0.3859 - ETA: 2:26 - loss: 0.651 - ETA: 1:19 - loss: 0.664 - ETA: 55s - loss: 0.740 - ETA: 44s - loss: 0.77 - ETA: 37s - loss: 0.74 - ETA: 32s - loss: 0.79 - ETA: 28s - loss: 0.79 - ETA: 25s - loss: 0.79 - ETA: 23s - loss: 0.76 - ETA: 21s - loss: 0.74 - ETA: 19s - loss: 0.72 - ETA: 18s - loss: 0.72 - ETA: 17s - loss: 0.71 - ETA: 15s - loss: 0.73 - ETA: 14s - loss: 0.72 - ETA: 13s - loss: 0.72 - ETA: 12s - loss: 0.725141/41 [==============================] - ETA: 12s - loss: 0.71 - ETA: 11s - loss: 0.71 - ETA: 10s - loss: 0.70 - ETA: 9s - loss: 0.6957 - ETA: 9s - loss: 0.692 - ETA: 8s - loss: 0.686 - ETA: 8s - loss: 0.685 - ETA: 7s - loss: 0.683 - ETA: 6s - loss: 0.674 - ETA: 6s - loss: 0.672 - ETA: 5s - loss: 0.675 - ETA: 5s - loss: 0.677 - ETA: 4s - loss: 0.680 - ETA: 4s - loss: 0.679 - ETA: 3s - loss: 0.678 - ETA: 3s - loss: 0.670 - ETA: 2s - loss: 0.672 - ETA: 2s - loss: 0.676 - ETA: 2s - loss: 0.674 - ETA: 1s - loss: 0.678 - ETA: 1s - loss: 0.673 - ETA: 0s - loss: 0.673 - ETA: 0s - loss: 0.675 - 16s 395ms/step - loss: 0.6760\n",
      "\n",
      "##############################\n",
      "\n",
      "PR AUC Fish, train: 0.921\n",
      "\n",
      "PR AUC Flower, train: 0.960\n",
      "\n",
      "PR AUC Sugar, train: 0.967\n",
      "\n",
      "PR AUC Gravel, train: 0.925\n",
      "\n",
      "\n",
      "####################\n",
      " PR AUC mean, train: 0.943\n",
      "####################\n",
      "\n",
      "\n",
      "##############################\n",
      "\n",
      "PR AUC Fish, val: 0.737\n",
      "\n",
      "PR AUC Flower, val: 0.802\n",
      "\n",
      "PR AUC Sugar, val: 0.893\n",
      "\n",
      "PR AUC Gravel, val: 0.813\n",
      "\n",
      "\n",
      "####################\n",
      " PR AUC mean, val: 0.811\n",
      "####################\n",
      "\n",
      "\n",
      "####################\n",
      "Saved new checkpoint\n",
      "####################\n",
      "\n",
      "\n",
      "####################\n",
      "Reduced learning rate to 0.0001250000059371814.\n",
      "####################\n",
      "\n",
      "305/305 [==============================] - 376s 1s/step - loss: 0.3857 - val_loss: 0.6760\n"
     ]
    }
   ],
   "source": [
    "for base_layer in model.layers[:-1]:\n",
    "    base_layer.trainable = True\n",
    "    \n",
    "model.compile(optimizer=Adam(lr=0.00025), loss='binary_crossentropy')\n",
    "history_1 = model.fit_generator(generator=data_generator_train,\n",
    "                              validation_data=data_generator_val,\n",
    "                              epochs=13,\n",
    "                              callbacks=[train_metric_callback, val_callback],\n",
    "                              workers=num_cores,\n",
    "                              verbose=1,\n",
    "                              initial_epoch=1\n",
    "                             )"
   ]
  },
  {
   "cell_type": "code",
   "execution_count": 65,
   "metadata": {},
   "outputs": [
    {
     "name": "stdout",
     "output_type": "stream",
     "text": [
      "Epoch 2/10\n"
     ]
    },
    {
     "name": "stdout",
     "output_type": "stream",
     "text": [
      "14/41 [=========>....................].] - ETA: 6:22:46 - loss: 0.26 - ETA: 3:12:39 - loss: 0.29 - ETA: 2:09:19 - loss: 0.29 - ETA: 1:37:36 - loss: 0.29 - ETA: 1:18:34 - loss: 0.28 - ETA: 1:05:53 - loss: 0.29 - ETA: 56:49 - loss: 0.2884 - ETA: 50:00 - loss: 0.29 - ETA: 44:44 - loss: 0.30 - ETA: 40:29 - loss: 0.30 - ETA: 37:01 - loss: 0.30 - ETA: 34:08 - loss: 0.31 - ETA: 31:41 - loss: 0.32 - ETA: 29:35 - loss: 0.33 - ETA: 27:45 - loss: 0.32 - ETA: 26:09 - loss: 0.33 - ETA: 24:45 - loss: 0.32 - ETA: 23:30 - loss: 0.31 - ETA: 22:22 - loss: 0.32 - ETA: 21:21 - loss: 0.31 - ETA: 20:26 - loss: 0.32 - ETA: 19:36 - loss: 0.31 - ETA: 18:50 - loss: 0.32 - ETA: 18:08 - loss: 0.32 - ETA: 17:29 - loss: 0.31 - ETA: 16:53 - loss: 0.31 - ETA: 16:20 - loss: 0.31 - ETA: 15:49 - loss: 0.31 - ETA: 15:20 - loss: 0.31 - ETA: 14:53 - loss: 0.31 - ETA: 14:28 - loss: 0.31 - ETA: 14:04 - loss: 0.31 - ETA: 13:42 - loss: 0.31 - ETA: 13:21 - loss: 0.31 - ETA: 13:01 - loss: 0.31 - ETA: 12:42 - loss: 0.31 - ETA: 12:24 - loss: 0.31 - ETA: 12:07 - loss: 0.31 - ETA: 11:51 - loss: 0.31 - ETA: 11:36 - loss: 0.31 - ETA: 11:21 - loss: 0.31 - ETA: 11:07 - loss: 0.31 - ETA: 10:54 - loss: 0.31 - ETA: 10:41 - loss: 0.31 - ETA: 10:29 - loss: 0.31 - ETA: 10:17 - loss: 0.31 - ETA: 10:06 - loss: 0.31 - ETA: 9:55 - loss: 0.3115 - ETA: 9:44 - loss: 0.310 - ETA: 9:34 - loss: 0.311 - ETA: 9:25 - loss: 0.309 - ETA: 9:15 - loss: 0.307 - ETA: 9:06 - loss: 0.308 - ETA: 8:58 - loss: 0.306 - ETA: 8:49 - loss: 0.304 - ETA: 8:41 - loss: 0.302 - ETA: 8:33 - loss: 0.302 - ETA: 8:25 - loss: 0.302 - ETA: 8:18 - loss: 0.301 - ETA: 8:11 - loss: 0.305 - ETA: 8:04 - loss: 0.309 - ETA: 7:57 - loss: 0.311 - ETA: 7:51 - loss: 0.310 - ETA: 7:44 - loss: 0.310 - ETA: 7:38 - loss: 0.310 - ETA: 7:32 - loss: 0.309 - ETA: 7:26 - loss: 0.309 - ETA: 7:21 - loss: 0.308 - ETA: 7:15 - loss: 0.309 - ETA: 7:09 - loss: 0.310 - ETA: 7:04 - loss: 0.308 - ETA: 6:59 - loss: 0.310 - ETA: 6:54 - loss: 0.309 - ETA: 6:49 - loss: 0.308 - ETA: 6:44 - loss: 0.308 - ETA: 6:39 - loss: 0.307 - ETA: 6:34 - loss: 0.307 - ETA: 6:30 - loss: 0.306 - ETA: 6:25 - loss: 0.306 - ETA: 6:21 - loss: 0.305 - ETA: 6:17 - loss: 0.305 - ETA: 6:13 - loss: 0.305 - ETA: 6:09 - loss: 0.303 - ETA: 6:04 - loss: 0.303 - ETA: 6:01 - loss: 0.302 - ETA: 5:57 - loss: 0.303 - ETA: 5:53 - loss: 0.303 - ETA: 5:49 - loss: 0.303 - ETA: 5:45 - loss: 0.303 - ETA: 5:42 - loss: 0.305 - ETA: 5:38 - loss: 0.305 - ETA: 5:35 - loss: 0.305 - ETA: 5:32 - loss: 0.304 - ETA: 5:28 - loss: 0.303 - ETA: 5:25 - loss: 0.305 - ETA: 5:22 - loss: 0.304 - ETA: 5:18 - loss: 0.303 - ETA: 5:15 - loss: 0.303 - ETA: 5:12 - loss: 0.302 - ETA: 5:09 - loss: 0.303 - ETA: 5:06 - loss: 0.303 - ETA: 5:03 - loss: 0.302 - ETA: 5:00 - loss: 0.303 - ETA: 4:57 - loss: 0.302 - ETA: 4:54 - loss: 0.303 - ETA: 4:51 - loss: 0.303 - ETA: 4:49 - loss: 0.302 - ETA: 4:46 - loss: 0.302 - ETA: 4:43 - loss: 0.303 - ETA: 4:41 - loss: 0.303 - ETA: 4:38 - loss: 0.302 - ETA: 4:35 - loss: 0.302 - ETA: 4:33 - loss: 0.302 - ETA: 4:30 - loss: 0.303 - ETA: 4:28 - loss: 0.303 - ETA: 4:25 - loss: 0.302 - ETA: 4:23 - loss: 0.302 - ETA: 4:20 - loss: 0.302 - ETA: 4:18 - loss: 0.303 - ETA: 4:16 - loss: 0.303 - ETA: 4:13 - loss: 0.303 - ETA: 4:11 - loss: 0.303 - ETA: 4:09 - loss: 0.303 - ETA: 4:07 - loss: 0.303 - ETA: 4:04 - loss: 0.302 - ETA: 4:02 - loss: 0.302 - ETA: 4:00 - loss: 0.302 - ETA: 3:58 - loss: 0.301 - ETA: 3:56 - loss: 0.301 - ETA: 3:54 - loss: 0.302 - ETA: 3:51 - loss: 0.302 - ETA: 3:49 - loss: 0.302 - ETA: 3:47 - loss: 0.302 - ETA: 3:45 - loss: 0.303 - ETA: 3:43 - loss: 0.303 - ETA: 3:41 - loss: 0.303 - ETA: 3:39 - loss: 0.304 - ETA: 3:37 - loss: 0.305 - ETA: 3:35 - loss: 0.304 - ETA: 3:33 - loss: 0.304 - ETA: 3:32 - loss: 0.303 - ETA: 3:30 - loss: 0.304 - ETA: 3:28 - loss: 0.304 - ETA: 3:26 - loss: 0.303 - ETA: 3:24 - loss: 0.303 - ETA: 3:22 - loss: 0.303 - ETA: 3:20 - loss: 0.304 - ETA: 3:19 - loss: 0.304 - ETA: 3:17 - loss: 0.303 - ETA: 3:15 - loss: 0.304 - ETA: 3:13 - loss: 0.304 - ETA: 3:11 - loss: 0.304 - ETA: 3:10 - loss: 0.304 - ETA: 3:08 - loss: 0.304 - ETA: 3:06 - loss: 0.305 - ETA: 3:05 - loss: 0.305 - ETA: 3:03 - loss: 0.305 - ETA: 3:01 - loss: 0.305 - ETA: 2:59 - loss: 0.304 - ETA: 2:58 - loss: 0.305 - ETA: 2:56 - loss: 0.305 - ETA: 2:55 - loss: 0.305 - ETA: 2:53 - loss: 0.305 - ETA: 2:51 - loss: 0.306 - ETA: 2:50 - loss: 0.306 - ETA: 2:48 - loss: 0.306 - ETA: 2:47 - loss: 0.307 - ETA: 2:45 - loss: 0.306 - ETA: 2:43 - loss: 0.306 - ETA: 2:42 - loss: 0.306 - ETA: 2:40 - loss: 0.306 - ETA: 2:39 - loss: 0.306 - ETA: 2:37 - loss: 0.307 - ETA: 2:36 - loss: 0.306 - ETA: 2:34 - loss: 0.306 - ETA: 2:33 - loss: 0.306 - ETA: 2:31 - loss: 0.306 - ETA: 2:30 - loss: 0.306 - ETA: 2:28 - loss: 0.306 - ETA: 2:27 - loss: 0.306 - ETA: 2:25 - loss: 0.306 - ETA: 2:24 - loss: 0.306 - ETA: 2:22 - loss: 0.306 - ETA: 2:21 - loss: 0.306 - ETA: 2:20 - loss: 0.306 - ETA: 2:18 - loss: 0.306 - ETA: 2:17 - loss: 0.306 - ETA: 2:15 - loss: 0.306 - ETA: 2:14 - loss: 0.307 - ETA: 2:12 - loss: 0.307 - ETA: 2:11 - loss: 0.307 - ETA: 2:10 - loss: 0.307 - ETA: 2:08 - loss: 0.307 - ETA: 2:07 - loss: 0.307 - ETA: 2:06 - loss: 0.306 - ETA: 2:04 - loss: 0.306 - ETA: 2:03 - loss: 0.306 - ETA: 2:02 - loss: 0.306 - ETA: 2:00 - loss: 0.306 - ETA: 1:59 - loss: 0.307 - ETA: 1:58 - loss: 0.307 - ETA: 1:56 - loss: 0.308 - ETA: 1:55 - loss: 0.308 - ETA: 1:54 - loss: 0.309 - ETA: 1:52 - loss: 0.308 - ETA: 1:51 - loss: 0.309 - ETA: 1:50 - loss: 0.308 - ETA: 1:48 - loss: 0.308 - ETA: 1:47 - loss: 0.308 - ETA: 1:46 - loss: 0.307 - ETA: 1:45 - loss: 0.307 - ETA: 1:43 - loss: 0.308 - ETA: 1:42 - loss: 0.308 - ETA: 1:41 - loss: 0.308 - ETA: 1:39 - loss: 0.308 - ETA: 1:38 - loss: 0.308 - ETA: 1:37 - loss: 0.308 - ETA: 1:36 - loss: 0.308 - ETA: 1:35 - loss: 0.308 - ETA: 1:33 - loss: 0.308 - ETA: 1:32 - loss: 0.307 - ETA: 1:31 - loss: 0.307 - ETA: 1:30 - loss: 0.308 - ETA: 1:28 - loss: 0.308 - ETA: 1:27 - loss: 0.308 - ETA: 1:26 - loss: 0.309 - ETA: 1:25 - loss: 0.309 - ETA: 1:24 - loss: 0.309 - ETA: 1:22 - loss: 0.309 - ETA: 1:21 - loss: 0.308 - ETA: 1:20 - loss: 0.308 - ETA: 1:19 - loss: 0.308 - ETA: 1:18 - loss: 0.308 - ETA: 1:16 - loss: 0.307 - ETA: 1:15 - loss: 0.308 - ETA: 1:14 - loss: 0.307 - ETA: 1:13 - loss: 0.307 - ETA: 1:12 - loss: 0.307 - ETA: 1:11 - loss: 0.306 - ETA: 1:09 - loss: 0.306 - ETA: 1:08 - loss: 0.306 - ETA: 1:07 - loss: 0.306 - ETA: 1:06 - loss: 0.306 - ETA: 1:05 - loss: 0.306 - ETA: 1:04 - loss: 0.306 - ETA: 1:02 - loss: 0.306 - ETA: 1:01 - loss: 0.306 - ETA: 1:00 - loss: 0.306 - ETA: 59s - loss: 0.307 - ETA: 58s - loss: 0.30 - ETA: 57s - loss: 0.30 - ETA: 56s - loss: 0.30 - ETA: 55s - loss: 0.30 - ETA: 53s - loss: 0.30 - ETA: 52s - loss: 0.30 - ETA: 51s - loss: 0.30 - ETA: 50s - loss: 0.30 - ETA: 49s - loss: 0.30 - ETA: 48s - loss: 0.30 - ETA: 47s - loss: 0.30 - ETA: 46s - loss: 0.30 - ETA: 45s - loss: 0.30 - ETA: 44s - loss: 0.30 - ETA: 42s - loss: 0.30 - ETA: 41s - loss: 0.30 - ETA: 40s - loss: 0.30 - ETA: 39s - loss: 0.30 - ETA: 38s - loss: 0.30 - ETA: 37s - loss: 0.30 - ETA: 36s - loss: 0.30 - ETA: 35s - loss: 0.30 - ETA: 34s - loss: 0.30 - ETA: 33s - loss: 0.30 - ETA: 32s - loss: 0.30 - ETA: 31s - loss: 0.30 - ETA: 29s - loss: 0.30 - ETA: 28s - loss: 0.30 - ETA: 27s - loss: 0.30 - ETA: 26s - loss: 0.30 - ETA: 25s - loss: 0.30 - ETA: 24s - loss: 0.30 - ETA: 23s - loss: 0.30 - ETA: 22s - loss: 0.30 - ETA: 21s - loss: 0.30 - ETA: 20s - loss: 0.30 - ETA: 19s - loss: 0.30 - ETA: 18s - loss: 0.30 - ETA: 17s - loss: 0.30 - ETA: 16s - loss: 0.30 - ETA: 15s - loss: 0.30 - ETA: 14s - loss: 0.30 - ETA: 13s - loss: 0.30 - ETA: 12s - loss: 0.30 - ETA: 11s - loss: 0.30 - ETA: 10s - loss: 0.30 - ETA: 9s - loss: 0.3097 - ETA: 8s - loss: 0.309 - ETA: 7s - loss: 0.309 - ETA: 6s - loss: 0.309 - ETA: 5s - loss: 0.309 - ETA: 4s - loss: 0.309 - ETA: 3s - loss: 0.308 - ETA: 2s - loss: 0.309 - ETA: 1s - loss: 0.3091 - ETA: 7:56 - loss: 0.709 - ETA: 3:57 - loss: 0.867 - ETA: 2:37 - loss: 0.982 - ETA: 1:57 - loss: 1.067 - ETA: 1:33 - loss: 1.057 - ETA: 1:17 - loss: 1.147 - ETA: 1:06 - loss: 1.151 - ETA: 57s - loss: 1.153 - ETA: 50s - loss: 1.10 - ETA: 45s - loss: 1.06 - ETA: 40s - loss: 1.05 - ETA: 36s - loss: 1.02 - ETA: 33s - loss: 1.00 - ETA: 30s - loss: 1.0141/41 [==============================] - ETA: 27s - loss: 1.00 - ETA: 25s - loss: 1.00 - ETA: 23s - loss: 1.00 - ETA: 21s - loss: 0.97 - ETA: 19s - loss: 0.98 - ETA: 18s - loss: 0.97 - ETA: 17s - loss: 0.97 - ETA: 15s - loss: 0.97 - ETA: 14s - loss: 0.95 - ETA: 13s - loss: 0.95 - ETA: 12s - loss: 0.95 - ETA: 11s - loss: 0.95 - ETA: 10s - loss: 0.94 - ETA: 9s - loss: 0.9458 - ETA: 8s - loss: 0.950 - ETA: 7s - loss: 0.956 - ETA: 6s - loss: 0.958 - ETA: 5s - loss: 0.956 - ETA: 5s - loss: 0.942 - ETA: 4s - loss: 0.943 - ETA: 3s - loss: 0.948 - ETA: 3s - loss: 0.944 - ETA: 2s - loss: 0.951 - ETA: 1s - loss: 0.954 - ETA: 1s - loss: 0.953 - ETA: 0s - loss: 0.955 - 23s 571ms/step - loss: 0.9574\n",
      "\n",
      "##############################\n",
      "\n",
      "PR AUC Fish, train: 0.960\n",
      "\n",
      "PR AUC Flower, train: 0.980\n",
      "\n",
      "PR AUC Sugar, train: 0.977\n",
      "\n",
      "PR AUC Gravel, train: 0.959\n",
      "\n",
      "\n",
      "####################\n",
      " PR AUC mean, train: 0.969\n",
      "####################\n",
      "\n",
      "\n",
      "##############################\n",
      "\n",
      "PR AUC Fish, val: 0.761\n",
      "\n",
      "PR AUC Flower, val: 0.840\n",
      "\n",
      "PR AUC Sugar, val: 0.893\n",
      "\n",
      "PR AUC Gravel, val: 0.779\n",
      "\n",
      "\n",
      "####################\n",
      " PR AUC mean, val: 0.818\n",
      "####################\n",
      "\n",
      "\n",
      "####################\n",
      "Saved new checkpoint\n",
      "####################\n",
      "\n",
      "305/305 [==============================] - 475s 2s/step - loss: 0.3092 - val_loss: 0.9574\n",
      "Epoch 3/10\n"
     ]
    },
    {
     "name": "stdout",
     "output_type": "stream",
     "text": [
      "17/41 [===========>..................].] - ETA: 3:51 - loss: 0.172 - ETA: 3:53 - loss: 0.257 - ETA: 3:50 - loss: 0.235 - ETA: 3:49 - loss: 0.222 - ETA: 3:50 - loss: 0.243 - ETA: 3:48 - loss: 0.227 - ETA: 3:48 - loss: 0.237 - ETA: 3:47 - loss: 0.233 - ETA: 3:47 - loss: 0.222 - ETA: 3:45 - loss: 0.231 - ETA: 3:45 - loss: 0.237 - ETA: 3:44 - loss: 0.241 - ETA: 3:44 - loss: 0.238 - ETA: 3:43 - loss: 0.238 - ETA: 3:42 - loss: 0.237 - ETA: 3:41 - loss: 0.233 - ETA: 3:40 - loss: 0.227 - ETA: 3:40 - loss: 0.232 - ETA: 3:39 - loss: 0.234 - ETA: 3:38 - loss: 0.234 - ETA: 3:37 - loss: 0.235 - ETA: 3:36 - loss: 0.242 - ETA: 3:36 - loss: 0.242 - ETA: 3:35 - loss: 0.241 - ETA: 3:34 - loss: 0.241 - ETA: 3:34 - loss: 0.243 - ETA: 3:33 - loss: 0.244 - ETA: 3:32 - loss: 0.246 - ETA: 3:31 - loss: 0.248 - ETA: 3:30 - loss: 0.250 - ETA: 3:30 - loss: 0.250 - ETA: 3:29 - loss: 0.254 - ETA: 3:28 - loss: 0.253 - ETA: 3:27 - loss: 0.251 - ETA: 3:26 - loss: 0.252 - ETA: 3:26 - loss: 0.251 - ETA: 3:25 - loss: 0.251 - ETA: 3:24 - loss: 0.249 - ETA: 3:23 - loss: 0.248 - ETA: 3:23 - loss: 0.252 - ETA: 3:22 - loss: 0.251 - ETA: 3:21 - loss: 0.251 - ETA: 3:20 - loss: 0.251 - ETA: 3:20 - loss: 0.252 - ETA: 3:19 - loss: 0.253 - ETA: 3:18 - loss: 0.253 - ETA: 3:17 - loss: 0.252 - ETA: 3:17 - loss: 0.252 - ETA: 3:16 - loss: 0.251 - ETA: 3:15 - loss: 0.249 - ETA: 3:14 - loss: 0.251 - ETA: 3:14 - loss: 0.250 - ETA: 3:13 - loss: 0.249 - ETA: 3:12 - loss: 0.250 - ETA: 3:12 - loss: 0.250 - ETA: 3:11 - loss: 0.250 - ETA: 3:10 - loss: 0.250 - ETA: 3:09 - loss: 0.251 - ETA: 3:08 - loss: 0.250 - ETA: 3:08 - loss: 0.251 - ETA: 3:07 - loss: 0.252 - ETA: 3:06 - loss: 0.253 - ETA: 3:05 - loss: 0.254 - ETA: 3:04 - loss: 0.255 - ETA: 3:04 - loss: 0.255 - ETA: 3:03 - loss: 0.256 - ETA: 3:02 - loss: 0.257 - ETA: 3:01 - loss: 0.260 - ETA: 3:01 - loss: 0.258 - ETA: 3:00 - loss: 0.258 - ETA: 2:59 - loss: 0.258 - ETA: 2:58 - loss: 0.258 - ETA: 2:58 - loss: 0.258 - ETA: 2:57 - loss: 0.258 - ETA: 2:56 - loss: 0.259 - ETA: 2:55 - loss: 0.259 - ETA: 2:55 - loss: 0.258 - ETA: 2:54 - loss: 0.259 - ETA: 2:53 - loss: 0.259 - ETA: 2:52 - loss: 0.260 - ETA: 2:51 - loss: 0.261 - ETA: 2:51 - loss: 0.261 - ETA: 2:50 - loss: 0.261 - ETA: 2:49 - loss: 0.261 - ETA: 2:48 - loss: 0.262 - ETA: 2:48 - loss: 0.261 - ETA: 2:47 - loss: 0.261 - ETA: 2:46 - loss: 0.261 - ETA: 2:45 - loss: 0.262 - ETA: 2:44 - loss: 0.262 - ETA: 2:44 - loss: 0.262 - ETA: 2:43 - loss: 0.262 - ETA: 2:42 - loss: 0.262 - ETA: 2:41 - loss: 0.262 - ETA: 2:41 - loss: 0.261 - ETA: 2:40 - loss: 0.260 - ETA: 2:39 - loss: 0.260 - ETA: 2:38 - loss: 0.260 - ETA: 2:38 - loss: 0.260 - ETA: 2:37 - loss: 0.260 - ETA: 2:36 - loss: 0.261 - ETA: 2:35 - loss: 0.261 - ETA: 2:35 - loss: 0.260 - ETA: 2:34 - loss: 0.262 - ETA: 2:33 - loss: 0.262 - ETA: 2:32 - loss: 0.262 - ETA: 2:31 - loss: 0.263 - ETA: 2:31 - loss: 0.262 - ETA: 2:30 - loss: 0.261 - ETA: 2:29 - loss: 0.261 - ETA: 2:28 - loss: 0.260 - ETA: 2:28 - loss: 0.261 - ETA: 2:27 - loss: 0.260 - ETA: 2:26 - loss: 0.260 - ETA: 2:25 - loss: 0.260 - ETA: 2:24 - loss: 0.260 - ETA: 2:24 - loss: 0.259 - ETA: 2:23 - loss: 0.259 - ETA: 2:22 - loss: 0.259 - ETA: 2:21 - loss: 0.259 - ETA: 2:21 - loss: 0.258 - ETA: 2:20 - loss: 0.258 - ETA: 2:19 - loss: 0.258 - ETA: 2:18 - loss: 0.258 - ETA: 2:18 - loss: 0.258 - ETA: 2:17 - loss: 0.257 - ETA: 2:16 - loss: 0.258 - ETA: 2:15 - loss: 0.259 - ETA: 2:14 - loss: 0.259 - ETA: 2:14 - loss: 0.260 - ETA: 2:13 - loss: 0.260 - ETA: 2:12 - loss: 0.260 - ETA: 2:11 - loss: 0.260 - ETA: 2:11 - loss: 0.261 - ETA: 2:10 - loss: 0.261 - ETA: 2:09 - loss: 0.262 - ETA: 2:08 - loss: 0.262 - ETA: 2:08 - loss: 0.262 - ETA: 2:07 - loss: 0.262 - ETA: 2:06 - loss: 0.261 - ETA: 2:05 - loss: 0.262 - ETA: 2:05 - loss: 0.262 - ETA: 2:04 - loss: 0.262 - ETA: 2:03 - loss: 0.261 - ETA: 2:02 - loss: 0.261 - ETA: 2:02 - loss: 0.261 - ETA: 2:01 - loss: 0.262 - ETA: 2:00 - loss: 0.262 - ETA: 1:59 - loss: 0.263 - ETA: 1:58 - loss: 0.263 - ETA: 1:58 - loss: 0.263 - ETA: 1:57 - loss: 0.263 - ETA: 1:56 - loss: 0.264 - ETA: 1:55 - loss: 0.264 - ETA: 1:55 - loss: 0.264 - ETA: 1:54 - loss: 0.264 - ETA: 1:53 - loss: 0.264 - ETA: 1:52 - loss: 0.263 - ETA: 1:52 - loss: 0.264 - ETA: 1:51 - loss: 0.264 - ETA: 1:50 - loss: 0.264 - ETA: 1:49 - loss: 0.265 - ETA: 1:49 - loss: 0.265 - ETA: 1:48 - loss: 0.265 - ETA: 1:47 - loss: 0.265 - ETA: 1:46 - loss: 0.265 - ETA: 1:45 - loss: 0.265 - ETA: 1:45 - loss: 0.265 - ETA: 1:44 - loss: 0.265 - ETA: 1:43 - loss: 0.265 - ETA: 1:42 - loss: 0.266 - ETA: 1:42 - loss: 0.266 - ETA: 1:41 - loss: 0.266 - ETA: 1:40 - loss: 0.266 - ETA: 1:39 - loss: 0.266 - ETA: 1:39 - loss: 0.266 - ETA: 1:38 - loss: 0.267 - ETA: 1:37 - loss: 0.267 - ETA: 1:36 - loss: 0.268 - ETA: 1:35 - loss: 0.267 - ETA: 1:35 - loss: 0.267 - ETA: 1:34 - loss: 0.268 - ETA: 1:33 - loss: 0.268 - ETA: 1:32 - loss: 0.267 - ETA: 1:32 - loss: 0.267 - ETA: 1:31 - loss: 0.267 - ETA: 1:30 - loss: 0.268 - ETA: 1:29 - loss: 0.268 - ETA: 1:29 - loss: 0.268 - ETA: 1:28 - loss: 0.268 - ETA: 1:27 - loss: 0.268 - ETA: 1:26 - loss: 0.269 - ETA: 1:25 - loss: 0.269 - ETA: 1:25 - loss: 0.270 - ETA: 1:24 - loss: 0.270 - ETA: 1:23 - loss: 0.270 - ETA: 1:22 - loss: 0.270 - ETA: 1:22 - loss: 0.270 - ETA: 1:21 - loss: 0.270 - ETA: 1:20 - loss: 0.270 - ETA: 1:19 - loss: 0.270 - ETA: 1:19 - loss: 0.269 - ETA: 1:18 - loss: 0.269 - ETA: 1:17 - loss: 0.270 - ETA: 1:16 - loss: 0.270 - ETA: 1:15 - loss: 0.270 - ETA: 1:15 - loss: 0.269 - ETA: 1:14 - loss: 0.270 - ETA: 1:13 - loss: 0.270 - ETA: 1:12 - loss: 0.270 - ETA: 1:12 - loss: 0.270 - ETA: 1:11 - loss: 0.270 - ETA: 1:10 - loss: 0.269 - ETA: 1:09 - loss: 0.269 - ETA: 1:09 - loss: 0.270 - ETA: 1:08 - loss: 0.270 - ETA: 1:07 - loss: 0.270 - ETA: 1:06 - loss: 0.270 - ETA: 1:06 - loss: 0.270 - ETA: 1:05 - loss: 0.270 - ETA: 1:04 - loss: 0.269 - ETA: 1:03 - loss: 0.269 - ETA: 1:02 - loss: 0.269 - ETA: 1:02 - loss: 0.270 - ETA: 1:01 - loss: 0.270 - ETA: 1:00 - loss: 0.269 - ETA: 59s - loss: 0.269 - ETA: 59s - loss: 0.27 - ETA: 58s - loss: 0.27 - ETA: 57s - loss: 0.26 - ETA: 56s - loss: 0.26 - ETA: 56s - loss: 0.26 - ETA: 55s - loss: 0.26 - ETA: 54s - loss: 0.26 - ETA: 53s - loss: 0.26 - ETA: 53s - loss: 0.27 - ETA: 52s - loss: 0.27 - ETA: 51s - loss: 0.27 - ETA: 50s - loss: 0.27 - ETA: 49s - loss: 0.27 - ETA: 49s - loss: 0.27 - ETA: 48s - loss: 0.27 - ETA: 47s - loss: 0.27 - ETA: 46s - loss: 0.27 - ETA: 46s - loss: 0.27 - ETA: 45s - loss: 0.27 - ETA: 44s - loss: 0.27 - ETA: 43s - loss: 0.27 - ETA: 43s - loss: 0.27 - ETA: 42s - loss: 0.27 - ETA: 41s - loss: 0.27 - ETA: 40s - loss: 0.27 - ETA: 39s - loss: 0.27 - ETA: 39s - loss: 0.27 - ETA: 38s - loss: 0.27 - ETA: 37s - loss: 0.27 - ETA: 36s - loss: 0.26 - ETA: 36s - loss: 0.26 - ETA: 35s - loss: 0.26 - ETA: 34s - loss: 0.27 - ETA: 33s - loss: 0.27 - ETA: 33s - loss: 0.27 - ETA: 32s - loss: 0.27 - ETA: 31s - loss: 0.27 - ETA: 30s - loss: 0.27 - ETA: 29s - loss: 0.27 - ETA: 29s - loss: 0.27 - ETA: 28s - loss: 0.27 - ETA: 27s - loss: 0.26 - ETA: 26s - loss: 0.26 - ETA: 26s - loss: 0.26 - ETA: 25s - loss: 0.26 - ETA: 24s - loss: 0.26 - ETA: 23s - loss: 0.27 - ETA: 23s - loss: 0.27 - ETA: 22s - loss: 0.27 - ETA: 21s - loss: 0.27 - ETA: 20s - loss: 0.27 - ETA: 19s - loss: 0.26 - ETA: 19s - loss: 0.26 - ETA: 18s - loss: 0.26 - ETA: 17s - loss: 0.27 - ETA: 16s - loss: 0.27 - ETA: 16s - loss: 0.27 - ETA: 15s - loss: 0.27 - ETA: 14s - loss: 0.27 - ETA: 13s - loss: 0.27 - ETA: 13s - loss: 0.27 - ETA: 12s - loss: 0.27 - ETA: 11s - loss: 0.27 - ETA: 10s - loss: 0.27 - ETA: 9s - loss: 0.2720 - ETA: 9s - loss: 0.272 - ETA: 8s - loss: 0.272 - ETA: 7s - loss: 0.271 - ETA: 6s - loss: 0.271 - ETA: 6s - loss: 0.272 - ETA: 5s - loss: 0.271 - ETA: 4s - loss: 0.271 - ETA: 3s - loss: 0.272 - ETA: 3s - loss: 0.271 - ETA: 2s - loss: 0.272 - ETA: 1s - loss: 0.272 - ETA: 0s - loss: 0.2727 - ETA: 2:34 - loss: 0.702 - ETA: 1:22 - loss: 0.770 - ETA: 58s - loss: 0.836 - ETA: 45s - loss: 0.84 - ETA: 38s - loss: 0.85 - ETA: 33s - loss: 0.89 - ETA: 29s - loss: 0.93 - ETA: 26s - loss: 0.93 - ETA: 24s - loss: 0.87 - ETA: 22s - loss: 0.84 - ETA: 20s - loss: 0.83 - ETA: 18s - loss: 0.83 - ETA: 17s - loss: 0.84 - ETA: 16s - loss: 0.85 - ETA: 15s - loss: 0.85 - ETA: 14s - loss: 0.84 - ETA: 13s - loss: 0.8447"
     ]
    },
    {
     "name": "stdout",
     "output_type": "stream",
     "text": [
      "41/41 [==============================] - ETA: 12s - loss: 0.83 - ETA: 11s - loss: 0.85 - ETA: 10s - loss: 0.84 - ETA: 10s - loss: 0.83 - ETA: 9s - loss: 0.8591 - ETA: 8s - loss: 0.848 - ETA: 8s - loss: 0.845 - ETA: 7s - loss: 0.851 - ETA: 7s - loss: 0.856 - ETA: 6s - loss: 0.849 - ETA: 6s - loss: 0.855 - ETA: 5s - loss: 0.852 - ETA: 5s - loss: 0.852 - ETA: 4s - loss: 0.860 - ETA: 4s - loss: 0.851 - ETA: 3s - loss: 0.845 - ETA: 3s - loss: 0.853 - ETA: 2s - loss: 0.863 - ETA: 2s - loss: 0.859 - ETA: 1s - loss: 0.863 - ETA: 1s - loss: 0.867 - ETA: 0s - loss: 0.868 - ETA: 0s - loss: 0.869 - 17s 404ms/step - loss: 0.8664\n",
      "\n",
      "##############################\n",
      "\n",
      "PR AUC Fish, train: 0.941\n",
      "\n",
      "PR AUC Flower, train: 0.981\n",
      "\n",
      "PR AUC Sugar, train: 0.986\n",
      "\n",
      "PR AUC Gravel, train: 0.970\n",
      "\n",
      "\n",
      "####################\n",
      " PR AUC mean, train: 0.969\n",
      "####################\n",
      "\n",
      "\n",
      "##############################\n",
      "\n",
      "PR AUC Fish, val: 0.695\n",
      "\n",
      "PR AUC Flower, val: 0.839\n",
      "\n",
      "PR AUC Sugar, val: 0.886\n",
      "\n",
      "PR AUC Gravel, val: 0.777\n",
      "\n",
      "\n",
      "####################\n",
      " PR AUC mean, val: 0.799\n",
      "####################\n",
      "\n",
      "\n",
      "####################\n",
      "Saved new checkpoint\n",
      "####################\n",
      "\n",
      "305/305 [==============================] - 364s 1s/step - loss: 0.2728 - val_loss: 0.8664\n",
      "Epoch 4/10\n"
     ]
    },
    {
     "name": "stdout",
     "output_type": "stream",
     "text": [
      "17/41 [===========>..................].] - ETA: 3:55 - loss: 0.278 - ETA: 3:52 - loss: 0.240 - ETA: 3:51 - loss: 0.230 - ETA: 3:49 - loss: 0.223 - ETA: 3:49 - loss: 0.217 - ETA: 3:48 - loss: 0.222 - ETA: 3:48 - loss: 0.240 - ETA: 3:47 - loss: 0.242 - ETA: 3:47 - loss: 0.245 - ETA: 3:45 - loss: 0.239 - ETA: 3:44 - loss: 0.243 - ETA: 3:43 - loss: 0.241 - ETA: 3:42 - loss: 0.234 - ETA: 3:42 - loss: 0.230 - ETA: 3:41 - loss: 0.227 - ETA: 3:40 - loss: 0.231 - ETA: 3:39 - loss: 0.234 - ETA: 3:39 - loss: 0.240 - ETA: 3:38 - loss: 0.243 - ETA: 3:37 - loss: 0.250 - ETA: 3:36 - loss: 0.250 - ETA: 3:35 - loss: 0.253 - ETA: 3:34 - loss: 0.257 - ETA: 3:34 - loss: 0.256 - ETA: 3:33 - loss: 0.257 - ETA: 3:32 - loss: 0.255 - ETA: 3:31 - loss: 0.250 - ETA: 3:31 - loss: 0.245 - ETA: 3:30 - loss: 0.244 - ETA: 3:29 - loss: 0.241 - ETA: 3:29 - loss: 0.240 - ETA: 3:28 - loss: 0.239 - ETA: 3:27 - loss: 0.239 - ETA: 3:26 - loss: 0.239 - ETA: 3:25 - loss: 0.242 - ETA: 3:25 - loss: 0.240 - ETA: 3:24 - loss: 0.239 - ETA: 3:23 - loss: 0.240 - ETA: 3:22 - loss: 0.239 - ETA: 3:22 - loss: 0.236 - ETA: 3:21 - loss: 0.233 - ETA: 3:20 - loss: 0.232 - ETA: 3:19 - loss: 0.235 - ETA: 3:19 - loss: 0.235 - ETA: 3:18 - loss: 0.234 - ETA: 3:17 - loss: 0.236 - ETA: 3:16 - loss: 0.236 - ETA: 3:16 - loss: 0.237 - ETA: 3:15 - loss: 0.238 - ETA: 3:14 - loss: 0.239 - ETA: 3:13 - loss: 0.239 - ETA: 3:13 - loss: 0.238 - ETA: 3:12 - loss: 0.238 - ETA: 3:11 - loss: 0.240 - ETA: 3:10 - loss: 0.239 - ETA: 3:10 - loss: 0.238 - ETA: 3:09 - loss: 0.238 - ETA: 3:08 - loss: 0.237 - ETA: 3:07 - loss: 0.236 - ETA: 3:07 - loss: 0.237 - ETA: 3:06 - loss: 0.237 - ETA: 3:05 - loss: 0.237 - ETA: 3:04 - loss: 0.237 - ETA: 3:04 - loss: 0.238 - ETA: 3:03 - loss: 0.240 - ETA: 3:02 - loss: 0.239 - ETA: 3:01 - loss: 0.239 - ETA: 3:00 - loss: 0.240 - ETA: 3:00 - loss: 0.240 - ETA: 2:59 - loss: 0.241 - ETA: 2:58 - loss: 0.240 - ETA: 2:57 - loss: 0.242 - ETA: 2:57 - loss: 0.242 - ETA: 2:56 - loss: 0.241 - ETA: 2:55 - loss: 0.241 - ETA: 2:54 - loss: 0.241 - ETA: 2:54 - loss: 0.240 - ETA: 2:53 - loss: 0.241 - ETA: 2:52 - loss: 0.241 - ETA: 2:51 - loss: 0.241 - ETA: 2:51 - loss: 0.240 - ETA: 2:50 - loss: 0.241 - ETA: 2:49 - loss: 0.241 - ETA: 2:48 - loss: 0.241 - ETA: 2:48 - loss: 0.241 - ETA: 2:47 - loss: 0.241 - ETA: 2:46 - loss: 0.241 - ETA: 2:45 - loss: 0.243 - ETA: 2:44 - loss: 0.244 - ETA: 2:44 - loss: 0.244 - ETA: 2:43 - loss: 0.243 - ETA: 2:42 - loss: 0.243 - ETA: 2:41 - loss: 0.243 - ETA: 2:41 - loss: 0.244 - ETA: 2:40 - loss: 0.246 - ETA: 2:39 - loss: 0.246 - ETA: 2:38 - loss: 0.245 - ETA: 2:38 - loss: 0.245 - ETA: 2:37 - loss: 0.245 - ETA: 2:36 - loss: 0.246 - ETA: 2:35 - loss: 0.245 - ETA: 2:35 - loss: 0.246 - ETA: 2:34 - loss: 0.246 - ETA: 2:33 - loss: 0.244 - ETA: 2:32 - loss: 0.244 - ETA: 2:32 - loss: 0.246 - ETA: 2:31 - loss: 0.245 - ETA: 2:30 - loss: 0.246 - ETA: 2:29 - loss: 0.245 - ETA: 2:29 - loss: 0.245 - ETA: 2:28 - loss: 0.245 - ETA: 2:27 - loss: 0.245 - ETA: 2:26 - loss: 0.245 - ETA: 2:26 - loss: 0.245 - ETA: 2:25 - loss: 0.245 - ETA: 2:24 - loss: 0.245 - ETA: 2:23 - loss: 0.245 - ETA: 2:22 - loss: 0.246 - ETA: 2:22 - loss: 0.246 - ETA: 2:21 - loss: 0.246 - ETA: 2:20 - loss: 0.246 - ETA: 2:19 - loss: 0.245 - ETA: 2:19 - loss: 0.244 - ETA: 2:18 - loss: 0.243 - ETA: 2:17 - loss: 0.242 - ETA: 2:16 - loss: 0.243 - ETA: 2:16 - loss: 0.244 - ETA: 2:15 - loss: 0.243 - ETA: 2:14 - loss: 0.242 - ETA: 2:13 - loss: 0.242 - ETA: 2:12 - loss: 0.242 - ETA: 2:12 - loss: 0.242 - ETA: 2:11 - loss: 0.242 - ETA: 2:10 - loss: 0.242 - ETA: 2:09 - loss: 0.242 - ETA: 2:09 - loss: 0.243 - ETA: 2:08 - loss: 0.242 - ETA: 2:07 - loss: 0.242 - ETA: 2:06 - loss: 0.243 - ETA: 2:06 - loss: 0.242 - ETA: 2:05 - loss: 0.242 - ETA: 2:04 - loss: 0.243 - ETA: 2:03 - loss: 0.243 - ETA: 2:03 - loss: 0.244 - ETA: 2:02 - loss: 0.243 - ETA: 2:01 - loss: 0.243 - ETA: 2:00 - loss: 0.243 - ETA: 2:00 - loss: 0.243 - ETA: 1:59 - loss: 0.243 - ETA: 1:58 - loss: 0.242 - ETA: 1:57 - loss: 0.243 - ETA: 1:57 - loss: 0.243 - ETA: 1:56 - loss: 0.244 - ETA: 1:55 - loss: 0.244 - ETA: 1:54 - loss: 0.244 - ETA: 1:53 - loss: 0.244 - ETA: 1:53 - loss: 0.244 - ETA: 1:52 - loss: 0.244 - ETA: 1:51 - loss: 0.245 - ETA: 1:50 - loss: 0.245 - ETA: 1:50 - loss: 0.245 - ETA: 1:49 - loss: 0.245 - ETA: 1:48 - loss: 0.245 - ETA: 1:47 - loss: 0.245 - ETA: 1:47 - loss: 0.245 - ETA: 1:46 - loss: 0.245 - ETA: 1:45 - loss: 0.245 - ETA: 1:44 - loss: 0.245 - ETA: 1:44 - loss: 0.245 - ETA: 1:43 - loss: 0.245 - ETA: 1:42 - loss: 0.245 - ETA: 1:41 - loss: 0.245 - ETA: 1:40 - loss: 0.245 - ETA: 1:40 - loss: 0.246 - ETA: 1:39 - loss: 0.246 - ETA: 1:38 - loss: 0.246 - ETA: 1:37 - loss: 0.246 - ETA: 1:37 - loss: 0.245 - ETA: 1:36 - loss: 0.246 - ETA: 1:35 - loss: 0.246 - ETA: 1:34 - loss: 0.245 - ETA: 1:34 - loss: 0.245 - ETA: 1:33 - loss: 0.245 - ETA: 1:32 - loss: 0.245 - ETA: 1:31 - loss: 0.244 - ETA: 1:31 - loss: 0.245 - ETA: 1:30 - loss: 0.245 - ETA: 1:29 - loss: 0.246 - ETA: 1:28 - loss: 0.246 - ETA: 1:27 - loss: 0.246 - ETA: 1:27 - loss: 0.245 - ETA: 1:26 - loss: 0.246 - ETA: 1:25 - loss: 0.246 - ETA: 1:24 - loss: 0.245 - ETA: 1:24 - loss: 0.245 - ETA: 1:23 - loss: 0.247 - ETA: 1:22 - loss: 0.247 - ETA: 1:21 - loss: 0.248 - ETA: 1:21 - loss: 0.248 - ETA: 1:20 - loss: 0.248 - ETA: 1:19 - loss: 0.248 - ETA: 1:18 - loss: 0.248 - ETA: 1:18 - loss: 0.248 - ETA: 1:17 - loss: 0.248 - ETA: 1:16 - loss: 0.248 - ETA: 1:15 - loss: 0.249 - ETA: 1:14 - loss: 0.249 - ETA: 1:14 - loss: 0.249 - ETA: 1:13 - loss: 0.249 - ETA: 1:12 - loss: 0.249 - ETA: 1:11 - loss: 0.249 - ETA: 1:11 - loss: 0.249 - ETA: 1:10 - loss: 0.249 - ETA: 1:09 - loss: 0.249 - ETA: 1:08 - loss: 0.250 - ETA: 1:08 - loss: 0.249 - ETA: 1:07 - loss: 0.249 - ETA: 1:06 - loss: 0.250 - ETA: 1:05 - loss: 0.249 - ETA: 1:05 - loss: 0.250 - ETA: 1:04 - loss: 0.250 - ETA: 1:03 - loss: 0.251 - ETA: 1:02 - loss: 0.251 - ETA: 1:01 - loss: 0.251 - ETA: 1:01 - loss: 0.251 - ETA: 1:00 - loss: 0.252 - ETA: 59s - loss: 0.252 - ETA: 58s - loss: 0.25 - ETA: 58s - loss: 0.25 - ETA: 57s - loss: 0.25 - ETA: 56s - loss: 0.25 - ETA: 55s - loss: 0.25 - ETA: 55s - loss: 0.25 - ETA: 54s - loss: 0.25 - ETA: 53s - loss: 0.25 - ETA: 52s - loss: 0.25 - ETA: 52s - loss: 0.25 - ETA: 51s - loss: 0.25 - ETA: 50s - loss: 0.25 - ETA: 49s - loss: 0.25 - ETA: 48s - loss: 0.25 - ETA: 48s - loss: 0.25 - ETA: 47s - loss: 0.25 - ETA: 46s - loss: 0.25 - ETA: 45s - loss: 0.25 - ETA: 45s - loss: 0.25 - ETA: 44s - loss: 0.25 - ETA: 43s - loss: 0.25 - ETA: 42s - loss: 0.25 - ETA: 42s - loss: 0.25 - ETA: 41s - loss: 0.25 - ETA: 40s - loss: 0.25 - ETA: 39s - loss: 0.25 - ETA: 39s - loss: 0.25 - ETA: 38s - loss: 0.25 - ETA: 37s - loss: 0.25 - ETA: 36s - loss: 0.25 - ETA: 35s - loss: 0.25 - ETA: 35s - loss: 0.25 - ETA: 34s - loss: 0.25 - ETA: 33s - loss: 0.25 - ETA: 32s - loss: 0.25 - ETA: 32s - loss: 0.25 - ETA: 31s - loss: 0.25 - ETA: 30s - loss: 0.25 - ETA: 29s - loss: 0.25 - ETA: 29s - loss: 0.25 - ETA: 28s - loss: 0.25 - ETA: 27s - loss: 0.25 - ETA: 26s - loss: 0.25 - ETA: 26s - loss: 0.25 - ETA: 25s - loss: 0.25 - ETA: 24s - loss: 0.25 - ETA: 23s - loss: 0.25 - ETA: 22s - loss: 0.25 - ETA: 22s - loss: 0.25 - ETA: 21s - loss: 0.25 - ETA: 20s - loss: 0.25 - ETA: 19s - loss: 0.25 - ETA: 19s - loss: 0.25 - ETA: 18s - loss: 0.25 - ETA: 17s - loss: 0.25 - ETA: 16s - loss: 0.25 - ETA: 16s - loss: 0.25 - ETA: 15s - loss: 0.25 - ETA: 14s - loss: 0.25 - ETA: 13s - loss: 0.25 - ETA: 13s - loss: 0.25 - ETA: 12s - loss: 0.25 - ETA: 11s - loss: 0.25 - ETA: 10s - loss: 0.25 - ETA: 9s - loss: 0.2553 - ETA: 9s - loss: 0.255 - ETA: 8s - loss: 0.255 - ETA: 7s - loss: 0.255 - ETA: 6s - loss: 0.255 - ETA: 6s - loss: 0.255 - ETA: 5s - loss: 0.255 - ETA: 4s - loss: 0.256 - ETA: 3s - loss: 0.256 - ETA: 3s - loss: 0.256 - ETA: 2s - loss: 0.256 - ETA: 1s - loss: 0.257 - ETA: 0s - loss: 0.2572 - ETA: 2:35 - loss: 0.869 - ETA: 1:22 - loss: 1.117 - ETA: 58s - loss: 1.181 - ETA: 45s - loss: 1.21 - ETA: 38s - loss: 1.20 - ETA: 33s - loss: 1.30 - ETA: 29s - loss: 1.27 - ETA: 26s - loss: 1.19 - ETA: 24s - loss: 1.18 - ETA: 21s - loss: 1.16 - ETA: 20s - loss: 1.11 - ETA: 18s - loss: 1.07 - ETA: 17s - loss: 1.04 - ETA: 16s - loss: 1.01 - ETA: 15s - loss: 0.98 - ETA: 14s - loss: 1.00 - ETA: 13s - loss: 0.987141/41 [==============================] - ETA: 12s - loss: 0.96 - ETA: 11s - loss: 0.97 - ETA: 10s - loss: 0.96 - ETA: 10s - loss: 0.96 - ETA: 9s - loss: 0.9571 - ETA: 8s - loss: 0.936 - ETA: 8s - loss: 0.926 - ETA: 7s - loss: 0.920 - ETA: 7s - loss: 0.910 - ETA: 6s - loss: 0.920 - ETA: 6s - loss: 0.927 - ETA: 5s - loss: 0.914 - ETA: 4s - loss: 0.918 - ETA: 4s - loss: 0.919 - ETA: 3s - loss: 0.908 - ETA: 3s - loss: 0.899 - ETA: 3s - loss: 0.910 - ETA: 2s - loss: 0.908 - ETA: 2s - loss: 0.905 - ETA: 1s - loss: 0.913 - ETA: 1s - loss: 0.904 - ETA: 0s - loss: 0.908 - ETA: 0s - loss: 0.901 - 16s 399ms/step - loss: 0.8983\n",
      "\n",
      "##############################\n",
      "\n",
      "PR AUC Fish, train: 0.974\n",
      "\n",
      "PR AUC Flower, train: 0.987\n",
      "\n",
      "PR AUC Sugar, train: 0.981\n",
      "\n",
      "PR AUC Gravel, train: 0.967\n",
      "\n",
      "\n",
      "####################\n",
      " PR AUC mean, train: 0.977\n",
      "####################\n",
      "\n",
      "\n",
      "##############################\n",
      "\n",
      "PR AUC Fish, val: 0.716\n",
      "\n",
      "PR AUC Flower, val: 0.839\n",
      "\n",
      "PR AUC Sugar, val: 0.878\n",
      "\n",
      "PR AUC Gravel, val: 0.762\n",
      "\n",
      "\n",
      "####################\n",
      " PR AUC mean, val: 0.799\n",
      "####################\n",
      "\n",
      "\n",
      "####################\n",
      "Saved new checkpoint\n",
      "####################\n",
      "\n",
      "305/305 [==============================] - 363s 1s/step - loss: 0.2573 - val_loss: 0.8983\n",
      "Epoch 5/10\n"
     ]
    },
    {
     "name": "stdout",
     "output_type": "stream",
     "text": [
      "17/41 [===========>..................].] - ETA: 3:52 - loss: 0.322 - ETA: 3:51 - loss: 0.277 - ETA: 3:52 - loss: 0.231 - ETA: 3:51 - loss: 0.223 - ETA: 3:49 - loss: 0.224 - ETA: 3:48 - loss: 0.241 - ETA: 3:48 - loss: 0.233 - ETA: 3:46 - loss: 0.227 - ETA: 3:46 - loss: 0.218 - ETA: 3:45 - loss: 0.219 - ETA: 3:45 - loss: 0.212 - ETA: 3:44 - loss: 0.211 - ETA: 3:43 - loss: 0.212 - ETA: 3:42 - loss: 0.216 - ETA: 3:42 - loss: 0.222 - ETA: 3:41 - loss: 0.219 - ETA: 3:40 - loss: 0.222 - ETA: 3:40 - loss: 0.217 - ETA: 3:39 - loss: 0.214 - ETA: 3:38 - loss: 0.217 - ETA: 3:37 - loss: 0.215 - ETA: 3:36 - loss: 0.211 - ETA: 3:35 - loss: 0.217 - ETA: 3:34 - loss: 0.223 - ETA: 3:34 - loss: 0.226 - ETA: 3:33 - loss: 0.230 - ETA: 3:32 - loss: 0.232 - ETA: 3:31 - loss: 0.230 - ETA: 3:31 - loss: 0.229 - ETA: 3:30 - loss: 0.226 - ETA: 3:29 - loss: 0.223 - ETA: 3:29 - loss: 0.224 - ETA: 3:28 - loss: 0.222 - ETA: 3:27 - loss: 0.220 - ETA: 3:26 - loss: 0.223 - ETA: 3:25 - loss: 0.222 - ETA: 3:25 - loss: 0.221 - ETA: 3:24 - loss: 0.221 - ETA: 3:23 - loss: 0.222 - ETA: 3:23 - loss: 0.221 - ETA: 3:22 - loss: 0.220 - ETA: 3:21 - loss: 0.220 - ETA: 3:20 - loss: 0.220 - ETA: 3:19 - loss: 0.219 - ETA: 3:19 - loss: 0.217 - ETA: 3:18 - loss: 0.217 - ETA: 3:17 - loss: 0.217 - ETA: 3:17 - loss: 0.216 - ETA: 3:16 - loss: 0.215 - ETA: 3:15 - loss: 0.217 - ETA: 3:14 - loss: 0.218 - ETA: 3:13 - loss: 0.215 - ETA: 3:13 - loss: 0.215 - ETA: 3:12 - loss: 0.216 - ETA: 3:11 - loss: 0.218 - ETA: 3:10 - loss: 0.221 - ETA: 3:10 - loss: 0.220 - ETA: 3:09 - loss: 0.220 - ETA: 3:08 - loss: 0.219 - ETA: 3:07 - loss: 0.220 - ETA: 3:06 - loss: 0.220 - ETA: 3:06 - loss: 0.221 - ETA: 3:05 - loss: 0.221 - ETA: 3:04 - loss: 0.220 - ETA: 3:03 - loss: 0.222 - ETA: 3:03 - loss: 0.223 - ETA: 3:02 - loss: 0.222 - ETA: 3:01 - loss: 0.222 - ETA: 3:00 - loss: 0.223 - ETA: 3:00 - loss: 0.223 - ETA: 2:59 - loss: 0.222 - ETA: 2:58 - loss: 0.223 - ETA: 2:57 - loss: 0.223 - ETA: 2:56 - loss: 0.222 - ETA: 2:56 - loss: 0.224 - ETA: 2:55 - loss: 0.224 - ETA: 2:54 - loss: 0.223 - ETA: 2:53 - loss: 0.224 - ETA: 2:53 - loss: 0.222 - ETA: 2:52 - loss: 0.223 - ETA: 2:51 - loss: 0.223 - ETA: 2:50 - loss: 0.224 - ETA: 2:50 - loss: 0.224 - ETA: 2:49 - loss: 0.223 - ETA: 2:48 - loss: 0.223 - ETA: 2:47 - loss: 0.223 - ETA: 2:47 - loss: 0.223 - ETA: 2:46 - loss: 0.221 - ETA: 2:45 - loss: 0.220 - ETA: 2:44 - loss: 0.220 - ETA: 2:44 - loss: 0.220 - ETA: 2:43 - loss: 0.220 - ETA: 2:42 - loss: 0.219 - ETA: 2:41 - loss: 0.220 - ETA: 2:40 - loss: 0.220 - ETA: 2:40 - loss: 0.220 - ETA: 2:39 - loss: 0.219 - ETA: 2:38 - loss: 0.219 - ETA: 2:37 - loss: 0.220 - ETA: 2:37 - loss: 0.221 - ETA: 2:36 - loss: 0.222 - ETA: 2:35 - loss: 0.223 - ETA: 2:34 - loss: 0.223 - ETA: 2:34 - loss: 0.223 - ETA: 2:33 - loss: 0.224 - ETA: 2:32 - loss: 0.224 - ETA: 2:31 - loss: 0.224 - ETA: 2:31 - loss: 0.225 - ETA: 2:30 - loss: 0.225 - ETA: 2:29 - loss: 0.225 - ETA: 2:28 - loss: 0.225 - ETA: 2:27 - loss: 0.225 - ETA: 2:27 - loss: 0.225 - ETA: 2:26 - loss: 0.225 - ETA: 2:25 - loss: 0.225 - ETA: 2:24 - loss: 0.224 - ETA: 2:24 - loss: 0.224 - ETA: 2:23 - loss: 0.224 - ETA: 2:22 - loss: 0.223 - ETA: 2:21 - loss: 0.223 - ETA: 2:21 - loss: 0.224 - ETA: 2:20 - loss: 0.223 - ETA: 2:19 - loss: 0.223 - ETA: 2:18 - loss: 0.223 - ETA: 2:17 - loss: 0.224 - ETA: 2:17 - loss: 0.225 - ETA: 2:16 - loss: 0.225 - ETA: 2:15 - loss: 0.225 - ETA: 2:14 - loss: 0.226 - ETA: 2:14 - loss: 0.227 - ETA: 2:13 - loss: 0.226 - ETA: 2:12 - loss: 0.226 - ETA: 2:11 - loss: 0.226 - ETA: 2:11 - loss: 0.226 - ETA: 2:10 - loss: 0.226 - ETA: 2:09 - loss: 0.226 - ETA: 2:08 - loss: 0.225 - ETA: 2:07 - loss: 0.225 - ETA: 2:07 - loss: 0.225 - ETA: 2:06 - loss: 0.224 - ETA: 2:05 - loss: 0.224 - ETA: 2:04 - loss: 0.224 - ETA: 2:04 - loss: 0.224 - ETA: 2:03 - loss: 0.225 - ETA: 2:02 - loss: 0.224 - ETA: 2:01 - loss: 0.224 - ETA: 2:01 - loss: 0.224 - ETA: 2:00 - loss: 0.224 - ETA: 1:59 - loss: 0.225 - ETA: 1:58 - loss: 0.225 - ETA: 1:57 - loss: 0.225 - ETA: 1:57 - loss: 0.225 - ETA: 1:56 - loss: 0.226 - ETA: 1:55 - loss: 0.227 - ETA: 1:54 - loss: 0.227 - ETA: 1:54 - loss: 0.227 - ETA: 1:53 - loss: 0.228 - ETA: 1:52 - loss: 0.229 - ETA: 1:51 - loss: 0.229 - ETA: 1:51 - loss: 0.229 - ETA: 1:50 - loss: 0.229 - ETA: 1:49 - loss: 0.229 - ETA: 1:48 - loss: 0.230 - ETA: 1:48 - loss: 0.230 - ETA: 1:47 - loss: 0.231 - ETA: 1:46 - loss: 0.232 - ETA: 1:45 - loss: 0.233 - ETA: 1:44 - loss: 0.233 - ETA: 1:44 - loss: 0.232 - ETA: 1:43 - loss: 0.232 - ETA: 1:42 - loss: 0.233 - ETA: 1:41 - loss: 0.234 - ETA: 1:41 - loss: 0.234 - ETA: 1:40 - loss: 0.234 - ETA: 1:39 - loss: 0.234 - ETA: 1:38 - loss: 0.234 - ETA: 1:38 - loss: 0.233 - ETA: 1:37 - loss: 0.233 - ETA: 1:36 - loss: 0.233 - ETA: 1:35 - loss: 0.232 - ETA: 1:34 - loss: 0.233 - ETA: 1:34 - loss: 0.232 - ETA: 1:33 - loss: 0.232 - ETA: 1:32 - loss: 0.232 - ETA: 1:31 - loss: 0.232 - ETA: 1:31 - loss: 0.232 - ETA: 1:30 - loss: 0.232 - ETA: 1:29 - loss: 0.233 - ETA: 1:28 - loss: 0.233 - ETA: 1:28 - loss: 0.233 - ETA: 1:27 - loss: 0.233 - ETA: 1:26 - loss: 0.233 - ETA: 1:25 - loss: 0.233 - ETA: 1:25 - loss: 0.232 - ETA: 1:24 - loss: 0.232 - ETA: 1:23 - loss: 0.232 - ETA: 1:22 - loss: 0.233 - ETA: 1:21 - loss: 0.233 - ETA: 1:21 - loss: 0.234 - ETA: 1:20 - loss: 0.234 - ETA: 1:19 - loss: 0.234 - ETA: 1:18 - loss: 0.234 - ETA: 1:18 - loss: 0.234 - ETA: 1:17 - loss: 0.234 - ETA: 1:16 - loss: 0.235 - ETA: 1:15 - loss: 0.235 - ETA: 1:15 - loss: 0.236 - ETA: 1:14 - loss: 0.237 - ETA: 1:13 - loss: 0.237 - ETA: 1:12 - loss: 0.236 - ETA: 1:12 - loss: 0.237 - ETA: 1:11 - loss: 0.236 - ETA: 1:10 - loss: 0.236 - ETA: 1:09 - loss: 0.236 - ETA: 1:08 - loss: 0.236 - ETA: 1:08 - loss: 0.236 - ETA: 1:07 - loss: 0.236 - ETA: 1:06 - loss: 0.236 - ETA: 1:05 - loss: 0.236 - ETA: 1:05 - loss: 0.236 - ETA: 1:04 - loss: 0.236 - ETA: 1:03 - loss: 0.236 - ETA: 1:02 - loss: 0.236 - ETA: 1:02 - loss: 0.236 - ETA: 1:01 - loss: 0.237 - ETA: 1:00 - loss: 0.237 - ETA: 59s - loss: 0.237 - ETA: 58s - loss: 0.23 - ETA: 58s - loss: 0.23 - ETA: 57s - loss: 0.23 - ETA: 56s - loss: 0.23 - ETA: 55s - loss: 0.23 - ETA: 55s - loss: 0.23 - ETA: 54s - loss: 0.23 - ETA: 53s - loss: 0.23 - ETA: 52s - loss: 0.23 - ETA: 52s - loss: 0.23 - ETA: 51s - loss: 0.23 - ETA: 50s - loss: 0.23 - ETA: 49s - loss: 0.23 - ETA: 49s - loss: 0.23 - ETA: 48s - loss: 0.23 - ETA: 47s - loss: 0.23 - ETA: 46s - loss: 0.23 - ETA: 45s - loss: 0.23 - ETA: 45s - loss: 0.23 - ETA: 44s - loss: 0.23 - ETA: 43s - loss: 0.23 - ETA: 42s - loss: 0.23 - ETA: 42s - loss: 0.23 - ETA: 41s - loss: 0.23 - ETA: 40s - loss: 0.23 - ETA: 39s - loss: 0.23 - ETA: 39s - loss: 0.23 - ETA: 38s - loss: 0.23 - ETA: 37s - loss: 0.23 - ETA: 36s - loss: 0.23 - ETA: 36s - loss: 0.23 - ETA: 35s - loss: 0.23 - ETA: 34s - loss: 0.24 - ETA: 33s - loss: 0.24 - ETA: 32s - loss: 0.24 - ETA: 32s - loss: 0.24 - ETA: 31s - loss: 0.24 - ETA: 30s - loss: 0.24 - ETA: 29s - loss: 0.24 - ETA: 29s - loss: 0.24 - ETA: 28s - loss: 0.24 - ETA: 27s - loss: 0.24 - ETA: 26s - loss: 0.24 - ETA: 26s - loss: 0.24 - ETA: 25s - loss: 0.24 - ETA: 24s - loss: 0.24 - ETA: 23s - loss: 0.24 - ETA: 22s - loss: 0.24 - ETA: 22s - loss: 0.24 - ETA: 21s - loss: 0.24 - ETA: 20s - loss: 0.24 - ETA: 19s - loss: 0.24 - ETA: 19s - loss: 0.24 - ETA: 18s - loss: 0.24 - ETA: 17s - loss: 0.24 - ETA: 16s - loss: 0.24 - ETA: 16s - loss: 0.24 - ETA: 15s - loss: 0.24 - ETA: 14s - loss: 0.24 - ETA: 13s - loss: 0.24 - ETA: 13s - loss: 0.24 - ETA: 12s - loss: 0.24 - ETA: 11s - loss: 0.24 - ETA: 10s - loss: 0.24 - ETA: 9s - loss: 0.2406 - ETA: 9s - loss: 0.240 - ETA: 8s - loss: 0.241 - ETA: 7s - loss: 0.241 - ETA: 6s - loss: 0.241 - ETA: 6s - loss: 0.241 - ETA: 5s - loss: 0.241 - ETA: 4s - loss: 0.241 - ETA: 3s - loss: 0.241 - ETA: 3s - loss: 0.241 - ETA: 2s - loss: 0.241 - ETA: 1s - loss: 0.241 - ETA: 0s - loss: 0.2413 - ETA: 2:35 - loss: 1.491 - ETA: 1:22 - loss: 1.352 - ETA: 58s - loss: 1.375 - ETA: 46s - loss: 1.44 - ETA: 38s - loss: 1.42 - ETA: 33s - loss: 1.52 - ETA: 30s - loss: 1.50 - ETA: 27s - loss: 1.48 - ETA: 24s - loss: 1.47 - ETA: 22s - loss: 1.41 - ETA: 20s - loss: 1.37 - ETA: 19s - loss: 1.37 - ETA: 17s - loss: 1.34 - ETA: 16s - loss: 1.36 - ETA: 15s - loss: 1.34 - ETA: 14s - loss: 1.35 - ETA: 13s - loss: 1.3561"
     ]
    },
    {
     "name": "stdout",
     "output_type": "stream",
     "text": [
      "41/41 [==============================] - ETA: 12s - loss: 1.32 - ETA: 11s - loss: 1.32 - ETA: 11s - loss: 1.31 - ETA: 10s - loss: 1.32 - ETA: 9s - loss: 1.3389 - ETA: 9s - loss: 1.306 - ETA: 8s - loss: 1.299 - ETA: 7s - loss: 1.292 - ETA: 7s - loss: 1.276 - ETA: 6s - loss: 1.292 - ETA: 6s - loss: 1.287 - ETA: 5s - loss: 1.278 - ETA: 5s - loss: 1.273 - ETA: 4s - loss: 1.265 - ETA: 4s - loss: 1.256 - ETA: 3s - loss: 1.259 - ETA: 3s - loss: 1.275 - ETA: 2s - loss: 1.282 - ETA: 2s - loss: 1.283 - ETA: 1s - loss: 1.287 - ETA: 1s - loss: 1.274 - ETA: 0s - loss: 1.260 - ETA: 0s - loss: 1.248 - 17s 403ms/step - loss: 1.2423\n",
      "\n",
      "##############################\n",
      "\n",
      "PR AUC Fish, train: 0.959\n",
      "\n",
      "PR AUC Flower, train: 0.987\n",
      "\n",
      "PR AUC Sugar, train: 0.987\n",
      "\n",
      "PR AUC Gravel, train: 0.947\n",
      "\n",
      "\n",
      "####################\n",
      " PR AUC mean, train: 0.970\n",
      "####################\n",
      "\n",
      "\n",
      "##############################\n",
      "\n",
      "PR AUC Fish, val: 0.710\n",
      "\n",
      "PR AUC Flower, val: 0.817\n",
      "\n",
      "PR AUC Sugar, val: 0.884\n",
      "\n",
      "PR AUC Gravel, val: 0.753\n",
      "\n",
      "\n",
      "####################\n",
      " PR AUC mean, val: 0.791\n",
      "####################\n",
      "\n",
      "\n",
      "####################\n",
      "Saved new checkpoint\n",
      "####################\n",
      "\n",
      "\n",
      "####################\n",
      "Reduced learning rate to 0.0001250000059371814.\n",
      "####################\n",
      "\n",
      "305/305 [==============================] - 380s 1s/step - loss: 0.2411 - val_loss: 1.2423\n"
     ]
    }
   ],
   "source": [
    "for base_layer in model.layers[:-1]:\n",
    "    base_layer.trainable = True\n",
    "    \n",
    "model.compile(optimizer=RMSprop(lr=0.00025), loss='binary_crossentropy')\n",
    "history_1 = model.fit_generator(generator=data_generator_train,\n",
    "                              validation_data=data_generator_val,\n",
    "                              epochs=10,\n",
    "                              callbacks=[train_metric_callback, val_callback],\n",
    "                              workers=num_cores,\n",
    "                              verbose=1,\n",
    "                              initial_epoch=1\n",
    "                             )"
   ]
  },
  {
   "cell_type": "code",
   "execution_count": 17,
   "metadata": {},
   "outputs": [
    {
     "name": "stdout",
     "output_type": "stream",
     "text": [
      "Epoch 2/15\n"
     ]
    },
    {
     "name": "stdout",
     "output_type": "stream",
     "text": [
      "15/41 [=========>....................].] - ETA: 3:31:28 - loss: 0.68 - ETA: 1:47:09 - loss: 0.68 - ETA: 1:12:25 - loss: 0.69 - ETA: 55:00 - loss: 0.6870 - ETA: 44:35 - loss: 0.68 - ETA: 37:37 - loss: 0.68 - ETA: 32:38 - loss: 0.69 - ETA: 28:54 - loss: 0.69 - ETA: 25:59 - loss: 0.69 - ETA: 23:39 - loss: 0.69 - ETA: 21:45 - loss: 0.69 - ETA: 20:10 - loss: 0.69 - ETA: 18:49 - loss: 0.69 - ETA: 17:40 - loss: 0.69 - ETA: 16:40 - loss: 0.69 - ETA: 15:47 - loss: 0.68 - ETA: 15:00 - loss: 0.69 - ETA: 14:19 - loss: 0.69 - ETA: 13:42 - loss: 0.69 - ETA: 13:08 - loss: 0.69 - ETA: 12:38 - loss: 0.69 - ETA: 12:10 - loss: 0.69 - ETA: 11:45 - loss: 0.69 - ETA: 11:21 - loss: 0.69 - ETA: 11:00 - loss: 0.69 - ETA: 10:40 - loss: 0.69 - ETA: 10:21 - loss: 0.69 - ETA: 10:04 - loss: 0.69 - ETA: 9:48 - loss: 0.6931 - ETA: 9:33 - loss: 0.693 - ETA: 9:19 - loss: 0.693 - ETA: 9:05 - loss: 0.693 - ETA: 8:53 - loss: 0.692 - ETA: 8:41 - loss: 0.692 - ETA: 8:30 - loss: 0.692 - ETA: 8:19 - loss: 0.691 - ETA: 8:09 - loss: 0.691 - ETA: 7:59 - loss: 0.691 - ETA: 7:50 - loss: 0.691 - ETA: 7:41 - loss: 0.691 - ETA: 7:33 - loss: 0.691 - ETA: 7:25 - loss: 0.691 - ETA: 7:17 - loss: 0.692 - ETA: 7:10 - loss: 0.692 - ETA: 7:03 - loss: 0.692 - ETA: 6:56 - loss: 0.692 - ETA: 6:50 - loss: 0.692 - ETA: 6:43 - loss: 0.692 - ETA: 6:37 - loss: 0.691 - ETA: 6:32 - loss: 0.691 - ETA: 6:26 - loss: 0.690 - ETA: 6:20 - loss: 0.691 - ETA: 6:15 - loss: 0.690 - ETA: 6:10 - loss: 0.691 - ETA: 6:05 - loss: 0.690 - ETA: 6:01 - loss: 0.690 - ETA: 5:56 - loss: 0.690 - ETA: 5:51 - loss: 0.690 - ETA: 5:47 - loss: 0.690 - ETA: 5:43 - loss: 0.690 - ETA: 5:39 - loss: 0.690 - ETA: 5:35 - loss: 0.690 - ETA: 5:31 - loss: 0.690 - ETA: 5:27 - loss: 0.690 - ETA: 5:23 - loss: 0.689 - ETA: 5:20 - loss: 0.689 - ETA: 5:16 - loss: 0.689 - ETA: 5:13 - loss: 0.689 - ETA: 5:09 - loss: 0.688 - ETA: 5:06 - loss: 0.688 - ETA: 5:03 - loss: 0.688 - ETA: 4:59 - loss: 0.688 - ETA: 4:56 - loss: 0.688 - ETA: 4:53 - loss: 0.688 - ETA: 4:50 - loss: 0.688 - ETA: 4:48 - loss: 0.688 - ETA: 4:45 - loss: 0.688 - ETA: 4:42 - loss: 0.688 - ETA: 4:39 - loss: 0.688 - ETA: 4:36 - loss: 0.688 - ETA: 4:34 - loss: 0.688 - ETA: 4:31 - loss: 0.688 - ETA: 4:29 - loss: 0.688 - ETA: 4:26 - loss: 0.688 - ETA: 4:24 - loss: 0.688 - ETA: 4:21 - loss: 0.688 - ETA: 4:19 - loss: 0.688 - ETA: 4:17 - loss: 0.688 - ETA: 4:14 - loss: 0.688 - ETA: 4:12 - loss: 0.688 - ETA: 4:10 - loss: 0.688 - ETA: 4:08 - loss: 0.688 - ETA: 4:05 - loss: 0.688 - ETA: 4:03 - loss: 0.688 - ETA: 4:01 - loss: 0.688 - ETA: 3:59 - loss: 0.688 - ETA: 3:57 - loss: 0.687 - ETA: 3:55 - loss: 0.687 - ETA: 3:53 - loss: 0.687 - ETA: 3:51 - loss: 0.687 - ETA: 3:49 - loss: 0.687 - ETA: 3:47 - loss: 0.687 - ETA: 3:45 - loss: 0.687 - ETA: 3:43 - loss: 0.687 - ETA: 3:41 - loss: 0.686 - ETA: 3:40 - loss: 0.686 - ETA: 3:38 - loss: 0.686 - ETA: 3:36 - loss: 0.686 - ETA: 3:34 - loss: 0.686 - ETA: 3:32 - loss: 0.686 - ETA: 3:31 - loss: 0.686 - ETA: 3:29 - loss: 0.686 - ETA: 3:27 - loss: 0.686 - ETA: 3:26 - loss: 0.686 - ETA: 3:24 - loss: 0.686 - ETA: 3:22 - loss: 0.685 - ETA: 3:21 - loss: 0.685 - ETA: 3:19 - loss: 0.685 - ETA: 3:17 - loss: 0.685 - ETA: 3:16 - loss: 0.685 - ETA: 3:14 - loss: 0.684 - ETA: 3:13 - loss: 0.685 - ETA: 3:11 - loss: 0.685 - ETA: 3:10 - loss: 0.685 - ETA: 3:08 - loss: 0.685 - ETA: 3:06 - loss: 0.685 - ETA: 3:05 - loss: 0.685 - ETA: 3:03 - loss: 0.684 - ETA: 3:02 - loss: 0.684 - ETA: 3:01 - loss: 0.684 - ETA: 2:59 - loss: 0.684 - ETA: 2:58 - loss: 0.684 - ETA: 2:56 - loss: 0.684 - ETA: 2:55 - loss: 0.684 - ETA: 2:53 - loss: 0.684 - ETA: 2:52 - loss: 0.684 - ETA: 2:51 - loss: 0.684 - ETA: 2:49 - loss: 0.684 - ETA: 2:48 - loss: 0.684 - ETA: 2:47 - loss: 0.683 - ETA: 2:45 - loss: 0.683 - ETA: 2:44 - loss: 0.683 - ETA: 2:42 - loss: 0.683 - ETA: 2:41 - loss: 0.683 - ETA: 2:40 - loss: 0.683 - ETA: 2:39 - loss: 0.683 - ETA: 2:37 - loss: 0.683 - ETA: 2:36 - loss: 0.683 - ETA: 2:35 - loss: 0.683 - ETA: 2:33 - loss: 0.682 - ETA: 2:32 - loss: 0.682 - ETA: 2:31 - loss: 0.682 - ETA: 2:30 - loss: 0.682 - ETA: 2:28 - loss: 0.682 - ETA: 2:27 - loss: 0.682 - ETA: 2:26 - loss: 0.682 - ETA: 2:25 - loss: 0.682 - ETA: 2:23 - loss: 0.682 - ETA: 2:22 - loss: 0.682 - ETA: 2:21 - loss: 0.682 - ETA: 2:20 - loss: 0.682 - ETA: 2:19 - loss: 0.682 - ETA: 2:17 - loss: 0.682 - ETA: 2:16 - loss: 0.682 - ETA: 2:15 - loss: 0.682 - ETA: 2:14 - loss: 0.681 - ETA: 2:13 - loss: 0.681 - ETA: 2:12 - loss: 0.681 - ETA: 2:10 - loss: 0.681 - ETA: 2:09 - loss: 0.681 - ETA: 2:08 - loss: 0.681 - ETA: 2:07 - loss: 0.681 - ETA: 2:06 - loss: 0.681 - ETA: 2:05 - loss: 0.681 - ETA: 2:04 - loss: 0.681 - ETA: 2:02 - loss: 0.681 - ETA: 2:01 - loss: 0.681 - ETA: 2:00 - loss: 0.681 - ETA: 1:59 - loss: 0.681 - ETA: 1:58 - loss: 0.681 - ETA: 1:57 - loss: 0.681 - ETA: 1:56 - loss: 0.681 - ETA: 1:55 - loss: 0.681 - ETA: 1:54 - loss: 0.681 - ETA: 1:52 - loss: 0.681 - ETA: 1:51 - loss: 0.681 - ETA: 1:50 - loss: 0.681 - ETA: 1:49 - loss: 0.681 - ETA: 1:48 - loss: 0.681 - ETA: 1:47 - loss: 0.681 - ETA: 1:46 - loss: 0.681 - ETA: 1:45 - loss: 0.681 - ETA: 1:44 - loss: 0.681 - ETA: 1:43 - loss: 0.681 - ETA: 1:42 - loss: 0.681 - ETA: 1:41 - loss: 0.680 - ETA: 1:40 - loss: 0.680 - ETA: 1:39 - loss: 0.680 - ETA: 1:38 - loss: 0.680 - ETA: 1:37 - loss: 0.680 - ETA: 1:36 - loss: 0.680 - ETA: 1:35 - loss: 0.680 - ETA: 1:34 - loss: 0.680 - ETA: 1:33 - loss: 0.680 - ETA: 1:32 - loss: 0.680 - ETA: 1:30 - loss: 0.680 - ETA: 1:29 - loss: 0.680 - ETA: 1:28 - loss: 0.680 - ETA: 1:27 - loss: 0.680 - ETA: 1:26 - loss: 0.680 - ETA: 1:25 - loss: 0.680 - ETA: 1:24 - loss: 0.680 - ETA: 1:23 - loss: 0.680 - ETA: 1:22 - loss: 0.680 - ETA: 1:21 - loss: 0.680 - ETA: 1:20 - loss: 0.680 - ETA: 1:19 - loss: 0.680 - ETA: 1:19 - loss: 0.680 - ETA: 1:18 - loss: 0.680 - ETA: 1:17 - loss: 0.680 - ETA: 1:16 - loss: 0.680 - ETA: 1:15 - loss: 0.680 - ETA: 1:14 - loss: 0.680 - ETA: 1:13 - loss: 0.680 - ETA: 1:12 - loss: 0.680 - ETA: 1:11 - loss: 0.680 - ETA: 1:10 - loss: 0.680 - ETA: 1:09 - loss: 0.680 - ETA: 1:08 - loss: 0.680 - ETA: 1:07 - loss: 0.680 - ETA: 1:06 - loss: 0.680 - ETA: 1:05 - loss: 0.680 - ETA: 1:04 - loss: 0.680 - ETA: 1:03 - loss: 0.680 - ETA: 1:02 - loss: 0.680 - ETA: 1:01 - loss: 0.680 - ETA: 1:00 - loss: 0.680 - ETA: 59s - loss: 0.680 - ETA: 58s - loss: 0.68 - ETA: 57s - loss: 0.68 - ETA: 57s - loss: 0.68 - ETA: 56s - loss: 0.67 - ETA: 55s - loss: 0.67 - ETA: 54s - loss: 0.67 - ETA: 53s - loss: 0.67 - ETA: 52s - loss: 0.67 - ETA: 51s - loss: 0.67 - ETA: 50s - loss: 0.67 - ETA: 49s - loss: 0.67 - ETA: 48s - loss: 0.67 - ETA: 47s - loss: 0.67 - ETA: 46s - loss: 0.67 - ETA: 45s - loss: 0.67 - ETA: 44s - loss: 0.67 - ETA: 44s - loss: 0.67 - ETA: 43s - loss: 0.67 - ETA: 42s - loss: 0.67 - ETA: 41s - loss: 0.67 - ETA: 40s - loss: 0.67 - ETA: 39s - loss: 0.67 - ETA: 38s - loss: 0.67 - ETA: 37s - loss: 0.67 - ETA: 36s - loss: 0.67 - ETA: 35s - loss: 0.67 - ETA: 35s - loss: 0.67 - ETA: 34s - loss: 0.67 - ETA: 33s - loss: 0.67 - ETA: 32s - loss: 0.67 - ETA: 31s - loss: 0.67 - ETA: 30s - loss: 0.67 - ETA: 29s - loss: 0.67 - ETA: 28s - loss: 0.67 - ETA: 27s - loss: 0.67 - ETA: 26s - loss: 0.67 - ETA: 26s - loss: 0.67 - ETA: 25s - loss: 0.67 - ETA: 24s - loss: 0.67 - ETA: 23s - loss: 0.67 - ETA: 22s - loss: 0.67 - ETA: 21s - loss: 0.67 - ETA: 20s - loss: 0.67 - ETA: 19s - loss: 0.67 - ETA: 19s - loss: 0.67 - ETA: 18s - loss: 0.67 - ETA: 17s - loss: 0.67 - ETA: 16s - loss: 0.67 - ETA: 15s - loss: 0.67 - ETA: 14s - loss: 0.67 - ETA: 13s - loss: 0.67 - ETA: 12s - loss: 0.67 - ETA: 12s - loss: 0.67 - ETA: 11s - loss: 0.67 - ETA: 10s - loss: 0.67 - ETA: 9s - loss: 0.6778 - ETA: 8s - loss: 0.677 - ETA: 7s - loss: 0.677 - ETA: 6s - loss: 0.677 - ETA: 6s - loss: 0.677 - ETA: 5s - loss: 0.677 - ETA: 4s - loss: 0.677 - ETA: 3s - loss: 0.677 - ETA: 2s - loss: 0.677 - ETA: 1s - loss: 0.677 - ETA: 0s - loss: 0.6777 - ETA: 5:36 - loss: 0.672 - ETA: 2:48 - loss: 0.684 - ETA: 1:52 - loss: 0.692 - ETA: 1:24 - loss: 0.699 - ETA: 1:07 - loss: 0.692 - ETA: 56s - loss: 0.693 - ETA: 48s - loss: 0.68 - ETA: 42s - loss: 0.68 - ETA: 37s - loss: 0.68 - ETA: 33s - loss: 0.68 - ETA: 30s - loss: 0.68 - ETA: 27s - loss: 0.67 - ETA: 25s - loss: 0.67 - ETA: 23s - loss: 0.67 - ETA: 21s - loss: 0.6735\b\b\b\b\b\b\b\b\b\b\b\b\b\b\b\b\b\b\b\b\b\b\b\b\b\b\b\b\b\b\b\b\b\b\b\b\b\b\b\b\b\b\b\b\b\b\b\b\b\b\b\b\b\b\b\b\b\b\b\b\b\b\b\b"
     ]
    },
    {
     "name": "stdout",
     "output_type": "stream",
     "text": [
      "41/41 [==============================] - ETA: 19s - loss: 0.67 - ETA: 18s - loss: 0.67 - ETA: 16s - loss: 0.67 - ETA: 15s - loss: 0.67 - ETA: 14s - loss: 0.67 - ETA: 13s - loss: 0.67 - ETA: 12s - loss: 0.67 - ETA: 11s - loss: 0.67 - ETA: 10s - loss: 0.67 - ETA: 9s - loss: 0.6725 - ETA: 8s - loss: 0.672 - ETA: 8s - loss: 0.673 - ETA: 7s - loss: 0.673 - ETA: 6s - loss: 0.674 - ETA: 6s - loss: 0.674 - ETA: 5s - loss: 0.674 - ETA: 4s - loss: 0.672 - ETA: 4s - loss: 0.672 - ETA: 3s - loss: 0.672 - ETA: 3s - loss: 0.671 - ETA: 2s - loss: 0.671 - ETA: 1s - loss: 0.671 - ETA: 1s - loss: 0.671 - ETA: 0s - loss: 0.671 - ETA: 0s - loss: 0.671 - 19s 474ms/step - loss: 0.6714\n",
      "\n",
      "##############################\n",
      "\n",
      "PR AUC Fish, train: 0.561\n",
      "\n",
      "PR AUC Flower, train: 0.512\n",
      "\n",
      "PR AUC Sugar, train: 0.709\n",
      "\n",
      "PR AUC Gravel, train: 0.617\n",
      "\n",
      "\n",
      "####################\n",
      " PR AUC mean, train: 0.600\n",
      "####################\n",
      "\n",
      "\n",
      "##############################\n",
      "\n",
      "PR AUC Fish, val: 0.531\n",
      "\n",
      "PR AUC Flower, val: 0.478\n",
      "\n",
      "PR AUC Sugar, val: 0.698\n",
      "\n",
      "PR AUC Gravel, val: 0.600\n",
      "\n",
      "\n",
      "####################\n",
      " PR AUC mean, val: 0.577\n",
      "####################\n",
      "\n",
      "\n",
      "####################\n",
      "Saved new checkpoint\n",
      "####################\n",
      "\n",
      "305/305 [==============================] - 396s 1s/step - loss: 0.6777 - val_loss: 0.6714\n",
      "Epoch 3/15\n"
     ]
    },
    {
     "name": "stdout",
     "output_type": "stream",
     "text": [
      "17/41 [===========>..................].] - ETA: 3:36 - loss: 0.665 - ETA: 3:35 - loss: 0.658 - ETA: 3:36 - loss: 0.664 - ETA: 3:35 - loss: 0.661 - ETA: 3:35 - loss: 0.668 - ETA: 3:35 - loss: 0.661 - ETA: 3:34 - loss: 0.661 - ETA: 3:33 - loss: 0.661 - ETA: 3:32 - loss: 0.660 - ETA: 3:32 - loss: 0.659 - ETA: 3:32 - loss: 0.663 - ETA: 3:31 - loss: 0.662 - ETA: 3:30 - loss: 0.664 - ETA: 3:29 - loss: 0.664 - ETA: 3:29 - loss: 0.661 - ETA: 3:28 - loss: 0.660 - ETA: 3:27 - loss: 0.661 - ETA: 3:26 - loss: 0.662 - ETA: 3:25 - loss: 0.661 - ETA: 3:25 - loss: 0.661 - ETA: 3:24 - loss: 0.661 - ETA: 3:24 - loss: 0.660 - ETA: 3:23 - loss: 0.660 - ETA: 3:22 - loss: 0.659 - ETA: 3:21 - loss: 0.659 - ETA: 3:21 - loss: 0.661 - ETA: 3:20 - loss: 0.661 - ETA: 3:19 - loss: 0.661 - ETA: 3:19 - loss: 0.659 - ETA: 3:18 - loss: 0.660 - ETA: 3:18 - loss: 0.659 - ETA: 3:17 - loss: 0.658 - ETA: 3:16 - loss: 0.659 - ETA: 3:16 - loss: 0.659 - ETA: 3:15 - loss: 0.660 - ETA: 3:14 - loss: 0.660 - ETA: 3:13 - loss: 0.661 - ETA: 3:13 - loss: 0.661 - ETA: 3:12 - loss: 0.661 - ETA: 3:11 - loss: 0.662 - ETA: 3:10 - loss: 0.662 - ETA: 3:10 - loss: 0.662 - ETA: 3:09 - loss: 0.663 - ETA: 3:08 - loss: 0.662 - ETA: 3:08 - loss: 0.662 - ETA: 3:07 - loss: 0.663 - ETA: 3:06 - loss: 0.663 - ETA: 3:05 - loss: 0.663 - ETA: 3:05 - loss: 0.663 - ETA: 3:04 - loss: 0.662 - ETA: 3:03 - loss: 0.662 - ETA: 3:03 - loss: 0.662 - ETA: 3:02 - loss: 0.662 - ETA: 3:01 - loss: 0.662 - ETA: 3:00 - loss: 0.662 - ETA: 3:00 - loss: 0.662 - ETA: 2:59 - loss: 0.663 - ETA: 2:58 - loss: 0.662 - ETA: 2:58 - loss: 0.662 - ETA: 2:57 - loss: 0.662 - ETA: 2:56 - loss: 0.662 - ETA: 2:55 - loss: 0.662 - ETA: 2:55 - loss: 0.662 - ETA: 2:54 - loss: 0.663 - ETA: 2:53 - loss: 0.663 - ETA: 2:52 - loss: 0.662 - ETA: 2:52 - loss: 0.663 - ETA: 2:51 - loss: 0.663 - ETA: 2:50 - loss: 0.662 - ETA: 2:50 - loss: 0.663 - ETA: 2:49 - loss: 0.663 - ETA: 2:48 - loss: 0.663 - ETA: 2:47 - loss: 0.663 - ETA: 2:47 - loss: 0.663 - ETA: 2:46 - loss: 0.663 - ETA: 2:45 - loss: 0.663 - ETA: 2:44 - loss: 0.663 - ETA: 2:44 - loss: 0.663 - ETA: 2:43 - loss: 0.664 - ETA: 2:42 - loss: 0.663 - ETA: 2:41 - loss: 0.664 - ETA: 2:41 - loss: 0.664 - ETA: 2:40 - loss: 0.663 - ETA: 2:39 - loss: 0.663 - ETA: 2:39 - loss: 0.663 - ETA: 2:38 - loss: 0.662 - ETA: 2:37 - loss: 0.662 - ETA: 2:36 - loss: 0.662 - ETA: 2:36 - loss: 0.663 - ETA: 2:35 - loss: 0.663 - ETA: 2:34 - loss: 0.663 - ETA: 2:34 - loss: 0.663 - ETA: 2:33 - loss: 0.663 - ETA: 2:32 - loss: 0.663 - ETA: 2:31 - loss: 0.663 - ETA: 2:31 - loss: 0.663 - ETA: 2:30 - loss: 0.663 - ETA: 2:29 - loss: 0.664 - ETA: 2:28 - loss: 0.664 - ETA: 2:28 - loss: 0.664 - ETA: 2:27 - loss: 0.664 - ETA: 2:26 - loss: 0.664 - ETA: 2:26 - loss: 0.664 - ETA: 2:25 - loss: 0.664 - ETA: 2:24 - loss: 0.664 - ETA: 2:23 - loss: 0.664 - ETA: 2:23 - loss: 0.664 - ETA: 2:22 - loss: 0.664 - ETA: 2:21 - loss: 0.664 - ETA: 2:20 - loss: 0.664 - ETA: 2:20 - loss: 0.664 - ETA: 2:19 - loss: 0.664 - ETA: 2:18 - loss: 0.664 - ETA: 2:18 - loss: 0.664 - ETA: 2:17 - loss: 0.664 - ETA: 2:16 - loss: 0.664 - ETA: 2:15 - loss: 0.664 - ETA: 2:15 - loss: 0.664 - ETA: 2:14 - loss: 0.664 - ETA: 2:13 - loss: 0.664 - ETA: 2:13 - loss: 0.664 - ETA: 2:12 - loss: 0.664 - ETA: 2:11 - loss: 0.664 - ETA: 2:10 - loss: 0.664 - ETA: 2:10 - loss: 0.664 - ETA: 2:09 - loss: 0.664 - ETA: 2:08 - loss: 0.664 - ETA: 2:07 - loss: 0.664 - ETA: 2:07 - loss: 0.664 - ETA: 2:06 - loss: 0.664 - ETA: 2:05 - loss: 0.664 - ETA: 2:05 - loss: 0.664 - ETA: 2:04 - loss: 0.665 - ETA: 2:03 - loss: 0.665 - ETA: 2:02 - loss: 0.665 - ETA: 2:02 - loss: 0.666 - ETA: 2:01 - loss: 0.666 - ETA: 2:00 - loss: 0.666 - ETA: 1:59 - loss: 0.666 - ETA: 1:59 - loss: 0.666 - ETA: 1:58 - loss: 0.665 - ETA: 1:57 - loss: 0.665 - ETA: 1:57 - loss: 0.666 - ETA: 1:56 - loss: 0.665 - ETA: 1:55 - loss: 0.665 - ETA: 1:54 - loss: 0.665 - ETA: 1:54 - loss: 0.665 - ETA: 1:53 - loss: 0.665 - ETA: 1:52 - loss: 0.665 - ETA: 1:52 - loss: 0.665 - ETA: 1:51 - loss: 0.665 - ETA: 1:50 - loss: 0.665 - ETA: 1:49 - loss: 0.664 - ETA: 1:49 - loss: 0.664 - ETA: 1:48 - loss: 0.665 - ETA: 1:47 - loss: 0.664 - ETA: 1:47 - loss: 0.665 - ETA: 1:46 - loss: 0.665 - ETA: 1:45 - loss: 0.665 - ETA: 1:44 - loss: 0.665 - ETA: 1:44 - loss: 0.665 - ETA: 1:43 - loss: 0.665 - ETA: 1:42 - loss: 0.665 - ETA: 1:41 - loss: 0.665 - ETA: 1:41 - loss: 0.665 - ETA: 1:40 - loss: 0.665 - ETA: 1:39 - loss: 0.665 - ETA: 1:39 - loss: 0.665 - ETA: 1:38 - loss: 0.665 - ETA: 1:37 - loss: 0.665 - ETA: 1:36 - loss: 0.665 - ETA: 1:36 - loss: 0.665 - ETA: 1:35 - loss: 0.665 - ETA: 1:34 - loss: 0.665 - ETA: 1:34 - loss: 0.665 - ETA: 1:33 - loss: 0.665 - ETA: 1:32 - loss: 0.665 - ETA: 1:31 - loss: 0.665 - ETA: 1:31 - loss: 0.665 - ETA: 1:30 - loss: 0.665 - ETA: 1:29 - loss: 0.665 - ETA: 1:28 - loss: 0.664 - ETA: 1:28 - loss: 0.664 - ETA: 1:27 - loss: 0.664 - ETA: 1:26 - loss: 0.664 - ETA: 1:26 - loss: 0.665 - ETA: 1:25 - loss: 0.665 - ETA: 1:24 - loss: 0.665 - ETA: 1:23 - loss: 0.664 - ETA: 1:23 - loss: 0.665 - ETA: 1:22 - loss: 0.664 - ETA: 1:21 - loss: 0.664 - ETA: 1:21 - loss: 0.664 - ETA: 1:20 - loss: 0.664 - ETA: 1:19 - loss: 0.664 - ETA: 1:18 - loss: 0.664 - ETA: 1:18 - loss: 0.664 - ETA: 1:17 - loss: 0.664 - ETA: 1:16 - loss: 0.664 - ETA: 1:15 - loss: 0.664 - ETA: 1:15 - loss: 0.664 - ETA: 1:14 - loss: 0.664 - ETA: 1:13 - loss: 0.664 - ETA: 1:13 - loss: 0.664 - ETA: 1:12 - loss: 0.664 - ETA: 1:11 - loss: 0.664 - ETA: 1:10 - loss: 0.664 - ETA: 1:10 - loss: 0.664 - ETA: 1:09 - loss: 0.664 - ETA: 1:08 - loss: 0.664 - ETA: 1:07 - loss: 0.664 - ETA: 1:07 - loss: 0.664 - ETA: 1:06 - loss: 0.664 - ETA: 1:05 - loss: 0.664 - ETA: 1:05 - loss: 0.664 - ETA: 1:04 - loss: 0.664 - ETA: 1:03 - loss: 0.664 - ETA: 1:02 - loss: 0.664 - ETA: 1:02 - loss: 0.664 - ETA: 1:01 - loss: 0.664 - ETA: 1:00 - loss: 0.664 - ETA: 1:00 - loss: 0.664 - ETA: 59s - loss: 0.663 - ETA: 58s - loss: 0.66 - ETA: 57s - loss: 0.66 - ETA: 57s - loss: 0.66 - ETA: 56s - loss: 0.66 - ETA: 55s - loss: 0.66 - ETA: 54s - loss: 0.66 - ETA: 54s - loss: 0.66 - ETA: 53s - loss: 0.66 - ETA: 52s - loss: 0.66 - ETA: 52s - loss: 0.66 - ETA: 51s - loss: 0.66 - ETA: 50s - loss: 0.66 - ETA: 49s - loss: 0.66 - ETA: 49s - loss: 0.66 - ETA: 48s - loss: 0.66 - ETA: 47s - loss: 0.66 - ETA: 47s - loss: 0.66 - ETA: 46s - loss: 0.66 - ETA: 45s - loss: 0.66 - ETA: 44s - loss: 0.66 - ETA: 44s - loss: 0.66 - ETA: 43s - loss: 0.66 - ETA: 42s - loss: 0.66 - ETA: 41s - loss: 0.66 - ETA: 41s - loss: 0.66 - ETA: 40s - loss: 0.66 - ETA: 39s - loss: 0.66 - ETA: 39s - loss: 0.66 - ETA: 38s - loss: 0.66 - ETA: 37s - loss: 0.66 - ETA: 36s - loss: 0.66 - ETA: 36s - loss: 0.66 - ETA: 35s - loss: 0.66 - ETA: 34s - loss: 0.66 - ETA: 33s - loss: 0.66 - ETA: 33s - loss: 0.66 - ETA: 32s - loss: 0.66 - ETA: 31s - loss: 0.66 - ETA: 31s - loss: 0.66 - ETA: 30s - loss: 0.66 - ETA: 29s - loss: 0.66 - ETA: 28s - loss: 0.66 - ETA: 28s - loss: 0.66 - ETA: 27s - loss: 0.66 - ETA: 26s - loss: 0.66 - ETA: 26s - loss: 0.66 - ETA: 25s - loss: 0.66 - ETA: 24s - loss: 0.66 - ETA: 23s - loss: 0.66 - ETA: 23s - loss: 0.66 - ETA: 22s - loss: 0.66 - ETA: 21s - loss: 0.66 - ETA: 20s - loss: 0.66 - ETA: 20s - loss: 0.66 - ETA: 19s - loss: 0.66 - ETA: 18s - loss: 0.66 - ETA: 18s - loss: 0.66 - ETA: 17s - loss: 0.66 - ETA: 16s - loss: 0.66 - ETA: 15s - loss: 0.66 - ETA: 15s - loss: 0.66 - ETA: 14s - loss: 0.66 - ETA: 13s - loss: 0.66 - ETA: 13s - loss: 0.66 - ETA: 12s - loss: 0.66 - ETA: 11s - loss: 0.66 - ETA: 10s - loss: 0.66 - ETA: 10s - loss: 0.66 - ETA: 9s - loss: 0.6651 - ETA: 8s - loss: 0.664 - ETA: 7s - loss: 0.664 - ETA: 7s - loss: 0.664 - ETA: 6s - loss: 0.664 - ETA: 5s - loss: 0.664 - ETA: 5s - loss: 0.664 - ETA: 4s - loss: 0.664 - ETA: 3s - loss: 0.664 - ETA: 2s - loss: 0.664 - ETA: 2s - loss: 0.664 - ETA: 1s - loss: 0.664 - ETA: 0s - loss: 0.6644 - ETA: 2:35 - loss: 0.657 - ETA: 1:21 - loss: 0.673 - ETA: 56s - loss: 0.686 - ETA: 44s - loss: 0.69 - ETA: 37s - loss: 0.68 - ETA: 32s - loss: 0.68 - ETA: 28s - loss: 0.67 - ETA: 25s - loss: 0.67 - ETA: 23s - loss: 0.67 - ETA: 21s - loss: 0.67 - ETA: 19s - loss: 0.67 - ETA: 18s - loss: 0.66 - ETA: 16s - loss: 0.66 - ETA: 15s - loss: 0.66 - ETA: 14s - loss: 0.66 - ETA: 13s - loss: 0.66 - ETA: 12s - loss: 0.6642"
     ]
    },
    {
     "name": "stdout",
     "output_type": "stream",
     "text": [
      "41/41 [==============================] - ETA: 12s - loss: 0.66 - ETA: 11s - loss: 0.66 - ETA: 10s - loss: 0.66 - ETA: 9s - loss: 0.6670 - ETA: 9s - loss: 0.666 - ETA: 8s - loss: 0.666 - ETA: 7s - loss: 0.666 - ETA: 7s - loss: 0.664 - ETA: 6s - loss: 0.664 - ETA: 6s - loss: 0.664 - ETA: 5s - loss: 0.664 - ETA: 5s - loss: 0.664 - ETA: 4s - loss: 0.664 - ETA: 4s - loss: 0.664 - ETA: 3s - loss: 0.663 - ETA: 3s - loss: 0.662 - ETA: 2s - loss: 0.662 - ETA: 2s - loss: 0.662 - ETA: 2s - loss: 0.662 - ETA: 1s - loss: 0.661 - ETA: 1s - loss: 0.661 - ETA: 0s - loss: 0.662 - ETA: 0s - loss: 0.661 - 16s 384ms/step - loss: 0.6617\n",
      "\n",
      "##############################\n",
      "\n",
      "PR AUC Fish, train: 0.578\n",
      "\n",
      "PR AUC Flower, train: 0.622\n",
      "\n",
      "PR AUC Sugar, train: 0.747\n",
      "\n",
      "PR AUC Gravel, train: 0.667\n",
      "\n",
      "\n",
      "####################\n",
      " PR AUC mean, train: 0.653\n",
      "####################\n",
      "\n",
      "\n",
      "##############################\n",
      "\n",
      "PR AUC Fish, val: 0.575\n",
      "\n",
      "PR AUC Flower, val: 0.568\n",
      "\n",
      "PR AUC Sugar, val: 0.708\n",
      "\n",
      "PR AUC Gravel, val: 0.668\n",
      "\n",
      "\n",
      "####################\n",
      " PR AUC mean, val: 0.630\n",
      "####################\n",
      "\n",
      "\n",
      "####################\n",
      "Saved new checkpoint\n",
      "####################\n",
      "\n",
      "305/305 [==============================] - 344s 1s/step - loss: 0.6643 - val_loss: 0.6617\n",
      "Epoch 4/15\n"
     ]
    },
    {
     "name": "stdout",
     "output_type": "stream",
     "text": [
      "17/41 [===========>..................].] - ETA: 3:37 - loss: 0.690 - ETA: 3:36 - loss: 0.687 - ETA: 3:36 - loss: 0.680 - ETA: 3:35 - loss: 0.669 - ETA: 3:35 - loss: 0.669 - ETA: 3:35 - loss: 0.668 - ETA: 3:34 - loss: 0.666 - ETA: 3:33 - loss: 0.668 - ETA: 3:32 - loss: 0.667 - ETA: 3:31 - loss: 0.668 - ETA: 3:30 - loss: 0.669 - ETA: 3:30 - loss: 0.667 - ETA: 3:29 - loss: 0.665 - ETA: 3:28 - loss: 0.661 - ETA: 3:28 - loss: 0.661 - ETA: 3:26 - loss: 0.659 - ETA: 3:26 - loss: 0.661 - ETA: 3:25 - loss: 0.661 - ETA: 3:25 - loss: 0.663 - ETA: 3:24 - loss: 0.663 - ETA: 3:24 - loss: 0.662 - ETA: 3:23 - loss: 0.663 - ETA: 3:22 - loss: 0.662 - ETA: 3:22 - loss: 0.663 - ETA: 3:21 - loss: 0.666 - ETA: 3:20 - loss: 0.665 - ETA: 3:19 - loss: 0.664 - ETA: 3:19 - loss: 0.663 - ETA: 3:18 - loss: 0.662 - ETA: 3:17 - loss: 0.664 - ETA: 3:17 - loss: 0.664 - ETA: 3:16 - loss: 0.663 - ETA: 3:15 - loss: 0.662 - ETA: 3:14 - loss: 0.663 - ETA: 3:14 - loss: 0.662 - ETA: 3:13 - loss: 0.661 - ETA: 3:12 - loss: 0.660 - ETA: 3:12 - loss: 0.660 - ETA: 3:11 - loss: 0.660 - ETA: 3:10 - loss: 0.660 - ETA: 3:10 - loss: 0.660 - ETA: 3:09 - loss: 0.660 - ETA: 3:08 - loss: 0.660 - ETA: 3:08 - loss: 0.660 - ETA: 3:07 - loss: 0.660 - ETA: 3:06 - loss: 0.660 - ETA: 3:05 - loss: 0.660 - ETA: 3:05 - loss: 0.661 - ETA: 3:04 - loss: 0.660 - ETA: 3:03 - loss: 0.660 - ETA: 3:02 - loss: 0.661 - ETA: 3:02 - loss: 0.661 - ETA: 3:01 - loss: 0.662 - ETA: 3:00 - loss: 0.661 - ETA: 3:00 - loss: 0.662 - ETA: 2:59 - loss: 0.661 - ETA: 2:58 - loss: 0.661 - ETA: 2:58 - loss: 0.660 - ETA: 2:57 - loss: 0.660 - ETA: 2:56 - loss: 0.660 - ETA: 2:55 - loss: 0.660 - ETA: 2:55 - loss: 0.659 - ETA: 2:54 - loss: 0.659 - ETA: 2:53 - loss: 0.659 - ETA: 2:53 - loss: 0.659 - ETA: 2:52 - loss: 0.659 - ETA: 2:51 - loss: 0.659 - ETA: 2:50 - loss: 0.659 - ETA: 2:50 - loss: 0.659 - ETA: 2:49 - loss: 0.659 - ETA: 2:48 - loss: 0.658 - ETA: 2:48 - loss: 0.658 - ETA: 2:47 - loss: 0.658 - ETA: 2:46 - loss: 0.658 - ETA: 2:45 - loss: 0.658 - ETA: 2:45 - loss: 0.658 - ETA: 2:44 - loss: 0.658 - ETA: 2:43 - loss: 0.657 - ETA: 2:42 - loss: 0.657 - ETA: 2:42 - loss: 0.656 - ETA: 2:41 - loss: 0.656 - ETA: 2:40 - loss: 0.656 - ETA: 2:40 - loss: 0.656 - ETA: 2:39 - loss: 0.656 - ETA: 2:38 - loss: 0.655 - ETA: 2:37 - loss: 0.655 - ETA: 2:37 - loss: 0.656 - ETA: 2:36 - loss: 0.656 - ETA: 2:35 - loss: 0.655 - ETA: 2:35 - loss: 0.655 - ETA: 2:34 - loss: 0.655 - ETA: 2:33 - loss: 0.655 - ETA: 2:32 - loss: 0.655 - ETA: 2:32 - loss: 0.655 - ETA: 2:31 - loss: 0.655 - ETA: 2:30 - loss: 0.655 - ETA: 2:30 - loss: 0.655 - ETA: 2:29 - loss: 0.655 - ETA: 2:28 - loss: 0.655 - ETA: 2:27 - loss: 0.656 - ETA: 2:27 - loss: 0.656 - ETA: 2:26 - loss: 0.656 - ETA: 2:25 - loss: 0.655 - ETA: 2:24 - loss: 0.656 - ETA: 2:24 - loss: 0.656 - ETA: 2:23 - loss: 0.656 - ETA: 2:22 - loss: 0.655 - ETA: 2:22 - loss: 0.656 - ETA: 2:21 - loss: 0.656 - ETA: 2:20 - loss: 0.655 - ETA: 2:19 - loss: 0.655 - ETA: 2:19 - loss: 0.655 - ETA: 2:18 - loss: 0.655 - ETA: 2:17 - loss: 0.655 - ETA: 2:17 - loss: 0.655 - ETA: 2:16 - loss: 0.655 - ETA: 2:15 - loss: 0.654 - ETA: 2:14 - loss: 0.655 - ETA: 2:14 - loss: 0.654 - ETA: 2:13 - loss: 0.654 - ETA: 2:12 - loss: 0.654 - ETA: 2:12 - loss: 0.655 - ETA: 2:11 - loss: 0.655 - ETA: 2:10 - loss: 0.654 - ETA: 2:09 - loss: 0.655 - ETA: 2:09 - loss: 0.655 - ETA: 2:08 - loss: 0.655 - ETA: 2:07 - loss: 0.655 - ETA: 2:07 - loss: 0.655 - ETA: 2:06 - loss: 0.655 - ETA: 2:05 - loss: 0.655 - ETA: 2:04 - loss: 0.655 - ETA: 2:04 - loss: 0.655 - ETA: 2:03 - loss: 0.655 - ETA: 2:02 - loss: 0.655 - ETA: 2:01 - loss: 0.654 - ETA: 2:01 - loss: 0.655 - ETA: 2:00 - loss: 0.655 - ETA: 1:59 - loss: 0.655 - ETA: 1:59 - loss: 0.655 - ETA: 1:58 - loss: 0.655 - ETA: 1:57 - loss: 0.655 - ETA: 1:56 - loss: 0.655 - ETA: 1:56 - loss: 0.655 - ETA: 1:55 - loss: 0.655 - ETA: 1:54 - loss: 0.655 - ETA: 1:54 - loss: 0.654 - ETA: 1:53 - loss: 0.655 - ETA: 1:52 - loss: 0.654 - ETA: 1:51 - loss: 0.654 - ETA: 1:51 - loss: 0.654 - ETA: 1:50 - loss: 0.654 - ETA: 1:49 - loss: 0.654 - ETA: 1:49 - loss: 0.654 - ETA: 1:48 - loss: 0.654 - ETA: 1:47 - loss: 0.654 - ETA: 1:46 - loss: 0.653 - ETA: 1:46 - loss: 0.653 - ETA: 1:45 - loss: 0.654 - ETA: 1:44 - loss: 0.654 - ETA: 1:43 - loss: 0.653 - ETA: 1:43 - loss: 0.653 - ETA: 1:42 - loss: 0.653 - ETA: 1:41 - loss: 0.653 - ETA: 1:41 - loss: 0.653 - ETA: 1:40 - loss: 0.653 - ETA: 1:39 - loss: 0.653 - ETA: 1:38 - loss: 0.654 - ETA: 1:38 - loss: 0.654 - ETA: 1:37 - loss: 0.654 - ETA: 1:36 - loss: 0.654 - ETA: 1:35 - loss: 0.654 - ETA: 1:35 - loss: 0.654 - ETA: 1:34 - loss: 0.654 - ETA: 1:33 - loss: 0.654 - ETA: 1:33 - loss: 0.654 - ETA: 1:32 - loss: 0.654 - ETA: 1:31 - loss: 0.654 - ETA: 1:30 - loss: 0.653 - ETA: 1:30 - loss: 0.653 - ETA: 1:29 - loss: 0.653 - ETA: 1:28 - loss: 0.653 - ETA: 1:28 - loss: 0.653 - ETA: 1:27 - loss: 0.653 - ETA: 1:26 - loss: 0.653 - ETA: 1:25 - loss: 0.653 - ETA: 1:25 - loss: 0.653 - ETA: 1:24 - loss: 0.654 - ETA: 1:23 - loss: 0.653 - ETA: 1:23 - loss: 0.653 - ETA: 1:22 - loss: 0.653 - ETA: 1:21 - loss: 0.653 - ETA: 1:20 - loss: 0.654 - ETA: 1:20 - loss: 0.654 - ETA: 1:19 - loss: 0.654 - ETA: 1:18 - loss: 0.654 - ETA: 1:17 - loss: 0.654 - ETA: 1:17 - loss: 0.654 - ETA: 1:16 - loss: 0.654 - ETA: 1:15 - loss: 0.654 - ETA: 1:15 - loss: 0.654 - ETA: 1:14 - loss: 0.654 - ETA: 1:13 - loss: 0.654 - ETA: 1:12 - loss: 0.654 - ETA: 1:12 - loss: 0.654 - ETA: 1:11 - loss: 0.654 - ETA: 1:10 - loss: 0.654 - ETA: 1:10 - loss: 0.654 - ETA: 1:09 - loss: 0.654 - ETA: 1:08 - loss: 0.654 - ETA: 1:07 - loss: 0.654 - ETA: 1:07 - loss: 0.654 - ETA: 1:06 - loss: 0.654 - ETA: 1:05 - loss: 0.654 - ETA: 1:04 - loss: 0.654 - ETA: 1:04 - loss: 0.654 - ETA: 1:03 - loss: 0.655 - ETA: 1:02 - loss: 0.655 - ETA: 1:02 - loss: 0.655 - ETA: 1:01 - loss: 0.655 - ETA: 1:00 - loss: 0.655 - ETA: 59s - loss: 0.655 - ETA: 59s - loss: 0.65 - ETA: 58s - loss: 0.65 - ETA: 57s - loss: 0.65 - ETA: 57s - loss: 0.65 - ETA: 56s - loss: 0.65 - ETA: 55s - loss: 0.65 - ETA: 54s - loss: 0.65 - ETA: 54s - loss: 0.65 - ETA: 53s - loss: 0.65 - ETA: 52s - loss: 0.65 - ETA: 51s - loss: 0.65 - ETA: 51s - loss: 0.65 - ETA: 50s - loss: 0.65 - ETA: 49s - loss: 0.65 - ETA: 49s - loss: 0.65 - ETA: 48s - loss: 0.65 - ETA: 47s - loss: 0.65 - ETA: 46s - loss: 0.65 - ETA: 46s - loss: 0.65 - ETA: 45s - loss: 0.65 - ETA: 44s - loss: 0.65 - ETA: 44s - loss: 0.65 - ETA: 43s - loss: 0.65 - ETA: 42s - loss: 0.65 - ETA: 41s - loss: 0.65 - ETA: 41s - loss: 0.65 - ETA: 40s - loss: 0.65 - ETA: 39s - loss: 0.65 - ETA: 38s - loss: 0.65 - ETA: 38s - loss: 0.65 - ETA: 37s - loss: 0.65 - ETA: 36s - loss: 0.65 - ETA: 36s - loss: 0.65 - ETA: 35s - loss: 0.65 - ETA: 34s - loss: 0.65 - ETA: 33s - loss: 0.65 - ETA: 33s - loss: 0.65 - ETA: 32s - loss: 0.65 - ETA: 31s - loss: 0.65 - ETA: 31s - loss: 0.65 - ETA: 30s - loss: 0.65 - ETA: 29s - loss: 0.65 - ETA: 28s - loss: 0.65 - ETA: 28s - loss: 0.65 - ETA: 27s - loss: 0.65 - ETA: 26s - loss: 0.65 - ETA: 25s - loss: 0.65 - ETA: 25s - loss: 0.65 - ETA: 24s - loss: 0.65 - ETA: 23s - loss: 0.65 - ETA: 23s - loss: 0.65 - ETA: 22s - loss: 0.65 - ETA: 21s - loss: 0.65 - ETA: 20s - loss: 0.65 - ETA: 20s - loss: 0.65 - ETA: 19s - loss: 0.65 - ETA: 18s - loss: 0.65 - ETA: 18s - loss: 0.65 - ETA: 17s - loss: 0.65 - ETA: 16s - loss: 0.65 - ETA: 15s - loss: 0.65 - ETA: 15s - loss: 0.65 - ETA: 14s - loss: 0.65 - ETA: 13s - loss: 0.65 - ETA: 12s - loss: 0.65 - ETA: 12s - loss: 0.65 - ETA: 11s - loss: 0.65 - ETA: 10s - loss: 0.65 - ETA: 10s - loss: 0.65 - ETA: 9s - loss: 0.6546 - ETA: 8s - loss: 0.654 - ETA: 7s - loss: 0.654 - ETA: 7s - loss: 0.654 - ETA: 6s - loss: 0.654 - ETA: 5s - loss: 0.654 - ETA: 5s - loss: 0.654 - ETA: 4s - loss: 0.654 - ETA: 3s - loss: 0.654 - ETA: 2s - loss: 0.654 - ETA: 2s - loss: 0.654 - ETA: 1s - loss: 0.654 - ETA: 0s - loss: 0.6540 - ETA: 2:38 - loss: 0.644 - ETA: 1:24 - loss: 0.658 - ETA: 59s - loss: 0.668 - ETA: 46s - loss: 0.67 - ETA: 38s - loss: 0.67 - ETA: 33s - loss: 0.67 - ETA: 29s - loss: 0.66 - ETA: 25s - loss: 0.66 - ETA: 23s - loss: 0.66 - ETA: 21s - loss: 0.66 - ETA: 19s - loss: 0.65 - ETA: 18s - loss: 0.65 - ETA: 16s - loss: 0.65 - ETA: 15s - loss: 0.64 - ETA: 14s - loss: 0.64 - ETA: 13s - loss: 0.64 - ETA: 12s - loss: 0.6479"
     ]
    },
    {
     "name": "stdout",
     "output_type": "stream",
     "text": [
      "41/41 [==============================] - ETA: 12s - loss: 0.64 - ETA: 11s - loss: 0.65 - ETA: 10s - loss: 0.64 - ETA: 9s - loss: 0.6513 - ETA: 9s - loss: 0.650 - ETA: 8s - loss: 0.650 - ETA: 7s - loss: 0.649 - ETA: 7s - loss: 0.647 - ETA: 6s - loss: 0.646 - ETA: 6s - loss: 0.647 - ETA: 5s - loss: 0.647 - ETA: 5s - loss: 0.646 - ETA: 4s - loss: 0.646 - ETA: 4s - loss: 0.647 - ETA: 3s - loss: 0.645 - ETA: 3s - loss: 0.643 - ETA: 2s - loss: 0.643 - ETA: 2s - loss: 0.643 - ETA: 2s - loss: 0.644 - ETA: 1s - loss: 0.643 - ETA: 1s - loss: 0.643 - ETA: 0s - loss: 0.643 - ETA: 0s - loss: 0.643 - 16s 386ms/step - loss: 0.6437\n",
      "\n",
      "##############################\n",
      "\n",
      "PR AUC Fish, train: 0.598\n",
      "\n",
      "PR AUC Flower, train: 0.724\n",
      "\n",
      "PR AUC Sugar, train: 0.775\n",
      "\n",
      "PR AUC Gravel, train: 0.701\n",
      "\n",
      "\n",
      "####################\n",
      " PR AUC mean, train: 0.699\n",
      "####################\n",
      "\n",
      "\n",
      "##############################\n",
      "\n",
      "PR AUC Fish, val: 0.613\n",
      "\n",
      "PR AUC Flower, val: 0.722\n",
      "\n",
      "PR AUC Sugar, val: 0.772\n",
      "\n",
      "PR AUC Gravel, val: 0.702\n",
      "\n",
      "\n",
      "####################\n",
      " PR AUC mean, val: 0.702\n",
      "####################\n",
      "\n",
      "\n",
      "####################\n",
      "Saved new checkpoint\n",
      "####################\n",
      "\n",
      "305/305 [==============================] - 344s 1s/step - loss: 0.6540 - val_loss: 0.6437\n",
      "Epoch 5/15\n"
     ]
    },
    {
     "name": "stdout",
     "output_type": "stream",
     "text": [
      "17/41 [===========>..................].] - ETA: 3:36 - loss: 0.600 - ETA: 3:38 - loss: 0.608 - ETA: 3:39 - loss: 0.623 - ETA: 3:37 - loss: 0.637 - ETA: 3:36 - loss: 0.639 - ETA: 3:35 - loss: 0.640 - ETA: 3:35 - loss: 0.634 - ETA: 3:35 - loss: 0.633 - ETA: 3:34 - loss: 0.633 - ETA: 3:33 - loss: 0.635 - ETA: 3:32 - loss: 0.634 - ETA: 3:31 - loss: 0.631 - ETA: 3:30 - loss: 0.630 - ETA: 3:29 - loss: 0.630 - ETA: 3:29 - loss: 0.633 - ETA: 3:28 - loss: 0.633 - ETA: 3:27 - loss: 0.635 - ETA: 3:27 - loss: 0.635 - ETA: 3:26 - loss: 0.633 - ETA: 3:25 - loss: 0.634 - ETA: 3:24 - loss: 0.634 - ETA: 3:24 - loss: 0.632 - ETA: 3:23 - loss: 0.632 - ETA: 3:22 - loss: 0.632 - ETA: 3:21 - loss: 0.633 - ETA: 3:20 - loss: 0.635 - ETA: 3:20 - loss: 0.634 - ETA: 3:19 - loss: 0.636 - ETA: 3:18 - loss: 0.636 - ETA: 3:18 - loss: 0.636 - ETA: 3:17 - loss: 0.637 - ETA: 3:16 - loss: 0.638 - ETA: 3:16 - loss: 0.639 - ETA: 3:15 - loss: 0.639 - ETA: 3:14 - loss: 0.640 - ETA: 3:13 - loss: 0.640 - ETA: 3:13 - loss: 0.640 - ETA: 3:12 - loss: 0.640 - ETA: 3:11 - loss: 0.639 - ETA: 3:10 - loss: 0.639 - ETA: 3:10 - loss: 0.639 - ETA: 3:09 - loss: 0.639 - ETA: 3:08 - loss: 0.638 - ETA: 3:08 - loss: 0.639 - ETA: 3:07 - loss: 0.640 - ETA: 3:06 - loss: 0.640 - ETA: 3:05 - loss: 0.640 - ETA: 3:05 - loss: 0.641 - ETA: 3:04 - loss: 0.641 - ETA: 3:03 - loss: 0.641 - ETA: 3:03 - loss: 0.641 - ETA: 3:02 - loss: 0.641 - ETA: 3:01 - loss: 0.640 - ETA: 3:00 - loss: 0.639 - ETA: 3:00 - loss: 0.638 - ETA: 2:59 - loss: 0.638 - ETA: 2:58 - loss: 0.638 - ETA: 2:58 - loss: 0.638 - ETA: 2:57 - loss: 0.638 - ETA: 2:56 - loss: 0.637 - ETA: 2:55 - loss: 0.637 - ETA: 2:55 - loss: 0.637 - ETA: 2:54 - loss: 0.636 - ETA: 2:53 - loss: 0.636 - ETA: 2:53 - loss: 0.636 - ETA: 2:52 - loss: 0.636 - ETA: 2:51 - loss: 0.636 - ETA: 2:50 - loss: 0.636 - ETA: 2:50 - loss: 0.637 - ETA: 2:49 - loss: 0.637 - ETA: 2:48 - loss: 0.637 - ETA: 2:48 - loss: 0.637 - ETA: 2:47 - loss: 0.637 - ETA: 2:46 - loss: 0.637 - ETA: 2:45 - loss: 0.637 - ETA: 2:45 - loss: 0.637 - ETA: 2:44 - loss: 0.637 - ETA: 2:43 - loss: 0.637 - ETA: 2:43 - loss: 0.637 - ETA: 2:42 - loss: 0.638 - ETA: 2:41 - loss: 0.638 - ETA: 2:40 - loss: 0.638 - ETA: 2:40 - loss: 0.638 - ETA: 2:39 - loss: 0.638 - ETA: 2:38 - loss: 0.638 - ETA: 2:37 - loss: 0.638 - ETA: 2:37 - loss: 0.638 - ETA: 2:36 - loss: 0.638 - ETA: 2:35 - loss: 0.638 - ETA: 2:35 - loss: 0.638 - ETA: 2:34 - loss: 0.639 - ETA: 2:33 - loss: 0.638 - ETA: 2:32 - loss: 0.638 - ETA: 2:32 - loss: 0.638 - ETA: 2:31 - loss: 0.638 - ETA: 2:30 - loss: 0.638 - ETA: 2:30 - loss: 0.638 - ETA: 2:29 - loss: 0.638 - ETA: 2:28 - loss: 0.638 - ETA: 2:27 - loss: 0.639 - ETA: 2:27 - loss: 0.639 - ETA: 2:26 - loss: 0.640 - ETA: 2:25 - loss: 0.640 - ETA: 2:24 - loss: 0.641 - ETA: 2:24 - loss: 0.640 - ETA: 2:23 - loss: 0.640 - ETA: 2:22 - loss: 0.640 - ETA: 2:22 - loss: 0.641 - ETA: 2:21 - loss: 0.641 - ETA: 2:20 - loss: 0.641 - ETA: 2:19 - loss: 0.641 - ETA: 2:19 - loss: 0.641 - ETA: 2:18 - loss: 0.641 - ETA: 2:17 - loss: 0.641 - ETA: 2:16 - loss: 0.641 - ETA: 2:16 - loss: 0.641 - ETA: 2:15 - loss: 0.642 - ETA: 2:14 - loss: 0.642 - ETA: 2:14 - loss: 0.642 - ETA: 2:13 - loss: 0.642 - ETA: 2:12 - loss: 0.642 - ETA: 2:11 - loss: 0.643 - ETA: 2:11 - loss: 0.642 - ETA: 2:10 - loss: 0.642 - ETA: 2:09 - loss: 0.642 - ETA: 2:09 - loss: 0.642 - ETA: 2:08 - loss: 0.642 - ETA: 2:07 - loss: 0.642 - ETA: 2:06 - loss: 0.642 - ETA: 2:06 - loss: 0.642 - ETA: 2:05 - loss: 0.642 - ETA: 2:04 - loss: 0.642 - ETA: 2:04 - loss: 0.642 - ETA: 2:03 - loss: 0.642 - ETA: 2:02 - loss: 0.642 - ETA: 2:01 - loss: 0.641 - ETA: 2:01 - loss: 0.641 - ETA: 2:00 - loss: 0.641 - ETA: 1:59 - loss: 0.640 - ETA: 1:59 - loss: 0.640 - ETA: 1:58 - loss: 0.641 - ETA: 1:57 - loss: 0.641 - ETA: 1:56 - loss: 0.641 - ETA: 1:56 - loss: 0.641 - ETA: 1:55 - loss: 0.641 - ETA: 1:54 - loss: 0.641 - ETA: 1:53 - loss: 0.640 - ETA: 1:53 - loss: 0.640 - ETA: 1:52 - loss: 0.640 - ETA: 1:51 - loss: 0.640 - ETA: 1:51 - loss: 0.640 - ETA: 1:50 - loss: 0.640 - ETA: 1:49 - loss: 0.640 - ETA: 1:48 - loss: 0.640 - ETA: 1:48 - loss: 0.639 - ETA: 1:47 - loss: 0.639 - ETA: 1:46 - loss: 0.639 - ETA: 1:46 - loss: 0.639 - ETA: 1:45 - loss: 0.639 - ETA: 1:44 - loss: 0.639 - ETA: 1:43 - loss: 0.639 - ETA: 1:43 - loss: 0.639 - ETA: 1:42 - loss: 0.639 - ETA: 1:41 - loss: 0.639 - ETA: 1:41 - loss: 0.638 - ETA: 1:40 - loss: 0.638 - ETA: 1:39 - loss: 0.638 - ETA: 1:38 - loss: 0.638 - ETA: 1:38 - loss: 0.639 - ETA: 1:37 - loss: 0.638 - ETA: 1:36 - loss: 0.639 - ETA: 1:35 - loss: 0.639 - ETA: 1:35 - loss: 0.639 - ETA: 1:34 - loss: 0.639 - ETA: 1:33 - loss: 0.639 - ETA: 1:33 - loss: 0.638 - ETA: 1:32 - loss: 0.638 - ETA: 1:31 - loss: 0.639 - ETA: 1:30 - loss: 0.639 - ETA: 1:30 - loss: 0.639 - ETA: 1:29 - loss: 0.639 - ETA: 1:28 - loss: 0.638 - ETA: 1:28 - loss: 0.639 - ETA: 1:27 - loss: 0.639 - ETA: 1:26 - loss: 0.638 - ETA: 1:25 - loss: 0.638 - ETA: 1:25 - loss: 0.638 - ETA: 1:24 - loss: 0.638 - ETA: 1:23 - loss: 0.638 - ETA: 1:22 - loss: 0.638 - ETA: 1:22 - loss: 0.637 - ETA: 1:21 - loss: 0.637 - ETA: 1:20 - loss: 0.637 - ETA: 1:20 - loss: 0.637 - ETA: 1:19 - loss: 0.637 - ETA: 1:18 - loss: 0.637 - ETA: 1:17 - loss: 0.637 - ETA: 1:17 - loss: 0.636 - ETA: 1:16 - loss: 0.637 - ETA: 1:15 - loss: 0.637 - ETA: 1:15 - loss: 0.637 - ETA: 1:14 - loss: 0.637 - ETA: 1:13 - loss: 0.637 - ETA: 1:12 - loss: 0.637 - ETA: 1:12 - loss: 0.637 - ETA: 1:11 - loss: 0.637 - ETA: 1:10 - loss: 0.637 - ETA: 1:09 - loss: 0.636 - ETA: 1:09 - loss: 0.636 - ETA: 1:08 - loss: 0.636 - ETA: 1:07 - loss: 0.636 - ETA: 1:07 - loss: 0.635 - ETA: 1:06 - loss: 0.636 - ETA: 1:05 - loss: 0.636 - ETA: 1:04 - loss: 0.635 - ETA: 1:04 - loss: 0.635 - ETA: 1:03 - loss: 0.635 - ETA: 1:02 - loss: 0.635 - ETA: 1:02 - loss: 0.635 - ETA: 1:01 - loss: 0.635 - ETA: 1:00 - loss: 0.635 - ETA: 59s - loss: 0.635 - ETA: 59s - loss: 0.63 - ETA: 58s - loss: 0.63 - ETA: 57s - loss: 0.63 - ETA: 56s - loss: 0.63 - ETA: 56s - loss: 0.63 - ETA: 55s - loss: 0.63 - ETA: 54s - loss: 0.63 - ETA: 54s - loss: 0.63 - ETA: 53s - loss: 0.63 - ETA: 52s - loss: 0.63 - ETA: 51s - loss: 0.63 - ETA: 51s - loss: 0.63 - ETA: 50s - loss: 0.63 - ETA: 49s - loss: 0.63 - ETA: 49s - loss: 0.63 - ETA: 48s - loss: 0.63 - ETA: 47s - loss: 0.63 - ETA: 46s - loss: 0.63 - ETA: 46s - loss: 0.63 - ETA: 45s - loss: 0.63 - ETA: 44s - loss: 0.63 - ETA: 44s - loss: 0.63 - ETA: 43s - loss: 0.63 - ETA: 42s - loss: 0.63 - ETA: 41s - loss: 0.63 - ETA: 41s - loss: 0.63 - ETA: 40s - loss: 0.63 - ETA: 39s - loss: 0.63 - ETA: 38s - loss: 0.63 - ETA: 38s - loss: 0.63 - ETA: 37s - loss: 0.63 - ETA: 36s - loss: 0.63 - ETA: 36s - loss: 0.63 - ETA: 35s - loss: 0.63 - ETA: 34s - loss: 0.63 - ETA: 33s - loss: 0.63 - ETA: 33s - loss: 0.63 - ETA: 32s - loss: 0.63 - ETA: 31s - loss: 0.63 - ETA: 31s - loss: 0.63 - ETA: 30s - loss: 0.63 - ETA: 29s - loss: 0.63 - ETA: 28s - loss: 0.63 - ETA: 28s - loss: 0.63 - ETA: 27s - loss: 0.63 - ETA: 26s - loss: 0.63 - ETA: 25s - loss: 0.63 - ETA: 25s - loss: 0.63 - ETA: 24s - loss: 0.63 - ETA: 23s - loss: 0.63 - ETA: 23s - loss: 0.63 - ETA: 22s - loss: 0.63 - ETA: 21s - loss: 0.63 - ETA: 20s - loss: 0.63 - ETA: 20s - loss: 0.63 - ETA: 19s - loss: 0.63 - ETA: 18s - loss: 0.63 - ETA: 18s - loss: 0.63 - ETA: 17s - loss: 0.63 - ETA: 16s - loss: 0.63 - ETA: 15s - loss: 0.63 - ETA: 15s - loss: 0.63 - ETA: 14s - loss: 0.63 - ETA: 13s - loss: 0.63 - ETA: 12s - loss: 0.63 - ETA: 12s - loss: 0.63 - ETA: 11s - loss: 0.63 - ETA: 10s - loss: 0.63 - ETA: 10s - loss: 0.63 - ETA: 9s - loss: 0.6326 - ETA: 8s - loss: 0.632 - ETA: 7s - loss: 0.632 - ETA: 7s - loss: 0.632 - ETA: 6s - loss: 0.632 - ETA: 5s - loss: 0.632 - ETA: 5s - loss: 0.632 - ETA: 4s - loss: 0.632 - ETA: 3s - loss: 0.631 - ETA: 2s - loss: 0.631 - ETA: 2s - loss: 0.631 - ETA: 1s - loss: 0.631 - ETA: 0s - loss: 0.6316 - ETA: 2:34 - loss: 0.601 - ETA: 1:21 - loss: 0.611 - ETA: 57s - loss: 0.637 - ETA: 45s - loss: 0.65 - ETA: 38s - loss: 0.65 - ETA: 33s - loss: 0.65 - ETA: 29s - loss: 0.64 - ETA: 26s - loss: 0.64 - ETA: 23s - loss: 0.63 - ETA: 21s - loss: 0.63 - ETA: 19s - loss: 0.62 - ETA: 18s - loss: 0.62 - ETA: 16s - loss: 0.61 - ETA: 15s - loss: 0.61 - ETA: 14s - loss: 0.61 - ETA: 13s - loss: 0.61 - ETA: 12s - loss: 0.6161"
     ]
    },
    {
     "name": "stdout",
     "output_type": "stream",
     "text": [
      "41/41 [==============================] - ETA: 12s - loss: 0.61 - ETA: 11s - loss: 0.62 - ETA: 10s - loss: 0.62 - ETA: 9s - loss: 0.6207 - ETA: 9s - loss: 0.619 - ETA: 8s - loss: 0.620 - ETA: 8s - loss: 0.620 - ETA: 7s - loss: 0.617 - ETA: 6s - loss: 0.618 - ETA: 6s - loss: 0.620 - ETA: 5s - loss: 0.619 - ETA: 5s - loss: 0.617 - ETA: 4s - loss: 0.617 - ETA: 4s - loss: 0.619 - ETA: 3s - loss: 0.616 - ETA: 3s - loss: 0.614 - ETA: 2s - loss: 0.614 - ETA: 2s - loss: 0.614 - ETA: 2s - loss: 0.615 - ETA: 1s - loss: 0.615 - ETA: 1s - loss: 0.614 - ETA: 0s - loss: 0.615 - ETA: 0s - loss: 0.615 - 16s 390ms/step - loss: 0.6161\n",
      "\n",
      "##############################\n",
      "\n",
      "PR AUC Fish, train: 0.624\n",
      "\n",
      "PR AUC Flower, train: 0.791\n",
      "\n",
      "PR AUC Sugar, train: 0.796\n",
      "\n",
      "PR AUC Gravel, train: 0.726\n",
      "\n",
      "\n",
      "####################\n",
      " PR AUC mean, train: 0.734\n",
      "####################\n",
      "\n",
      "\n",
      "##############################\n",
      "\n",
      "PR AUC Fish, val: 0.642\n",
      "\n",
      "PR AUC Flower, val: 0.790\n",
      "\n",
      "PR AUC Sugar, val: 0.816\n",
      "\n",
      "PR AUC Gravel, val: 0.720\n",
      "\n",
      "\n",
      "####################\n",
      " PR AUC mean, val: 0.742\n",
      "####################\n",
      "\n",
      "\n",
      "####################\n",
      "Saved new checkpoint\n",
      "####################\n",
      "\n",
      "305/305 [==============================] - 345s 1s/step - loss: 0.6315 - val_loss: 0.6161\n",
      "Epoch 6/15\n"
     ]
    },
    {
     "name": "stdout",
     "output_type": "stream",
     "text": [
      "17/41 [===========>..................].] - ETA: 3:34 - loss: 0.634 - ETA: 3:35 - loss: 0.624 - ETA: 3:35 - loss: 0.613 - ETA: 3:36 - loss: 0.619 - ETA: 3:35 - loss: 0.614 - ETA: 3:35 - loss: 0.614 - ETA: 3:34 - loss: 0.610 - ETA: 3:34 - loss: 0.603 - ETA: 3:32 - loss: 0.597 - ETA: 3:32 - loss: 0.597 - ETA: 3:31 - loss: 0.601 - ETA: 3:30 - loss: 0.598 - ETA: 3:30 - loss: 0.595 - ETA: 3:29 - loss: 0.600 - ETA: 3:28 - loss: 0.600 - ETA: 3:28 - loss: 0.598 - ETA: 3:27 - loss: 0.598 - ETA: 3:26 - loss: 0.602 - ETA: 3:26 - loss: 0.604 - ETA: 3:25 - loss: 0.604 - ETA: 3:24 - loss: 0.605 - ETA: 3:23 - loss: 0.607 - ETA: 3:23 - loss: 0.611 - ETA: 3:22 - loss: 0.611 - ETA: 3:21 - loss: 0.610 - ETA: 3:20 - loss: 0.611 - ETA: 3:20 - loss: 0.612 - ETA: 3:19 - loss: 0.613 - ETA: 3:18 - loss: 0.611 - ETA: 3:18 - loss: 0.608 - ETA: 3:17 - loss: 0.608 - ETA: 3:16 - loss: 0.608 - ETA: 3:15 - loss: 0.607 - ETA: 3:15 - loss: 0.608 - ETA: 3:14 - loss: 0.608 - ETA: 3:13 - loss: 0.606 - ETA: 3:13 - loss: 0.605 - ETA: 3:12 - loss: 0.604 - ETA: 3:11 - loss: 0.605 - ETA: 3:11 - loss: 0.605 - ETA: 3:10 - loss: 0.605 - ETA: 3:09 - loss: 0.604 - ETA: 3:08 - loss: 0.605 - ETA: 3:08 - loss: 0.604 - ETA: 3:07 - loss: 0.604 - ETA: 3:06 - loss: 0.605 - ETA: 3:05 - loss: 0.606 - ETA: 3:05 - loss: 0.606 - ETA: 3:04 - loss: 0.607 - ETA: 3:03 - loss: 0.606 - ETA: 3:03 - loss: 0.606 - ETA: 3:02 - loss: 0.607 - ETA: 3:01 - loss: 0.608 - ETA: 3:00 - loss: 0.608 - ETA: 3:00 - loss: 0.609 - ETA: 2:59 - loss: 0.608 - ETA: 2:58 - loss: 0.608 - ETA: 2:57 - loss: 0.609 - ETA: 2:57 - loss: 0.609 - ETA: 2:56 - loss: 0.609 - ETA: 2:55 - loss: 0.610 - ETA: 2:55 - loss: 0.610 - ETA: 2:54 - loss: 0.609 - ETA: 2:53 - loss: 0.609 - ETA: 2:53 - loss: 0.609 - ETA: 2:52 - loss: 0.611 - ETA: 2:51 - loss: 0.611 - ETA: 2:50 - loss: 0.612 - ETA: 2:50 - loss: 0.611 - ETA: 2:49 - loss: 0.612 - ETA: 2:48 - loss: 0.613 - ETA: 2:48 - loss: 0.613 - ETA: 2:47 - loss: 0.613 - ETA: 2:46 - loss: 0.613 - ETA: 2:45 - loss: 0.613 - ETA: 2:45 - loss: 0.612 - ETA: 2:44 - loss: 0.612 - ETA: 2:43 - loss: 0.612 - ETA: 2:43 - loss: 0.612 - ETA: 2:42 - loss: 0.612 - ETA: 2:41 - loss: 0.612 - ETA: 2:40 - loss: 0.612 - ETA: 2:40 - loss: 0.612 - ETA: 2:39 - loss: 0.613 - ETA: 2:38 - loss: 0.613 - ETA: 2:37 - loss: 0.613 - ETA: 2:37 - loss: 0.613 - ETA: 2:36 - loss: 0.613 - ETA: 2:35 - loss: 0.613 - ETA: 2:35 - loss: 0.613 - ETA: 2:34 - loss: 0.613 - ETA: 2:33 - loss: 0.613 - ETA: 2:32 - loss: 0.614 - ETA: 2:32 - loss: 0.613 - ETA: 2:31 - loss: 0.613 - ETA: 2:30 - loss: 0.612 - ETA: 2:30 - loss: 0.612 - ETA: 2:29 - loss: 0.612 - ETA: 2:28 - loss: 0.611 - ETA: 2:27 - loss: 0.611 - ETA: 2:27 - loss: 0.610 - ETA: 2:26 - loss: 0.610 - ETA: 2:25 - loss: 0.610 - ETA: 2:24 - loss: 0.610 - ETA: 2:24 - loss: 0.610 - ETA: 2:23 - loss: 0.610 - ETA: 2:22 - loss: 0.610 - ETA: 2:22 - loss: 0.610 - ETA: 2:21 - loss: 0.609 - ETA: 2:20 - loss: 0.609 - ETA: 2:20 - loss: 0.609 - ETA: 2:19 - loss: 0.608 - ETA: 2:18 - loss: 0.608 - ETA: 2:17 - loss: 0.608 - ETA: 2:17 - loss: 0.608 - ETA: 2:16 - loss: 0.609 - ETA: 2:15 - loss: 0.609 - ETA: 2:14 - loss: 0.608 - ETA: 2:14 - loss: 0.609 - ETA: 2:13 - loss: 0.609 - ETA: 2:12 - loss: 0.609 - ETA: 2:12 - loss: 0.609 - ETA: 2:11 - loss: 0.609 - ETA: 2:10 - loss: 0.609 - ETA: 2:09 - loss: 0.610 - ETA: 2:09 - loss: 0.610 - ETA: 2:08 - loss: 0.610 - ETA: 2:07 - loss: 0.610 - ETA: 2:07 - loss: 0.610 - ETA: 2:06 - loss: 0.609 - ETA: 2:05 - loss: 0.609 - ETA: 2:04 - loss: 0.609 - ETA: 2:04 - loss: 0.609 - ETA: 2:03 - loss: 0.609 - ETA: 2:02 - loss: 0.610 - ETA: 2:02 - loss: 0.610 - ETA: 2:01 - loss: 0.610 - ETA: 2:00 - loss: 0.610 - ETA: 1:59 - loss: 0.610 - ETA: 1:59 - loss: 0.610 - ETA: 1:58 - loss: 0.610 - ETA: 1:57 - loss: 0.610 - ETA: 1:56 - loss: 0.610 - ETA: 1:56 - loss: 0.610 - ETA: 1:55 - loss: 0.610 - ETA: 1:54 - loss: 0.610 - ETA: 1:54 - loss: 0.610 - ETA: 1:53 - loss: 0.611 - ETA: 1:52 - loss: 0.611 - ETA: 1:51 - loss: 0.611 - ETA: 1:51 - loss: 0.611 - ETA: 1:50 - loss: 0.610 - ETA: 1:49 - loss: 0.610 - ETA: 1:48 - loss: 0.610 - ETA: 1:48 - loss: 0.610 - ETA: 1:47 - loss: 0.610 - ETA: 1:46 - loss: 0.610 - ETA: 1:46 - loss: 0.611 - ETA: 1:45 - loss: 0.610 - ETA: 1:44 - loss: 0.610 - ETA: 1:43 - loss: 0.610 - ETA: 1:43 - loss: 0.610 - ETA: 1:42 - loss: 0.609 - ETA: 1:41 - loss: 0.609 - ETA: 1:41 - loss: 0.609 - ETA: 1:40 - loss: 0.608 - ETA: 1:39 - loss: 0.608 - ETA: 1:38 - loss: 0.608 - ETA: 1:38 - loss: 0.608 - ETA: 1:37 - loss: 0.608 - ETA: 1:36 - loss: 0.608 - ETA: 1:35 - loss: 0.608 - ETA: 1:35 - loss: 0.608 - ETA: 1:34 - loss: 0.608 - ETA: 1:33 - loss: 0.608 - ETA: 1:33 - loss: 0.608 - ETA: 1:32 - loss: 0.608 - ETA: 1:31 - loss: 0.608 - ETA: 1:30 - loss: 0.608 - ETA: 1:30 - loss: 0.608 - ETA: 1:29 - loss: 0.608 - ETA: 1:28 - loss: 0.608 - ETA: 1:28 - loss: 0.608 - ETA: 1:27 - loss: 0.608 - ETA: 1:26 - loss: 0.608 - ETA: 1:25 - loss: 0.608 - ETA: 1:25 - loss: 0.608 - ETA: 1:24 - loss: 0.608 - ETA: 1:23 - loss: 0.607 - ETA: 1:22 - loss: 0.608 - ETA: 1:22 - loss: 0.608 - ETA: 1:21 - loss: 0.608 - ETA: 1:20 - loss: 0.609 - ETA: 1:20 - loss: 0.609 - ETA: 1:19 - loss: 0.609 - ETA: 1:18 - loss: 0.609 - ETA: 1:17 - loss: 0.609 - ETA: 1:17 - loss: 0.609 - ETA: 1:16 - loss: 0.608 - ETA: 1:15 - loss: 0.608 - ETA: 1:15 - loss: 0.608 - ETA: 1:14 - loss: 0.608 - ETA: 1:13 - loss: 0.608 - ETA: 1:12 - loss: 0.608 - ETA: 1:12 - loss: 0.608 - ETA: 1:11 - loss: 0.608 - ETA: 1:10 - loss: 0.608 - ETA: 1:10 - loss: 0.608 - ETA: 1:09 - loss: 0.608 - ETA: 1:08 - loss: 0.609 - ETA: 1:07 - loss: 0.608 - ETA: 1:07 - loss: 0.608 - ETA: 1:06 - loss: 0.608 - ETA: 1:05 - loss: 0.608 - ETA: 1:04 - loss: 0.608 - ETA: 1:04 - loss: 0.608 - ETA: 1:03 - loss: 0.608 - ETA: 1:02 - loss: 0.608 - ETA: 1:02 - loss: 0.608 - ETA: 1:01 - loss: 0.608 - ETA: 1:00 - loss: 0.607 - ETA: 59s - loss: 0.608 - ETA: 59s - loss: 0.60 - ETA: 58s - loss: 0.60 - ETA: 57s - loss: 0.60 - ETA: 57s - loss: 0.60 - ETA: 56s - loss: 0.60 - ETA: 55s - loss: 0.60 - ETA: 54s - loss: 0.60 - ETA: 54s - loss: 0.60 - ETA: 53s - loss: 0.60 - ETA: 52s - loss: 0.60 - ETA: 51s - loss: 0.60 - ETA: 51s - loss: 0.60 - ETA: 50s - loss: 0.60 - ETA: 49s - loss: 0.60 - ETA: 49s - loss: 0.60 - ETA: 48s - loss: 0.60 - ETA: 47s - loss: 0.60 - ETA: 46s - loss: 0.60 - ETA: 46s - loss: 0.60 - ETA: 45s - loss: 0.60 - ETA: 44s - loss: 0.60 - ETA: 44s - loss: 0.60 - ETA: 43s - loss: 0.60 - ETA: 42s - loss: 0.60 - ETA: 41s - loss: 0.60 - ETA: 41s - loss: 0.60 - ETA: 40s - loss: 0.60 - ETA: 39s - loss: 0.60 - ETA: 38s - loss: 0.60 - ETA: 38s - loss: 0.60 - ETA: 37s - loss: 0.60 - ETA: 36s - loss: 0.60 - ETA: 36s - loss: 0.60 - ETA: 35s - loss: 0.60 - ETA: 34s - loss: 0.60 - ETA: 33s - loss: 0.60 - ETA: 33s - loss: 0.60 - ETA: 32s - loss: 0.60 - ETA: 31s - loss: 0.60 - ETA: 31s - loss: 0.60 - ETA: 30s - loss: 0.60 - ETA: 29s - loss: 0.60 - ETA: 28s - loss: 0.60 - ETA: 28s - loss: 0.60 - ETA: 27s - loss: 0.60 - ETA: 26s - loss: 0.60 - ETA: 25s - loss: 0.60 - ETA: 25s - loss: 0.60 - ETA: 24s - loss: 0.60 - ETA: 23s - loss: 0.60 - ETA: 23s - loss: 0.60 - ETA: 22s - loss: 0.60 - ETA: 21s - loss: 0.60 - ETA: 20s - loss: 0.60 - ETA: 20s - loss: 0.60 - ETA: 19s - loss: 0.60 - ETA: 18s - loss: 0.60 - ETA: 18s - loss: 0.60 - ETA: 17s - loss: 0.60 - ETA: 16s - loss: 0.60 - ETA: 15s - loss: 0.60 - ETA: 15s - loss: 0.60 - ETA: 14s - loss: 0.60 - ETA: 13s - loss: 0.60 - ETA: 12s - loss: 0.60 - ETA: 12s - loss: 0.60 - ETA: 11s - loss: 0.60 - ETA: 10s - loss: 0.60 - ETA: 10s - loss: 0.60 - ETA: 9s - loss: 0.6077 - ETA: 8s - loss: 0.607 - ETA: 7s - loss: 0.607 - ETA: 7s - loss: 0.607 - ETA: 6s - loss: 0.607 - ETA: 5s - loss: 0.606 - ETA: 5s - loss: 0.606 - ETA: 4s - loss: 0.606 - ETA: 3s - loss: 0.606 - ETA: 2s - loss: 0.606 - ETA: 2s - loss: 0.606 - ETA: 1s - loss: 0.606 - ETA: 0s - loss: 0.6069 - ETA: 2:31 - loss: 0.642 - ETA: 1:20 - loss: 0.633 - ETA: 56s - loss: 0.614 - ETA: 44s - loss: 0.63 - ETA: 38s - loss: 0.62 - ETA: 33s - loss: 0.63 - ETA: 29s - loss: 0.64 - ETA: 26s - loss: 0.64 - ETA: 23s - loss: 0.63 - ETA: 21s - loss: 0.63 - ETA: 19s - loss: 0.63 - ETA: 18s - loss: 0.63 - ETA: 17s - loss: 0.63 - ETA: 15s - loss: 0.63 - ETA: 14s - loss: 0.63 - ETA: 13s - loss: 0.63 - ETA: 12s - loss: 0.6347"
     ]
    },
    {
     "name": "stdout",
     "output_type": "stream",
     "text": [
      "41/41 [==============================] - ETA: 12s - loss: 0.63 - ETA: 11s - loss: 0.63 - ETA: 10s - loss: 0.63 - ETA: 9s - loss: 0.6324 - ETA: 9s - loss: 0.630 - ETA: 8s - loss: 0.630 - ETA: 7s - loss: 0.629 - ETA: 7s - loss: 0.625 - ETA: 6s - loss: 0.623 - ETA: 6s - loss: 0.625 - ETA: 5s - loss: 0.625 - ETA: 5s - loss: 0.623 - ETA: 4s - loss: 0.624 - ETA: 4s - loss: 0.623 - ETA: 3s - loss: 0.623 - ETA: 3s - loss: 0.624 - ETA: 2s - loss: 0.625 - ETA: 2s - loss: 0.626 - ETA: 2s - loss: 0.626 - ETA: 1s - loss: 0.626 - ETA: 1s - loss: 0.626 - ETA: 0s - loss: 0.626 - ETA: 0s - loss: 0.628 - 16s 387ms/step - loss: 0.6297\n",
      "\n",
      "##############################\n",
      "\n",
      "PR AUC Fish, train: 0.626\n",
      "\n",
      "PR AUC Flower, train: 0.810\n",
      "\n",
      "PR AUC Sugar, train: 0.804\n",
      "\n",
      "PR AUC Gravel, train: 0.739\n",
      "\n",
      "\n",
      "####################\n",
      " PR AUC mean, train: 0.745\n",
      "####################\n",
      "\n",
      "\n",
      "##############################\n",
      "\n",
      "PR AUC Fish, val: 0.614\n",
      "\n",
      "PR AUC Flower, val: 0.803\n",
      "\n",
      "PR AUC Sugar, val: 0.814\n",
      "\n",
      "PR AUC Gravel, val: 0.720\n",
      "\n",
      "\n",
      "####################\n",
      " PR AUC mean, val: 0.738\n",
      "####################\n",
      "\n",
      "\n",
      "####################\n",
      "Saved new checkpoint\n",
      "####################\n",
      "\n",
      "305/305 [==============================] - 344s 1s/step - loss: 0.6071 - val_loss: 0.6297\n",
      "Epoch 7/15\n"
     ]
    },
    {
     "name": "stdout",
     "output_type": "stream",
     "text": [
      "17/41 [===========>..................].] - ETA: 3:33 - loss: 0.562 - ETA: 3:37 - loss: 0.546 - ETA: 3:36 - loss: 0.556 - ETA: 3:34 - loss: 0.561 - ETA: 3:35 - loss: 0.568 - ETA: 3:34 - loss: 0.575 - ETA: 3:33 - loss: 0.570 - ETA: 3:32 - loss: 0.573 - ETA: 3:32 - loss: 0.574 - ETA: 3:31 - loss: 0.575 - ETA: 3:31 - loss: 0.575 - ETA: 3:30 - loss: 0.576 - ETA: 3:30 - loss: 0.580 - ETA: 3:29 - loss: 0.579 - ETA: 3:28 - loss: 0.579 - ETA: 3:27 - loss: 0.579 - ETA: 3:27 - loss: 0.584 - ETA: 3:26 - loss: 0.582 - ETA: 3:26 - loss: 0.586 - ETA: 3:25 - loss: 0.586 - ETA: 3:24 - loss: 0.587 - ETA: 3:23 - loss: 0.591 - ETA: 3:22 - loss: 0.596 - ETA: 3:22 - loss: 0.596 - ETA: 3:21 - loss: 0.596 - ETA: 3:20 - loss: 0.597 - ETA: 3:20 - loss: 0.596 - ETA: 3:19 - loss: 0.597 - ETA: 3:18 - loss: 0.596 - ETA: 3:18 - loss: 0.595 - ETA: 3:17 - loss: 0.596 - ETA: 3:16 - loss: 0.595 - ETA: 3:15 - loss: 0.595 - ETA: 3:15 - loss: 0.595 - ETA: 3:14 - loss: 0.594 - ETA: 3:13 - loss: 0.592 - ETA: 3:13 - loss: 0.593 - ETA: 3:12 - loss: 0.593 - ETA: 3:11 - loss: 0.592 - ETA: 3:10 - loss: 0.592 - ETA: 3:10 - loss: 0.591 - ETA: 3:09 - loss: 0.591 - ETA: 3:08 - loss: 0.591 - ETA: 3:08 - loss: 0.591 - ETA: 3:07 - loss: 0.591 - ETA: 3:06 - loss: 0.590 - ETA: 3:06 - loss: 0.591 - ETA: 3:05 - loss: 0.592 - ETA: 3:04 - loss: 0.591 - ETA: 3:03 - loss: 0.594 - ETA: 3:03 - loss: 0.593 - ETA: 3:02 - loss: 0.594 - ETA: 3:01 - loss: 0.593 - ETA: 3:00 - loss: 0.593 - ETA: 3:00 - loss: 0.593 - ETA: 2:59 - loss: 0.593 - ETA: 2:58 - loss: 0.592 - ETA: 2:58 - loss: 0.592 - ETA: 2:57 - loss: 0.592 - ETA: 2:56 - loss: 0.592 - ETA: 2:55 - loss: 0.592 - ETA: 2:55 - loss: 0.592 - ETA: 2:54 - loss: 0.592 - ETA: 2:53 - loss: 0.593 - ETA: 2:53 - loss: 0.593 - ETA: 2:52 - loss: 0.593 - ETA: 2:51 - loss: 0.594 - ETA: 2:50 - loss: 0.593 - ETA: 2:50 - loss: 0.593 - ETA: 2:49 - loss: 0.594 - ETA: 2:48 - loss: 0.595 - ETA: 2:47 - loss: 0.594 - ETA: 2:47 - loss: 0.594 - ETA: 2:46 - loss: 0.593 - ETA: 2:45 - loss: 0.594 - ETA: 2:45 - loss: 0.594 - ETA: 2:44 - loss: 0.594 - ETA: 2:43 - loss: 0.593 - ETA: 2:42 - loss: 0.593 - ETA: 2:42 - loss: 0.593 - ETA: 2:41 - loss: 0.594 - ETA: 2:40 - loss: 0.594 - ETA: 2:40 - loss: 0.593 - ETA: 2:39 - loss: 0.592 - ETA: 2:38 - loss: 0.591 - ETA: 2:37 - loss: 0.591 - ETA: 2:37 - loss: 0.591 - ETA: 2:36 - loss: 0.591 - ETA: 2:35 - loss: 0.591 - ETA: 2:35 - loss: 0.591 - ETA: 2:34 - loss: 0.592 - ETA: 2:33 - loss: 0.592 - ETA: 2:32 - loss: 0.592 - ETA: 2:32 - loss: 0.592 - ETA: 2:31 - loss: 0.592 - ETA: 2:30 - loss: 0.593 - ETA: 2:30 - loss: 0.593 - ETA: 2:29 - loss: 0.592 - ETA: 2:28 - loss: 0.592 - ETA: 2:27 - loss: 0.592 - ETA: 2:27 - loss: 0.593 - ETA: 2:26 - loss: 0.593 - ETA: 2:25 - loss: 0.593 - ETA: 2:25 - loss: 0.594 - ETA: 2:24 - loss: 0.593 - ETA: 2:23 - loss: 0.593 - ETA: 2:22 - loss: 0.592 - ETA: 2:22 - loss: 0.592 - ETA: 2:21 - loss: 0.592 - ETA: 2:20 - loss: 0.592 - ETA: 2:19 - loss: 0.592 - ETA: 2:19 - loss: 0.592 - ETA: 2:18 - loss: 0.593 - ETA: 2:17 - loss: 0.592 - ETA: 2:17 - loss: 0.592 - ETA: 2:16 - loss: 0.592 - ETA: 2:15 - loss: 0.591 - ETA: 2:14 - loss: 0.591 - ETA: 2:14 - loss: 0.592 - ETA: 2:13 - loss: 0.592 - ETA: 2:12 - loss: 0.592 - ETA: 2:11 - loss: 0.592 - ETA: 2:11 - loss: 0.591 - ETA: 2:10 - loss: 0.592 - ETA: 2:09 - loss: 0.592 - ETA: 2:09 - loss: 0.592 - ETA: 2:08 - loss: 0.592 - ETA: 2:07 - loss: 0.592 - ETA: 2:06 - loss: 0.592 - ETA: 2:06 - loss: 0.592 - ETA: 2:05 - loss: 0.593 - ETA: 2:04 - loss: 0.593 - ETA: 2:04 - loss: 0.593 - ETA: 2:03 - loss: 0.593 - ETA: 2:02 - loss: 0.593 - ETA: 2:01 - loss: 0.592 - ETA: 2:01 - loss: 0.592 - ETA: 2:00 - loss: 0.592 - ETA: 1:59 - loss: 0.591 - ETA: 1:59 - loss: 0.591 - ETA: 1:58 - loss: 0.591 - ETA: 1:57 - loss: 0.591 - ETA: 1:56 - loss: 0.591 - ETA: 1:56 - loss: 0.592 - ETA: 1:55 - loss: 0.591 - ETA: 1:54 - loss: 0.591 - ETA: 1:53 - loss: 0.591 - ETA: 1:53 - loss: 0.591 - ETA: 1:52 - loss: 0.591 - ETA: 1:51 - loss: 0.592 - ETA: 1:51 - loss: 0.592 - ETA: 1:50 - loss: 0.592 - ETA: 1:49 - loss: 0.592 - ETA: 1:48 - loss: 0.592 - ETA: 1:48 - loss: 0.593 - ETA: 1:47 - loss: 0.593 - ETA: 1:46 - loss: 0.593 - ETA: 1:46 - loss: 0.593 - ETA: 1:45 - loss: 0.593 - ETA: 1:44 - loss: 0.593 - ETA: 1:43 - loss: 0.593 - ETA: 1:43 - loss: 0.593 - ETA: 1:42 - loss: 0.593 - ETA: 1:41 - loss: 0.593 - ETA: 1:41 - loss: 0.593 - ETA: 1:40 - loss: 0.593 - ETA: 1:39 - loss: 0.593 - ETA: 1:38 - loss: 0.593 - ETA: 1:38 - loss: 0.593 - ETA: 1:37 - loss: 0.593 - ETA: 1:36 - loss: 0.593 - ETA: 1:35 - loss: 0.593 - ETA: 1:35 - loss: 0.593 - ETA: 1:34 - loss: 0.593 - ETA: 1:33 - loss: 0.593 - ETA: 1:33 - loss: 0.593 - ETA: 1:32 - loss: 0.593 - ETA: 1:31 - loss: 0.592 - ETA: 1:30 - loss: 0.592 - ETA: 1:30 - loss: 0.592 - ETA: 1:29 - loss: 0.592 - ETA: 1:28 - loss: 0.592 - ETA: 1:28 - loss: 0.592 - ETA: 1:27 - loss: 0.592 - ETA: 1:26 - loss: 0.592 - ETA: 1:25 - loss: 0.592 - ETA: 1:25 - loss: 0.591 - ETA: 1:24 - loss: 0.591 - ETA: 1:23 - loss: 0.592 - ETA: 1:23 - loss: 0.592 - ETA: 1:22 - loss: 0.592 - ETA: 1:21 - loss: 0.592 - ETA: 1:20 - loss: 0.592 - ETA: 1:20 - loss: 0.592 - ETA: 1:19 - loss: 0.592 - ETA: 1:18 - loss: 0.592 - ETA: 1:17 - loss: 0.592 - ETA: 1:17 - loss: 0.592 - ETA: 1:16 - loss: 0.592 - ETA: 1:15 - loss: 0.592 - ETA: 1:15 - loss: 0.593 - ETA: 1:14 - loss: 0.593 - ETA: 1:13 - loss: 0.593 - ETA: 1:12 - loss: 0.594 - ETA: 1:12 - loss: 0.594 - ETA: 1:11 - loss: 0.594 - ETA: 1:10 - loss: 0.594 - ETA: 1:10 - loss: 0.594 - ETA: 1:09 - loss: 0.594 - ETA: 1:08 - loss: 0.594 - ETA: 1:07 - loss: 0.594 - ETA: 1:07 - loss: 0.594 - ETA: 1:06 - loss: 0.594 - ETA: 1:05 - loss: 0.594 - ETA: 1:04 - loss: 0.594 - ETA: 1:04 - loss: 0.594 - ETA: 1:03 - loss: 0.594 - ETA: 1:02 - loss: 0.595 - ETA: 1:02 - loss: 0.595 - ETA: 1:01 - loss: 0.595 - ETA: 1:00 - loss: 0.594 - ETA: 59s - loss: 0.595 - ETA: 59s - loss: 0.59 - ETA: 58s - loss: 0.59 - ETA: 57s - loss: 0.59 - ETA: 57s - loss: 0.59 - ETA: 56s - loss: 0.59 - ETA: 55s - loss: 0.59 - ETA: 54s - loss: 0.59 - ETA: 54s - loss: 0.59 - ETA: 53s - loss: 0.59 - ETA: 52s - loss: 0.59 - ETA: 52s - loss: 0.59 - ETA: 51s - loss: 0.59 - ETA: 50s - loss: 0.59 - ETA: 49s - loss: 0.59 - ETA: 49s - loss: 0.59 - ETA: 48s - loss: 0.59 - ETA: 47s - loss: 0.59 - ETA: 46s - loss: 0.59 - ETA: 46s - loss: 0.59 - ETA: 45s - loss: 0.59 - ETA: 44s - loss: 0.59 - ETA: 44s - loss: 0.59 - ETA: 43s - loss: 0.59 - ETA: 42s - loss: 0.59 - ETA: 41s - loss: 0.59 - ETA: 41s - loss: 0.59 - ETA: 40s - loss: 0.59 - ETA: 39s - loss: 0.59 - ETA: 39s - loss: 0.59 - ETA: 38s - loss: 0.59 - ETA: 37s - loss: 0.59 - ETA: 36s - loss: 0.59 - ETA: 36s - loss: 0.59 - ETA: 35s - loss: 0.59 - ETA: 34s - loss: 0.59 - ETA: 33s - loss: 0.59 - ETA: 33s - loss: 0.59 - ETA: 32s - loss: 0.59 - ETA: 31s - loss: 0.59 - ETA: 31s - loss: 0.59 - ETA: 30s - loss: 0.59 - ETA: 29s - loss: 0.59 - ETA: 28s - loss: 0.59 - ETA: 28s - loss: 0.59 - ETA: 27s - loss: 0.59 - ETA: 26s - loss: 0.59 - ETA: 26s - loss: 0.59 - ETA: 25s - loss: 0.59 - ETA: 24s - loss: 0.59 - ETA: 23s - loss: 0.59 - ETA: 23s - loss: 0.59 - ETA: 22s - loss: 0.59 - ETA: 21s - loss: 0.59 - ETA: 20s - loss: 0.59 - ETA: 20s - loss: 0.59 - ETA: 19s - loss: 0.59 - ETA: 18s - loss: 0.59 - ETA: 18s - loss: 0.59 - ETA: 17s - loss: 0.59 - ETA: 16s - loss: 0.59 - ETA: 15s - loss: 0.59 - ETA: 15s - loss: 0.59 - ETA: 14s - loss: 0.59 - ETA: 13s - loss: 0.59 - ETA: 13s - loss: 0.59 - ETA: 12s - loss: 0.59 - ETA: 11s - loss: 0.59 - ETA: 10s - loss: 0.59 - ETA: 10s - loss: 0.59 - ETA: 9s - loss: 0.5962 - ETA: 8s - loss: 0.596 - ETA: 7s - loss: 0.596 - ETA: 7s - loss: 0.596 - ETA: 6s - loss: 0.596 - ETA: 5s - loss: 0.596 - ETA: 5s - loss: 0.596 - ETA: 4s - loss: 0.596 - ETA: 3s - loss: 0.596 - ETA: 2s - loss: 0.596 - ETA: 2s - loss: 0.596 - ETA: 1s - loss: 0.596 - ETA: 0s - loss: 0.5960 - ETA: 2:39 - loss: 0.593 - ETA: 1:23 - loss: 0.595 - ETA: 58s - loss: 0.589 - ETA: 45s - loss: 0.61 - ETA: 38s - loss: 0.60 - ETA: 33s - loss: 0.61 - ETA: 29s - loss: 0.62 - ETA: 26s - loss: 0.62 - ETA: 23s - loss: 0.61 - ETA: 21s - loss: 0.61 - ETA: 20s - loss: 0.61 - ETA: 18s - loss: 0.60 - ETA: 17s - loss: 0.60 - ETA: 16s - loss: 0.61 - ETA: 14s - loss: 0.60 - ETA: 14s - loss: 0.61 - ETA: 13s - loss: 0.6091"
     ]
    },
    {
     "name": "stdout",
     "output_type": "stream",
     "text": [
      "41/41 [==============================] - ETA: 12s - loss: 0.60 - ETA: 11s - loss: 0.60 - ETA: 10s - loss: 0.60 - ETA: 10s - loss: 0.60 - ETA: 9s - loss: 0.6056 - ETA: 8s - loss: 0.604 - ETA: 8s - loss: 0.603 - ETA: 7s - loss: 0.601 - ETA: 6s - loss: 0.599 - ETA: 6s - loss: 0.601 - ETA: 5s - loss: 0.601 - ETA: 5s - loss: 0.599 - ETA: 4s - loss: 0.600 - ETA: 4s - loss: 0.598 - ETA: 3s - loss: 0.599 - ETA: 3s - loss: 0.599 - ETA: 2s - loss: 0.600 - ETA: 2s - loss: 0.601 - ETA: 2s - loss: 0.601 - ETA: 1s - loss: 0.601 - ETA: 1s - loss: 0.601 - ETA: 0s - loss: 0.601 - ETA: 0s - loss: 0.605 - 16s 392ms/step - loss: 0.6060\n",
      "\n",
      "##############################\n",
      "\n",
      "PR AUC Fish, train: 0.648\n",
      "\n",
      "PR AUC Flower, train: 0.814\n",
      "\n",
      "PR AUC Sugar, train: 0.803\n",
      "\n",
      "PR AUC Gravel, train: 0.738\n",
      "\n",
      "\n",
      "####################\n",
      " PR AUC mean, train: 0.751\n",
      "####################\n",
      "\n",
      "\n",
      "##############################\n",
      "\n",
      "PR AUC Fish, val: 0.644\n",
      "\n",
      "PR AUC Flower, val: 0.800\n",
      "\n",
      "PR AUC Sugar, val: 0.809\n",
      "\n",
      "PR AUC Gravel, val: 0.724\n",
      "\n",
      "\n",
      "####################\n",
      " PR AUC mean, val: 0.744\n",
      "####################\n",
      "\n",
      "\n",
      "####################\n",
      "Saved new checkpoint\n",
      "####################\n",
      "\n",
      "305/305 [==============================] - 346s 1s/step - loss: 0.5960 - val_loss: 0.6060\n",
      "Epoch 8/15\n"
     ]
    },
    {
     "name": "stdout",
     "output_type": "stream",
     "text": [
      "17/41 [===========>..................].] - ETA: 3:39 - loss: 0.569 - ETA: 3:37 - loss: 0.591 - ETA: 3:37 - loss: 0.559 - ETA: 3:36 - loss: 0.575 - ETA: 3:36 - loss: 0.588 - ETA: 3:35 - loss: 0.594 - ETA: 3:35 - loss: 0.586 - ETA: 3:34 - loss: 0.589 - ETA: 3:33 - loss: 0.586 - ETA: 3:32 - loss: 0.588 - ETA: 3:31 - loss: 0.589 - ETA: 3:30 - loss: 0.592 - ETA: 3:30 - loss: 0.600 - ETA: 3:29 - loss: 0.597 - ETA: 3:29 - loss: 0.596 - ETA: 3:28 - loss: 0.598 - ETA: 3:27 - loss: 0.598 - ETA: 3:26 - loss: 0.597 - ETA: 3:26 - loss: 0.597 - ETA: 3:25 - loss: 0.598 - ETA: 3:25 - loss: 0.598 - ETA: 3:24 - loss: 0.600 - ETA: 3:23 - loss: 0.598 - ETA: 3:22 - loss: 0.599 - ETA: 3:21 - loss: 0.600 - ETA: 3:21 - loss: 0.600 - ETA: 3:20 - loss: 0.602 - ETA: 3:19 - loss: 0.602 - ETA: 3:19 - loss: 0.599 - ETA: 3:18 - loss: 0.598 - ETA: 3:17 - loss: 0.598 - ETA: 3:16 - loss: 0.600 - ETA: 3:16 - loss: 0.597 - ETA: 3:15 - loss: 0.598 - ETA: 3:14 - loss: 0.600 - ETA: 3:13 - loss: 0.600 - ETA: 3:13 - loss: 0.601 - ETA: 3:12 - loss: 0.600 - ETA: 3:11 - loss: 0.602 - ETA: 3:10 - loss: 0.602 - ETA: 3:10 - loss: 0.602 - ETA: 3:09 - loss: 0.601 - ETA: 3:08 - loss: 0.601 - ETA: 3:08 - loss: 0.600 - ETA: 3:07 - loss: 0.601 - ETA: 3:06 - loss: 0.602 - ETA: 3:06 - loss: 0.601 - ETA: 3:05 - loss: 0.603 - ETA: 3:04 - loss: 0.602 - ETA: 3:03 - loss: 0.602 - ETA: 3:03 - loss: 0.602 - ETA: 3:02 - loss: 0.601 - ETA: 3:01 - loss: 0.601 - ETA: 3:01 - loss: 0.601 - ETA: 3:00 - loss: 0.602 - ETA: 2:59 - loss: 0.601 - ETA: 2:58 - loss: 0.599 - ETA: 2:58 - loss: 0.599 - ETA: 2:57 - loss: 0.600 - ETA: 2:56 - loss: 0.600 - ETA: 2:56 - loss: 0.599 - ETA: 2:55 - loss: 0.599 - ETA: 2:54 - loss: 0.600 - ETA: 2:53 - loss: 0.601 - ETA: 2:53 - loss: 0.601 - ETA: 2:52 - loss: 0.601 - ETA: 2:51 - loss: 0.601 - ETA: 2:51 - loss: 0.601 - ETA: 2:50 - loss: 0.601 - ETA: 2:49 - loss: 0.603 - ETA: 2:48 - loss: 0.603 - ETA: 2:48 - loss: 0.603 - ETA: 2:47 - loss: 0.604 - ETA: 2:46 - loss: 0.603 - ETA: 2:45 - loss: 0.603 - ETA: 2:45 - loss: 0.602 - ETA: 2:44 - loss: 0.602 - ETA: 2:43 - loss: 0.602 - ETA: 2:43 - loss: 0.601 - ETA: 2:42 - loss: 0.601 - ETA: 2:41 - loss: 0.600 - ETA: 2:41 - loss: 0.600 - ETA: 2:40 - loss: 0.599 - ETA: 2:39 - loss: 0.599 - ETA: 2:38 - loss: 0.599 - ETA: 2:38 - loss: 0.599 - ETA: 2:37 - loss: 0.599 - ETA: 2:36 - loss: 0.598 - ETA: 2:35 - loss: 0.597 - ETA: 2:35 - loss: 0.597 - ETA: 2:34 - loss: 0.597 - ETA: 2:33 - loss: 0.597 - ETA: 2:33 - loss: 0.597 - ETA: 2:32 - loss: 0.596 - ETA: 2:31 - loss: 0.596 - ETA: 2:30 - loss: 0.597 - ETA: 2:30 - loss: 0.597 - ETA: 2:29 - loss: 0.597 - ETA: 2:28 - loss: 0.597 - ETA: 2:28 - loss: 0.597 - ETA: 2:27 - loss: 0.597 - ETA: 2:26 - loss: 0.597 - ETA: 2:25 - loss: 0.597 - ETA: 2:25 - loss: 0.596 - ETA: 2:24 - loss: 0.595 - ETA: 2:23 - loss: 0.596 - ETA: 2:22 - loss: 0.596 - ETA: 2:22 - loss: 0.596 - ETA: 2:21 - loss: 0.596 - ETA: 2:20 - loss: 0.596 - ETA: 2:20 - loss: 0.596 - ETA: 2:19 - loss: 0.596 - ETA: 2:18 - loss: 0.596 - ETA: 2:17 - loss: 0.596 - ETA: 2:17 - loss: 0.596 - ETA: 2:16 - loss: 0.597 - ETA: 2:15 - loss: 0.597 - ETA: 2:15 - loss: 0.597 - ETA: 2:14 - loss: 0.596 - ETA: 2:13 - loss: 0.596 - ETA: 2:12 - loss: 0.596 - ETA: 2:12 - loss: 0.595 - ETA: 2:11 - loss: 0.595 - ETA: 2:10 - loss: 0.595 - ETA: 2:09 - loss: 0.594 - ETA: 2:09 - loss: 0.594 - ETA: 2:08 - loss: 0.594 - ETA: 2:07 - loss: 0.594 - ETA: 2:07 - loss: 0.594 - ETA: 2:06 - loss: 0.594 - ETA: 2:05 - loss: 0.595 - ETA: 2:04 - loss: 0.595 - ETA: 2:04 - loss: 0.594 - ETA: 2:03 - loss: 0.594 - ETA: 2:02 - loss: 0.595 - ETA: 2:01 - loss: 0.595 - ETA: 2:01 - loss: 0.595 - ETA: 2:00 - loss: 0.595 - ETA: 1:59 - loss: 0.595 - ETA: 1:59 - loss: 0.596 - ETA: 1:58 - loss: 0.595 - ETA: 1:57 - loss: 0.596 - ETA: 1:56 - loss: 0.595 - ETA: 1:56 - loss: 0.595 - ETA: 1:55 - loss: 0.595 - ETA: 1:54 - loss: 0.594 - ETA: 1:54 - loss: 0.593 - ETA: 1:53 - loss: 0.593 - ETA: 1:52 - loss: 0.593 - ETA: 1:51 - loss: 0.593 - ETA: 1:51 - loss: 0.593 - ETA: 1:50 - loss: 0.593 - ETA: 1:49 - loss: 0.593 - ETA: 1:49 - loss: 0.593 - ETA: 1:48 - loss: 0.593 - ETA: 1:47 - loss: 0.593 - ETA: 1:46 - loss: 0.593 - ETA: 1:46 - loss: 0.593 - ETA: 1:45 - loss: 0.593 - ETA: 1:44 - loss: 0.594 - ETA: 1:44 - loss: 0.594 - ETA: 1:43 - loss: 0.595 - ETA: 1:42 - loss: 0.594 - ETA: 1:41 - loss: 0.594 - ETA: 1:41 - loss: 0.594 - ETA: 1:40 - loss: 0.594 - ETA: 1:39 - loss: 0.594 - ETA: 1:38 - loss: 0.594 - ETA: 1:38 - loss: 0.594 - ETA: 1:37 - loss: 0.594 - ETA: 1:36 - loss: 0.594 - ETA: 1:36 - loss: 0.594 - ETA: 1:35 - loss: 0.594 - ETA: 1:34 - loss: 0.594 - ETA: 1:33 - loss: 0.594 - ETA: 1:33 - loss: 0.594 - ETA: 1:32 - loss: 0.595 - ETA: 1:31 - loss: 0.595 - ETA: 1:31 - loss: 0.595 - ETA: 1:30 - loss: 0.595 - ETA: 1:29 - loss: 0.595 - ETA: 1:28 - loss: 0.595 - ETA: 1:28 - loss: 0.595 - ETA: 1:27 - loss: 0.595 - ETA: 1:26 - loss: 0.595 - ETA: 1:26 - loss: 0.595 - ETA: 1:25 - loss: 0.594 - ETA: 1:24 - loss: 0.595 - ETA: 1:23 - loss: 0.594 - ETA: 1:23 - loss: 0.594 - ETA: 1:22 - loss: 0.594 - ETA: 1:21 - loss: 0.594 - ETA: 1:20 - loss: 0.594 - ETA: 1:20 - loss: 0.594 - ETA: 1:19 - loss: 0.594 - ETA: 1:18 - loss: 0.594 - ETA: 1:18 - loss: 0.594 - ETA: 1:17 - loss: 0.595 - ETA: 1:16 - loss: 0.595 - ETA: 1:15 - loss: 0.595 - ETA: 1:15 - loss: 0.595 - ETA: 1:14 - loss: 0.595 - ETA: 1:13 - loss: 0.595 - ETA: 1:12 - loss: 0.595 - ETA: 1:12 - loss: 0.595 - ETA: 1:11 - loss: 0.595 - ETA: 1:10 - loss: 0.594 - ETA: 1:10 - loss: 0.594 - ETA: 1:09 - loss: 0.594 - ETA: 1:08 - loss: 0.594 - ETA: 1:07 - loss: 0.594 - ETA: 1:07 - loss: 0.594 - ETA: 1:06 - loss: 0.594 - ETA: 1:05 - loss: 0.594 - ETA: 1:05 - loss: 0.594 - ETA: 1:04 - loss: 0.593 - ETA: 1:03 - loss: 0.594 - ETA: 1:02 - loss: 0.594 - ETA: 1:02 - loss: 0.593 - ETA: 1:01 - loss: 0.593 - ETA: 1:00 - loss: 0.593 - ETA: 59s - loss: 0.593 - ETA: 59s - loss: 0.59 - ETA: 58s - loss: 0.59 - ETA: 57s - loss: 0.59 - ETA: 57s - loss: 0.59 - ETA: 56s - loss: 0.59 - ETA: 55s - loss: 0.59 - ETA: 54s - loss: 0.59 - ETA: 54s - loss: 0.59 - ETA: 53s - loss: 0.59 - ETA: 52s - loss: 0.59 - ETA: 52s - loss: 0.59 - ETA: 51s - loss: 0.59 - ETA: 50s - loss: 0.59 - ETA: 49s - loss: 0.59 - ETA: 49s - loss: 0.59 - ETA: 48s - loss: 0.59 - ETA: 47s - loss: 0.59 - ETA: 46s - loss: 0.59 - ETA: 46s - loss: 0.59 - ETA: 45s - loss: 0.59 - ETA: 44s - loss: 0.59 - ETA: 44s - loss: 0.59 - ETA: 43s - loss: 0.59 - ETA: 42s - loss: 0.59 - ETA: 41s - loss: 0.59 - ETA: 41s - loss: 0.59 - ETA: 40s - loss: 0.59 - ETA: 39s - loss: 0.59 - ETA: 39s - loss: 0.59 - ETA: 38s - loss: 0.59 - ETA: 37s - loss: 0.59 - ETA: 36s - loss: 0.59 - ETA: 36s - loss: 0.59 - ETA: 35s - loss: 0.59 - ETA: 34s - loss: 0.59 - ETA: 33s - loss: 0.59 - ETA: 33s - loss: 0.59 - ETA: 32s - loss: 0.59 - ETA: 31s - loss: 0.59 - ETA: 31s - loss: 0.59 - ETA: 30s - loss: 0.59 - ETA: 29s - loss: 0.59 - ETA: 28s - loss: 0.59 - ETA: 28s - loss: 0.59 - ETA: 27s - loss: 0.59 - ETA: 26s - loss: 0.59 - ETA: 26s - loss: 0.59 - ETA: 25s - loss: 0.59 - ETA: 24s - loss: 0.59 - ETA: 23s - loss: 0.59 - ETA: 23s - loss: 0.59 - ETA: 22s - loss: 0.59 - ETA: 21s - loss: 0.59 - ETA: 20s - loss: 0.59 - ETA: 20s - loss: 0.59 - ETA: 19s - loss: 0.59 - ETA: 18s - loss: 0.59 - ETA: 18s - loss: 0.59 - ETA: 17s - loss: 0.59 - ETA: 16s - loss: 0.59 - ETA: 15s - loss: 0.59 - ETA: 15s - loss: 0.59 - ETA: 14s - loss: 0.59 - ETA: 13s - loss: 0.59 - ETA: 13s - loss: 0.59 - ETA: 12s - loss: 0.59 - ETA: 11s - loss: 0.59 - ETA: 10s - loss: 0.59 - ETA: 10s - loss: 0.59 - ETA: 9s - loss: 0.5919 - ETA: 8s - loss: 0.592 - ETA: 7s - loss: 0.591 - ETA: 7s - loss: 0.591 - ETA: 6s - loss: 0.591 - ETA: 5s - loss: 0.591 - ETA: 5s - loss: 0.591 - ETA: 4s - loss: 0.591 - ETA: 3s - loss: 0.591 - ETA: 2s - loss: 0.592 - ETA: 2s - loss: 0.592 - ETA: 1s - loss: 0.592 - ETA: 0s - loss: 0.5919 - ETA: 2:31 - loss: 0.614 - ETA: 1:20 - loss: 0.608 - ETA: 56s - loss: 0.583 - ETA: 44s - loss: 0.60 - ETA: 37s - loss: 0.60 - ETA: 32s - loss: 0.61 - ETA: 28s - loss: 0.62 - ETA: 25s - loss: 0.62 - ETA: 23s - loss: 0.61 - ETA: 21s - loss: 0.61 - ETA: 19s - loss: 0.61 - ETA: 18s - loss: 0.60 - ETA: 16s - loss: 0.60 - ETA: 15s - loss: 0.61 - ETA: 14s - loss: 0.60 - ETA: 13s - loss: 0.61 - ETA: 12s - loss: 0.6104"
     ]
    },
    {
     "name": "stdout",
     "output_type": "stream",
     "text": [
      "41/41 [==============================] - ETA: 11s - loss: 0.60 - ETA: 11s - loss: 0.60 - ETA: 10s - loss: 0.60 - ETA: 9s - loss: 0.6085 - ETA: 9s - loss: 0.607 - ETA: 8s - loss: 0.606 - ETA: 7s - loss: 0.605 - ETA: 7s - loss: 0.601 - ETA: 6s - loss: 0.599 - ETA: 6s - loss: 0.602 - ETA: 5s - loss: 0.603 - ETA: 5s - loss: 0.601 - ETA: 4s - loss: 0.603 - ETA: 4s - loss: 0.602 - ETA: 3s - loss: 0.601 - ETA: 3s - loss: 0.602 - ETA: 2s - loss: 0.603 - ETA: 2s - loss: 0.604 - ETA: 2s - loss: 0.604 - ETA: 1s - loss: 0.605 - ETA: 1s - loss: 0.605 - ETA: 0s - loss: 0.605 - ETA: 0s - loss: 0.607 - 16s 390ms/step - loss: 0.6087\n",
      "\n",
      "##############################\n",
      "\n",
      "PR AUC Fish, train: 0.650\n",
      "\n",
      "PR AUC Flower, train: 0.821\n",
      "\n",
      "PR AUC Sugar, train: 0.810\n",
      "\n",
      "PR AUC Gravel, train: 0.753\n",
      "\n",
      "\n",
      "####################\n",
      " PR AUC mean, train: 0.758\n",
      "####################\n",
      "\n",
      "\n",
      "##############################\n",
      "\n",
      "PR AUC Fish, val: 0.635\n",
      "\n",
      "PR AUC Flower, val: 0.808\n",
      "\n",
      "PR AUC Sugar, val: 0.828\n",
      "\n",
      "PR AUC Gravel, val: 0.739\n",
      "\n",
      "\n",
      "####################\n",
      " PR AUC mean, val: 0.753\n",
      "####################\n",
      "\n",
      "\n",
      "####################\n",
      "Saved new checkpoint\n",
      "####################\n",
      "\n",
      "305/305 [==============================] - 346s 1s/step - loss: 0.5919 - val_loss: 0.6087\n",
      "Epoch 9/15\n"
     ]
    },
    {
     "name": "stdout",
     "output_type": "stream",
     "text": [
      "17/41 [===========>..................].] - ETA: 3:35 - loss: 0.562 - ETA: 3:37 - loss: 0.594 - ETA: 3:36 - loss: 0.593 - ETA: 3:36 - loss: 0.582 - ETA: 3:35 - loss: 0.586 - ETA: 3:34 - loss: 0.586 - ETA: 3:33 - loss: 0.584 - ETA: 3:32 - loss: 0.579 - ETA: 3:32 - loss: 0.575 - ETA: 3:31 - loss: 0.576 - ETA: 3:30 - loss: 0.585 - ETA: 3:30 - loss: 0.583 - ETA: 3:29 - loss: 0.590 - ETA: 3:28 - loss: 0.580 - ETA: 3:28 - loss: 0.577 - ETA: 3:27 - loss: 0.576 - ETA: 3:27 - loss: 0.581 - ETA: 3:26 - loss: 0.583 - ETA: 3:25 - loss: 0.583 - ETA: 3:25 - loss: 0.586 - ETA: 3:24 - loss: 0.587 - ETA: 3:23 - loss: 0.588 - ETA: 3:22 - loss: 0.588 - ETA: 3:22 - loss: 0.587 - ETA: 3:21 - loss: 0.586 - ETA: 3:21 - loss: 0.590 - ETA: 3:20 - loss: 0.589 - ETA: 3:19 - loss: 0.586 - ETA: 3:19 - loss: 0.586 - ETA: 3:18 - loss: 0.589 - ETA: 3:17 - loss: 0.587 - ETA: 3:16 - loss: 0.588 - ETA: 3:16 - loss: 0.589 - ETA: 3:15 - loss: 0.588 - ETA: 3:14 - loss: 0.588 - ETA: 3:14 - loss: 0.587 - ETA: 3:13 - loss: 0.585 - ETA: 3:12 - loss: 0.586 - ETA: 3:11 - loss: 0.584 - ETA: 3:11 - loss: 0.586 - ETA: 3:10 - loss: 0.586 - ETA: 3:09 - loss: 0.587 - ETA: 3:08 - loss: 0.588 - ETA: 3:08 - loss: 0.589 - ETA: 3:07 - loss: 0.586 - ETA: 3:06 - loss: 0.588 - ETA: 3:06 - loss: 0.589 - ETA: 3:05 - loss: 0.587 - ETA: 3:04 - loss: 0.587 - ETA: 3:03 - loss: 0.587 - ETA: 3:03 - loss: 0.588 - ETA: 3:02 - loss: 0.589 - ETA: 3:01 - loss: 0.589 - ETA: 3:01 - loss: 0.589 - ETA: 3:00 - loss: 0.590 - ETA: 2:59 - loss: 0.591 - ETA: 2:59 - loss: 0.592 - ETA: 2:58 - loss: 0.590 - ETA: 2:57 - loss: 0.591 - ETA: 2:56 - loss: 0.593 - ETA: 2:56 - loss: 0.591 - ETA: 2:55 - loss: 0.591 - ETA: 2:54 - loss: 0.591 - ETA: 2:53 - loss: 0.591 - ETA: 2:53 - loss: 0.592 - ETA: 2:52 - loss: 0.592 - ETA: 2:51 - loss: 0.592 - ETA: 2:51 - loss: 0.593 - ETA: 2:50 - loss: 0.592 - ETA: 2:49 - loss: 0.593 - ETA: 2:48 - loss: 0.592 - ETA: 2:48 - loss: 0.592 - ETA: 2:47 - loss: 0.592 - ETA: 2:46 - loss: 0.592 - ETA: 2:46 - loss: 0.593 - ETA: 2:45 - loss: 0.592 - ETA: 2:44 - loss: 0.592 - ETA: 2:43 - loss: 0.595 - ETA: 2:43 - loss: 0.594 - ETA: 2:42 - loss: 0.594 - ETA: 2:41 - loss: 0.594 - ETA: 2:41 - loss: 0.594 - ETA: 2:40 - loss: 0.594 - ETA: 2:39 - loss: 0.593 - ETA: 2:38 - loss: 0.593 - ETA: 2:38 - loss: 0.593 - ETA: 2:37 - loss: 0.593 - ETA: 2:36 - loss: 0.593 - ETA: 2:35 - loss: 0.593 - ETA: 2:35 - loss: 0.592 - ETA: 2:34 - loss: 0.591 - ETA: 2:33 - loss: 0.591 - ETA: 2:33 - loss: 0.591 - ETA: 2:32 - loss: 0.591 - ETA: 2:31 - loss: 0.591 - ETA: 2:30 - loss: 0.591 - ETA: 2:30 - loss: 0.591 - ETA: 2:29 - loss: 0.591 - ETA: 2:28 - loss: 0.591 - ETA: 2:28 - loss: 0.593 - ETA: 2:27 - loss: 0.594 - ETA: 2:26 - loss: 0.593 - ETA: 2:25 - loss: 0.593 - ETA: 2:25 - loss: 0.593 - ETA: 2:24 - loss: 0.593 - ETA: 2:23 - loss: 0.593 - ETA: 2:22 - loss: 0.593 - ETA: 2:22 - loss: 0.593 - ETA: 2:21 - loss: 0.593 - ETA: 2:20 - loss: 0.593 - ETA: 2:20 - loss: 0.593 - ETA: 2:19 - loss: 0.592 - ETA: 2:18 - loss: 0.592 - ETA: 2:17 - loss: 0.592 - ETA: 2:17 - loss: 0.592 - ETA: 2:16 - loss: 0.592 - ETA: 2:15 - loss: 0.592 - ETA: 2:15 - loss: 0.592 - ETA: 2:14 - loss: 0.593 - ETA: 2:13 - loss: 0.593 - ETA: 2:12 - loss: 0.593 - ETA: 2:12 - loss: 0.593 - ETA: 2:11 - loss: 0.594 - ETA: 2:10 - loss: 0.593 - ETA: 2:10 - loss: 0.594 - ETA: 2:09 - loss: 0.593 - ETA: 2:08 - loss: 0.593 - ETA: 2:07 - loss: 0.593 - ETA: 2:07 - loss: 0.593 - ETA: 2:06 - loss: 0.593 - ETA: 2:05 - loss: 0.593 - ETA: 2:05 - loss: 0.593 - ETA: 2:04 - loss: 0.593 - ETA: 2:03 - loss: 0.593 - ETA: 2:02 - loss: 0.594 - ETA: 2:02 - loss: 0.594 - ETA: 2:01 - loss: 0.593 - ETA: 2:00 - loss: 0.593 - ETA: 1:59 - loss: 0.592 - ETA: 1:59 - loss: 0.592 - ETA: 1:58 - loss: 0.592 - ETA: 1:57 - loss: 0.592 - ETA: 1:57 - loss: 0.592 - ETA: 1:56 - loss: 0.592 - ETA: 1:55 - loss: 0.592 - ETA: 1:54 - loss: 0.592 - ETA: 1:54 - loss: 0.591 - ETA: 1:53 - loss: 0.592 - ETA: 1:52 - loss: 0.592 - ETA: 1:52 - loss: 0.592 - ETA: 1:51 - loss: 0.592 - ETA: 1:50 - loss: 0.592 - ETA: 1:49 - loss: 0.591 - ETA: 1:49 - loss: 0.592 - ETA: 1:48 - loss: 0.592 - ETA: 1:47 - loss: 0.591 - ETA: 1:46 - loss: 0.592 - ETA: 1:46 - loss: 0.591 - ETA: 1:45 - loss: 0.591 - ETA: 1:44 - loss: 0.592 - ETA: 1:44 - loss: 0.592 - ETA: 1:43 - loss: 0.592 - ETA: 1:42 - loss: 0.592 - ETA: 1:41 - loss: 0.592 - ETA: 1:41 - loss: 0.592 - ETA: 1:40 - loss: 0.592 - ETA: 1:39 - loss: 0.592 - ETA: 1:39 - loss: 0.592 - ETA: 1:38 - loss: 0.592 - ETA: 1:37 - loss: 0.591 - ETA: 1:36 - loss: 0.591 - ETA: 1:36 - loss: 0.591 - ETA: 1:35 - loss: 0.591 - ETA: 1:34 - loss: 0.591 - ETA: 1:33 - loss: 0.591 - ETA: 1:33 - loss: 0.591 - ETA: 1:32 - loss: 0.591 - ETA: 1:31 - loss: 0.591 - ETA: 1:31 - loss: 0.591 - ETA: 1:30 - loss: 0.591 - ETA: 1:29 - loss: 0.591 - ETA: 1:28 - loss: 0.591 - ETA: 1:28 - loss: 0.591 - ETA: 1:27 - loss: 0.591 - ETA: 1:26 - loss: 0.591 - ETA: 1:26 - loss: 0.591 - ETA: 1:25 - loss: 0.591 - ETA: 1:24 - loss: 0.591 - ETA: 1:23 - loss: 0.591 - ETA: 1:23 - loss: 0.590 - ETA: 1:22 - loss: 0.591 - ETA: 1:21 - loss: 0.591 - ETA: 1:20 - loss: 0.591 - ETA: 1:20 - loss: 0.591 - ETA: 1:19 - loss: 0.591 - ETA: 1:18 - loss: 0.591 - ETA: 1:18 - loss: 0.591 - ETA: 1:17 - loss: 0.591 - ETA: 1:16 - loss: 0.591 - ETA: 1:15 - loss: 0.591 - ETA: 1:15 - loss: 0.591 - ETA: 1:14 - loss: 0.591 - ETA: 1:13 - loss: 0.591 - ETA: 1:13 - loss: 0.591 - ETA: 1:12 - loss: 0.591 - ETA: 1:11 - loss: 0.591 - ETA: 1:10 - loss: 0.591 - ETA: 1:10 - loss: 0.590 - ETA: 1:09 - loss: 0.591 - ETA: 1:08 - loss: 0.590 - ETA: 1:07 - loss: 0.590 - ETA: 1:07 - loss: 0.590 - ETA: 1:06 - loss: 0.590 - ETA: 1:05 - loss: 0.590 - ETA: 1:05 - loss: 0.590 - ETA: 1:04 - loss: 0.590 - ETA: 1:03 - loss: 0.590 - ETA: 1:02 - loss: 0.591 - ETA: 1:02 - loss: 0.591 - ETA: 1:01 - loss: 0.591 - ETA: 1:00 - loss: 0.590 - ETA: 1:00 - loss: 0.590 - ETA: 59s - loss: 0.590 - ETA: 58s - loss: 0.59 - ETA: 57s - loss: 0.59 - ETA: 57s - loss: 0.59 - ETA: 56s - loss: 0.59 - ETA: 55s - loss: 0.59 - ETA: 54s - loss: 0.59 - ETA: 54s - loss: 0.59 - ETA: 53s - loss: 0.59 - ETA: 52s - loss: 0.59 - ETA: 52s - loss: 0.59 - ETA: 51s - loss: 0.59 - ETA: 50s - loss: 0.59 - ETA: 49s - loss: 0.59 - ETA: 49s - loss: 0.59 - ETA: 48s - loss: 0.59 - ETA: 47s - loss: 0.59 - ETA: 47s - loss: 0.59 - ETA: 46s - loss: 0.59 - ETA: 45s - loss: 0.59 - ETA: 44s - loss: 0.59 - ETA: 44s - loss: 0.58 - ETA: 43s - loss: 0.58 - ETA: 42s - loss: 0.58 - ETA: 41s - loss: 0.59 - ETA: 41s - loss: 0.59 - ETA: 40s - loss: 0.59 - ETA: 39s - loss: 0.59 - ETA: 39s - loss: 0.59 - ETA: 38s - loss: 0.59 - ETA: 37s - loss: 0.59 - ETA: 36s - loss: 0.59 - ETA: 36s - loss: 0.59 - ETA: 35s - loss: 0.59 - ETA: 34s - loss: 0.59 - ETA: 34s - loss: 0.59 - ETA: 33s - loss: 0.59 - ETA: 32s - loss: 0.58 - ETA: 31s - loss: 0.59 - ETA: 31s - loss: 0.59 - ETA: 30s - loss: 0.59 - ETA: 29s - loss: 0.59 - ETA: 28s - loss: 0.59 - ETA: 28s - loss: 0.59 - ETA: 27s - loss: 0.59 - ETA: 26s - loss: 0.58 - ETA: 26s - loss: 0.58 - ETA: 25s - loss: 0.58 - ETA: 24s - loss: 0.58 - ETA: 23s - loss: 0.58 - ETA: 23s - loss: 0.58 - ETA: 22s - loss: 0.58 - ETA: 21s - loss: 0.58 - ETA: 20s - loss: 0.58 - ETA: 20s - loss: 0.59 - ETA: 19s - loss: 0.59 - ETA: 18s - loss: 0.58 - ETA: 18s - loss: 0.59 - ETA: 17s - loss: 0.58 - ETA: 16s - loss: 0.58 - ETA: 15s - loss: 0.58 - ETA: 15s - loss: 0.58 - ETA: 14s - loss: 0.58 - ETA: 13s - loss: 0.58 - ETA: 13s - loss: 0.58 - ETA: 12s - loss: 0.58 - ETA: 11s - loss: 0.58 - ETA: 10s - loss: 0.58 - ETA: 10s - loss: 0.58 - ETA: 9s - loss: 0.5890 - ETA: 8s - loss: 0.589 - ETA: 7s - loss: 0.589 - ETA: 7s - loss: 0.589 - ETA: 6s - loss: 0.589 - ETA: 5s - loss: 0.588 - ETA: 5s - loss: 0.588 - ETA: 4s - loss: 0.588 - ETA: 3s - loss: 0.588 - ETA: 2s - loss: 0.588 - ETA: 2s - loss: 0.588 - ETA: 1s - loss: 0.588 - ETA: 0s - loss: 0.5888 - ETA: 2:31 - loss: 0.549 - ETA: 1:20 - loss: 0.553 - ETA: 56s - loss: 0.558 - ETA: 45s - loss: 0.59 - ETA: 37s - loss: 0.58 - ETA: 32s - loss: 0.59 - ETA: 29s - loss: 0.60 - ETA: 26s - loss: 0.60 - ETA: 23s - loss: 0.59 - ETA: 21s - loss: 0.58 - ETA: 19s - loss: 0.58 - ETA: 18s - loss: 0.57 - ETA: 17s - loss: 0.57 - ETA: 15s - loss: 0.57 - ETA: 14s - loss: 0.57 - ETA: 13s - loss: 0.57 - ETA: 12s - loss: 0.5756"
     ]
    },
    {
     "name": "stdout",
     "output_type": "stream",
     "text": [
      "41/41 [==============================] - ETA: 12s - loss: 0.57 - ETA: 11s - loss: 0.57 - ETA: 10s - loss: 0.57 - ETA: 9s - loss: 0.5776 - ETA: 9s - loss: 0.576 - ETA: 8s - loss: 0.575 - ETA: 7s - loss: 0.574 - ETA: 7s - loss: 0.573 - ETA: 6s - loss: 0.572 - ETA: 6s - loss: 0.575 - ETA: 5s - loss: 0.575 - ETA: 5s - loss: 0.572 - ETA: 4s - loss: 0.573 - ETA: 4s - loss: 0.572 - ETA: 3s - loss: 0.571 - ETA: 3s - loss: 0.570 - ETA: 2s - loss: 0.571 - ETA: 2s - loss: 0.572 - ETA: 2s - loss: 0.572 - ETA: 1s - loss: 0.573 - ETA: 1s - loss: 0.573 - ETA: 0s - loss: 0.574 - ETA: 0s - loss: 0.576 - 16s 391ms/step - loss: 0.5774\n",
      "\n",
      "##############################\n",
      "\n",
      "PR AUC Fish, train: 0.674\n",
      "\n",
      "PR AUC Flower, train: 0.828\n",
      "\n",
      "PR AUC Sugar, train: 0.810\n",
      "\n",
      "PR AUC Gravel, train: 0.756\n",
      "\n",
      "\n",
      "####################\n",
      " PR AUC mean, train: 0.767\n",
      "####################\n",
      "\n",
      "\n",
      "##############################\n",
      "\n",
      "PR AUC Fish, val: 0.669\n",
      "\n",
      "PR AUC Flower, val: 0.802\n",
      "\n",
      "PR AUC Sugar, val: 0.823\n",
      "\n",
      "PR AUC Gravel, val: 0.744\n",
      "\n",
      "\n",
      "####################\n",
      " PR AUC mean, val: 0.760\n",
      "####################\n",
      "\n",
      "\n",
      "####################\n",
      "Saved new checkpoint\n",
      "####################\n",
      "\n",
      "305/305 [==============================] - 346s 1s/step - loss: 0.5889 - val_loss: 0.5774\n",
      "Epoch 10/15\n"
     ]
    },
    {
     "name": "stdout",
     "output_type": "stream",
     "text": [
      "17/41 [===========>..................].] - ETA: 3:34 - loss: 0.565 - ETA: 3:35 - loss: 0.565 - ETA: 3:36 - loss: 0.589 - ETA: 3:35 - loss: 0.589 - ETA: 3:36 - loss: 0.591 - ETA: 3:34 - loss: 0.597 - ETA: 3:34 - loss: 0.593 - ETA: 3:32 - loss: 0.601 - ETA: 3:32 - loss: 0.601 - ETA: 3:31 - loss: 0.597 - ETA: 3:31 - loss: 0.597 - ETA: 3:30 - loss: 0.596 - ETA: 3:30 - loss: 0.588 - ETA: 3:29 - loss: 0.582 - ETA: 3:28 - loss: 0.582 - ETA: 3:28 - loss: 0.580 - ETA: 3:27 - loss: 0.579 - ETA: 3:26 - loss: 0.578 - ETA: 3:26 - loss: 0.577 - ETA: 3:25 - loss: 0.578 - ETA: 3:24 - loss: 0.580 - ETA: 3:24 - loss: 0.583 - ETA: 3:23 - loss: 0.582 - ETA: 3:22 - loss: 0.581 - ETA: 3:21 - loss: 0.582 - ETA: 3:21 - loss: 0.584 - ETA: 3:20 - loss: 0.586 - ETA: 3:19 - loss: 0.586 - ETA: 3:18 - loss: 0.587 - ETA: 3:18 - loss: 0.584 - ETA: 3:17 - loss: 0.584 - ETA: 3:16 - loss: 0.584 - ETA: 3:15 - loss: 0.585 - ETA: 3:15 - loss: 0.586 - ETA: 3:14 - loss: 0.587 - ETA: 3:13 - loss: 0.588 - ETA: 3:13 - loss: 0.588 - ETA: 3:12 - loss: 0.588 - ETA: 3:11 - loss: 0.586 - ETA: 3:11 - loss: 0.587 - ETA: 3:10 - loss: 0.587 - ETA: 3:09 - loss: 0.586 - ETA: 3:08 - loss: 0.586 - ETA: 3:08 - loss: 0.587 - ETA: 3:07 - loss: 0.586 - ETA: 3:06 - loss: 0.587 - ETA: 3:05 - loss: 0.588 - ETA: 3:05 - loss: 0.588 - ETA: 3:04 - loss: 0.590 - ETA: 3:03 - loss: 0.589 - ETA: 3:03 - loss: 0.590 - ETA: 3:02 - loss: 0.592 - ETA: 3:01 - loss: 0.592 - ETA: 3:01 - loss: 0.592 - ETA: 3:00 - loss: 0.593 - ETA: 2:59 - loss: 0.593 - ETA: 2:59 - loss: 0.594 - ETA: 2:58 - loss: 0.594 - ETA: 2:57 - loss: 0.594 - ETA: 2:57 - loss: 0.593 - ETA: 2:56 - loss: 0.593 - ETA: 2:55 - loss: 0.593 - ETA: 2:54 - loss: 0.593 - ETA: 2:54 - loss: 0.595 - ETA: 2:53 - loss: 0.595 - ETA: 2:52 - loss: 0.594 - ETA: 2:51 - loss: 0.594 - ETA: 2:51 - loss: 0.593 - ETA: 2:50 - loss: 0.593 - ETA: 2:49 - loss: 0.594 - ETA: 2:49 - loss: 0.594 - ETA: 2:48 - loss: 0.593 - ETA: 2:47 - loss: 0.593 - ETA: 2:46 - loss: 0.594 - ETA: 2:46 - loss: 0.593 - ETA: 2:45 - loss: 0.593 - ETA: 2:44 - loss: 0.593 - ETA: 2:44 - loss: 0.593 - ETA: 2:43 - loss: 0.592 - ETA: 2:42 - loss: 0.593 - ETA: 2:41 - loss: 0.592 - ETA: 2:41 - loss: 0.593 - ETA: 2:40 - loss: 0.593 - ETA: 2:39 - loss: 0.592 - ETA: 2:38 - loss: 0.593 - ETA: 2:38 - loss: 0.593 - ETA: 2:37 - loss: 0.593 - ETA: 2:36 - loss: 0.592 - ETA: 2:36 - loss: 0.593 - ETA: 2:35 - loss: 0.593 - ETA: 2:34 - loss: 0.593 - ETA: 2:33 - loss: 0.593 - ETA: 2:33 - loss: 0.593 - ETA: 2:32 - loss: 0.591 - ETA: 2:31 - loss: 0.590 - ETA: 2:30 - loss: 0.589 - ETA: 2:30 - loss: 0.589 - ETA: 2:29 - loss: 0.589 - ETA: 2:28 - loss: 0.588 - ETA: 2:28 - loss: 0.589 - ETA: 2:27 - loss: 0.589 - ETA: 2:26 - loss: 0.590 - ETA: 2:25 - loss: 0.590 - ETA: 2:25 - loss: 0.590 - ETA: 2:24 - loss: 0.589 - ETA: 2:23 - loss: 0.590 - ETA: 2:23 - loss: 0.590 - ETA: 2:22 - loss: 0.589 - ETA: 2:21 - loss: 0.590 - ETA: 2:20 - loss: 0.590 - ETA: 2:20 - loss: 0.589 - ETA: 2:19 - loss: 0.589 - ETA: 2:18 - loss: 0.589 - ETA: 2:17 - loss: 0.589 - ETA: 2:17 - loss: 0.589 - ETA: 2:16 - loss: 0.590 - ETA: 2:15 - loss: 0.589 - ETA: 2:15 - loss: 0.589 - ETA: 2:14 - loss: 0.589 - ETA: 2:13 - loss: 0.589 - ETA: 2:12 - loss: 0.588 - ETA: 2:12 - loss: 0.588 - ETA: 2:11 - loss: 0.590 - ETA: 2:10 - loss: 0.590 - ETA: 2:10 - loss: 0.590 - ETA: 2:09 - loss: 0.589 - ETA: 2:08 - loss: 0.590 - ETA: 2:07 - loss: 0.590 - ETA: 2:07 - loss: 0.590 - ETA: 2:06 - loss: 0.591 - ETA: 2:05 - loss: 0.591 - ETA: 2:05 - loss: 0.591 - ETA: 2:04 - loss: 0.591 - ETA: 2:03 - loss: 0.591 - ETA: 2:02 - loss: 0.590 - ETA: 2:02 - loss: 0.590 - ETA: 2:01 - loss: 0.591 - ETA: 2:00 - loss: 0.591 - ETA: 2:00 - loss: 0.591 - ETA: 1:59 - loss: 0.591 - ETA: 1:58 - loss: 0.591 - ETA: 1:57 - loss: 0.591 - ETA: 1:57 - loss: 0.590 - ETA: 1:56 - loss: 0.590 - ETA: 1:55 - loss: 0.590 - ETA: 1:54 - loss: 0.590 - ETA: 1:54 - loss: 0.590 - ETA: 1:53 - loss: 0.590 - ETA: 1:52 - loss: 0.589 - ETA: 1:52 - loss: 0.590 - ETA: 1:51 - loss: 0.590 - ETA: 1:50 - loss: 0.590 - ETA: 1:49 - loss: 0.590 - ETA: 1:49 - loss: 0.590 - ETA: 1:48 - loss: 0.590 - ETA: 1:47 - loss: 0.589 - ETA: 1:47 - loss: 0.589 - ETA: 1:46 - loss: 0.589 - ETA: 1:45 - loss: 0.589 - ETA: 1:44 - loss: 0.588 - ETA: 1:44 - loss: 0.588 - ETA: 1:43 - loss: 0.588 - ETA: 1:42 - loss: 0.588 - ETA: 1:41 - loss: 0.588 - ETA: 1:41 - loss: 0.588 - ETA: 1:40 - loss: 0.588 - ETA: 1:39 - loss: 0.588 - ETA: 1:39 - loss: 0.588 - ETA: 1:38 - loss: 0.587 - ETA: 1:37 - loss: 0.587 - ETA: 1:36 - loss: 0.586 - ETA: 1:36 - loss: 0.586 - ETA: 1:35 - loss: 0.586 - ETA: 1:34 - loss: 0.586 - ETA: 1:33 - loss: 0.586 - ETA: 1:33 - loss: 0.586 - ETA: 1:32 - loss: 0.587 - ETA: 1:31 - loss: 0.587 - ETA: 1:31 - loss: 0.587 - ETA: 1:30 - loss: 0.587 - ETA: 1:29 - loss: 0.586 - ETA: 1:28 - loss: 0.586 - ETA: 1:28 - loss: 0.586 - ETA: 1:27 - loss: 0.586 - ETA: 1:26 - loss: 0.586 - ETA: 1:26 - loss: 0.586 - ETA: 1:25 - loss: 0.586 - ETA: 1:24 - loss: 0.587 - ETA: 1:23 - loss: 0.587 - ETA: 1:23 - loss: 0.587 - ETA: 1:22 - loss: 0.587 - ETA: 1:21 - loss: 0.586 - ETA: 1:20 - loss: 0.587 - ETA: 1:20 - loss: 0.586 - ETA: 1:19 - loss: 0.586 - ETA: 1:18 - loss: 0.586 - ETA: 1:18 - loss: 0.586 - ETA: 1:17 - loss: 0.586 - ETA: 1:16 - loss: 0.586 - ETA: 1:15 - loss: 0.586 - ETA: 1:15 - loss: 0.586 - ETA: 1:14 - loss: 0.586 - ETA: 1:13 - loss: 0.586 - ETA: 1:13 - loss: 0.586 - ETA: 1:12 - loss: 0.586 - ETA: 1:11 - loss: 0.586 - ETA: 1:10 - loss: 0.586 - ETA: 1:10 - loss: 0.586 - ETA: 1:09 - loss: 0.586 - ETA: 1:08 - loss: 0.586 - ETA: 1:07 - loss: 0.586 - ETA: 1:07 - loss: 0.586 - ETA: 1:06 - loss: 0.586 - ETA: 1:05 - loss: 0.586 - ETA: 1:05 - loss: 0.586 - ETA: 1:04 - loss: 0.586 - ETA: 1:03 - loss: 0.586 - ETA: 1:02 - loss: 0.586 - ETA: 1:02 - loss: 0.585 - ETA: 1:01 - loss: 0.585 - ETA: 1:00 - loss: 0.585 - ETA: 1:00 - loss: 0.585 - ETA: 59s - loss: 0.585 - ETA: 58s - loss: 0.58 - ETA: 57s - loss: 0.58 - ETA: 57s - loss: 0.58 - ETA: 56s - loss: 0.58 - ETA: 55s - loss: 0.58 - ETA: 54s - loss: 0.58 - ETA: 54s - loss: 0.58 - ETA: 53s - loss: 0.58 - ETA: 52s - loss: 0.58 - ETA: 52s - loss: 0.58 - ETA: 51s - loss: 0.58 - ETA: 50s - loss: 0.58 - ETA: 49s - loss: 0.58 - ETA: 49s - loss: 0.58 - ETA: 48s - loss: 0.58 - ETA: 47s - loss: 0.58 - ETA: 46s - loss: 0.58 - ETA: 46s - loss: 0.58 - ETA: 45s - loss: 0.58 - ETA: 44s - loss: 0.58 - ETA: 44s - loss: 0.58 - ETA: 43s - loss: 0.58 - ETA: 42s - loss: 0.58 - ETA: 41s - loss: 0.58 - ETA: 41s - loss: 0.58 - ETA: 40s - loss: 0.58 - ETA: 39s - loss: 0.58 - ETA: 39s - loss: 0.58 - ETA: 38s - loss: 0.58 - ETA: 37s - loss: 0.58 - ETA: 36s - loss: 0.58 - ETA: 36s - loss: 0.58 - ETA: 35s - loss: 0.58 - ETA: 34s - loss: 0.58 - ETA: 33s - loss: 0.58 - ETA: 33s - loss: 0.58 - ETA: 32s - loss: 0.58 - ETA: 31s - loss: 0.58 - ETA: 31s - loss: 0.58 - ETA: 30s - loss: 0.58 - ETA: 29s - loss: 0.58 - ETA: 28s - loss: 0.58 - ETA: 28s - loss: 0.58 - ETA: 27s - loss: 0.58 - ETA: 26s - loss: 0.58 - ETA: 26s - loss: 0.58 - ETA: 25s - loss: 0.58 - ETA: 24s - loss: 0.58 - ETA: 23s - loss: 0.58 - ETA: 23s - loss: 0.58 - ETA: 22s - loss: 0.58 - ETA: 21s - loss: 0.58 - ETA: 20s - loss: 0.58 - ETA: 20s - loss: 0.58 - ETA: 19s - loss: 0.58 - ETA: 18s - loss: 0.58 - ETA: 18s - loss: 0.58 - ETA: 17s - loss: 0.58 - ETA: 16s - loss: 0.58 - ETA: 15s - loss: 0.58 - ETA: 15s - loss: 0.58 - ETA: 14s - loss: 0.58 - ETA: 13s - loss: 0.58 - ETA: 13s - loss: 0.58 - ETA: 12s - loss: 0.58 - ETA: 11s - loss: 0.58 - ETA: 10s - loss: 0.58 - ETA: 10s - loss: 0.58 - ETA: 9s - loss: 0.5835 - ETA: 8s - loss: 0.583 - ETA: 7s - loss: 0.583 - ETA: 7s - loss: 0.583 - ETA: 6s - loss: 0.583 - ETA: 5s - loss: 0.583 - ETA: 5s - loss: 0.583 - ETA: 4s - loss: 0.583 - ETA: 3s - loss: 0.583 - ETA: 2s - loss: 0.583 - ETA: 2s - loss: 0.583 - ETA: 1s - loss: 0.583 - ETA: 0s - loss: 0.5836 - ETA: 2:32 - loss: 0.556 - ETA: 1:20 - loss: 0.556 - ETA: 56s - loss: 0.555 - ETA: 45s - loss: 0.58 - ETA: 38s - loss: 0.57 - ETA: 33s - loss: 0.59 - ETA: 29s - loss: 0.59 - ETA: 26s - loss: 0.59 - ETA: 23s - loss: 0.58 - ETA: 21s - loss: 0.58 - ETA: 20s - loss: 0.57 - ETA: 18s - loss: 0.57 - ETA: 17s - loss: 0.57 - ETA: 15s - loss: 0.57 - ETA: 14s - loss: 0.57 - ETA: 13s - loss: 0.57 - ETA: 13s - loss: 0.5700"
     ]
    },
    {
     "name": "stdout",
     "output_type": "stream",
     "text": [
      "41/41 [==============================] - ETA: 12s - loss: 0.56 - ETA: 11s - loss: 0.57 - ETA: 10s - loss: 0.56 - ETA: 10s - loss: 0.57 - ETA: 9s - loss: 0.5705 - ETA: 8s - loss: 0.569 - ETA: 8s - loss: 0.568 - ETA: 7s - loss: 0.567 - ETA: 7s - loss: 0.566 - ETA: 6s - loss: 0.570 - ETA: 5s - loss: 0.569 - ETA: 5s - loss: 0.567 - ETA: 4s - loss: 0.568 - ETA: 4s - loss: 0.568 - ETA: 3s - loss: 0.566 - ETA: 3s - loss: 0.565 - ETA: 2s - loss: 0.567 - ETA: 2s - loss: 0.568 - ETA: 2s - loss: 0.568 - ETA: 1s - loss: 0.569 - ETA: 1s - loss: 0.569 - ETA: 0s - loss: 0.569 - ETA: 0s - loss: 0.571 - 16s 394ms/step - loss: 0.5728\n",
      "\n",
      "##############################\n",
      "\n",
      "PR AUC Fish, train: 0.681\n",
      "\n",
      "PR AUC Flower, train: 0.827\n",
      "\n",
      "PR AUC Sugar, train: 0.820\n",
      "\n",
      "PR AUC Gravel, train: 0.761\n",
      "\n",
      "\n",
      "####################\n",
      " PR AUC mean, train: 0.772\n",
      "####################\n",
      "\n",
      "\n",
      "##############################\n",
      "\n",
      "PR AUC Fish, val: 0.664\n",
      "\n",
      "PR AUC Flower, val: 0.804\n",
      "\n",
      "PR AUC Sugar, val: 0.833\n",
      "\n",
      "PR AUC Gravel, val: 0.745\n",
      "\n",
      "\n",
      "####################\n",
      " PR AUC mean, val: 0.762\n",
      "####################\n",
      "\n",
      "\n",
      "####################\n",
      "Saved new checkpoint\n",
      "####################\n",
      "\n",
      "305/305 [==============================] - 347s 1s/step - loss: 0.5837 - val_loss: 0.5728\n",
      "Epoch 11/15\n"
     ]
    },
    {
     "name": "stdout",
     "output_type": "stream",
     "text": [
      "17/41 [===========>..................].] - ETA: 3:37 - loss: 0.649 - ETA: 3:38 - loss: 0.666 - ETA: 3:37 - loss: 0.624 - ETA: 3:37 - loss: 0.608 - ETA: 3:36 - loss: 0.600 - ETA: 3:35 - loss: 0.589 - ETA: 3:34 - loss: 0.582 - ETA: 3:34 - loss: 0.563 - ETA: 3:33 - loss: 0.563 - ETA: 3:33 - loss: 0.567 - ETA: 3:32 - loss: 0.577 - ETA: 3:32 - loss: 0.575 - ETA: 3:31 - loss: 0.575 - ETA: 3:30 - loss: 0.573 - ETA: 3:29 - loss: 0.573 - ETA: 3:28 - loss: 0.570 - ETA: 3:28 - loss: 0.568 - ETA: 3:27 - loss: 0.567 - ETA: 3:26 - loss: 0.567 - ETA: 3:26 - loss: 0.569 - ETA: 3:25 - loss: 0.573 - ETA: 3:24 - loss: 0.571 - ETA: 3:23 - loss: 0.571 - ETA: 3:23 - loss: 0.575 - ETA: 3:22 - loss: 0.576 - ETA: 3:21 - loss: 0.576 - ETA: 3:20 - loss: 0.575 - ETA: 3:19 - loss: 0.574 - ETA: 3:19 - loss: 0.575 - ETA: 3:18 - loss: 0.577 - ETA: 3:17 - loss: 0.578 - ETA: 3:17 - loss: 0.576 - ETA: 3:16 - loss: 0.575 - ETA: 3:15 - loss: 0.577 - ETA: 3:15 - loss: 0.577 - ETA: 3:14 - loss: 0.579 - ETA: 3:13 - loss: 0.578 - ETA: 3:12 - loss: 0.578 - ETA: 3:12 - loss: 0.578 - ETA: 3:11 - loss: 0.578 - ETA: 3:10 - loss: 0.579 - ETA: 3:09 - loss: 0.581 - ETA: 3:09 - loss: 0.580 - ETA: 3:08 - loss: 0.578 - ETA: 3:07 - loss: 0.580 - ETA: 3:07 - loss: 0.580 - ETA: 3:06 - loss: 0.584 - ETA: 3:05 - loss: 0.585 - ETA: 3:04 - loss: 0.587 - ETA: 3:04 - loss: 0.586 - ETA: 3:03 - loss: 0.585 - ETA: 3:02 - loss: 0.584 - ETA: 3:02 - loss: 0.586 - ETA: 3:01 - loss: 0.585 - ETA: 3:00 - loss: 0.586 - ETA: 2:59 - loss: 0.587 - ETA: 2:59 - loss: 0.586 - ETA: 2:58 - loss: 0.587 - ETA: 2:57 - loss: 0.588 - ETA: 2:57 - loss: 0.587 - ETA: 2:56 - loss: 0.586 - ETA: 2:55 - loss: 0.585 - ETA: 2:54 - loss: 0.586 - ETA: 2:54 - loss: 0.586 - ETA: 2:53 - loss: 0.586 - ETA: 2:52 - loss: 0.586 - ETA: 2:52 - loss: 0.586 - ETA: 2:51 - loss: 0.586 - ETA: 2:50 - loss: 0.585 - ETA: 2:49 - loss: 0.585 - ETA: 2:49 - loss: 0.585 - ETA: 2:48 - loss: 0.585 - ETA: 2:47 - loss: 0.586 - ETA: 2:46 - loss: 0.586 - ETA: 2:46 - loss: 0.585 - ETA: 2:45 - loss: 0.584 - ETA: 2:44 - loss: 0.584 - ETA: 2:44 - loss: 0.585 - ETA: 2:43 - loss: 0.584 - ETA: 2:42 - loss: 0.585 - ETA: 2:41 - loss: 0.584 - ETA: 2:41 - loss: 0.583 - ETA: 2:40 - loss: 0.583 - ETA: 2:39 - loss: 0.584 - ETA: 2:39 - loss: 0.583 - ETA: 2:38 - loss: 0.583 - ETA: 2:37 - loss: 0.583 - ETA: 2:36 - loss: 0.582 - ETA: 2:36 - loss: 0.583 - ETA: 2:35 - loss: 0.582 - ETA: 2:34 - loss: 0.582 - ETA: 2:34 - loss: 0.582 - ETA: 2:33 - loss: 0.582 - ETA: 2:32 - loss: 0.585 - ETA: 2:31 - loss: 0.585 - ETA: 2:31 - loss: 0.585 - ETA: 2:30 - loss: 0.584 - ETA: 2:29 - loss: 0.583 - ETA: 2:28 - loss: 0.583 - ETA: 2:28 - loss: 0.583 - ETA: 2:27 - loss: 0.583 - ETA: 2:26 - loss: 0.583 - ETA: 2:26 - loss: 0.584 - ETA: 2:25 - loss: 0.584 - ETA: 2:24 - loss: 0.584 - ETA: 2:23 - loss: 0.584 - ETA: 2:23 - loss: 0.583 - ETA: 2:22 - loss: 0.583 - ETA: 2:21 - loss: 0.583 - ETA: 2:21 - loss: 0.584 - ETA: 2:20 - loss: 0.583 - ETA: 2:19 - loss: 0.583 - ETA: 2:18 - loss: 0.582 - ETA: 2:18 - loss: 0.582 - ETA: 2:17 - loss: 0.582 - ETA: 2:16 - loss: 0.582 - ETA: 2:15 - loss: 0.582 - ETA: 2:15 - loss: 0.582 - ETA: 2:14 - loss: 0.583 - ETA: 2:13 - loss: 0.582 - ETA: 2:13 - loss: 0.582 - ETA: 2:12 - loss: 0.581 - ETA: 2:11 - loss: 0.581 - ETA: 2:10 - loss: 0.582 - ETA: 2:10 - loss: 0.582 - ETA: 2:09 - loss: 0.582 - ETA: 2:08 - loss: 0.582 - ETA: 2:08 - loss: 0.582 - ETA: 2:07 - loss: 0.582 - ETA: 2:06 - loss: 0.582 - ETA: 2:05 - loss: 0.582 - ETA: 2:05 - loss: 0.582 - ETA: 2:04 - loss: 0.582 - ETA: 2:03 - loss: 0.582 - ETA: 2:03 - loss: 0.582 - ETA: 2:02 - loss: 0.582 - ETA: 2:01 - loss: 0.582 - ETA: 2:00 - loss: 0.581 - ETA: 2:00 - loss: 0.582 - ETA: 1:59 - loss: 0.581 - ETA: 1:58 - loss: 0.581 - ETA: 1:57 - loss: 0.582 - ETA: 1:57 - loss: 0.582 - ETA: 1:56 - loss: 0.582 - ETA: 1:55 - loss: 0.583 - ETA: 1:55 - loss: 0.583 - ETA: 1:54 - loss: 0.583 - ETA: 1:53 - loss: 0.583 - ETA: 1:52 - loss: 0.582 - ETA: 1:52 - loss: 0.583 - ETA: 1:51 - loss: 0.583 - ETA: 1:50 - loss: 0.583 - ETA: 1:50 - loss: 0.583 - ETA: 1:49 - loss: 0.583 - ETA: 1:48 - loss: 0.583 - ETA: 1:47 - loss: 0.584 - ETA: 1:47 - loss: 0.584 - ETA: 1:46 - loss: 0.583 - ETA: 1:45 - loss: 0.583 - ETA: 1:44 - loss: 0.584 - ETA: 1:44 - loss: 0.584 - ETA: 1:43 - loss: 0.584 - ETA: 1:42 - loss: 0.584 - ETA: 1:42 - loss: 0.584 - ETA: 1:41 - loss: 0.584 - ETA: 1:40 - loss: 0.584 - ETA: 1:39 - loss: 0.584 - ETA: 1:39 - loss: 0.584 - ETA: 1:38 - loss: 0.584 - ETA: 1:37 - loss: 0.584 - ETA: 1:37 - loss: 0.584 - ETA: 1:36 - loss: 0.584 - ETA: 1:35 - loss: 0.584 - ETA: 1:34 - loss: 0.584 - ETA: 1:34 - loss: 0.584 - ETA: 1:33 - loss: 0.585 - ETA: 1:32 - loss: 0.585 - ETA: 1:31 - loss: 0.585 - ETA: 1:31 - loss: 0.585 - ETA: 1:30 - loss: 0.584 - ETA: 1:29 - loss: 0.585 - ETA: 1:29 - loss: 0.585 - ETA: 1:28 - loss: 0.585 - ETA: 1:27 - loss: 0.585 - ETA: 1:26 - loss: 0.585 - ETA: 1:26 - loss: 0.585 - ETA: 1:25 - loss: 0.585 - ETA: 1:24 - loss: 0.585 - ETA: 1:24 - loss: 0.585 - ETA: 1:23 - loss: 0.585 - ETA: 1:22 - loss: 0.585 - ETA: 1:21 - loss: 0.585 - ETA: 1:21 - loss: 0.584 - ETA: 1:20 - loss: 0.584 - ETA: 1:19 - loss: 0.584 - ETA: 1:18 - loss: 0.584 - ETA: 1:18 - loss: 0.584 - ETA: 1:17 - loss: 0.584 - ETA: 1:16 - loss: 0.584 - ETA: 1:16 - loss: 0.584 - ETA: 1:15 - loss: 0.584 - ETA: 1:14 - loss: 0.584 - ETA: 1:13 - loss: 0.583 - ETA: 1:13 - loss: 0.583 - ETA: 1:12 - loss: 0.583 - ETA: 1:11 - loss: 0.583 - ETA: 1:10 - loss: 0.583 - ETA: 1:10 - loss: 0.583 - ETA: 1:09 - loss: 0.583 - ETA: 1:08 - loss: 0.583 - ETA: 1:08 - loss: 0.583 - ETA: 1:07 - loss: 0.583 - ETA: 1:06 - loss: 0.583 - ETA: 1:05 - loss: 0.583 - ETA: 1:05 - loss: 0.584 - ETA: 1:04 - loss: 0.583 - ETA: 1:03 - loss: 0.583 - ETA: 1:02 - loss: 0.583 - ETA: 1:02 - loss: 0.583 - ETA: 1:01 - loss: 0.582 - ETA: 1:00 - loss: 0.583 - ETA: 1:00 - loss: 0.583 - ETA: 59s - loss: 0.583 - ETA: 58s - loss: 0.58 - ETA: 57s - loss: 0.58 - ETA: 57s - loss: 0.58 - ETA: 56s - loss: 0.58 - ETA: 55s - loss: 0.58 - ETA: 55s - loss: 0.58 - ETA: 54s - loss: 0.58 - ETA: 53s - loss: 0.58 - ETA: 52s - loss: 0.58 - ETA: 52s - loss: 0.58 - ETA: 51s - loss: 0.58 - ETA: 50s - loss: 0.58 - ETA: 49s - loss: 0.58 - ETA: 49s - loss: 0.58 - ETA: 48s - loss: 0.58 - ETA: 47s - loss: 0.58 - ETA: 47s - loss: 0.58 - ETA: 46s - loss: 0.58 - ETA: 45s - loss: 0.58 - ETA: 44s - loss: 0.58 - ETA: 44s - loss: 0.58 - ETA: 43s - loss: 0.58 - ETA: 42s - loss: 0.58 - ETA: 41s - loss: 0.58 - ETA: 41s - loss: 0.58 - ETA: 40s - loss: 0.58 - ETA: 39s - loss: 0.58 - ETA: 39s - loss: 0.58 - ETA: 38s - loss: 0.58 - ETA: 37s - loss: 0.58 - ETA: 36s - loss: 0.58 - ETA: 36s - loss: 0.58 - ETA: 35s - loss: 0.58 - ETA: 34s - loss: 0.58 - ETA: 34s - loss: 0.58 - ETA: 33s - loss: 0.58 - ETA: 32s - loss: 0.58 - ETA: 31s - loss: 0.58 - ETA: 31s - loss: 0.58 - ETA: 30s - loss: 0.58 - ETA: 29s - loss: 0.58 - ETA: 28s - loss: 0.58 - ETA: 28s - loss: 0.58 - ETA: 27s - loss: 0.58 - ETA: 26s - loss: 0.58 - ETA: 26s - loss: 0.58 - ETA: 25s - loss: 0.58 - ETA: 24s - loss: 0.58 - ETA: 23s - loss: 0.58 - ETA: 23s - loss: 0.58 - ETA: 22s - loss: 0.58 - ETA: 21s - loss: 0.58 - ETA: 21s - loss: 0.58 - ETA: 20s - loss: 0.58 - ETA: 19s - loss: 0.58 - ETA: 18s - loss: 0.58 - ETA: 18s - loss: 0.58 - ETA: 17s - loss: 0.58 - ETA: 16s - loss: 0.58 - ETA: 15s - loss: 0.58 - ETA: 15s - loss: 0.58 - ETA: 14s - loss: 0.58 - ETA: 13s - loss: 0.58 - ETA: 13s - loss: 0.58 - ETA: 12s - loss: 0.58 - ETA: 11s - loss: 0.58 - ETA: 10s - loss: 0.58 - ETA: 10s - loss: 0.58 - ETA: 9s - loss: 0.5829 - ETA: 8s - loss: 0.582 - ETA: 7s - loss: 0.582 - ETA: 7s - loss: 0.582 - ETA: 6s - loss: 0.582 - ETA: 5s - loss: 0.582 - ETA: 5s - loss: 0.582 - ETA: 4s - loss: 0.582 - ETA: 3s - loss: 0.582 - ETA: 2s - loss: 0.582 - ETA: 2s - loss: 0.581 - ETA: 1s - loss: 0.581 - ETA: 0s - loss: 0.5814 - ETA: 2:38 - loss: 0.579 - ETA: 1:23 - loss: 0.578 - ETA: 58s - loss: 0.560 - ETA: 46s - loss: 0.58 - ETA: 38s - loss: 0.58 - ETA: 33s - loss: 0.59 - ETA: 29s - loss: 0.60 - ETA: 26s - loss: 0.60 - ETA: 23s - loss: 0.59 - ETA: 21s - loss: 0.59 - ETA: 19s - loss: 0.58 - ETA: 18s - loss: 0.58 - ETA: 17s - loss: 0.58 - ETA: 16s - loss: 0.58 - ETA: 15s - loss: 0.58 - ETA: 14s - loss: 0.58 - ETA: 13s - loss: 0.5849"
     ]
    },
    {
     "name": "stdout",
     "output_type": "stream",
     "text": [
      "41/41 [==============================] - ETA: 12s - loss: 0.58 - ETA: 11s - loss: 0.58 - ETA: 10s - loss: 0.58 - ETA: 9s - loss: 0.5834 - ETA: 9s - loss: 0.582 - ETA: 8s - loss: 0.581 - ETA: 8s - loss: 0.581 - ETA: 7s - loss: 0.579 - ETA: 6s - loss: 0.577 - ETA: 6s - loss: 0.580 - ETA: 5s - loss: 0.580 - ETA: 5s - loss: 0.578 - ETA: 4s - loss: 0.580 - ETA: 4s - loss: 0.579 - ETA: 3s - loss: 0.579 - ETA: 3s - loss: 0.579 - ETA: 2s - loss: 0.580 - ETA: 2s - loss: 0.581 - ETA: 2s - loss: 0.582 - ETA: 1s - loss: 0.583 - ETA: 1s - loss: 0.583 - ETA: 0s - loss: 0.583 - ETA: 0s - loss: 0.587 - 16s 391ms/step - loss: 0.5880\n",
      "\n",
      "##############################\n",
      "\n",
      "PR AUC Fish, train: 0.673\n",
      "\n",
      "PR AUC Flower, train: 0.829\n",
      "\n",
      "PR AUC Sugar, train: 0.827\n",
      "\n",
      "PR AUC Gravel, train: 0.761\n",
      "\n",
      "\n",
      "####################\n",
      " PR AUC mean, train: 0.773\n",
      "####################\n",
      "\n",
      "\n",
      "##############################\n",
      "\n",
      "PR AUC Fish, val: 0.644\n",
      "\n",
      "PR AUC Flower, val: 0.809\n",
      "\n",
      "PR AUC Sugar, val: 0.835\n",
      "\n",
      "PR AUC Gravel, val: 0.744\n",
      "\n",
      "\n",
      "####################\n",
      " PR AUC mean, val: 0.758\n",
      "####################\n",
      "\n",
      "\n",
      "####################\n",
      "Saved new checkpoint\n",
      "####################\n",
      "\n",
      "305/305 [==============================] - 346s 1s/step - loss: 0.5816 - val_loss: 0.5880\n",
      "Epoch 12/15\n"
     ]
    },
    {
     "name": "stdout",
     "output_type": "stream",
     "text": [
      "17/41 [===========>..................].] - ETA: 3:33 - loss: 0.547 - ETA: 3:37 - loss: 0.579 - ETA: 3:37 - loss: 0.554 - ETA: 3:36 - loss: 0.561 - ETA: 3:37 - loss: 0.563 - ETA: 3:37 - loss: 0.573 - ETA: 3:36 - loss: 0.571 - ETA: 3:35 - loss: 0.587 - ETA: 3:35 - loss: 0.585 - ETA: 3:35 - loss: 0.584 - ETA: 3:34 - loss: 0.582 - ETA: 3:34 - loss: 0.581 - ETA: 3:33 - loss: 0.578 - ETA: 3:32 - loss: 0.575 - ETA: 3:31 - loss: 0.576 - ETA: 3:30 - loss: 0.578 - ETA: 3:30 - loss: 0.579 - ETA: 3:29 - loss: 0.577 - ETA: 3:28 - loss: 0.578 - ETA: 3:27 - loss: 0.580 - ETA: 3:26 - loss: 0.582 - ETA: 3:25 - loss: 0.581 - ETA: 3:24 - loss: 0.578 - ETA: 3:24 - loss: 0.579 - ETA: 3:23 - loss: 0.580 - ETA: 3:22 - loss: 0.583 - ETA: 3:22 - loss: 0.582 - ETA: 3:21 - loss: 0.581 - ETA: 3:20 - loss: 0.580 - ETA: 3:19 - loss: 0.579 - ETA: 3:18 - loss: 0.582 - ETA: 3:18 - loss: 0.583 - ETA: 3:17 - loss: 0.583 - ETA: 3:16 - loss: 0.582 - ETA: 3:15 - loss: 0.583 - ETA: 3:15 - loss: 0.583 - ETA: 3:14 - loss: 0.582 - ETA: 3:13 - loss: 0.582 - ETA: 3:12 - loss: 0.580 - ETA: 3:11 - loss: 0.582 - ETA: 3:11 - loss: 0.583 - ETA: 3:10 - loss: 0.582 - ETA: 3:09 - loss: 0.582 - ETA: 3:08 - loss: 0.581 - ETA: 3:08 - loss: 0.582 - ETA: 3:07 - loss: 0.580 - ETA: 3:06 - loss: 0.581 - ETA: 3:06 - loss: 0.581 - ETA: 3:05 - loss: 0.581 - ETA: 3:04 - loss: 0.580 - ETA: 3:03 - loss: 0.582 - ETA: 3:03 - loss: 0.582 - ETA: 3:02 - loss: 0.582 - ETA: 3:01 - loss: 0.582 - ETA: 3:01 - loss: 0.581 - ETA: 3:00 - loss: 0.580 - ETA: 2:59 - loss: 0.579 - ETA: 2:58 - loss: 0.578 - ETA: 2:58 - loss: 0.577 - ETA: 2:57 - loss: 0.577 - ETA: 2:56 - loss: 0.578 - ETA: 2:55 - loss: 0.578 - ETA: 2:55 - loss: 0.578 - ETA: 2:54 - loss: 0.576 - ETA: 2:53 - loss: 0.575 - ETA: 2:52 - loss: 0.575 - ETA: 2:52 - loss: 0.575 - ETA: 2:51 - loss: 0.574 - ETA: 2:50 - loss: 0.573 - ETA: 2:50 - loss: 0.572 - ETA: 2:49 - loss: 0.572 - ETA: 2:48 - loss: 0.573 - ETA: 2:47 - loss: 0.572 - ETA: 2:47 - loss: 0.573 - ETA: 2:46 - loss: 0.573 - ETA: 2:45 - loss: 0.573 - ETA: 2:44 - loss: 0.574 - ETA: 2:44 - loss: 0.573 - ETA: 2:43 - loss: 0.574 - ETA: 2:42 - loss: 0.575 - ETA: 2:42 - loss: 0.575 - ETA: 2:41 - loss: 0.576 - ETA: 2:40 - loss: 0.576 - ETA: 2:39 - loss: 0.576 - ETA: 2:39 - loss: 0.577 - ETA: 2:38 - loss: 0.578 - ETA: 2:37 - loss: 0.578 - ETA: 2:36 - loss: 0.579 - ETA: 2:36 - loss: 0.578 - ETA: 2:35 - loss: 0.578 - ETA: 2:34 - loss: 0.578 - ETA: 2:34 - loss: 0.578 - ETA: 2:33 - loss: 0.579 - ETA: 2:32 - loss: 0.579 - ETA: 2:31 - loss: 0.579 - ETA: 2:31 - loss: 0.580 - ETA: 2:30 - loss: 0.579 - ETA: 2:29 - loss: 0.580 - ETA: 2:28 - loss: 0.580 - ETA: 2:28 - loss: 0.580 - ETA: 2:27 - loss: 0.580 - ETA: 2:26 - loss: 0.580 - ETA: 2:26 - loss: 0.580 - ETA: 2:25 - loss: 0.579 - ETA: 2:24 - loss: 0.579 - ETA: 2:23 - loss: 0.580 - ETA: 2:23 - loss: 0.580 - ETA: 2:22 - loss: 0.579 - ETA: 2:21 - loss: 0.580 - ETA: 2:21 - loss: 0.579 - ETA: 2:20 - loss: 0.579 - ETA: 2:19 - loss: 0.579 - ETA: 2:18 - loss: 0.579 - ETA: 2:18 - loss: 0.579 - ETA: 2:17 - loss: 0.579 - ETA: 2:16 - loss: 0.578 - ETA: 2:15 - loss: 0.578 - ETA: 2:15 - loss: 0.578 - ETA: 2:14 - loss: 0.577 - ETA: 2:13 - loss: 0.577 - ETA: 2:13 - loss: 0.577 - ETA: 2:12 - loss: 0.577 - ETA: 2:11 - loss: 0.577 - ETA: 2:10 - loss: 0.577 - ETA: 2:10 - loss: 0.577 - ETA: 2:09 - loss: 0.577 - ETA: 2:08 - loss: 0.577 - ETA: 2:08 - loss: 0.577 - ETA: 2:07 - loss: 0.577 - ETA: 2:06 - loss: 0.577 - ETA: 2:05 - loss: 0.577 - ETA: 2:05 - loss: 0.577 - ETA: 2:04 - loss: 0.577 - ETA: 2:03 - loss: 0.578 - ETA: 2:02 - loss: 0.578 - ETA: 2:02 - loss: 0.578 - ETA: 2:01 - loss: 0.578 - ETA: 2:00 - loss: 0.578 - ETA: 2:00 - loss: 0.579 - ETA: 1:59 - loss: 0.579 - ETA: 1:58 - loss: 0.579 - ETA: 1:57 - loss: 0.579 - ETA: 1:57 - loss: 0.578 - ETA: 1:56 - loss: 0.578 - ETA: 1:55 - loss: 0.578 - ETA: 1:55 - loss: 0.578 - ETA: 1:54 - loss: 0.578 - ETA: 1:53 - loss: 0.577 - ETA: 1:52 - loss: 0.577 - ETA: 1:52 - loss: 0.577 - ETA: 1:51 - loss: 0.577 - ETA: 1:50 - loss: 0.577 - ETA: 1:49 - loss: 0.577 - ETA: 1:49 - loss: 0.577 - ETA: 1:48 - loss: 0.576 - ETA: 1:47 - loss: 0.576 - ETA: 1:47 - loss: 0.576 - ETA: 1:46 - loss: 0.576 - ETA: 1:45 - loss: 0.576 - ETA: 1:44 - loss: 0.576 - ETA: 1:44 - loss: 0.577 - ETA: 1:43 - loss: 0.577 - ETA: 1:42 - loss: 0.577 - ETA: 1:41 - loss: 0.578 - ETA: 1:41 - loss: 0.578 - ETA: 1:40 - loss: 0.578 - ETA: 1:39 - loss: 0.577 - ETA: 1:39 - loss: 0.577 - ETA: 1:38 - loss: 0.577 - ETA: 1:37 - loss: 0.577 - ETA: 1:36 - loss: 0.577 - ETA: 1:36 - loss: 0.577 - ETA: 1:35 - loss: 0.576 - ETA: 1:34 - loss: 0.576 - ETA: 1:34 - loss: 0.576 - ETA: 1:33 - loss: 0.575 - ETA: 1:32 - loss: 0.575 - ETA: 1:31 - loss: 0.575 - ETA: 1:31 - loss: 0.576 - ETA: 1:30 - loss: 0.576 - ETA: 1:29 - loss: 0.576 - ETA: 1:28 - loss: 0.577 - ETA: 1:28 - loss: 0.577 - ETA: 1:27 - loss: 0.577 - ETA: 1:26 - loss: 0.577 - ETA: 1:26 - loss: 0.577 - ETA: 1:25 - loss: 0.577 - ETA: 1:24 - loss: 0.577 - ETA: 1:23 - loss: 0.577 - ETA: 1:23 - loss: 0.577 - ETA: 1:22 - loss: 0.576 - ETA: 1:21 - loss: 0.577 - ETA: 1:21 - loss: 0.576 - ETA: 1:20 - loss: 0.576 - ETA: 1:19 - loss: 0.577 - ETA: 1:18 - loss: 0.576 - ETA: 1:18 - loss: 0.576 - ETA: 1:17 - loss: 0.576 - ETA: 1:16 - loss: 0.576 - ETA: 1:15 - loss: 0.576 - ETA: 1:15 - loss: 0.575 - ETA: 1:14 - loss: 0.575 - ETA: 1:13 - loss: 0.576 - ETA: 1:13 - loss: 0.575 - ETA: 1:12 - loss: 0.575 - ETA: 1:11 - loss: 0.575 - ETA: 1:10 - loss: 0.575 - ETA: 1:10 - loss: 0.575 - ETA: 1:09 - loss: 0.575 - ETA: 1:08 - loss: 0.575 - ETA: 1:07 - loss: 0.575 - ETA: 1:07 - loss: 0.575 - ETA: 1:06 - loss: 0.575 - ETA: 1:05 - loss: 0.575 - ETA: 1:05 - loss: 0.575 - ETA: 1:04 - loss: 0.575 - ETA: 1:03 - loss: 0.575 - ETA: 1:02 - loss: 0.575 - ETA: 1:02 - loss: 0.575 - ETA: 1:01 - loss: 0.575 - ETA: 1:00 - loss: 0.575 - ETA: 1:00 - loss: 0.575 - ETA: 59s - loss: 0.575 - ETA: 58s - loss: 0.57 - ETA: 57s - loss: 0.57 - ETA: 57s - loss: 0.57 - ETA: 56s - loss: 0.57 - ETA: 55s - loss: 0.57 - ETA: 54s - loss: 0.57 - ETA: 54s - loss: 0.57 - ETA: 53s - loss: 0.57 - ETA: 52s - loss: 0.57 - ETA: 52s - loss: 0.57 - ETA: 51s - loss: 0.57 - ETA: 50s - loss: 0.57 - ETA: 49s - loss: 0.57 - ETA: 49s - loss: 0.57 - ETA: 48s - loss: 0.57 - ETA: 47s - loss: 0.57 - ETA: 47s - loss: 0.57 - ETA: 46s - loss: 0.57 - ETA: 45s - loss: 0.57 - ETA: 44s - loss: 0.57 - ETA: 44s - loss: 0.57 - ETA: 43s - loss: 0.57 - ETA: 42s - loss: 0.57 - ETA: 41s - loss: 0.57 - ETA: 41s - loss: 0.57 - ETA: 40s - loss: 0.57 - ETA: 39s - loss: 0.57 - ETA: 39s - loss: 0.57 - ETA: 38s - loss: 0.57 - ETA: 37s - loss: 0.57 - ETA: 36s - loss: 0.57 - ETA: 36s - loss: 0.57 - ETA: 35s - loss: 0.57 - ETA: 34s - loss: 0.57 - ETA: 34s - loss: 0.57 - ETA: 33s - loss: 0.57 - ETA: 32s - loss: 0.57 - ETA: 31s - loss: 0.57 - ETA: 31s - loss: 0.57 - ETA: 30s - loss: 0.57 - ETA: 29s - loss: 0.57 - ETA: 28s - loss: 0.57 - ETA: 28s - loss: 0.57 - ETA: 27s - loss: 0.57 - ETA: 26s - loss: 0.57 - ETA: 26s - loss: 0.57 - ETA: 25s - loss: 0.57 - ETA: 24s - loss: 0.57 - ETA: 23s - loss: 0.57 - ETA: 23s - loss: 0.57 - ETA: 22s - loss: 0.57 - ETA: 21s - loss: 0.57 - ETA: 20s - loss: 0.57 - ETA: 20s - loss: 0.57 - ETA: 19s - loss: 0.57 - ETA: 18s - loss: 0.57 - ETA: 18s - loss: 0.57 - ETA: 17s - loss: 0.57 - ETA: 16s - loss: 0.57 - ETA: 15s - loss: 0.57 - ETA: 15s - loss: 0.57 - ETA: 14s - loss: 0.57 - ETA: 13s - loss: 0.57 - ETA: 13s - loss: 0.57 - ETA: 12s - loss: 0.57 - ETA: 11s - loss: 0.57 - ETA: 10s - loss: 0.57 - ETA: 10s - loss: 0.57 - ETA: 9s - loss: 0.5786 - ETA: 8s - loss: 0.578 - ETA: 7s - loss: 0.578 - ETA: 7s - loss: 0.578 - ETA: 6s - loss: 0.578 - ETA: 5s - loss: 0.578 - ETA: 5s - loss: 0.578 - ETA: 4s - loss: 0.578 - ETA: 3s - loss: 0.579 - ETA: 2s - loss: 0.579 - ETA: 2s - loss: 0.579 - ETA: 1s - loss: 0.579 - ETA: 0s - loss: 0.5791 - ETA: 2:36 - loss: 0.608 - ETA: 1:22 - loss: 0.599 - ETA: 58s - loss: 0.569 - ETA: 45s - loss: 0.59 - ETA: 38s - loss: 0.58 - ETA: 33s - loss: 0.60 - ETA: 29s - loss: 0.62 - ETA: 26s - loss: 0.61 - ETA: 23s - loss: 0.60 - ETA: 21s - loss: 0.60 - ETA: 20s - loss: 0.60 - ETA: 18s - loss: 0.60 - ETA: 17s - loss: 0.60 - ETA: 16s - loss: 0.60 - ETA: 14s - loss: 0.60 - ETA: 13s - loss: 0.60 - ETA: 13s - loss: 0.6045"
     ]
    },
    {
     "name": "stdout",
     "output_type": "stream",
     "text": [
      "41/41 [==============================] - ETA: 12s - loss: 0.59 - ETA: 11s - loss: 0.60 - ETA: 10s - loss: 0.59 - ETA: 9s - loss: 0.6017 - ETA: 9s - loss: 0.600 - ETA: 8s - loss: 0.598 - ETA: 8s - loss: 0.597 - ETA: 7s - loss: 0.594 - ETA: 6s - loss: 0.591 - ETA: 6s - loss: 0.595 - ETA: 5s - loss: 0.596 - ETA: 5s - loss: 0.594 - ETA: 4s - loss: 0.596 - ETA: 4s - loss: 0.594 - ETA: 3s - loss: 0.595 - ETA: 3s - loss: 0.595 - ETA: 2s - loss: 0.597 - ETA: 2s - loss: 0.598 - ETA: 2s - loss: 0.599 - ETA: 1s - loss: 0.600 - ETA: 1s - loss: 0.600 - ETA: 0s - loss: 0.600 - ETA: 0s - loss: 0.604 - 16s 391ms/step - loss: 0.6051\n",
      "\n",
      "##############################\n",
      "\n",
      "PR AUC Fish, train: 0.674\n",
      "\n",
      "PR AUC Flower, train: 0.831\n",
      "\n",
      "PR AUC Sugar, train: 0.827\n",
      "\n",
      "PR AUC Gravel, train: 0.762\n",
      "\n",
      "\n",
      "####################\n",
      " PR AUC mean, train: 0.773\n",
      "####################\n",
      "\n",
      "\n",
      "##############################\n",
      "\n",
      "PR AUC Fish, val: 0.646\n",
      "\n",
      "PR AUC Flower, val: 0.807\n",
      "\n",
      "PR AUC Sugar, val: 0.832\n",
      "\n",
      "PR AUC Gravel, val: 0.748\n",
      "\n",
      "\n",
      "####################\n",
      " PR AUC mean, val: 0.758\n",
      "####################\n",
      "\n",
      "\n",
      "####################\n",
      "Saved new checkpoint\n",
      "####################\n",
      "\n",
      "305/305 [==============================] - 346s 1s/step - loss: 0.5794 - val_loss: 0.6051\n",
      "Epoch 13/15\n"
     ]
    },
    {
     "name": "stdout",
     "output_type": "stream",
     "text": [
      "17/41 [===========>..................].] - ETA: 3:35 - loss: 0.601 - ETA: 3:35 - loss: 0.557 - ETA: 3:35 - loss: 0.569 - ETA: 3:36 - loss: 0.569 - ETA: 3:35 - loss: 0.567 - ETA: 3:34 - loss: 0.570 - ETA: 3:33 - loss: 0.572 - ETA: 3:33 - loss: 0.579 - ETA: 3:32 - loss: 0.582 - ETA: 3:31 - loss: 0.579 - ETA: 3:31 - loss: 0.578 - ETA: 3:30 - loss: 0.579 - ETA: 3:30 - loss: 0.579 - ETA: 3:29 - loss: 0.581 - ETA: 3:29 - loss: 0.578 - ETA: 3:28 - loss: 0.582 - ETA: 3:27 - loss: 0.585 - ETA: 3:27 - loss: 0.581 - ETA: 3:26 - loss: 0.579 - ETA: 3:25 - loss: 0.574 - ETA: 3:24 - loss: 0.576 - ETA: 3:23 - loss: 0.575 - ETA: 3:23 - loss: 0.576 - ETA: 3:22 - loss: 0.579 - ETA: 3:21 - loss: 0.579 - ETA: 3:21 - loss: 0.579 - ETA: 3:20 - loss: 0.579 - ETA: 3:19 - loss: 0.576 - ETA: 3:19 - loss: 0.578 - ETA: 3:18 - loss: 0.579 - ETA: 3:17 - loss: 0.581 - ETA: 3:16 - loss: 0.580 - ETA: 3:16 - loss: 0.578 - ETA: 3:15 - loss: 0.577 - ETA: 3:14 - loss: 0.576 - ETA: 3:14 - loss: 0.575 - ETA: 3:13 - loss: 0.574 - ETA: 3:12 - loss: 0.575 - ETA: 3:12 - loss: 0.575 - ETA: 3:11 - loss: 0.574 - ETA: 3:10 - loss: 0.572 - ETA: 3:09 - loss: 0.572 - ETA: 3:09 - loss: 0.572 - ETA: 3:08 - loss: 0.572 - ETA: 3:07 - loss: 0.571 - ETA: 3:07 - loss: 0.574 - ETA: 3:06 - loss: 0.574 - ETA: 3:05 - loss: 0.575 - ETA: 3:04 - loss: 0.574 - ETA: 3:04 - loss: 0.578 - ETA: 3:03 - loss: 0.579 - ETA: 3:02 - loss: 0.579 - ETA: 3:02 - loss: 0.580 - ETA: 3:01 - loss: 0.581 - ETA: 3:00 - loss: 0.579 - ETA: 2:59 - loss: 0.580 - ETA: 2:59 - loss: 0.580 - ETA: 2:58 - loss: 0.579 - ETA: 2:57 - loss: 0.578 - ETA: 2:56 - loss: 0.578 - ETA: 2:56 - loss: 0.578 - ETA: 2:55 - loss: 0.578 - ETA: 2:54 - loss: 0.579 - ETA: 2:54 - loss: 0.578 - ETA: 2:53 - loss: 0.578 - ETA: 2:52 - loss: 0.576 - ETA: 2:52 - loss: 0.576 - ETA: 2:51 - loss: 0.577 - ETA: 2:50 - loss: 0.576 - ETA: 2:49 - loss: 0.577 - ETA: 2:49 - loss: 0.577 - ETA: 2:48 - loss: 0.576 - ETA: 2:47 - loss: 0.576 - ETA: 2:46 - loss: 0.575 - ETA: 2:46 - loss: 0.575 - ETA: 2:45 - loss: 0.576 - ETA: 2:44 - loss: 0.575 - ETA: 2:44 - loss: 0.576 - ETA: 2:43 - loss: 0.576 - ETA: 2:42 - loss: 0.577 - ETA: 2:41 - loss: 0.576 - ETA: 2:41 - loss: 0.576 - ETA: 2:40 - loss: 0.576 - ETA: 2:39 - loss: 0.576 - ETA: 2:39 - loss: 0.576 - ETA: 2:38 - loss: 0.575 - ETA: 2:37 - loss: 0.575 - ETA: 2:36 - loss: 0.576 - ETA: 2:36 - loss: 0.577 - ETA: 2:35 - loss: 0.577 - ETA: 2:34 - loss: 0.576 - ETA: 2:33 - loss: 0.576 - ETA: 2:33 - loss: 0.576 - ETA: 2:32 - loss: 0.576 - ETA: 2:31 - loss: 0.576 - ETA: 2:31 - loss: 0.576 - ETA: 2:30 - loss: 0.576 - ETA: 2:29 - loss: 0.575 - ETA: 2:28 - loss: 0.575 - ETA: 2:28 - loss: 0.575 - ETA: 2:27 - loss: 0.575 - ETA: 2:26 - loss: 0.575 - ETA: 2:26 - loss: 0.575 - ETA: 2:25 - loss: 0.574 - ETA: 2:24 - loss: 0.575 - ETA: 2:23 - loss: 0.575 - ETA: 2:23 - loss: 0.576 - ETA: 2:22 - loss: 0.576 - ETA: 2:21 - loss: 0.576 - ETA: 2:21 - loss: 0.576 - ETA: 2:20 - loss: 0.576 - ETA: 2:19 - loss: 0.576 - ETA: 2:18 - loss: 0.576 - ETA: 2:18 - loss: 0.577 - ETA: 2:17 - loss: 0.576 - ETA: 2:16 - loss: 0.576 - ETA: 2:16 - loss: 0.576 - ETA: 2:15 - loss: 0.576 - ETA: 2:14 - loss: 0.577 - ETA: 2:13 - loss: 0.577 - ETA: 2:13 - loss: 0.577 - ETA: 2:12 - loss: 0.577 - ETA: 2:11 - loss: 0.577 - ETA: 2:10 - loss: 0.577 - ETA: 2:10 - loss: 0.577 - ETA: 2:09 - loss: 0.578 - ETA: 2:08 - loss: 0.578 - ETA: 2:08 - loss: 0.578 - ETA: 2:07 - loss: 0.579 - ETA: 2:06 - loss: 0.579 - ETA: 2:05 - loss: 0.579 - ETA: 2:05 - loss: 0.578 - ETA: 2:04 - loss: 0.578 - ETA: 2:03 - loss: 0.578 - ETA: 2:03 - loss: 0.578 - ETA: 2:02 - loss: 0.578 - ETA: 2:01 - loss: 0.578 - ETA: 2:00 - loss: 0.578 - ETA: 2:00 - loss: 0.577 - ETA: 1:59 - loss: 0.577 - ETA: 1:58 - loss: 0.578 - ETA: 1:57 - loss: 0.578 - ETA: 1:57 - loss: 0.578 - ETA: 1:56 - loss: 0.578 - ETA: 1:55 - loss: 0.578 - ETA: 1:55 - loss: 0.579 - ETA: 1:54 - loss: 0.579 - ETA: 1:53 - loss: 0.579 - ETA: 1:52 - loss: 0.578 - ETA: 1:52 - loss: 0.578 - ETA: 1:51 - loss: 0.578 - ETA: 1:50 - loss: 0.578 - ETA: 1:50 - loss: 0.578 - ETA: 1:49 - loss: 0.578 - ETA: 1:48 - loss: 0.578 - ETA: 1:47 - loss: 0.579 - ETA: 1:47 - loss: 0.579 - ETA: 1:46 - loss: 0.579 - ETA: 1:45 - loss: 0.578 - ETA: 1:44 - loss: 0.578 - ETA: 1:44 - loss: 0.579 - ETA: 1:43 - loss: 0.579 - ETA: 1:42 - loss: 0.579 - ETA: 1:42 - loss: 0.579 - ETA: 1:41 - loss: 0.579 - ETA: 1:40 - loss: 0.579 - ETA: 1:39 - loss: 0.579 - ETA: 1:39 - loss: 0.579 - ETA: 1:38 - loss: 0.579 - ETA: 1:37 - loss: 0.578 - ETA: 1:36 - loss: 0.578 - ETA: 1:36 - loss: 0.578 - ETA: 1:35 - loss: 0.578 - ETA: 1:34 - loss: 0.579 - ETA: 1:34 - loss: 0.578 - ETA: 1:33 - loss: 0.578 - ETA: 1:32 - loss: 0.578 - ETA: 1:31 - loss: 0.578 - ETA: 1:31 - loss: 0.578 - ETA: 1:30 - loss: 0.578 - ETA: 1:29 - loss: 0.578 - ETA: 1:29 - loss: 0.578 - ETA: 1:28 - loss: 0.577 - ETA: 1:27 - loss: 0.578 - ETA: 1:26 - loss: 0.577 - ETA: 1:26 - loss: 0.577 - ETA: 1:25 - loss: 0.577 - ETA: 1:24 - loss: 0.577 - ETA: 1:23 - loss: 0.577 - ETA: 1:23 - loss: 0.577 - ETA: 1:22 - loss: 0.577 - ETA: 1:21 - loss: 0.577 - ETA: 1:21 - loss: 0.577 - ETA: 1:20 - loss: 0.577 - ETA: 1:19 - loss: 0.577 - ETA: 1:18 - loss: 0.577 - ETA: 1:18 - loss: 0.577 - ETA: 1:17 - loss: 0.578 - ETA: 1:16 - loss: 0.578 - ETA: 1:16 - loss: 0.578 - ETA: 1:15 - loss: 0.578 - ETA: 1:14 - loss: 0.577 - ETA: 1:13 - loss: 0.577 - ETA: 1:13 - loss: 0.578 - ETA: 1:12 - loss: 0.577 - ETA: 1:11 - loss: 0.577 - ETA: 1:10 - loss: 0.577 - ETA: 1:10 - loss: 0.577 - ETA: 1:09 - loss: 0.576 - ETA: 1:08 - loss: 0.576 - ETA: 1:08 - loss: 0.576 - ETA: 1:07 - loss: 0.576 - ETA: 1:06 - loss: 0.576 - ETA: 1:05 - loss: 0.576 - ETA: 1:05 - loss: 0.576 - ETA: 1:04 - loss: 0.576 - ETA: 1:03 - loss: 0.575 - ETA: 1:03 - loss: 0.575 - ETA: 1:02 - loss: 0.575 - ETA: 1:01 - loss: 0.575 - ETA: 1:00 - loss: 0.575 - ETA: 1:00 - loss: 0.575 - ETA: 59s - loss: 0.575 - ETA: 58s - loss: 0.57 - ETA: 57s - loss: 0.57 - ETA: 57s - loss: 0.57 - ETA: 56s - loss: 0.57 - ETA: 55s - loss: 0.57 - ETA: 55s - loss: 0.57 - ETA: 54s - loss: 0.57 - ETA: 53s - loss: 0.57 - ETA: 52s - loss: 0.57 - ETA: 52s - loss: 0.57 - ETA: 51s - loss: 0.57 - ETA: 50s - loss: 0.57 - ETA: 49s - loss: 0.57 - ETA: 49s - loss: 0.57 - ETA: 48s - loss: 0.57 - ETA: 47s - loss: 0.57 - ETA: 47s - loss: 0.57 - ETA: 46s - loss: 0.57 - ETA: 45s - loss: 0.57 - ETA: 44s - loss: 0.57 - ETA: 44s - loss: 0.57 - ETA: 43s - loss: 0.57 - ETA: 42s - loss: 0.57 - ETA: 42s - loss: 0.57 - ETA: 41s - loss: 0.57 - ETA: 40s - loss: 0.57 - ETA: 39s - loss: 0.57 - ETA: 39s - loss: 0.57 - ETA: 38s - loss: 0.57 - ETA: 37s - loss: 0.57 - ETA: 36s - loss: 0.57 - ETA: 36s - loss: 0.57 - ETA: 35s - loss: 0.57 - ETA: 34s - loss: 0.57 - ETA: 34s - loss: 0.57 - ETA: 33s - loss: 0.57 - ETA: 32s - loss: 0.57 - ETA: 31s - loss: 0.57 - ETA: 31s - loss: 0.57 - ETA: 30s - loss: 0.57 - ETA: 29s - loss: 0.57 - ETA: 28s - loss: 0.57 - ETA: 28s - loss: 0.57 - ETA: 27s - loss: 0.57 - ETA: 26s - loss: 0.57 - ETA: 26s - loss: 0.57 - ETA: 25s - loss: 0.57 - ETA: 24s - loss: 0.57 - ETA: 23s - loss: 0.57 - ETA: 23s - loss: 0.57 - ETA: 22s - loss: 0.57 - ETA: 21s - loss: 0.57 - ETA: 21s - loss: 0.57 - ETA: 20s - loss: 0.57 - ETA: 19s - loss: 0.57 - ETA: 18s - loss: 0.57 - ETA: 18s - loss: 0.57 - ETA: 17s - loss: 0.57 - ETA: 16s - loss: 0.57 - ETA: 15s - loss: 0.57 - ETA: 15s - loss: 0.57 - ETA: 14s - loss: 0.57 - ETA: 13s - loss: 0.57 - ETA: 13s - loss: 0.57 - ETA: 12s - loss: 0.57 - ETA: 11s - loss: 0.57 - ETA: 10s - loss: 0.57 - ETA: 10s - loss: 0.57 - ETA: 9s - loss: 0.5752 - ETA: 8s - loss: 0.575 - ETA: 7s - loss: 0.575 - ETA: 7s - loss: 0.575 - ETA: 6s - loss: 0.575 - ETA: 5s - loss: 0.575 - ETA: 5s - loss: 0.575 - ETA: 4s - loss: 0.575 - ETA: 3s - loss: 0.575 - ETA: 2s - loss: 0.575 - ETA: 2s - loss: 0.575 - ETA: 1s - loss: 0.575 - ETA: 0s - loss: 0.5756 - ETA: 2:34 - loss: 0.589 - ETA: 1:21 - loss: 0.589 - ETA: 56s - loss: 0.562 - ETA: 44s - loss: 0.58 - ETA: 37s - loss: 0.58 - ETA: 32s - loss: 0.59 - ETA: 29s - loss: 0.60 - ETA: 26s - loss: 0.60 - ETA: 23s - loss: 0.59 - ETA: 21s - loss: 0.59 - ETA: 19s - loss: 0.59 - ETA: 18s - loss: 0.59 - ETA: 16s - loss: 0.58 - ETA: 15s - loss: 0.59 - ETA: 14s - loss: 0.58 - ETA: 13s - loss: 0.59 - ETA: 12s - loss: 0.5897"
     ]
    },
    {
     "name": "stdout",
     "output_type": "stream",
     "text": [
      "41/41 [==============================] - ETA: 11s - loss: 0.58 - ETA: 11s - loss: 0.58 - ETA: 10s - loss: 0.58 - ETA: 9s - loss: 0.5867 - ETA: 9s - loss: 0.586 - ETA: 8s - loss: 0.584 - ETA: 7s - loss: 0.583 - ETA: 7s - loss: 0.581 - ETA: 6s - loss: 0.579 - ETA: 6s - loss: 0.582 - ETA: 5s - loss: 0.584 - ETA: 5s - loss: 0.582 - ETA: 4s - loss: 0.584 - ETA: 4s - loss: 0.583 - ETA: 3s - loss: 0.582 - ETA: 3s - loss: 0.583 - ETA: 2s - loss: 0.584 - ETA: 2s - loss: 0.586 - ETA: 2s - loss: 0.586 - ETA: 1s - loss: 0.588 - ETA: 1s - loss: 0.588 - ETA: 0s - loss: 0.588 - ETA: 0s - loss: 0.591 - 16s 393ms/step - loss: 0.5924\n",
      "\n",
      "##############################\n",
      "\n",
      "PR AUC Fish, train: 0.677\n",
      "\n",
      "PR AUC Flower, train: 0.831\n",
      "\n",
      "PR AUC Sugar, train: 0.828\n",
      "\n",
      "PR AUC Gravel, train: 0.767\n",
      "\n",
      "\n",
      "####################\n",
      " PR AUC mean, train: 0.776\n",
      "####################\n",
      "\n",
      "\n",
      "##############################\n",
      "\n",
      "PR AUC Fish, val: 0.655\n",
      "\n",
      "PR AUC Flower, val: 0.813\n",
      "\n",
      "PR AUC Sugar, val: 0.836\n",
      "\n",
      "PR AUC Gravel, val: 0.747\n",
      "\n",
      "\n",
      "####################\n",
      " PR AUC mean, val: 0.763\n",
      "####################\n",
      "\n",
      "\n",
      "####################\n",
      "Saved new checkpoint\n",
      "####################\n",
      "\n",
      "305/305 [==============================] - 346s 1s/step - loss: 0.5754 - val_loss: 0.5924\n",
      "Epoch 14/15\n"
     ]
    },
    {
     "name": "stdout",
     "output_type": "stream",
     "text": [
      "17/41 [===========>..................].] - ETA: 3:35 - loss: 0.524 - ETA: 3:35 - loss: 0.546 - ETA: 3:37 - loss: 0.582 - ETA: 3:37 - loss: 0.583 - ETA: 3:35 - loss: 0.586 - ETA: 3:34 - loss: 0.582 - ETA: 3:33 - loss: 0.574 - ETA: 3:33 - loss: 0.580 - ETA: 3:33 - loss: 0.574 - ETA: 3:32 - loss: 0.570 - ETA: 3:32 - loss: 0.570 - ETA: 3:31 - loss: 0.564 - ETA: 3:30 - loss: 0.566 - ETA: 3:30 - loss: 0.564 - ETA: 3:29 - loss: 0.565 - ETA: 3:28 - loss: 0.567 - ETA: 3:27 - loss: 0.563 - ETA: 3:27 - loss: 0.560 - ETA: 3:26 - loss: 0.563 - ETA: 3:25 - loss: 0.566 - ETA: 3:25 - loss: 0.566 - ETA: 3:24 - loss: 0.566 - ETA: 3:23 - loss: 0.565 - ETA: 3:23 - loss: 0.563 - ETA: 3:22 - loss: 0.564 - ETA: 3:21 - loss: 0.565 - ETA: 3:20 - loss: 0.565 - ETA: 3:20 - loss: 0.565 - ETA: 3:19 - loss: 0.565 - ETA: 3:18 - loss: 0.563 - ETA: 3:17 - loss: 0.563 - ETA: 3:17 - loss: 0.561 - ETA: 3:16 - loss: 0.562 - ETA: 3:15 - loss: 0.564 - ETA: 3:14 - loss: 0.564 - ETA: 3:14 - loss: 0.564 - ETA: 3:13 - loss: 0.567 - ETA: 3:12 - loss: 0.567 - ETA: 3:11 - loss: 0.568 - ETA: 3:11 - loss: 0.567 - ETA: 3:10 - loss: 0.569 - ETA: 3:09 - loss: 0.571 - ETA: 3:09 - loss: 0.572 - ETA: 3:08 - loss: 0.573 - ETA: 3:07 - loss: 0.572 - ETA: 3:07 - loss: 0.572 - ETA: 3:06 - loss: 0.571 - ETA: 3:05 - loss: 0.570 - ETA: 3:04 - loss: 0.570 - ETA: 3:04 - loss: 0.571 - ETA: 3:03 - loss: 0.572 - ETA: 3:02 - loss: 0.573 - ETA: 3:02 - loss: 0.574 - ETA: 3:01 - loss: 0.573 - ETA: 3:00 - loss: 0.573 - ETA: 2:59 - loss: 0.573 - ETA: 2:59 - loss: 0.573 - ETA: 2:58 - loss: 0.572 - ETA: 2:57 - loss: 0.573 - ETA: 2:56 - loss: 0.574 - ETA: 2:56 - loss: 0.574 - ETA: 2:55 - loss: 0.573 - ETA: 2:54 - loss: 0.572 - ETA: 2:54 - loss: 0.574 - ETA: 2:53 - loss: 0.574 - ETA: 2:52 - loss: 0.574 - ETA: 2:51 - loss: 0.574 - ETA: 2:51 - loss: 0.574 - ETA: 2:50 - loss: 0.575 - ETA: 2:49 - loss: 0.575 - ETA: 2:49 - loss: 0.575 - ETA: 2:48 - loss: 0.575 - ETA: 2:47 - loss: 0.575 - ETA: 2:46 - loss: 0.575 - ETA: 2:46 - loss: 0.574 - ETA: 2:45 - loss: 0.574 - ETA: 2:44 - loss: 0.574 - ETA: 2:44 - loss: 0.575 - ETA: 2:43 - loss: 0.575 - ETA: 2:42 - loss: 0.574 - ETA: 2:41 - loss: 0.574 - ETA: 2:41 - loss: 0.574 - ETA: 2:40 - loss: 0.574 - ETA: 2:39 - loss: 0.574 - ETA: 2:38 - loss: 0.574 - ETA: 2:38 - loss: 0.574 - ETA: 2:37 - loss: 0.574 - ETA: 2:36 - loss: 0.573 - ETA: 2:36 - loss: 0.573 - ETA: 2:35 - loss: 0.572 - ETA: 2:34 - loss: 0.572 - ETA: 2:33 - loss: 0.572 - ETA: 2:33 - loss: 0.572 - ETA: 2:32 - loss: 0.572 - ETA: 2:31 - loss: 0.573 - ETA: 2:31 - loss: 0.573 - ETA: 2:30 - loss: 0.573 - ETA: 2:29 - loss: 0.572 - ETA: 2:28 - loss: 0.573 - ETA: 2:28 - loss: 0.573 - ETA: 2:27 - loss: 0.573 - ETA: 2:26 - loss: 0.572 - ETA: 2:26 - loss: 0.572 - ETA: 2:25 - loss: 0.572 - ETA: 2:24 - loss: 0.572 - ETA: 2:23 - loss: 0.572 - ETA: 2:23 - loss: 0.572 - ETA: 2:22 - loss: 0.572 - ETA: 2:21 - loss: 0.573 - ETA: 2:21 - loss: 0.573 - ETA: 2:20 - loss: 0.573 - ETA: 2:19 - loss: 0.573 - ETA: 2:18 - loss: 0.574 - ETA: 2:18 - loss: 0.573 - ETA: 2:17 - loss: 0.573 - ETA: 2:16 - loss: 0.573 - ETA: 2:15 - loss: 0.573 - ETA: 2:15 - loss: 0.573 - ETA: 2:14 - loss: 0.573 - ETA: 2:13 - loss: 0.573 - ETA: 2:13 - loss: 0.573 - ETA: 2:12 - loss: 0.573 - ETA: 2:11 - loss: 0.573 - ETA: 2:10 - loss: 0.573 - ETA: 2:10 - loss: 0.573 - ETA: 2:09 - loss: 0.572 - ETA: 2:08 - loss: 0.572 - ETA: 2:08 - loss: 0.571 - ETA: 2:07 - loss: 0.571 - ETA: 2:06 - loss: 0.571 - ETA: 2:05 - loss: 0.571 - ETA: 2:05 - loss: 0.570 - ETA: 2:04 - loss: 0.570 - ETA: 2:03 - loss: 0.571 - ETA: 2:02 - loss: 0.571 - ETA: 2:02 - loss: 0.570 - ETA: 2:01 - loss: 0.570 - ETA: 2:00 - loss: 0.570 - ETA: 2:00 - loss: 0.570 - ETA: 1:59 - loss: 0.571 - ETA: 1:58 - loss: 0.571 - ETA: 1:57 - loss: 0.570 - ETA: 1:57 - loss: 0.570 - ETA: 1:56 - loss: 0.569 - ETA: 1:55 - loss: 0.569 - ETA: 1:55 - loss: 0.569 - ETA: 1:54 - loss: 0.570 - ETA: 1:53 - loss: 0.569 - ETA: 1:52 - loss: 0.569 - ETA: 1:52 - loss: 0.569 - ETA: 1:51 - loss: 0.570 - ETA: 1:50 - loss: 0.569 - ETA: 1:49 - loss: 0.569 - ETA: 1:49 - loss: 0.569 - ETA: 1:48 - loss: 0.569 - ETA: 1:47 - loss: 0.569 - ETA: 1:47 - loss: 0.569 - ETA: 1:46 - loss: 0.569 - ETA: 1:45 - loss: 0.569 - ETA: 1:44 - loss: 0.569 - ETA: 1:44 - loss: 0.569 - ETA: 1:43 - loss: 0.569 - ETA: 1:42 - loss: 0.568 - ETA: 1:42 - loss: 0.569 - ETA: 1:41 - loss: 0.569 - ETA: 1:40 - loss: 0.569 - ETA: 1:39 - loss: 0.569 - ETA: 1:39 - loss: 0.569 - ETA: 1:38 - loss: 0.570 - ETA: 1:37 - loss: 0.570 - ETA: 1:36 - loss: 0.570 - ETA: 1:36 - loss: 0.570 - ETA: 1:35 - loss: 0.570 - ETA: 1:34 - loss: 0.570 - ETA: 1:34 - loss: 0.570 - ETA: 1:33 - loss: 0.571 - ETA: 1:32 - loss: 0.571 - ETA: 1:31 - loss: 0.571 - ETA: 1:31 - loss: 0.571 - ETA: 1:30 - loss: 0.571 - ETA: 1:29 - loss: 0.571 - ETA: 1:28 - loss: 0.571 - ETA: 1:28 - loss: 0.571 - ETA: 1:27 - loss: 0.571 - ETA: 1:26 - loss: 0.571 - ETA: 1:26 - loss: 0.571 - ETA: 1:25 - loss: 0.571 - ETA: 1:24 - loss: 0.570 - ETA: 1:23 - loss: 0.570 - ETA: 1:23 - loss: 0.570 - ETA: 1:22 - loss: 0.570 - ETA: 1:21 - loss: 0.570 - ETA: 1:21 - loss: 0.570 - ETA: 1:20 - loss: 0.571 - ETA: 1:19 - loss: 0.571 - ETA: 1:18 - loss: 0.571 - ETA: 1:18 - loss: 0.571 - ETA: 1:17 - loss: 0.571 - ETA: 1:16 - loss: 0.570 - ETA: 1:15 - loss: 0.570 - ETA: 1:15 - loss: 0.571 - ETA: 1:14 - loss: 0.571 - ETA: 1:13 - loss: 0.571 - ETA: 1:13 - loss: 0.571 - ETA: 1:12 - loss: 0.571 - ETA: 1:11 - loss: 0.571 - ETA: 1:10 - loss: 0.571 - ETA: 1:10 - loss: 0.571 - ETA: 1:09 - loss: 0.571 - ETA: 1:08 - loss: 0.572 - ETA: 1:08 - loss: 0.572 - ETA: 1:07 - loss: 0.572 - ETA: 1:06 - loss: 0.572 - ETA: 1:05 - loss: 0.572 - ETA: 1:05 - loss: 0.572 - ETA: 1:04 - loss: 0.572 - ETA: 1:03 - loss: 0.572 - ETA: 1:02 - loss: 0.572 - ETA: 1:02 - loss: 0.572 - ETA: 1:01 - loss: 0.572 - ETA: 1:00 - loss: 0.571 - ETA: 1:00 - loss: 0.571 - ETA: 59s - loss: 0.572 - ETA: 58s - loss: 0.57 - ETA: 57s - loss: 0.57 - ETA: 57s - loss: 0.57 - ETA: 56s - loss: 0.57 - ETA: 55s - loss: 0.57 - ETA: 54s - loss: 0.57 - ETA: 54s - loss: 0.57 - ETA: 53s - loss: 0.57 - ETA: 52s - loss: 0.57 - ETA: 52s - loss: 0.57 - ETA: 51s - loss: 0.57 - ETA: 50s - loss: 0.57 - ETA: 49s - loss: 0.57 - ETA: 49s - loss: 0.57 - ETA: 48s - loss: 0.57 - ETA: 47s - loss: 0.57 - ETA: 47s - loss: 0.57 - ETA: 46s - loss: 0.57 - ETA: 45s - loss: 0.57 - ETA: 44s - loss: 0.57 - ETA: 44s - loss: 0.57 - ETA: 43s - loss: 0.57 - ETA: 42s - loss: 0.57 - ETA: 41s - loss: 0.57 - ETA: 41s - loss: 0.57 - ETA: 40s - loss: 0.57 - ETA: 39s - loss: 0.57 - ETA: 39s - loss: 0.57 - ETA: 38s - loss: 0.57 - ETA: 37s - loss: 0.57 - ETA: 36s - loss: 0.57 - ETA: 36s - loss: 0.57 - ETA: 35s - loss: 0.57 - ETA: 34s - loss: 0.57 - ETA: 34s - loss: 0.57 - ETA: 33s - loss: 0.57 - ETA: 32s - loss: 0.57 - ETA: 31s - loss: 0.57 - ETA: 31s - loss: 0.57 - ETA: 30s - loss: 0.57 - ETA: 29s - loss: 0.57 - ETA: 28s - loss: 0.57 - ETA: 28s - loss: 0.57 - ETA: 27s - loss: 0.57 - ETA: 26s - loss: 0.57 - ETA: 26s - loss: 0.57 - ETA: 25s - loss: 0.57 - ETA: 24s - loss: 0.57 - ETA: 23s - loss: 0.57 - ETA: 23s - loss: 0.57 - ETA: 22s - loss: 0.57 - ETA: 21s - loss: 0.57 - ETA: 20s - loss: 0.57 - ETA: 20s - loss: 0.57 - ETA: 19s - loss: 0.57 - ETA: 18s - loss: 0.57 - ETA: 18s - loss: 0.57 - ETA: 17s - loss: 0.57 - ETA: 16s - loss: 0.57 - ETA: 15s - loss: 0.57 - ETA: 15s - loss: 0.57 - ETA: 14s - loss: 0.57 - ETA: 13s - loss: 0.57 - ETA: 13s - loss: 0.57 - ETA: 12s - loss: 0.57 - ETA: 11s - loss: 0.57 - ETA: 10s - loss: 0.57 - ETA: 10s - loss: 0.57 - ETA: 9s - loss: 0.5755 - ETA: 8s - loss: 0.575 - ETA: 7s - loss: 0.575 - ETA: 7s - loss: 0.575 - ETA: 6s - loss: 0.575 - ETA: 5s - loss: 0.575 - ETA: 5s - loss: 0.575 - ETA: 4s - loss: 0.575 - ETA: 3s - loss: 0.575 - ETA: 2s - loss: 0.575 - ETA: 2s - loss: 0.576 - ETA: 1s - loss: 0.576 - ETA: 0s - loss: 0.5755 - ETA: 2:31 - loss: 0.566 - ETA: 1:21 - loss: 0.571 - ETA: 57s - loss: 0.561 - ETA: 45s - loss: 0.58 - ETA: 38s - loss: 0.57 - ETA: 33s - loss: 0.59 - ETA: 29s - loss: 0.60 - ETA: 26s - loss: 0.59 - ETA: 24s - loss: 0.58 - ETA: 21s - loss: 0.58 - ETA: 20s - loss: 0.58 - ETA: 18s - loss: 0.57 - ETA: 17s - loss: 0.57 - ETA: 16s - loss: 0.57 - ETA: 15s - loss: 0.57 - ETA: 14s - loss: 0.57 - ETA: 13s - loss: 0.5731"
     ]
    },
    {
     "name": "stdout",
     "output_type": "stream",
     "text": [
      "41/41 [==============================] - ETA: 12s - loss: 0.56 - ETA: 11s - loss: 0.57 - ETA: 10s - loss: 0.57 - ETA: 10s - loss: 0.57 - ETA: 9s - loss: 0.5726 - ETA: 8s - loss: 0.570 - ETA: 8s - loss: 0.569 - ETA: 7s - loss: 0.567 - ETA: 7s - loss: 0.566 - ETA: 6s - loss: 0.570 - ETA: 5s - loss: 0.570 - ETA: 5s - loss: 0.567 - ETA: 4s - loss: 0.569 - ETA: 4s - loss: 0.568 - ETA: 3s - loss: 0.567 - ETA: 3s - loss: 0.566 - ETA: 2s - loss: 0.568 - ETA: 2s - loss: 0.569 - ETA: 2s - loss: 0.570 - ETA: 1s - loss: 0.571 - ETA: 1s - loss: 0.571 - ETA: 0s - loss: 0.571 - ETA: 0s - loss: 0.574 - 16s 395ms/step - loss: 0.5748\n",
      "\n",
      "##############################\n",
      "\n",
      "PR AUC Fish, train: 0.690\n",
      "\n",
      "PR AUC Flower, train: 0.835\n",
      "\n",
      "PR AUC Sugar, train: 0.832\n",
      "\n",
      "PR AUC Gravel, train: 0.769\n",
      "\n",
      "\n",
      "####################\n",
      " PR AUC mean, train: 0.781\n",
      "####################\n",
      "\n",
      "\n",
      "##############################\n",
      "\n",
      "PR AUC Fish, val: 0.668\n",
      "\n",
      "PR AUC Flower, val: 0.818\n",
      "\n",
      "PR AUC Sugar, val: 0.832\n",
      "\n",
      "PR AUC Gravel, val: 0.751\n",
      "\n",
      "\n",
      "####################\n",
      " PR AUC mean, val: 0.767\n",
      "####################\n",
      "\n",
      "\n",
      "####################\n",
      "Saved new checkpoint\n",
      "####################\n",
      "\n",
      "305/305 [==============================] - 346s 1s/step - loss: 0.5755 - val_loss: 0.5748\n",
      "Epoch 15/15\n"
     ]
    },
    {
     "name": "stdout",
     "output_type": "stream",
     "text": [
      "17/41 [===========>..................].] - ETA: 3:39 - loss: 0.644 - ETA: 3:37 - loss: 0.556 - ETA: 3:38 - loss: 0.562 - ETA: 3:36 - loss: 0.575 - ETA: 3:35 - loss: 0.573 - ETA: 3:35 - loss: 0.580 - ETA: 3:35 - loss: 0.573 - ETA: 3:34 - loss: 0.556 - ETA: 3:33 - loss: 0.561 - ETA: 3:32 - loss: 0.567 - ETA: 3:31 - loss: 0.567 - ETA: 3:31 - loss: 0.566 - ETA: 3:30 - loss: 0.572 - ETA: 3:29 - loss: 0.573 - ETA: 3:28 - loss: 0.571 - ETA: 3:28 - loss: 0.567 - ETA: 3:27 - loss: 0.563 - ETA: 3:26 - loss: 0.563 - ETA: 3:26 - loss: 0.563 - ETA: 3:25 - loss: 0.562 - ETA: 3:24 - loss: 0.561 - ETA: 3:24 - loss: 0.562 - ETA: 3:23 - loss: 0.561 - ETA: 3:22 - loss: 0.560 - ETA: 3:21 - loss: 0.561 - ETA: 3:21 - loss: 0.564 - ETA: 3:20 - loss: 0.563 - ETA: 3:19 - loss: 0.563 - ETA: 3:18 - loss: 0.565 - ETA: 3:18 - loss: 0.564 - ETA: 3:17 - loss: 0.563 - ETA: 3:16 - loss: 0.565 - ETA: 3:16 - loss: 0.567 - ETA: 3:15 - loss: 0.568 - ETA: 3:14 - loss: 0.570 - ETA: 3:14 - loss: 0.571 - ETA: 3:13 - loss: 0.570 - ETA: 3:12 - loss: 0.570 - ETA: 3:11 - loss: 0.569 - ETA: 3:11 - loss: 0.569 - ETA: 3:10 - loss: 0.569 - ETA: 3:09 - loss: 0.571 - ETA: 3:09 - loss: 0.570 - ETA: 3:08 - loss: 0.571 - ETA: 3:07 - loss: 0.568 - ETA: 3:07 - loss: 0.569 - ETA: 3:06 - loss: 0.569 - ETA: 3:05 - loss: 0.569 - ETA: 3:04 - loss: 0.568 - ETA: 3:04 - loss: 0.569 - ETA: 3:03 - loss: 0.568 - ETA: 3:02 - loss: 0.569 - ETA: 3:02 - loss: 0.569 - ETA: 3:01 - loss: 0.569 - ETA: 3:00 - loss: 0.568 - ETA: 2:59 - loss: 0.569 - ETA: 2:59 - loss: 0.569 - ETA: 2:58 - loss: 0.568 - ETA: 2:57 - loss: 0.568 - ETA: 2:57 - loss: 0.569 - ETA: 2:56 - loss: 0.568 - ETA: 2:55 - loss: 0.567 - ETA: 2:54 - loss: 0.568 - ETA: 2:54 - loss: 0.567 - ETA: 2:53 - loss: 0.568 - ETA: 2:52 - loss: 0.567 - ETA: 2:51 - loss: 0.566 - ETA: 2:51 - loss: 0.565 - ETA: 2:50 - loss: 0.565 - ETA: 2:49 - loss: 0.565 - ETA: 2:49 - loss: 0.565 - ETA: 2:48 - loss: 0.567 - ETA: 2:47 - loss: 0.567 - ETA: 2:46 - loss: 0.567 - ETA: 2:46 - loss: 0.568 - ETA: 2:45 - loss: 0.568 - ETA: 2:44 - loss: 0.569 - ETA: 2:44 - loss: 0.569 - ETA: 2:43 - loss: 0.569 - ETA: 2:42 - loss: 0.569 - ETA: 2:41 - loss: 0.569 - ETA: 2:41 - loss: 0.568 - ETA: 2:40 - loss: 0.567 - ETA: 2:39 - loss: 0.568 - ETA: 2:39 - loss: 0.568 - ETA: 2:38 - loss: 0.567 - ETA: 2:37 - loss: 0.566 - ETA: 2:36 - loss: 0.566 - ETA: 2:36 - loss: 0.566 - ETA: 2:35 - loss: 0.566 - ETA: 2:34 - loss: 0.566 - ETA: 2:33 - loss: 0.566 - ETA: 2:33 - loss: 0.566 - ETA: 2:32 - loss: 0.566 - ETA: 2:31 - loss: 0.566 - ETA: 2:31 - loss: 0.566 - ETA: 2:30 - loss: 0.566 - ETA: 2:29 - loss: 0.566 - ETA: 2:28 - loss: 0.567 - ETA: 2:28 - loss: 0.568 - ETA: 2:27 - loss: 0.567 - ETA: 2:26 - loss: 0.567 - ETA: 2:26 - loss: 0.568 - ETA: 2:25 - loss: 0.567 - ETA: 2:24 - loss: 0.568 - ETA: 2:23 - loss: 0.568 - ETA: 2:23 - loss: 0.567 - ETA: 2:22 - loss: 0.568 - ETA: 2:21 - loss: 0.568 - ETA: 2:20 - loss: 0.568 - ETA: 2:20 - loss: 0.568 - ETA: 2:19 - loss: 0.568 - ETA: 2:18 - loss: 0.568 - ETA: 2:18 - loss: 0.568 - ETA: 2:17 - loss: 0.568 - ETA: 2:16 - loss: 0.567 - ETA: 2:15 - loss: 0.567 - ETA: 2:15 - loss: 0.566 - ETA: 2:14 - loss: 0.566 - ETA: 2:13 - loss: 0.567 - ETA: 2:13 - loss: 0.566 - ETA: 2:12 - loss: 0.567 - ETA: 2:11 - loss: 0.566 - ETA: 2:10 - loss: 0.567 - ETA: 2:10 - loss: 0.567 - ETA: 2:09 - loss: 0.567 - ETA: 2:08 - loss: 0.567 - ETA: 2:07 - loss: 0.567 - ETA: 2:07 - loss: 0.568 - ETA: 2:06 - loss: 0.569 - ETA: 2:05 - loss: 0.568 - ETA: 2:05 - loss: 0.568 - ETA: 2:04 - loss: 0.568 - ETA: 2:03 - loss: 0.568 - ETA: 2:02 - loss: 0.568 - ETA: 2:02 - loss: 0.569 - ETA: 2:01 - loss: 0.569 - ETA: 2:00 - loss: 0.569 - ETA: 2:00 - loss: 0.569 - ETA: 1:59 - loss: 0.569 - ETA: 1:58 - loss: 0.569 - ETA: 1:57 - loss: 0.569 - ETA: 1:57 - loss: 0.569 - ETA: 1:56 - loss: 0.569 - ETA: 1:55 - loss: 0.569 - ETA: 1:54 - loss: 0.569 - ETA: 1:54 - loss: 0.570 - ETA: 1:53 - loss: 0.571 - ETA: 1:52 - loss: 0.571 - ETA: 1:52 - loss: 0.571 - ETA: 1:51 - loss: 0.570 - ETA: 1:50 - loss: 0.571 - ETA: 1:49 - loss: 0.571 - ETA: 1:49 - loss: 0.571 - ETA: 1:48 - loss: 0.571 - ETA: 1:47 - loss: 0.572 - ETA: 1:47 - loss: 0.572 - ETA: 1:46 - loss: 0.571 - ETA: 1:45 - loss: 0.572 - ETA: 1:44 - loss: 0.572 - ETA: 1:44 - loss: 0.571 - ETA: 1:43 - loss: 0.571 - ETA: 1:42 - loss: 0.571 - ETA: 1:41 - loss: 0.571 - ETA: 1:41 - loss: 0.571 - ETA: 1:40 - loss: 0.571 - ETA: 1:39 - loss: 0.571 - ETA: 1:39 - loss: 0.571 - ETA: 1:38 - loss: 0.570 - ETA: 1:37 - loss: 0.571 - ETA: 1:36 - loss: 0.571 - ETA: 1:36 - loss: 0.571 - ETA: 1:35 - loss: 0.571 - ETA: 1:34 - loss: 0.571 - ETA: 1:33 - loss: 0.570 - ETA: 1:33 - loss: 0.570 - ETA: 1:32 - loss: 0.571 - ETA: 1:31 - loss: 0.570 - ETA: 1:31 - loss: 0.570 - ETA: 1:30 - loss: 0.570 - ETA: 1:29 - loss: 0.570 - ETA: 1:28 - loss: 0.571 - ETA: 1:28 - loss: 0.570 - ETA: 1:27 - loss: 0.570 - ETA: 1:26 - loss: 0.570 - ETA: 1:26 - loss: 0.570 - ETA: 1:25 - loss: 0.570 - ETA: 1:24 - loss: 0.570 - ETA: 1:23 - loss: 0.571 - ETA: 1:23 - loss: 0.571 - ETA: 1:22 - loss: 0.571 - ETA: 1:21 - loss: 0.571 - ETA: 1:20 - loss: 0.571 - ETA: 1:20 - loss: 0.571 - ETA: 1:19 - loss: 0.571 - ETA: 1:18 - loss: 0.571 - ETA: 1:18 - loss: 0.571 - ETA: 1:17 - loss: 0.571 - ETA: 1:16 - loss: 0.571 - ETA: 1:15 - loss: 0.570 - ETA: 1:15 - loss: 0.571 - ETA: 1:14 - loss: 0.571 - ETA: 1:13 - loss: 0.571 - ETA: 1:13 - loss: 0.571 - ETA: 1:12 - loss: 0.570 - ETA: 1:11 - loss: 0.571 - ETA: 1:10 - loss: 0.571 - ETA: 1:10 - loss: 0.571 - ETA: 1:09 - loss: 0.571 - ETA: 1:08 - loss: 0.571 - ETA: 1:07 - loss: 0.571 - ETA: 1:07 - loss: 0.571 - ETA: 1:06 - loss: 0.571 - ETA: 1:05 - loss: 0.571 - ETA: 1:05 - loss: 0.571 - ETA: 1:04 - loss: 0.571 - ETA: 1:03 - loss: 0.571 - ETA: 1:02 - loss: 0.572 - ETA: 1:02 - loss: 0.572 - ETA: 1:01 - loss: 0.572 - ETA: 1:00 - loss: 0.572 - ETA: 59s - loss: 0.572 - ETA: 59s - loss: 0.57 - ETA: 58s - loss: 0.57 - ETA: 57s - loss: 0.57 - ETA: 57s - loss: 0.57 - ETA: 56s - loss: 0.57 - ETA: 55s - loss: 0.57 - ETA: 54s - loss: 0.57 - ETA: 54s - loss: 0.57 - ETA: 53s - loss: 0.57 - ETA: 52s - loss: 0.57 - ETA: 52s - loss: 0.57 - ETA: 51s - loss: 0.57 - ETA: 50s - loss: 0.57 - ETA: 49s - loss: 0.57 - ETA: 49s - loss: 0.57 - ETA: 48s - loss: 0.57 - ETA: 47s - loss: 0.57 - ETA: 46s - loss: 0.57 - ETA: 46s - loss: 0.57 - ETA: 45s - loss: 0.57 - ETA: 44s - loss: 0.57 - ETA: 44s - loss: 0.57 - ETA: 43s - loss: 0.57 - ETA: 42s - loss: 0.57 - ETA: 41s - loss: 0.57 - ETA: 41s - loss: 0.57 - ETA: 40s - loss: 0.57 - ETA: 39s - loss: 0.57 - ETA: 39s - loss: 0.57 - ETA: 38s - loss: 0.57 - ETA: 37s - loss: 0.57 - ETA: 36s - loss: 0.57 - ETA: 36s - loss: 0.57 - ETA: 35s - loss: 0.57 - ETA: 34s - loss: 0.57 - ETA: 33s - loss: 0.57 - ETA: 33s - loss: 0.57 - ETA: 32s - loss: 0.57 - ETA: 31s - loss: 0.57 - ETA: 31s - loss: 0.57 - ETA: 30s - loss: 0.57 - ETA: 29s - loss: 0.57 - ETA: 28s - loss: 0.57 - ETA: 28s - loss: 0.57 - ETA: 27s - loss: 0.57 - ETA: 26s - loss: 0.57 - ETA: 26s - loss: 0.57 - ETA: 25s - loss: 0.57 - ETA: 24s - loss: 0.57 - ETA: 23s - loss: 0.57 - ETA: 23s - loss: 0.57 - ETA: 22s - loss: 0.57 - ETA: 21s - loss: 0.57 - ETA: 20s - loss: 0.57 - ETA: 20s - loss: 0.57 - ETA: 19s - loss: 0.57 - ETA: 18s - loss: 0.57 - ETA: 18s - loss: 0.57 - ETA: 17s - loss: 0.57 - ETA: 16s - loss: 0.57 - ETA: 15s - loss: 0.57 - ETA: 15s - loss: 0.57 - ETA: 14s - loss: 0.57 - ETA: 13s - loss: 0.57 - ETA: 13s - loss: 0.57 - ETA: 12s - loss: 0.57 - ETA: 11s - loss: 0.57 - ETA: 10s - loss: 0.57 - ETA: 10s - loss: 0.57 - ETA: 9s - loss: 0.5731 - ETA: 8s - loss: 0.573 - ETA: 7s - loss: 0.573 - ETA: 7s - loss: 0.573 - ETA: 6s - loss: 0.573 - ETA: 5s - loss: 0.573 - ETA: 5s - loss: 0.573 - ETA: 4s - loss: 0.573 - ETA: 3s - loss: 0.573 - ETA: 2s - loss: 0.573 - ETA: 2s - loss: 0.572 - ETA: 1s - loss: 0.572 - ETA: 0s - loss: 0.5726 - ETA: 2:36 - loss: 0.560 - ETA: 1:22 - loss: 0.555 - ETA: 58s - loss: 0.547 - ETA: 45s - loss: 0.57 - ETA: 38s - loss: 0.57 - ETA: 33s - loss: 0.58 - ETA: 29s - loss: 0.59 - ETA: 26s - loss: 0.59 - ETA: 23s - loss: 0.58 - ETA: 21s - loss: 0.57 - ETA: 20s - loss: 0.57 - ETA: 18s - loss: 0.56 - ETA: 17s - loss: 0.56 - ETA: 16s - loss: 0.56 - ETA: 15s - loss: 0.56 - ETA: 14s - loss: 0.56 - ETA: 13s - loss: 0.5660"
     ]
    },
    {
     "name": "stdout",
     "output_type": "stream",
     "text": [
      "41/41 [==============================] - ETA: 12s - loss: 0.56 - ETA: 11s - loss: 0.56 - ETA: 10s - loss: 0.56 - ETA: 10s - loss: 0.56 - ETA: 9s - loss: 0.5646 - ETA: 8s - loss: 0.563 - ETA: 8s - loss: 0.563 - ETA: 7s - loss: 0.561 - ETA: 7s - loss: 0.559 - ETA: 6s - loss: 0.563 - ETA: 5s - loss: 0.563 - ETA: 5s - loss: 0.561 - ETA: 4s - loss: 0.563 - ETA: 4s - loss: 0.562 - ETA: 3s - loss: 0.561 - ETA: 3s - loss: 0.560 - ETA: 2s - loss: 0.562 - ETA: 2s - loss: 0.563 - ETA: 2s - loss: 0.563 - ETA: 1s - loss: 0.564 - ETA: 1s - loss: 0.564 - ETA: 0s - loss: 0.564 - ETA: 0s - loss: 0.567 - 16s 396ms/step - loss: 0.5676\n",
      "\n",
      "##############################\n",
      "\n",
      "PR AUC Fish, train: 0.695\n",
      "\n",
      "PR AUC Flower, train: 0.837\n",
      "\n",
      "PR AUC Sugar, train: 0.832\n",
      "\n",
      "PR AUC Gravel, train: 0.775\n",
      "\n",
      "\n",
      "####################\n",
      " PR AUC mean, train: 0.785\n",
      "####################\n",
      "\n",
      "\n",
      "##############################\n",
      "\n",
      "PR AUC Fish, val: 0.679\n",
      "\n",
      "PR AUC Flower, val: 0.819\n",
      "\n",
      "PR AUC Sugar, val: 0.840\n",
      "\n",
      "PR AUC Gravel, val: 0.757\n",
      "\n",
      "\n",
      "####################\n",
      " PR AUC mean, val: 0.774\n",
      "####################\n",
      "\n",
      "\n",
      "####################\n",
      "Saved new checkpoint\n",
      "####################\n",
      "\n",
      "305/305 [==============================] - 346s 1s/step - loss: 0.5726 - val_loss: 0.5676\n"
     ]
    }
   ],
   "source": [
    "for base_layer in model.layers[:-1]:\n",
    "    base_layer.trainable = True\n",
    "    \n",
    "model.compile(optimizer= SGD(lr=1e-4, decay=2e-6, momentum=0.9, nesterov=True), loss='binary_crossentropy')\n",
    "history_1 = model.fit_generator(generator=data_generator_train,\n",
    "                              validation_data=data_generator_val,\n",
    "                              epochs=15,\n",
    "                              callbacks=[train_metric_callback, val_callback],\n",
    "                              workers=num_cores,\n",
    "                              verbose=1,\n",
    "                              initial_epoch=1\n",
    "                             )"
   ]
  },
  {
   "cell_type": "code",
   "execution_count": 20,
   "metadata": {},
   "outputs": [
    {
     "name": "stdout",
     "output_type": "stream",
     "text": [
      "Epoch 2/5\n"
     ]
    },
    {
     "name": "stdout",
     "output_type": "stream",
     "text": [
      "15/41 [=========>....................].] - ETA: 3:50:27 - loss: 0.60 - ETA: 1:56:38 - loss: 0.53 - ETA: 1:18:42 - loss: 0.54 - ETA: 59:44 - loss: 0.5794 - ETA: 48:21 - loss: 0.58 - ETA: 40:45 - loss: 0.57 - ETA: 35:20 - loss: 0.58 - ETA: 31:15 - loss: 0.58 - ETA: 28:05 - loss: 0.59 - ETA: 25:33 - loss: 0.58 - ETA: 23:28 - loss: 0.58 - ETA: 21:44 - loss: 0.57 - ETA: 20:16 - loss: 0.56 - ETA: 19:00 - loss: 0.57 - ETA: 17:54 - loss: 0.57 - ETA: 16:56 - loss: 0.57 - ETA: 16:05 - loss: 0.57 - ETA: 15:20 - loss: 0.57 - ETA: 14:39 - loss: 0.57 - ETA: 14:03 - loss: 0.56 - ETA: 13:30 - loss: 0.56 - ETA: 12:59 - loss: 0.57 - ETA: 12:31 - loss: 0.57 - ETA: 12:06 - loss: 0.57 - ETA: 11:43 - loss: 0.57 - ETA: 11:21 - loss: 0.57 - ETA: 11:01 - loss: 0.57 - ETA: 10:42 - loss: 0.58 - ETA: 10:24 - loss: 0.57 - ETA: 10:08 - loss: 0.57 - ETA: 9:53 - loss: 0.5794 - ETA: 9:38 - loss: 0.580 - ETA: 9:25 - loss: 0.580 - ETA: 9:12 - loss: 0.580 - ETA: 9:00 - loss: 0.581 - ETA: 8:48 - loss: 0.582 - ETA: 8:37 - loss: 0.583 - ETA: 8:27 - loss: 0.580 - ETA: 8:17 - loss: 0.580 - ETA: 8:07 - loss: 0.579 - ETA: 7:58 - loss: 0.581 - ETA: 7:49 - loss: 0.580 - ETA: 7:41 - loss: 0.579 - ETA: 7:33 - loss: 0.578 - ETA: 7:26 - loss: 0.578 - ETA: 7:18 - loss: 0.579 - ETA: 7:11 - loss: 0.577 - ETA: 7:05 - loss: 0.577 - ETA: 6:58 - loss: 0.576 - ETA: 6:52 - loss: 0.576 - ETA: 6:46 - loss: 0.574 - ETA: 6:40 - loss: 0.574 - ETA: 6:34 - loss: 0.574 - ETA: 6:29 - loss: 0.573 - ETA: 6:24 - loss: 0.573 - ETA: 6:18 - loss: 0.573 - ETA: 6:13 - loss: 0.575 - ETA: 6:08 - loss: 0.575 - ETA: 6:04 - loss: 0.575 - ETA: 5:59 - loss: 0.576 - ETA: 5:55 - loss: 0.576 - ETA: 5:50 - loss: 0.575 - ETA: 5:46 - loss: 0.575 - ETA: 5:42 - loss: 0.576 - ETA: 5:38 - loss: 0.575 - ETA: 5:34 - loss: 0.575 - ETA: 5:30 - loss: 0.575 - ETA: 5:27 - loss: 0.575 - ETA: 5:23 - loss: 0.576 - ETA: 5:19 - loss: 0.575 - ETA: 5:16 - loss: 0.576 - ETA: 5:13 - loss: 0.576 - ETA: 5:09 - loss: 0.576 - ETA: 5:06 - loss: 0.577 - ETA: 5:03 - loss: 0.577 - ETA: 5:00 - loss: 0.577 - ETA: 4:57 - loss: 0.577 - ETA: 4:54 - loss: 0.577 - ETA: 4:51 - loss: 0.577 - ETA: 4:48 - loss: 0.578 - ETA: 4:45 - loss: 0.577 - ETA: 4:42 - loss: 0.577 - ETA: 4:40 - loss: 0.578 - ETA: 4:37 - loss: 0.578 - ETA: 4:34 - loss: 0.578 - ETA: 4:32 - loss: 0.577 - ETA: 4:29 - loss: 0.577 - ETA: 4:27 - loss: 0.576 - ETA: 4:24 - loss: 0.576 - ETA: 4:22 - loss: 0.576 - ETA: 4:19 - loss: 0.576 - ETA: 4:17 - loss: 0.578 - ETA: 4:15 - loss: 0.578 - ETA: 4:13 - loss: 0.579 - ETA: 4:10 - loss: 0.578 - ETA: 4:08 - loss: 0.579 - ETA: 4:06 - loss: 0.579 - ETA: 4:04 - loss: 0.579 - ETA: 4:02 - loss: 0.579 - ETA: 3:59 - loss: 0.578 - ETA: 3:57 - loss: 0.578 - ETA: 3:55 - loss: 0.578 - ETA: 3:53 - loss: 0.578 - ETA: 3:51 - loss: 0.577 - ETA: 3:49 - loss: 0.577 - ETA: 3:47 - loss: 0.577 - ETA: 3:45 - loss: 0.577 - ETA: 3:44 - loss: 0.576 - ETA: 3:42 - loss: 0.576 - ETA: 3:40 - loss: 0.576 - ETA: 3:38 - loss: 0.576 - ETA: 3:36 - loss: 0.575 - ETA: 3:34 - loss: 0.575 - ETA: 3:33 - loss: 0.575 - ETA: 3:31 - loss: 0.574 - ETA: 3:29 - loss: 0.574 - ETA: 3:27 - loss: 0.573 - ETA: 3:26 - loss: 0.573 - ETA: 3:24 - loss: 0.574 - ETA: 3:22 - loss: 0.574 - ETA: 3:21 - loss: 0.574 - ETA: 3:19 - loss: 0.574 - ETA: 3:17 - loss: 0.574 - ETA: 3:16 - loss: 0.574 - ETA: 3:14 - loss: 0.574 - ETA: 3:13 - loss: 0.573 - ETA: 3:11 - loss: 0.573 - ETA: 3:09 - loss: 0.573 - ETA: 3:08 - loss: 0.573 - ETA: 3:06 - loss: 0.573 - ETA: 3:05 - loss: 0.573 - ETA: 3:03 - loss: 0.573 - ETA: 3:02 - loss: 0.574 - ETA: 3:00 - loss: 0.573 - ETA: 2:59 - loss: 0.573 - ETA: 2:57 - loss: 0.573 - ETA: 2:56 - loss: 0.573 - ETA: 2:54 - loss: 0.573 - ETA: 2:53 - loss: 0.573 - ETA: 2:52 - loss: 0.572 - ETA: 2:50 - loss: 0.572 - ETA: 2:49 - loss: 0.572 - ETA: 2:47 - loss: 0.571 - ETA: 2:46 - loss: 0.571 - ETA: 2:45 - loss: 0.571 - ETA: 2:43 - loss: 0.571 - ETA: 2:42 - loss: 0.571 - ETA: 2:41 - loss: 0.571 - ETA: 2:39 - loss: 0.570 - ETA: 2:38 - loss: 0.570 - ETA: 2:37 - loss: 0.571 - ETA: 2:35 - loss: 0.570 - ETA: 2:34 - loss: 0.570 - ETA: 2:33 - loss: 0.570 - ETA: 2:31 - loss: 0.570 - ETA: 2:30 - loss: 0.570 - ETA: 2:29 - loss: 0.570 - ETA: 2:28 - loss: 0.569 - ETA: 2:26 - loss: 0.569 - ETA: 2:25 - loss: 0.569 - ETA: 2:24 - loss: 0.570 - ETA: 2:22 - loss: 0.569 - ETA: 2:21 - loss: 0.570 - ETA: 2:20 - loss: 0.570 - ETA: 2:19 - loss: 0.570 - ETA: 2:18 - loss: 0.570 - ETA: 2:16 - loss: 0.569 - ETA: 2:15 - loss: 0.570 - ETA: 2:14 - loss: 0.569 - ETA: 2:13 - loss: 0.569 - ETA: 2:12 - loss: 0.569 - ETA: 2:10 - loss: 0.570 - ETA: 2:09 - loss: 0.570 - ETA: 2:08 - loss: 0.570 - ETA: 2:07 - loss: 0.570 - ETA: 2:06 - loss: 0.569 - ETA: 2:05 - loss: 0.569 - ETA: 2:03 - loss: 0.570 - ETA: 2:02 - loss: 0.570 - ETA: 2:01 - loss: 0.570 - ETA: 2:00 - loss: 0.570 - ETA: 1:59 - loss: 0.569 - ETA: 1:58 - loss: 0.570 - ETA: 1:57 - loss: 0.570 - ETA: 1:55 - loss: 0.569 - ETA: 1:54 - loss: 0.570 - ETA: 1:53 - loss: 0.570 - ETA: 1:52 - loss: 0.570 - ETA: 1:51 - loss: 0.569 - ETA: 1:50 - loss: 0.569 - ETA: 1:49 - loss: 0.569 - ETA: 1:48 - loss: 0.569 - ETA: 1:47 - loss: 0.569 - ETA: 1:45 - loss: 0.569 - ETA: 1:44 - loss: 0.569 - ETA: 1:43 - loss: 0.569 - ETA: 1:42 - loss: 0.569 - ETA: 1:41 - loss: 0.569 - ETA: 1:40 - loss: 0.569 - ETA: 1:39 - loss: 0.569 - ETA: 1:38 - loss: 0.570 - ETA: 1:37 - loss: 0.570 - ETA: 1:36 - loss: 0.570 - ETA: 1:35 - loss: 0.570 - ETA: 1:34 - loss: 0.570 - ETA: 1:33 - loss: 0.571 - ETA: 1:32 - loss: 0.571 - ETA: 1:31 - loss: 0.571 - ETA: 1:30 - loss: 0.571 - ETA: 1:29 - loss: 0.571 - ETA: 1:28 - loss: 0.571 - ETA: 1:26 - loss: 0.571 - ETA: 1:25 - loss: 0.571 - ETA: 1:24 - loss: 0.571 - ETA: 1:23 - loss: 0.571 - ETA: 1:22 - loss: 0.571 - ETA: 1:21 - loss: 0.571 - ETA: 1:20 - loss: 0.571 - ETA: 1:19 - loss: 0.571 - ETA: 1:18 - loss: 0.571 - ETA: 1:17 - loss: 0.571 - ETA: 1:16 - loss: 0.572 - ETA: 1:15 - loss: 0.572 - ETA: 1:14 - loss: 0.572 - ETA: 1:13 - loss: 0.572 - ETA: 1:12 - loss: 0.572 - ETA: 1:11 - loss: 0.572 - ETA: 1:10 - loss: 0.572 - ETA: 1:09 - loss: 0.573 - ETA: 1:08 - loss: 0.573 - ETA: 1:07 - loss: 0.573 - ETA: 1:06 - loss: 0.573 - ETA: 1:05 - loss: 0.573 - ETA: 1:04 - loss: 0.573 - ETA: 1:04 - loss: 0.573 - ETA: 1:03 - loss: 0.573 - ETA: 1:02 - loss: 0.573 - ETA: 1:01 - loss: 0.573 - ETA: 1:00 - loss: 0.573 - ETA: 59s - loss: 0.573 - ETA: 58s - loss: 0.57 - ETA: 57s - loss: 0.57 - ETA: 56s - loss: 0.57 - ETA: 55s - loss: 0.57 - ETA: 54s - loss: 0.57 - ETA: 53s - loss: 0.57 - ETA: 52s - loss: 0.57 - ETA: 51s - loss: 0.57 - ETA: 50s - loss: 0.57 - ETA: 49s - loss: 0.57 - ETA: 48s - loss: 0.57 - ETA: 47s - loss: 0.57 - ETA: 46s - loss: 0.57 - ETA: 45s - loss: 0.57 - ETA: 44s - loss: 0.57 - ETA: 44s - loss: 0.57 - ETA: 43s - loss: 0.57 - ETA: 42s - loss: 0.57 - ETA: 41s - loss: 0.57 - ETA: 40s - loss: 0.57 - ETA: 39s - loss: 0.57 - ETA: 38s - loss: 0.57 - ETA: 37s - loss: 0.57 - ETA: 36s - loss: 0.57 - ETA: 35s - loss: 0.57 - ETA: 34s - loss: 0.57 - ETA: 33s - loss: 0.57 - ETA: 32s - loss: 0.57 - ETA: 32s - loss: 0.57 - ETA: 31s - loss: 0.57 - ETA: 30s - loss: 0.57 - ETA: 29s - loss: 0.57 - ETA: 28s - loss: 0.57 - ETA: 27s - loss: 0.57 - ETA: 26s - loss: 0.57 - ETA: 25s - loss: 0.57 - ETA: 24s - loss: 0.57 - ETA: 23s - loss: 0.57 - ETA: 23s - loss: 0.57 - ETA: 22s - loss: 0.57 - ETA: 21s - loss: 0.57 - ETA: 20s - loss: 0.57 - ETA: 19s - loss: 0.57 - ETA: 18s - loss: 0.57 - ETA: 17s - loss: 0.57 - ETA: 16s - loss: 0.57 - ETA: 15s - loss: 0.57 - ETA: 14s - loss: 0.57 - ETA: 14s - loss: 0.57 - ETA: 13s - loss: 0.57 - ETA: 12s - loss: 0.57 - ETA: 11s - loss: 0.57 - ETA: 10s - loss: 0.57 - ETA: 9s - loss: 0.5729 - ETA: 8s - loss: 0.572 - ETA: 7s - loss: 0.572 - ETA: 7s - loss: 0.572 - ETA: 6s - loss: 0.572 - ETA: 5s - loss: 0.572 - ETA: 4s - loss: 0.572 - ETA: 3s - loss: 0.573 - ETA: 2s - loss: 0.573 - ETA: 1s - loss: 0.573 - ETA: 0s - loss: 0.5734 - ETA: 5:52 - loss: 0.549 - ETA: 2:56 - loss: 0.549 - ETA: 1:58 - loss: 0.547 - ETA: 1:28 - loss: 0.578 - ETA: 1:10 - loss: 0.572 - ETA: 59s - loss: 0.586 - ETA: 50s - loss: 0.59 - ETA: 44s - loss: 0.59 - ETA: 39s - loss: 0.58 - ETA: 34s - loss: 0.57 - ETA: 31s - loss: 0.57 - ETA: 28s - loss: 0.56 - ETA: 26s - loss: 0.56 - ETA: 24s - loss: 0.56 - ETA: 22s - loss: 0.5659\b\b\b\b\b\b\b\b\b\b\b\b\b\b\b\b\b\b\b\b\b\b\b\b\b\b\b\b\b\b\b\b\b\b\b\b\b\b\b\b\b\b\b\b\b\b\b\b\b\b\b\b\b\b\b\b\b\b\b\b\b\b\b\b"
     ]
    },
    {
     "name": "stdout",
     "output_type": "stream",
     "text": [
      "41/41 [==============================] - ETA: 20s - loss: 0.56 - ETA: 18s - loss: 0.56 - ETA: 17s - loss: 0.55 - ETA: 16s - loss: 0.56 - ETA: 14s - loss: 0.56 - ETA: 13s - loss: 0.56 - ETA: 12s - loss: 0.56 - ETA: 11s - loss: 0.56 - ETA: 10s - loss: 0.56 - ETA: 10s - loss: 0.56 - ETA: 9s - loss: 0.5589 - ETA: 8s - loss: 0.562 - ETA: 7s - loss: 0.562 - ETA: 7s - loss: 0.560 - ETA: 6s - loss: 0.561 - ETA: 5s - loss: 0.561 - ETA: 5s - loss: 0.559 - ETA: 4s - loss: 0.558 - ETA: 3s - loss: 0.560 - ETA: 3s - loss: 0.560 - ETA: 2s - loss: 0.561 - ETA: 2s - loss: 0.562 - ETA: 1s - loss: 0.562 - ETA: 1s - loss: 0.562 - ETA: 0s - loss: 0.564 - 20s 488ms/step - loss: 0.5650\n",
      "\n",
      "##############################\n",
      "\n",
      "PR AUC Fish, train: 0.700\n",
      "\n",
      "PR AUC Flower, train: 0.842\n",
      "\n",
      "PR AUC Sugar, train: 0.834\n",
      "\n",
      "PR AUC Gravel, train: 0.776\n",
      "\n",
      "\n",
      "####################\n",
      " PR AUC mean, train: 0.788\n",
      "####################\n",
      "\n",
      "\n",
      "##############################\n",
      "\n",
      "PR AUC Fish, val: 0.683\n",
      "\n",
      "PR AUC Flower, val: 0.824\n",
      "\n",
      "PR AUC Sugar, val: 0.834\n",
      "\n",
      "PR AUC Gravel, val: 0.755\n",
      "\n",
      "\n",
      "####################\n",
      " PR AUC mean, val: 0.774\n",
      "####################\n",
      "\n",
      "\n",
      "####################\n",
      "Saved new checkpoint\n",
      "####################\n",
      "\n",
      "305/305 [==============================] - 406s 1s/step - loss: 0.5732 - val_loss: 0.5650\n",
      "Epoch 3/5\n"
     ]
    },
    {
     "name": "stdout",
     "output_type": "stream",
     "text": [
      "17/41 [===========>..................].] - ETA: 3:42 - loss: 0.583 - ETA: 3:39 - loss: 0.576 - ETA: 3:39 - loss: 0.594 - ETA: 3:38 - loss: 0.593 - ETA: 3:37 - loss: 0.581 - ETA: 3:36 - loss: 0.572 - ETA: 3:36 - loss: 0.573 - ETA: 3:35 - loss: 0.566 - ETA: 3:35 - loss: 0.570 - ETA: 3:34 - loss: 0.568 - ETA: 3:33 - loss: 0.571 - ETA: 3:32 - loss: 0.567 - ETA: 3:31 - loss: 0.560 - ETA: 3:31 - loss: 0.561 - ETA: 3:30 - loss: 0.562 - ETA: 3:29 - loss: 0.566 - ETA: 3:29 - loss: 0.562 - ETA: 3:28 - loss: 0.563 - ETA: 3:27 - loss: 0.566 - ETA: 3:27 - loss: 0.561 - ETA: 3:26 - loss: 0.561 - ETA: 3:25 - loss: 0.562 - ETA: 3:25 - loss: 0.562 - ETA: 3:24 - loss: 0.562 - ETA: 3:23 - loss: 0.557 - ETA: 3:22 - loss: 0.556 - ETA: 3:22 - loss: 0.553 - ETA: 3:21 - loss: 0.556 - ETA: 3:20 - loss: 0.560 - ETA: 3:19 - loss: 0.559 - ETA: 3:19 - loss: 0.558 - ETA: 3:18 - loss: 0.560 - ETA: 3:17 - loss: 0.562 - ETA: 3:16 - loss: 0.559 - ETA: 3:16 - loss: 0.558 - ETA: 3:15 - loss: 0.559 - ETA: 3:14 - loss: 0.558 - ETA: 3:13 - loss: 0.557 - ETA: 3:13 - loss: 0.560 - ETA: 3:12 - loss: 0.560 - ETA: 3:11 - loss: 0.563 - ETA: 3:11 - loss: 0.562 - ETA: 3:10 - loss: 0.563 - ETA: 3:09 - loss: 0.563 - ETA: 3:08 - loss: 0.563 - ETA: 3:08 - loss: 0.562 - ETA: 3:07 - loss: 0.562 - ETA: 3:06 - loss: 0.566 - ETA: 3:05 - loss: 0.565 - ETA: 3:05 - loss: 0.565 - ETA: 3:04 - loss: 0.565 - ETA: 3:03 - loss: 0.565 - ETA: 3:03 - loss: 0.566 - ETA: 3:02 - loss: 0.567 - ETA: 3:01 - loss: 0.567 - ETA: 3:00 - loss: 0.565 - ETA: 3:00 - loss: 0.566 - ETA: 2:59 - loss: 0.567 - ETA: 2:58 - loss: 0.566 - ETA: 2:58 - loss: 0.566 - ETA: 2:57 - loss: 0.566 - ETA: 2:56 - loss: 0.566 - ETA: 2:55 - loss: 0.566 - ETA: 2:55 - loss: 0.565 - ETA: 2:54 - loss: 0.565 - ETA: 2:53 - loss: 0.566 - ETA: 2:52 - loss: 0.565 - ETA: 2:52 - loss: 0.566 - ETA: 2:51 - loss: 0.566 - ETA: 2:50 - loss: 0.567 - ETA: 2:50 - loss: 0.568 - ETA: 2:49 - loss: 0.568 - ETA: 2:48 - loss: 0.569 - ETA: 2:47 - loss: 0.569 - ETA: 2:47 - loss: 0.571 - ETA: 2:46 - loss: 0.570 - ETA: 2:45 - loss: 0.569 - ETA: 2:44 - loss: 0.569 - ETA: 2:44 - loss: 0.570 - ETA: 2:43 - loss: 0.570 - ETA: 2:42 - loss: 0.571 - ETA: 2:41 - loss: 0.570 - ETA: 2:41 - loss: 0.570 - ETA: 2:40 - loss: 0.571 - ETA: 2:39 - loss: 0.571 - ETA: 2:39 - loss: 0.572 - ETA: 2:38 - loss: 0.572 - ETA: 2:37 - loss: 0.572 - ETA: 2:36 - loss: 0.572 - ETA: 2:36 - loss: 0.571 - ETA: 2:35 - loss: 0.571 - ETA: 2:34 - loss: 0.571 - ETA: 2:34 - loss: 0.571 - ETA: 2:33 - loss: 0.571 - ETA: 2:32 - loss: 0.571 - ETA: 2:31 - loss: 0.572 - ETA: 2:31 - loss: 0.571 - ETA: 2:30 - loss: 0.571 - ETA: 2:29 - loss: 0.572 - ETA: 2:28 - loss: 0.572 - ETA: 2:28 - loss: 0.570 - ETA: 2:27 - loss: 0.571 - ETA: 2:26 - loss: 0.571 - ETA: 2:26 - loss: 0.571 - ETA: 2:25 - loss: 0.571 - ETA: 2:24 - loss: 0.571 - ETA: 2:23 - loss: 0.571 - ETA: 2:23 - loss: 0.571 - ETA: 2:22 - loss: 0.571 - ETA: 2:21 - loss: 0.571 - ETA: 2:21 - loss: 0.571 - ETA: 2:20 - loss: 0.571 - ETA: 2:19 - loss: 0.571 - ETA: 2:18 - loss: 0.571 - ETA: 2:18 - loss: 0.571 - ETA: 2:17 - loss: 0.570 - ETA: 2:16 - loss: 0.570 - ETA: 2:15 - loss: 0.569 - ETA: 2:15 - loss: 0.569 - ETA: 2:14 - loss: 0.569 - ETA: 2:13 - loss: 0.569 - ETA: 2:12 - loss: 0.569 - ETA: 2:12 - loss: 0.569 - ETA: 2:11 - loss: 0.568 - ETA: 2:10 - loss: 0.568 - ETA: 2:10 - loss: 0.569 - ETA: 2:09 - loss: 0.569 - ETA: 2:08 - loss: 0.569 - ETA: 2:07 - loss: 0.569 - ETA: 2:07 - loss: 0.569 - ETA: 2:06 - loss: 0.570 - ETA: 2:05 - loss: 0.569 - ETA: 2:04 - loss: 0.570 - ETA: 2:04 - loss: 0.570 - ETA: 2:03 - loss: 0.570 - ETA: 2:02 - loss: 0.571 - ETA: 2:02 - loss: 0.571 - ETA: 2:01 - loss: 0.572 - ETA: 2:00 - loss: 0.571 - ETA: 1:59 - loss: 0.572 - ETA: 1:59 - loss: 0.572 - ETA: 1:58 - loss: 0.571 - ETA: 1:57 - loss: 0.571 - ETA: 1:56 - loss: 0.571 - ETA: 1:56 - loss: 0.571 - ETA: 1:55 - loss: 0.572 - ETA: 1:54 - loss: 0.571 - ETA: 1:54 - loss: 0.571 - ETA: 1:53 - loss: 0.571 - ETA: 1:52 - loss: 0.571 - ETA: 1:51 - loss: 0.572 - ETA: 1:51 - loss: 0.571 - ETA: 1:50 - loss: 0.571 - ETA: 1:49 - loss: 0.571 - ETA: 1:48 - loss: 0.571 - ETA: 1:48 - loss: 0.571 - ETA: 1:47 - loss: 0.571 - ETA: 1:46 - loss: 0.571 - ETA: 1:46 - loss: 0.571 - ETA: 1:45 - loss: 0.572 - ETA: 1:44 - loss: 0.571 - ETA: 1:43 - loss: 0.571 - ETA: 1:43 - loss: 0.571 - ETA: 1:42 - loss: 0.572 - ETA: 1:41 - loss: 0.572 - ETA: 1:40 - loss: 0.572 - ETA: 1:40 - loss: 0.572 - ETA: 1:39 - loss: 0.572 - ETA: 1:38 - loss: 0.571 - ETA: 1:38 - loss: 0.571 - ETA: 1:37 - loss: 0.572 - ETA: 1:36 - loss: 0.572 - ETA: 1:35 - loss: 0.572 - ETA: 1:35 - loss: 0.572 - ETA: 1:34 - loss: 0.572 - ETA: 1:33 - loss: 0.571 - ETA: 1:32 - loss: 0.571 - ETA: 1:32 - loss: 0.571 - ETA: 1:31 - loss: 0.571 - ETA: 1:30 - loss: 0.571 - ETA: 1:30 - loss: 0.571 - ETA: 1:29 - loss: 0.571 - ETA: 1:28 - loss: 0.571 - ETA: 1:27 - loss: 0.571 - ETA: 1:27 - loss: 0.571 - ETA: 1:26 - loss: 0.571 - ETA: 1:25 - loss: 0.571 - ETA: 1:24 - loss: 0.570 - ETA: 1:24 - loss: 0.571 - ETA: 1:23 - loss: 0.571 - ETA: 1:22 - loss: 0.571 - ETA: 1:22 - loss: 0.571 - ETA: 1:21 - loss: 0.570 - ETA: 1:20 - loss: 0.570 - ETA: 1:19 - loss: 0.570 - ETA: 1:19 - loss: 0.571 - ETA: 1:18 - loss: 0.571 - ETA: 1:17 - loss: 0.570 - ETA: 1:17 - loss: 0.570 - ETA: 1:16 - loss: 0.570 - ETA: 1:15 - loss: 0.570 - ETA: 1:14 - loss: 0.570 - ETA: 1:14 - loss: 0.570 - ETA: 1:13 - loss: 0.571 - ETA: 1:12 - loss: 0.570 - ETA: 1:11 - loss: 0.570 - ETA: 1:11 - loss: 0.570 - ETA: 1:10 - loss: 0.570 - ETA: 1:09 - loss: 0.570 - ETA: 1:09 - loss: 0.570 - ETA: 1:08 - loss: 0.570 - ETA: 1:07 - loss: 0.570 - ETA: 1:06 - loss: 0.570 - ETA: 1:06 - loss: 0.570 - ETA: 1:05 - loss: 0.570 - ETA: 1:04 - loss: 0.570 - ETA: 1:03 - loss: 0.570 - ETA: 1:03 - loss: 0.570 - ETA: 1:02 - loss: 0.570 - ETA: 1:01 - loss: 0.569 - ETA: 1:01 - loss: 0.569 - ETA: 1:00 - loss: 0.569 - ETA: 59s - loss: 0.569 - ETA: 58s - loss: 0.56 - ETA: 58s - loss: 0.56 - ETA: 57s - loss: 0.56 - ETA: 56s - loss: 0.56 - ETA: 55s - loss: 0.56 - ETA: 55s - loss: 0.56 - ETA: 54s - loss: 0.56 - ETA: 53s - loss: 0.56 - ETA: 53s - loss: 0.56 - ETA: 52s - loss: 0.56 - ETA: 51s - loss: 0.56 - ETA: 50s - loss: 0.56 - ETA: 50s - loss: 0.56 - ETA: 49s - loss: 0.57 - ETA: 48s - loss: 0.57 - ETA: 47s - loss: 0.57 - ETA: 47s - loss: 0.56 - ETA: 46s - loss: 0.56 - ETA: 45s - loss: 0.56 - ETA: 45s - loss: 0.56 - ETA: 44s - loss: 0.57 - ETA: 43s - loss: 0.56 - ETA: 42s - loss: 0.57 - ETA: 42s - loss: 0.57 - ETA: 41s - loss: 0.57 - ETA: 40s - loss: 0.57 - ETA: 39s - loss: 0.56 - ETA: 39s - loss: 0.57 - ETA: 38s - loss: 0.57 - ETA: 37s - loss: 0.56 - ETA: 37s - loss: 0.57 - ETA: 36s - loss: 0.56 - ETA: 35s - loss: 0.57 - ETA: 34s - loss: 0.57 - ETA: 34s - loss: 0.57 - ETA: 33s - loss: 0.57 - ETA: 32s - loss: 0.57 - ETA: 32s - loss: 0.56 - ETA: 31s - loss: 0.56 - ETA: 30s - loss: 0.56 - ETA: 29s - loss: 0.56 - ETA: 29s - loss: 0.56 - ETA: 28s - loss: 0.57 - ETA: 27s - loss: 0.57 - ETA: 26s - loss: 0.57 - ETA: 26s - loss: 0.57 - ETA: 25s - loss: 0.56 - ETA: 24s - loss: 0.56 - ETA: 24s - loss: 0.56 - ETA: 23s - loss: 0.56 - ETA: 22s - loss: 0.56 - ETA: 21s - loss: 0.56 - ETA: 21s - loss: 0.56 - ETA: 20s - loss: 0.56 - ETA: 19s - loss: 0.56 - ETA: 18s - loss: 0.56 - ETA: 18s - loss: 0.56 - ETA: 17s - loss: 0.56 - ETA: 16s - loss: 0.56 - ETA: 16s - loss: 0.57 - ETA: 15s - loss: 0.57 - ETA: 14s - loss: 0.57 - ETA: 13s - loss: 0.57 - ETA: 13s - loss: 0.57 - ETA: 12s - loss: 0.57 - ETA: 11s - loss: 0.57 - ETA: 10s - loss: 0.57 - ETA: 10s - loss: 0.57 - ETA: 9s - loss: 0.5700 - ETA: 8s - loss: 0.569 - ETA: 8s - loss: 0.569 - ETA: 7s - loss: 0.570 - ETA: 6s - loss: 0.570 - ETA: 5s - loss: 0.570 - ETA: 5s - loss: 0.570 - ETA: 4s - loss: 0.570 - ETA: 3s - loss: 0.570 - ETA: 2s - loss: 0.570 - ETA: 2s - loss: 0.570 - ETA: 1s - loss: 0.570 - ETA: 0s - loss: 0.5708 - ETA: 2:31 - loss: 0.548 - ETA: 1:21 - loss: 0.546 - ETA: 57s - loss: 0.546 - ETA: 45s - loss: 0.57 - ETA: 37s - loss: 0.56 - ETA: 32s - loss: 0.58 - ETA: 28s - loss: 0.58 - ETA: 25s - loss: 0.58 - ETA: 23s - loss: 0.57 - ETA: 21s - loss: 0.57 - ETA: 19s - loss: 0.56 - ETA: 18s - loss: 0.56 - ETA: 17s - loss: 0.55 - ETA: 15s - loss: 0.55 - ETA: 14s - loss: 0.55 - ETA: 13s - loss: 0.55 - ETA: 12s - loss: 0.5561"
     ]
    },
    {
     "name": "stdout",
     "output_type": "stream",
     "text": [
      "41/41 [==============================] - ETA: 12s - loss: 0.55 - ETA: 11s - loss: 0.55 - ETA: 10s - loss: 0.55 - ETA: 9s - loss: 0.5580 - ETA: 9s - loss: 0.557 - ETA: 8s - loss: 0.555 - ETA: 7s - loss: 0.555 - ETA: 7s - loss: 0.554 - ETA: 6s - loss: 0.553 - ETA: 6s - loss: 0.558 - ETA: 5s - loss: 0.558 - ETA: 5s - loss: 0.555 - ETA: 4s - loss: 0.557 - ETA: 4s - loss: 0.557 - ETA: 3s - loss: 0.555 - ETA: 3s - loss: 0.553 - ETA: 2s - loss: 0.555 - ETA: 2s - loss: 0.556 - ETA: 2s - loss: 0.556 - ETA: 1s - loss: 0.558 - ETA: 1s - loss: 0.558 - ETA: 0s - loss: 0.558 - ETA: 0s - loss: 0.560 - 16s 389ms/step - loss: 0.5603\n",
      "\n",
      "##############################\n",
      "\n",
      "PR AUC Fish, train: 0.703\n",
      "\n",
      "PR AUC Flower, train: 0.840\n",
      "\n",
      "PR AUC Sugar, train: 0.836\n",
      "\n",
      "PR AUC Gravel, train: 0.777\n",
      "\n",
      "\n",
      "####################\n",
      " PR AUC mean, train: 0.789\n",
      "####################\n",
      "\n",
      "\n",
      "##############################\n",
      "\n",
      "PR AUC Fish, val: 0.687\n",
      "\n",
      "PR AUC Flower, val: 0.823\n",
      "\n",
      "PR AUC Sugar, val: 0.834\n",
      "\n",
      "PR AUC Gravel, val: 0.759\n",
      "\n",
      "\n",
      "####################\n",
      " PR AUC mean, val: 0.776\n",
      "####################\n",
      "\n",
      "\n",
      "####################\n",
      "Saved new checkpoint\n",
      "####################\n",
      "\n",
      "305/305 [==============================] - 347s 1s/step - loss: 0.5710 - val_loss: 0.5603\n",
      "Epoch 4/5\n"
     ]
    },
    {
     "name": "stdout",
     "output_type": "stream",
     "text": [
      "17/41 [===========>..................].] - ETA: 3:39 - loss: 0.554 - ETA: 3:37 - loss: 0.554 - ETA: 3:38 - loss: 0.567 - ETA: 3:38 - loss: 0.548 - ETA: 3:37 - loss: 0.543 - ETA: 3:36 - loss: 0.559 - ETA: 3:36 - loss: 0.566 - ETA: 3:35 - loss: 0.567 - ETA: 3:34 - loss: 0.577 - ETA: 3:34 - loss: 0.573 - ETA: 3:33 - loss: 0.574 - ETA: 3:32 - loss: 0.574 - ETA: 3:31 - loss: 0.576 - ETA: 3:31 - loss: 0.581 - ETA: 3:30 - loss: 0.577 - ETA: 3:29 - loss: 0.577 - ETA: 3:28 - loss: 0.576 - ETA: 3:27 - loss: 0.577 - ETA: 3:27 - loss: 0.575 - ETA: 3:26 - loss: 0.575 - ETA: 3:25 - loss: 0.584 - ETA: 3:24 - loss: 0.579 - ETA: 3:24 - loss: 0.576 - ETA: 3:23 - loss: 0.573 - ETA: 3:22 - loss: 0.578 - ETA: 3:22 - loss: 0.577 - ETA: 3:21 - loss: 0.577 - ETA: 3:20 - loss: 0.577 - ETA: 3:19 - loss: 0.575 - ETA: 3:19 - loss: 0.573 - ETA: 3:18 - loss: 0.575 - ETA: 3:17 - loss: 0.577 - ETA: 3:16 - loss: 0.576 - ETA: 3:16 - loss: 0.576 - ETA: 3:15 - loss: 0.575 - ETA: 3:14 - loss: 0.575 - ETA: 3:13 - loss: 0.576 - ETA: 3:13 - loss: 0.574 - ETA: 3:12 - loss: 0.573 - ETA: 3:11 - loss: 0.572 - ETA: 3:11 - loss: 0.571 - ETA: 3:10 - loss: 0.572 - ETA: 3:09 - loss: 0.572 - ETA: 3:08 - loss: 0.574 - ETA: 3:08 - loss: 0.574 - ETA: 3:07 - loss: 0.573 - ETA: 3:06 - loss: 0.573 - ETA: 3:06 - loss: 0.573 - ETA: 3:05 - loss: 0.574 - ETA: 3:04 - loss: 0.573 - ETA: 3:04 - loss: 0.574 - ETA: 3:03 - loss: 0.573 - ETA: 3:02 - loss: 0.573 - ETA: 3:01 - loss: 0.574 - ETA: 3:01 - loss: 0.574 - ETA: 3:00 - loss: 0.572 - ETA: 2:59 - loss: 0.572 - ETA: 2:58 - loss: 0.573 - ETA: 2:58 - loss: 0.574 - ETA: 2:57 - loss: 0.573 - ETA: 2:56 - loss: 0.573 - ETA: 2:55 - loss: 0.572 - ETA: 2:55 - loss: 0.571 - ETA: 2:54 - loss: 0.571 - ETA: 2:53 - loss: 0.570 - ETA: 2:53 - loss: 0.570 - ETA: 2:52 - loss: 0.569 - ETA: 2:51 - loss: 0.570 - ETA: 2:50 - loss: 0.570 - ETA: 2:50 - loss: 0.570 - ETA: 2:49 - loss: 0.570 - ETA: 2:48 - loss: 0.570 - ETA: 2:47 - loss: 0.570 - ETA: 2:47 - loss: 0.569 - ETA: 2:46 - loss: 0.569 - ETA: 2:45 - loss: 0.569 - ETA: 2:45 - loss: 0.569 - ETA: 2:44 - loss: 0.569 - ETA: 2:43 - loss: 0.569 - ETA: 2:43 - loss: 0.568 - ETA: 2:42 - loss: 0.568 - ETA: 2:41 - loss: 0.569 - ETA: 2:40 - loss: 0.569 - ETA: 2:40 - loss: 0.568 - ETA: 2:39 - loss: 0.568 - ETA: 2:38 - loss: 0.567 - ETA: 2:37 - loss: 0.567 - ETA: 2:37 - loss: 0.567 - ETA: 2:36 - loss: 0.568 - ETA: 2:35 - loss: 0.568 - ETA: 2:34 - loss: 0.568 - ETA: 2:34 - loss: 0.567 - ETA: 2:33 - loss: 0.567 - ETA: 2:32 - loss: 0.567 - ETA: 2:32 - loss: 0.567 - ETA: 2:31 - loss: 0.566 - ETA: 2:30 - loss: 0.566 - ETA: 2:29 - loss: 0.566 - ETA: 2:29 - loss: 0.566 - ETA: 2:28 - loss: 0.565 - ETA: 2:27 - loss: 0.565 - ETA: 2:26 - loss: 0.566 - ETA: 2:26 - loss: 0.565 - ETA: 2:25 - loss: 0.566 - ETA: 2:24 - loss: 0.566 - ETA: 2:24 - loss: 0.567 - ETA: 2:23 - loss: 0.566 - ETA: 2:22 - loss: 0.566 - ETA: 2:21 - loss: 0.566 - ETA: 2:21 - loss: 0.565 - ETA: 2:20 - loss: 0.565 - ETA: 2:19 - loss: 0.566 - ETA: 2:19 - loss: 0.566 - ETA: 2:18 - loss: 0.565 - ETA: 2:17 - loss: 0.565 - ETA: 2:16 - loss: 0.565 - ETA: 2:16 - loss: 0.565 - ETA: 2:15 - loss: 0.566 - ETA: 2:14 - loss: 0.566 - ETA: 2:14 - loss: 0.566 - ETA: 2:13 - loss: 0.567 - ETA: 2:12 - loss: 0.567 - ETA: 2:11 - loss: 0.566 - ETA: 2:11 - loss: 0.566 - ETA: 2:10 - loss: 0.567 - ETA: 2:09 - loss: 0.566 - ETA: 2:08 - loss: 0.567 - ETA: 2:08 - loss: 0.567 - ETA: 2:07 - loss: 0.567 - ETA: 2:06 - loss: 0.567 - ETA: 2:06 - loss: 0.567 - ETA: 2:05 - loss: 0.567 - ETA: 2:04 - loss: 0.566 - ETA: 2:03 - loss: 0.567 - ETA: 2:03 - loss: 0.566 - ETA: 2:02 - loss: 0.567 - ETA: 2:01 - loss: 0.566 - ETA: 2:00 - loss: 0.566 - ETA: 2:00 - loss: 0.567 - ETA: 1:59 - loss: 0.566 - ETA: 1:58 - loss: 0.566 - ETA: 1:58 - loss: 0.566 - ETA: 1:57 - loss: 0.566 - ETA: 1:56 - loss: 0.566 - ETA: 1:55 - loss: 0.566 - ETA: 1:55 - loss: 0.566 - ETA: 1:54 - loss: 0.566 - ETA: 1:53 - loss: 0.565 - ETA: 1:53 - loss: 0.565 - ETA: 1:52 - loss: 0.565 - ETA: 1:51 - loss: 0.565 - ETA: 1:50 - loss: 0.565 - ETA: 1:50 - loss: 0.565 - ETA: 1:49 - loss: 0.565 - ETA: 1:48 - loss: 0.565 - ETA: 1:47 - loss: 0.565 - ETA: 1:47 - loss: 0.565 - ETA: 1:46 - loss: 0.565 - ETA: 1:45 - loss: 0.565 - ETA: 1:45 - loss: 0.566 - ETA: 1:44 - loss: 0.566 - ETA: 1:43 - loss: 0.566 - ETA: 1:42 - loss: 0.566 - ETA: 1:42 - loss: 0.566 - ETA: 1:41 - loss: 0.566 - ETA: 1:40 - loss: 0.566 - ETA: 1:39 - loss: 0.566 - ETA: 1:39 - loss: 0.566 - ETA: 1:38 - loss: 0.566 - ETA: 1:37 - loss: 0.566 - ETA: 1:37 - loss: 0.566 - ETA: 1:36 - loss: 0.567 - ETA: 1:35 - loss: 0.567 - ETA: 1:34 - loss: 0.567 - ETA: 1:34 - loss: 0.567 - ETA: 1:33 - loss: 0.568 - ETA: 1:32 - loss: 0.568 - ETA: 1:32 - loss: 0.568 - ETA: 1:31 - loss: 0.568 - ETA: 1:30 - loss: 0.568 - ETA: 1:29 - loss: 0.568 - ETA: 1:29 - loss: 0.568 - ETA: 1:28 - loss: 0.568 - ETA: 1:27 - loss: 0.568 - ETA: 1:26 - loss: 0.567 - ETA: 1:26 - loss: 0.568 - ETA: 1:25 - loss: 0.567 - ETA: 1:24 - loss: 0.568 - ETA: 1:24 - loss: 0.568 - ETA: 1:23 - loss: 0.568 - ETA: 1:22 - loss: 0.568 - ETA: 1:21 - loss: 0.568 - ETA: 1:21 - loss: 0.568 - ETA: 1:20 - loss: 0.568 - ETA: 1:19 - loss: 0.568 - ETA: 1:19 - loss: 0.568 - ETA: 1:18 - loss: 0.568 - ETA: 1:17 - loss: 0.568 - ETA: 1:16 - loss: 0.568 - ETA: 1:16 - loss: 0.568 - ETA: 1:15 - loss: 0.568 - ETA: 1:14 - loss: 0.568 - ETA: 1:13 - loss: 0.568 - ETA: 1:13 - loss: 0.568 - ETA: 1:12 - loss: 0.568 - ETA: 1:11 - loss: 0.568 - ETA: 1:11 - loss: 0.568 - ETA: 1:10 - loss: 0.568 - ETA: 1:09 - loss: 0.569 - ETA: 1:08 - loss: 0.568 - ETA: 1:08 - loss: 0.568 - ETA: 1:07 - loss: 0.568 - ETA: 1:06 - loss: 0.568 - ETA: 1:05 - loss: 0.568 - ETA: 1:05 - loss: 0.568 - ETA: 1:04 - loss: 0.567 - ETA: 1:03 - loss: 0.567 - ETA: 1:03 - loss: 0.567 - ETA: 1:02 - loss: 0.567 - ETA: 1:01 - loss: 0.567 - ETA: 1:00 - loss: 0.567 - ETA: 1:00 - loss: 0.567 - ETA: 59s - loss: 0.567 - ETA: 58s - loss: 0.56 - ETA: 58s - loss: 0.56 - ETA: 57s - loss: 0.56 - ETA: 56s - loss: 0.56 - ETA: 55s - loss: 0.56 - ETA: 55s - loss: 0.56 - ETA: 54s - loss: 0.56 - ETA: 53s - loss: 0.56 - ETA: 52s - loss: 0.56 - ETA: 52s - loss: 0.56 - ETA: 51s - loss: 0.56 - ETA: 50s - loss: 0.56 - ETA: 50s - loss: 0.56 - ETA: 49s - loss: 0.56 - ETA: 48s - loss: 0.56 - ETA: 47s - loss: 0.56 - ETA: 47s - loss: 0.56 - ETA: 46s - loss: 0.56 - ETA: 45s - loss: 0.56 - ETA: 44s - loss: 0.56 - ETA: 44s - loss: 0.56 - ETA: 43s - loss: 0.56 - ETA: 42s - loss: 0.56 - ETA: 42s - loss: 0.56 - ETA: 41s - loss: 0.56 - ETA: 40s - loss: 0.56 - ETA: 39s - loss: 0.56 - ETA: 39s - loss: 0.56 - ETA: 38s - loss: 0.56 - ETA: 37s - loss: 0.56 - ETA: 36s - loss: 0.56 - ETA: 36s - loss: 0.56 - ETA: 35s - loss: 0.56 - ETA: 34s - loss: 0.56 - ETA: 34s - loss: 0.56 - ETA: 33s - loss: 0.56 - ETA: 32s - loss: 0.56 - ETA: 31s - loss: 0.56 - ETA: 31s - loss: 0.56 - ETA: 30s - loss: 0.56 - ETA: 29s - loss: 0.56 - ETA: 29s - loss: 0.56 - ETA: 28s - loss: 0.56 - ETA: 27s - loss: 0.56 - ETA: 26s - loss: 0.56 - ETA: 26s - loss: 0.56 - ETA: 25s - loss: 0.56 - ETA: 24s - loss: 0.56 - ETA: 23s - loss: 0.56 - ETA: 23s - loss: 0.56 - ETA: 22s - loss: 0.56 - ETA: 21s - loss: 0.56 - ETA: 21s - loss: 0.56 - ETA: 20s - loss: 0.56 - ETA: 19s - loss: 0.56 - ETA: 18s - loss: 0.56 - ETA: 18s - loss: 0.56 - ETA: 17s - loss: 0.56 - ETA: 16s - loss: 0.56 - ETA: 15s - loss: 0.56 - ETA: 15s - loss: 0.57 - ETA: 14s - loss: 0.56 - ETA: 13s - loss: 0.57 - ETA: 13s - loss: 0.57 - ETA: 12s - loss: 0.57 - ETA: 11s - loss: 0.57 - ETA: 10s - loss: 0.57 - ETA: 10s - loss: 0.57 - ETA: 9s - loss: 0.5700 - ETA: 8s - loss: 0.570 - ETA: 7s - loss: 0.570 - ETA: 7s - loss: 0.569 - ETA: 6s - loss: 0.570 - ETA: 5s - loss: 0.570 - ETA: 5s - loss: 0.570 - ETA: 4s - loss: 0.570 - ETA: 3s - loss: 0.570 - ETA: 2s - loss: 0.569 - ETA: 2s - loss: 0.569 - ETA: 1s - loss: 0.570 - ETA: 0s - loss: 0.5702 - ETA: 2:36 - loss: 0.540 - ETA: 1:23 - loss: 0.542 - ETA: 59s - loss: 0.551 - ETA: 46s - loss: 0.58 - ETA: 39s - loss: 0.57 - ETA: 34s - loss: 0.58 - ETA: 30s - loss: 0.59 - ETA: 27s - loss: 0.59 - ETA: 24s - loss: 0.58 - ETA: 22s - loss: 0.57 - ETA: 20s - loss: 0.56 - ETA: 19s - loss: 0.56 - ETA: 17s - loss: 0.56 - ETA: 16s - loss: 0.56 - ETA: 15s - loss: 0.55 - ETA: 14s - loss: 0.55 - ETA: 13s - loss: 0.5559"
     ]
    },
    {
     "name": "stdout",
     "output_type": "stream",
     "text": [
      "41/41 [==============================] - ETA: 12s - loss: 0.55 - ETA: 11s - loss: 0.55 - ETA: 10s - loss: 0.55 - ETA: 10s - loss: 0.55 - ETA: 9s - loss: 0.5588 - ETA: 8s - loss: 0.556 - ETA: 8s - loss: 0.557 - ETA: 7s - loss: 0.556 - ETA: 7s - loss: 0.556 - ETA: 6s - loss: 0.561 - ETA: 5s - loss: 0.560 - ETA: 5s - loss: 0.558 - ETA: 4s - loss: 0.558 - ETA: 4s - loss: 0.558 - ETA: 3s - loss: 0.556 - ETA: 3s - loss: 0.554 - ETA: 3s - loss: 0.556 - ETA: 2s - loss: 0.556 - ETA: 2s - loss: 0.557 - ETA: 1s - loss: 0.558 - ETA: 1s - loss: 0.557 - ETA: 0s - loss: 0.558 - ETA: 0s - loss: 0.560 - 16s 398ms/step - loss: 0.5606\n",
      "\n",
      "##############################\n",
      "\n",
      "PR AUC Fish, train: 0.708\n",
      "\n",
      "PR AUC Flower, train: 0.841\n",
      "\n",
      "PR AUC Sugar, train: 0.836\n",
      "\n",
      "PR AUC Gravel, train: 0.778\n",
      "\n",
      "\n",
      "####################\n",
      " PR AUC mean, train: 0.791\n",
      "####################\n",
      "\n",
      "\n",
      "##############################\n",
      "\n",
      "PR AUC Fish, val: 0.693\n",
      "\n",
      "PR AUC Flower, val: 0.822\n",
      "\n",
      "PR AUC Sugar, val: 0.832\n",
      "\n",
      "PR AUC Gravel, val: 0.754\n",
      "\n",
      "\n",
      "####################\n",
      " PR AUC mean, val: 0.775\n",
      "####################\n",
      "\n",
      "\n",
      "####################\n",
      "Saved new checkpoint\n",
      "####################\n",
      "\n",
      "305/305 [==============================] - 348s 1s/step - loss: 0.5701 - val_loss: 0.5606\n",
      "Epoch 5/5\n"
     ]
    },
    {
     "name": "stdout",
     "output_type": "stream",
     "text": [
      "17/41 [===========>..................].] - ETA: 3:38 - loss: 0.543 - ETA: 3:37 - loss: 0.572 - ETA: 3:36 - loss: 0.546 - ETA: 3:35 - loss: 0.567 - ETA: 3:35 - loss: 0.562 - ETA: 3:34 - loss: 0.555 - ETA: 3:34 - loss: 0.557 - ETA: 3:34 - loss: 0.554 - ETA: 3:33 - loss: 0.562 - ETA: 3:32 - loss: 0.552 - ETA: 3:32 - loss: 0.554 - ETA: 3:31 - loss: 0.558 - ETA: 3:31 - loss: 0.559 - ETA: 3:30 - loss: 0.568 - ETA: 3:30 - loss: 0.560 - ETA: 3:29 - loss: 0.561 - ETA: 3:28 - loss: 0.561 - ETA: 3:27 - loss: 0.561 - ETA: 3:26 - loss: 0.558 - ETA: 3:26 - loss: 0.559 - ETA: 3:25 - loss: 0.555 - ETA: 3:24 - loss: 0.559 - ETA: 3:23 - loss: 0.564 - ETA: 3:23 - loss: 0.564 - ETA: 3:22 - loss: 0.563 - ETA: 3:21 - loss: 0.568 - ETA: 3:20 - loss: 0.566 - ETA: 3:20 - loss: 0.567 - ETA: 3:19 - loss: 0.567 - ETA: 3:18 - loss: 0.568 - ETA: 3:17 - loss: 0.569 - ETA: 3:17 - loss: 0.569 - ETA: 3:16 - loss: 0.567 - ETA: 3:15 - loss: 0.567 - ETA: 3:15 - loss: 0.569 - ETA: 3:14 - loss: 0.567 - ETA: 3:13 - loss: 0.565 - ETA: 3:12 - loss: 0.562 - ETA: 3:12 - loss: 0.562 - ETA: 3:11 - loss: 0.561 - ETA: 3:10 - loss: 0.561 - ETA: 3:10 - loss: 0.563 - ETA: 3:09 - loss: 0.565 - ETA: 3:08 - loss: 0.565 - ETA: 3:08 - loss: 0.565 - ETA: 3:07 - loss: 0.566 - ETA: 3:06 - loss: 0.566 - ETA: 3:05 - loss: 0.565 - ETA: 3:05 - loss: 0.565 - ETA: 3:04 - loss: 0.567 - ETA: 3:03 - loss: 0.566 - ETA: 3:03 - loss: 0.567 - ETA: 3:02 - loss: 0.566 - ETA: 3:01 - loss: 0.565 - ETA: 3:00 - loss: 0.566 - ETA: 3:00 - loss: 0.565 - ETA: 2:59 - loss: 0.565 - ETA: 2:58 - loss: 0.564 - ETA: 2:58 - loss: 0.565 - ETA: 2:57 - loss: 0.563 - ETA: 2:56 - loss: 0.563 - ETA: 2:55 - loss: 0.563 - ETA: 2:55 - loss: 0.563 - ETA: 2:54 - loss: 0.565 - ETA: 2:53 - loss: 0.567 - ETA: 2:53 - loss: 0.567 - ETA: 2:52 - loss: 0.567 - ETA: 2:51 - loss: 0.566 - ETA: 2:50 - loss: 0.567 - ETA: 2:50 - loss: 0.566 - ETA: 2:49 - loss: 0.565 - ETA: 2:48 - loss: 0.566 - ETA: 2:47 - loss: 0.566 - ETA: 2:47 - loss: 0.566 - ETA: 2:46 - loss: 0.566 - ETA: 2:45 - loss: 0.566 - ETA: 2:45 - loss: 0.566 - ETA: 2:44 - loss: 0.566 - ETA: 2:43 - loss: 0.567 - ETA: 2:42 - loss: 0.567 - ETA: 2:42 - loss: 0.565 - ETA: 2:41 - loss: 0.565 - ETA: 2:40 - loss: 0.565 - ETA: 2:40 - loss: 0.565 - ETA: 2:39 - loss: 0.565 - ETA: 2:38 - loss: 0.565 - ETA: 2:37 - loss: 0.564 - ETA: 2:37 - loss: 0.565 - ETA: 2:36 - loss: 0.565 - ETA: 2:35 - loss: 0.565 - ETA: 2:34 - loss: 0.565 - ETA: 2:34 - loss: 0.565 - ETA: 2:33 - loss: 0.565 - ETA: 2:32 - loss: 0.565 - ETA: 2:32 - loss: 0.565 - ETA: 2:31 - loss: 0.565 - ETA: 2:30 - loss: 0.565 - ETA: 2:29 - loss: 0.564 - ETA: 2:29 - loss: 0.564 - ETA: 2:28 - loss: 0.564 - ETA: 2:27 - loss: 0.565 - ETA: 2:27 - loss: 0.565 - ETA: 2:26 - loss: 0.565 - ETA: 2:25 - loss: 0.565 - ETA: 2:24 - loss: 0.565 - ETA: 2:24 - loss: 0.565 - ETA: 2:23 - loss: 0.565 - ETA: 2:22 - loss: 0.565 - ETA: 2:21 - loss: 0.564 - ETA: 2:21 - loss: 0.564 - ETA: 2:20 - loss: 0.564 - ETA: 2:19 - loss: 0.564 - ETA: 2:19 - loss: 0.564 - ETA: 2:18 - loss: 0.563 - ETA: 2:17 - loss: 0.563 - ETA: 2:16 - loss: 0.563 - ETA: 2:16 - loss: 0.563 - ETA: 2:15 - loss: 0.564 - ETA: 2:14 - loss: 0.563 - ETA: 2:13 - loss: 0.564 - ETA: 2:13 - loss: 0.563 - ETA: 2:12 - loss: 0.563 - ETA: 2:11 - loss: 0.563 - ETA: 2:11 - loss: 0.563 - ETA: 2:10 - loss: 0.563 - ETA: 2:09 - loss: 0.562 - ETA: 2:08 - loss: 0.562 - ETA: 2:08 - loss: 0.563 - ETA: 2:07 - loss: 0.562 - ETA: 2:06 - loss: 0.562 - ETA: 2:06 - loss: 0.563 - ETA: 2:05 - loss: 0.563 - ETA: 2:04 - loss: 0.563 - ETA: 2:03 - loss: 0.563 - ETA: 2:03 - loss: 0.563 - ETA: 2:02 - loss: 0.563 - ETA: 2:01 - loss: 0.562 - ETA: 2:00 - loss: 0.562 - ETA: 2:00 - loss: 0.562 - ETA: 1:59 - loss: 0.563 - ETA: 1:58 - loss: 0.563 - ETA: 1:58 - loss: 0.563 - ETA: 1:57 - loss: 0.563 - ETA: 1:56 - loss: 0.563 - ETA: 1:55 - loss: 0.563 - ETA: 1:55 - loss: 0.563 - ETA: 1:54 - loss: 0.563 - ETA: 1:53 - loss: 0.563 - ETA: 1:53 - loss: 0.564 - ETA: 1:52 - loss: 0.564 - ETA: 1:51 - loss: 0.564 - ETA: 1:50 - loss: 0.564 - ETA: 1:50 - loss: 0.564 - ETA: 1:49 - loss: 0.564 - ETA: 1:48 - loss: 0.564 - ETA: 1:47 - loss: 0.564 - ETA: 1:47 - loss: 0.564 - ETA: 1:46 - loss: 0.564 - ETA: 1:45 - loss: 0.564 - ETA: 1:45 - loss: 0.564 - ETA: 1:44 - loss: 0.564 - ETA: 1:43 - loss: 0.564 - ETA: 1:42 - loss: 0.564 - ETA: 1:42 - loss: 0.564 - ETA: 1:41 - loss: 0.564 - ETA: 1:40 - loss: 0.564 - ETA: 1:40 - loss: 0.564 - ETA: 1:39 - loss: 0.564 - ETA: 1:38 - loss: 0.565 - ETA: 1:37 - loss: 0.565 - ETA: 1:37 - loss: 0.565 - ETA: 1:36 - loss: 0.565 - ETA: 1:35 - loss: 0.565 - ETA: 1:34 - loss: 0.565 - ETA: 1:34 - loss: 0.566 - ETA: 1:33 - loss: 0.566 - ETA: 1:32 - loss: 0.566 - ETA: 1:32 - loss: 0.566 - ETA: 1:31 - loss: 0.566 - ETA: 1:30 - loss: 0.566 - ETA: 1:29 - loss: 0.566 - ETA: 1:29 - loss: 0.566 - ETA: 1:28 - loss: 0.565 - ETA: 1:27 - loss: 0.565 - ETA: 1:26 - loss: 0.565 - ETA: 1:26 - loss: 0.565 - ETA: 1:25 - loss: 0.565 - ETA: 1:24 - loss: 0.565 - ETA: 1:24 - loss: 0.565 - ETA: 1:23 - loss: 0.565 - ETA: 1:22 - loss: 0.566 - ETA: 1:21 - loss: 0.565 - ETA: 1:21 - loss: 0.565 - ETA: 1:20 - loss: 0.565 - ETA: 1:19 - loss: 0.565 - ETA: 1:18 - loss: 0.565 - ETA: 1:18 - loss: 0.565 - ETA: 1:17 - loss: 0.565 - ETA: 1:16 - loss: 0.565 - ETA: 1:16 - loss: 0.565 - ETA: 1:15 - loss: 0.565 - ETA: 1:14 - loss: 0.564 - ETA: 1:13 - loss: 0.564 - ETA: 1:13 - loss: 0.565 - ETA: 1:12 - loss: 0.564 - ETA: 1:11 - loss: 0.565 - ETA: 1:11 - loss: 0.565 - ETA: 1:10 - loss: 0.565 - ETA: 1:09 - loss: 0.565 - ETA: 1:08 - loss: 0.565 - ETA: 1:08 - loss: 0.565 - ETA: 1:07 - loss: 0.565 - ETA: 1:06 - loss: 0.565 - ETA: 1:05 - loss: 0.566 - ETA: 1:05 - loss: 0.566 - ETA: 1:04 - loss: 0.566 - ETA: 1:03 - loss: 0.566 - ETA: 1:03 - loss: 0.566 - ETA: 1:02 - loss: 0.566 - ETA: 1:01 - loss: 0.565 - ETA: 1:00 - loss: 0.565 - ETA: 1:00 - loss: 0.565 - ETA: 59s - loss: 0.565 - ETA: 58s - loss: 0.56 - ETA: 57s - loss: 0.56 - ETA: 57s - loss: 0.56 - ETA: 56s - loss: 0.56 - ETA: 55s - loss: 0.56 - ETA: 55s - loss: 0.56 - ETA: 54s - loss: 0.56 - ETA: 53s - loss: 0.56 - ETA: 52s - loss: 0.56 - ETA: 52s - loss: 0.56 - ETA: 51s - loss: 0.56 - ETA: 50s - loss: 0.56 - ETA: 50s - loss: 0.56 - ETA: 49s - loss: 0.56 - ETA: 48s - loss: 0.56 - ETA: 47s - loss: 0.56 - ETA: 47s - loss: 0.56 - ETA: 46s - loss: 0.56 - ETA: 45s - loss: 0.56 - ETA: 44s - loss: 0.56 - ETA: 44s - loss: 0.56 - ETA: 43s - loss: 0.56 - ETA: 42s - loss: 0.56 - ETA: 42s - loss: 0.56 - ETA: 41s - loss: 0.56 - ETA: 40s - loss: 0.56 - ETA: 39s - loss: 0.56 - ETA: 39s - loss: 0.56 - ETA: 38s - loss: 0.56 - ETA: 37s - loss: 0.56 - ETA: 36s - loss: 0.56 - ETA: 36s - loss: 0.56 - ETA: 35s - loss: 0.56 - ETA: 34s - loss: 0.56 - ETA: 34s - loss: 0.56 - ETA: 33s - loss: 0.56 - ETA: 32s - loss: 0.56 - ETA: 31s - loss: 0.56 - ETA: 31s - loss: 0.56 - ETA: 30s - loss: 0.56 - ETA: 29s - loss: 0.56 - ETA: 29s - loss: 0.56 - ETA: 28s - loss: 0.56 - ETA: 27s - loss: 0.56 - ETA: 26s - loss: 0.56 - ETA: 26s - loss: 0.56 - ETA: 25s - loss: 0.56 - ETA: 24s - loss: 0.56 - ETA: 23s - loss: 0.56 - ETA: 23s - loss: 0.56 - ETA: 22s - loss: 0.56 - ETA: 21s - loss: 0.56 - ETA: 21s - loss: 0.56 - ETA: 20s - loss: 0.56 - ETA: 19s - loss: 0.56 - ETA: 18s - loss: 0.56 - ETA: 18s - loss: 0.56 - ETA: 17s - loss: 0.56 - ETA: 16s - loss: 0.56 - ETA: 15s - loss: 0.56 - ETA: 15s - loss: 0.56 - ETA: 14s - loss: 0.56 - ETA: 13s - loss: 0.56 - ETA: 13s - loss: 0.56 - ETA: 12s - loss: 0.56 - ETA: 11s - loss: 0.56 - ETA: 10s - loss: 0.56 - ETA: 10s - loss: 0.56 - ETA: 9s - loss: 0.5661 - ETA: 8s - loss: 0.566 - ETA: 7s - loss: 0.566 - ETA: 7s - loss: 0.566 - ETA: 6s - loss: 0.566 - ETA: 5s - loss: 0.566 - ETA: 5s - loss: 0.566 - ETA: 4s - loss: 0.566 - ETA: 3s - loss: 0.566 - ETA: 2s - loss: 0.566 - ETA: 2s - loss: 0.566 - ETA: 1s - loss: 0.566 - ETA: 0s - loss: 0.5663 - ETA: 2:44 - loss: 0.538 - ETA: 1:26 - loss: 0.543 - ETA: 1:00 - loss: 0.540 - ETA: 47s - loss: 0.568 - ETA: 39s - loss: 0.56 - ETA: 34s - loss: 0.57 - ETA: 29s - loss: 0.58 - ETA: 26s - loss: 0.58 - ETA: 23s - loss: 0.57 - ETA: 21s - loss: 0.57 - ETA: 20s - loss: 0.56 - ETA: 18s - loss: 0.56 - ETA: 17s - loss: 0.56 - ETA: 16s - loss: 0.56 - ETA: 15s - loss: 0.56 - ETA: 14s - loss: 0.56 - ETA: 13s - loss: 0.5590"
     ]
    },
    {
     "name": "stdout",
     "output_type": "stream",
     "text": [
      "41/41 [==============================] - ETA: 12s - loss: 0.55 - ETA: 11s - loss: 0.56 - ETA: 10s - loss: 0.55 - ETA: 10s - loss: 0.56 - ETA: 9s - loss: 0.5599 - ETA: 8s - loss: 0.558 - ETA: 8s - loss: 0.557 - ETA: 7s - loss: 0.556 - ETA: 7s - loss: 0.555 - ETA: 6s - loss: 0.560 - ETA: 5s - loss: 0.560 - ETA: 5s - loss: 0.558 - ETA: 4s - loss: 0.560 - ETA: 4s - loss: 0.559 - ETA: 3s - loss: 0.557 - ETA: 3s - loss: 0.556 - ETA: 3s - loss: 0.558 - ETA: 2s - loss: 0.559 - ETA: 2s - loss: 0.560 - ETA: 1s - loss: 0.561 - ETA: 1s - loss: 0.561 - ETA: 0s - loss: 0.562 - ETA: 0s - loss: 0.563 - 16s 399ms/step - loss: 0.5644\n",
      "\n",
      "##############################\n",
      "\n",
      "PR AUC Fish, train: 0.707\n",
      "\n",
      "PR AUC Flower, train: 0.843\n",
      "\n",
      "PR AUC Sugar, train: 0.838\n",
      "\n",
      "PR AUC Gravel, train: 0.778\n",
      "\n",
      "\n",
      "####################\n",
      " PR AUC mean, train: 0.791\n",
      "####################\n",
      "\n",
      "\n",
      "##############################\n",
      "\n",
      "PR AUC Fish, val: 0.686\n",
      "\n",
      "PR AUC Flower, val: 0.823\n",
      "\n",
      "PR AUC Sugar, val: 0.834\n",
      "\n",
      "PR AUC Gravel, val: 0.759\n",
      "\n",
      "\n",
      "####################\n",
      " PR AUC mean, val: 0.775\n",
      "####################\n",
      "\n",
      "\n",
      "####################\n",
      "Saved new checkpoint\n",
      "####################\n",
      "\n",
      "305/305 [==============================] - 350s 1s/step - loss: 0.5667 - val_loss: 0.5644\n"
     ]
    }
   ],
   "source": [
    "for base_layer in model.layers[:-1]:\n",
    "    base_layer.trainable = True\n",
    "    \n",
    "model.compile(optimizer= SGD(lr=5e-5, decay=3e-6, momentum=0.94, nesterov=True), loss='binary_crossentropy')\n",
    "history_1 = model.fit_generator(generator=data_generator_train,\n",
    "                              validation_data=data_generator_val,\n",
    "                              epochs=5,\n",
    "                              callbacks=[train_metric_callback, val_callback],\n",
    "                              workers=num_cores,\n",
    "                              verbose=1,\n",
    "                              initial_epoch=1\n",
    "                             )"
   ]
  },
  {
   "cell_type": "markdown",
   "metadata": {},
   "source": [
    "## Visualizing train and val PR AUC"
   ]
  },
  {
   "cell_type": "code",
   "execution_count": 21,
   "metadata": {},
   "outputs": [],
   "source": [
    "def plot_with_dots(ax, np_array):\n",
    "    ax.scatter(list(range(1, len(np_array) + 1)), np_array, s=50)\n",
    "    ax.plot(list(range(1, len(np_array) + 1)), np_array)"
   ]
  },
  {
   "cell_type": "code",
   "execution_count": 22,
   "metadata": {},
   "outputs": [
    {
     "data": {
      "image/png": "[encoded data removed]",
      "text/plain": [
       "<Figure size 720x504 with 1 Axes>"
      ]
     },
     "metadata": {
      "needs_background": "light"
     },
     "output_type": "display_data"
    }
   ],
   "source": [
    "pr_auc_history_train = train_metric_callback.get_pr_auc_history()\n",
    "pr_auc_history_val = val_callback.get_pr_auc_history()\n",
    "\n",
    "plt.figure(figsize=(10, 7))\n",
    "plot_with_dots(plt, pr_auc_history_train[-1])\n",
    "plot_with_dots(plt, pr_auc_history_val[-1])\n",
    "\n",
    "plt.xlabel('Epoch', fontsize=15)\n",
    "plt.ylabel('Mean PR AUC', fontsize=15)\n",
    "plt.legend(['Train', 'Val'])\n",
    "plt.title('Training and Validation PR AUC', fontsize=20)\n",
    "plt.savefig('pr_auc_hist.png')"
   ]
  },
  {
   "cell_type": "code",
   "execution_count": 58,
   "metadata": {},
   "outputs": [
    {
     "data": {
      "image/png": "[encoded data removed]",
      "text/plain": [
       "<Figure size 720x504 with 1 Axes>"
      ]
     },
     "metadata": {
      "needs_background": "light"
     },
     "output_type": "display_data"
    }
   ],
   "source": [
    "plt.figure(figsize=(10, 7))\n",
    "plot_with_dots(plt, history_0.history['loss']+history_1.history['loss'])\n",
    "plot_with_dots(plt, history_0.history['val_loss']+history_1.history['val_loss'])\n",
    "\n",
    "plt.xlabel('Epoch', fontsize=15)\n",
    "plt.ylabel('Binary Crossentropy', fontsize=15)\n",
    "plt.legend(['Train', 'Val'])\n",
    "plt.title('Training and Validation Loss', fontsize=20)\n",
    "plt.savefig('loss_hist.png')"
   ]
  },
  {
   "cell_type": "markdown",
   "metadata": {},
   "source": [
    "# Selecting postprocessing thresholds"
   ]
  },
  {
   "cell_type": "code",
   "execution_count": 43,
   "metadata": {},
   "outputs": [
    {
     "data": {
      "application/vnd.jupyter.widget-view+json": {
       "model_id": "d21e2bac158f46b3a18dfbede6957f0c",
       "version_major": 2,
       "version_minor": 0
      },
      "text/plain": [
       "HBox(children=(IntProgress(value=1, bar_style='info', max=1), HTML(value='')))"
      ]
     },
     "metadata": {},
     "output_type": "display_data"
    },
    {
     "name": "stdout",
     "output_type": "stream",
     "text": [
      "0.95\n",
      "0.9999421\n",
      "0.9148418\n",
      "0.8312112\n",
      "\n"
     ]
    },
    {
     "data": {
      "image/png": "[encoded data removed]",
      "text/plain": [
       "<Figure size 720x504 with 1 Axes>"
      ]
     },
     "metadata": {
      "needs_background": "light"
     },
     "output_type": "display_data"
    },
    {
     "data": {
      "image/png": "[encoded data removed]",
      "text/plain": [
       "<Figure size 720x504 with 1 Axes>"
      ]
     },
     "metadata": {
      "needs_background": "light"
     },
     "output_type": "display_data"
    },
    {
     "data": {
      "image/png": "[encoded data removed]",
      "text/plain": [
       "<Figure size 720x504 with 1 Axes>"
      ]
     },
     "metadata": {
      "needs_background": "light"
     },
     "output_type": "display_data"
    },
    {
     "data": {
      "image/png": "[encoded data removed]",
      "text/plain": [
       "<Figure size 720x504 with 1 Axes>"
      ]
     },
     "metadata": {
      "needs_background": "light"
     },
     "output_type": "display_data"
    }
   ],
   "source": [
    "class_names = ['Fish', 'Flower', 'Sugar', 'Gravel']\n",
    "def get_threshold_for_recall(y_true, y_pred, class_i, recall_threshold=0.94, precision_threshold=0.95, plot=False):\n",
    "    precision, recall, thresholds = precision_recall_curve(y_true[:, class_i], y_pred[:, class_i])\n",
    "    i = len(thresholds) - 1\n",
    "    best_recall_threshold = None\n",
    "    while best_recall_threshold is None:\n",
    "        next_threshold = thresholds[i]\n",
    "        next_recall = recall[i]\n",
    "        if next_recall >= recall_threshold:\n",
    "            best_recall_threshold = next_threshold\n",
    "        i -= 1\n",
    "        \n",
    "    # consice, even though unnecessary passing through all the values\n",
    "    best_precision_threshold = [thres for prec, thres in zip(precision, thresholds) if prec >= precision_threshold]\n",
    "    if not best_precision_threshold:\n",
    "        best_precision_threshold = 0.95\n",
    "    else:\n",
    "        best_precision_threshold = best_precision_threshold[0]\n",
    "    \n",
    "    if plot:\n",
    "        plt.figure(figsize=(10, 7))\n",
    "        plt.step(recall, precision, color='r', alpha=0.3, where='post')\n",
    "        plt.fill_between(recall, precision, alpha=0.3, color='r')\n",
    "        plt.axhline(y=precision[i + 1])\n",
    "        recall_for_prec_thres = [rec for rec, thres in zip(recall, thresholds) if thres == best_precision_threshold]\n",
    "        if not recall_for_prec_thres:\n",
    "            recall_for_prec_thres = 0.94\n",
    "        else:\n",
    "            recall_for_prec_thres = recall_for_prec_thres[0]\n",
    "                                                            \n",
    "        plt.axvline(x=recall_for_prec_thres, color='g')\n",
    "        plt.xlabel('Recall')\n",
    "        plt.ylabel('Precision')\n",
    "        plt.ylim([0.0, 1.05])\n",
    "        plt.xlim([0.0, 1.0])\n",
    "        plt.legend(['PR curve', \n",
    "                    f'Precision {precision[i + 1]: .2f} corresponding to selected recall threshold',\n",
    "                    f'Recall {recall_for_prec_thres: .2f} corresponding to selected precision threshold'])\n",
    "        plt.title(f'Precision-Recall curve for Class {class_names[class_i]}')\n",
    "    return best_recall_threshold, best_precision_threshold\n",
    "\n",
    "y_pred = model.predict_generator(data_generator_val, workers=num_cores)\n",
    "y_true = data_generator_val.get_labels()\n",
    "recall_thresholds = dict()\n",
    "precision_thresholds = dict()\n",
    "for i, class_name in tqdm(enumerate(class_names)):\n",
    "    recall_thresholds[class_name], precision_thresholds[class_name] = get_threshold_for_recall(y_true, y_pred, i, plot=True)"
   ]
  },
  {
   "cell_type": "markdown",
   "metadata": {},
   "source": [
    "# Post-processing Andrew's submission"
   ]
  },
  {
   "cell_type": "markdown",
   "metadata": {},
   "source": [
    "Predicting cloud classes for test."
   ]
  },
  {
   "cell_type": "code",
   "execution_count": 44,
   "metadata": {},
   "outputs": [],
   "source": [
    "data_generator_test = DataGenenerator(folder_imgs=test_imgs_folder, shuffle=False)\n",
    "y_pred_test = model.predict_generator(data_generator_test, workers=num_cores)"
   ]
  },
  {
   "cell_type": "markdown",
   "metadata": {},
   "source": [
    "Estimating set of images without masks."
   ]
  },
  {
   "cell_type": "code",
   "execution_count": 45,
   "metadata": {},
   "outputs": [],
   "source": [
    "image_labels_empty = set()\n",
    "for i, (img, predictions) in enumerate(zip(os.listdir(test_imgs_folder), y_pred_test)):\n",
    "    for class_i, class_name in enumerate(class_names):\n",
    "        if predictions[class_i] < recall_thresholds[class_name]:\n",
    "            image_labels_empty.add(f'{img}_{class_name}')"
   ]
  },
  {
   "cell_type": "code",
   "execution_count": 46,
   "metadata": {},
   "outputs": [],
   "source": [
    "images_labels_full = set()\n",
    "for i, (img, predictions) in enumerate(zip(os.listdir(test_imgs_folder), y_pred_test)):\n",
    "    for class_i, class_name in enumerate(class_names):\n",
    "        if predictions[class_i] > precision_thresholds[class_name]:\n",
    "            images_labels_full.add(f'{img}_{class_name}')"
   ]
  },
  {
   "cell_type": "markdown",
   "metadata": {},
   "source": [
    "My predictions from this kernel : https://www.kaggle.com/mobassir/keras-efficientnetb2-for-classifying-cloud"
   ]
  },
  {
   "cell_type": "code",
   "execution_count": 47,
   "metadata": {},
   "outputs": [
    {
     "data": {
      "text/html": [
       "<div>\n",
       "<style scoped>\n",
       "    .dataframe tbody tr th:only-of-type {\n",
       "        vertical-align: middle;\n",
       "    }\n",
       "\n",
       "    .dataframe tbody tr th {\n",
       "        vertical-align: top;\n",
       "    }\n",
       "\n",
       "    .dataframe thead th {\n",
       "        text-align: right;\n",
       "    }\n",
       "</style>\n",
       "<table border=\"1\" class=\"dataframe\">\n",
       "  <thead>\n",
       "    <tr style=\"text-align: right;\">\n",
       "      <th></th>\n",
       "      <th>Image_Label</th>\n",
       "      <th>EncodedPixels</th>\n",
       "    </tr>\n",
       "  </thead>\n",
       "  <tbody>\n",
       "    <tr>\n",
       "      <th>0</th>\n",
       "      <td>002f507.jpg_Fish</td>\n",
       "      <td>NaN</td>\n",
       "    </tr>\n",
       "    <tr>\n",
       "      <th>1</th>\n",
       "      <td>002f507.jpg_Flower</td>\n",
       "      <td>NaN</td>\n",
       "    </tr>\n",
       "    <tr>\n",
       "      <th>2</th>\n",
       "      <td>002f507.jpg_Gravel</td>\n",
       "      <td>5 337 353 343 702 346 1052 347 1401 348 1751 3...</td>\n",
       "    </tr>\n",
       "    <tr>\n",
       "      <th>3</th>\n",
       "      <td>002f507.jpg_Sugar</td>\n",
       "      <td>NaN</td>\n",
       "    </tr>\n",
       "    <tr>\n",
       "      <th>4</th>\n",
       "      <td>0035ae9.jpg_Fish</td>\n",
       "      <td>NaN</td>\n",
       "    </tr>\n",
       "  </tbody>\n",
       "</table>\n",
       "</div>"
      ],
      "text/plain": [
       "          Image_Label                                      EncodedPixels\n",
       "0    002f507.jpg_Fish                                                NaN\n",
       "1  002f507.jpg_Flower                                                NaN\n",
       "2  002f507.jpg_Gravel  5 337 353 343 702 346 1052 347 1401 348 1751 3...\n",
       "3   002f507.jpg_Sugar                                                NaN\n",
       "4    0035ae9.jpg_Fish                                                NaN"
      ]
     },
     "execution_count": 47,
     "metadata": {},
     "output_type": "execute_result"
    }
   ],
   "source": [
    "submission = pd.read_csv('./input/cloudefficientnetb2/submission.csv')\n",
    "submission.head()"
   ]
  },
  {
   "cell_type": "code",
   "execution_count": 48,
   "metadata": {},
   "outputs": [],
   "source": [
    "image_labels_andrew_nonempty = submission.loc[~submission['EncodedPixels'].isnull(), 'Image_Label'].values\n",
    "image_labels_andrew_empty = submission.loc[submission['EncodedPixels'].isnull(), 'Image_Label'].values"
   ]
  },
  {
   "cell_type": "markdown",
   "metadata": {},
   "source": [
    " I remove the min_size parameter from the post_process function, so that more mask are generated in the submission. I'd add additional masks for the Image_Label pairs predicted by the classifier."
   ]
  },
  {
   "cell_type": "code",
   "execution_count": 51,
   "metadata": {},
   "outputs": [
    {
     "name": "stdout",
     "output_type": "stream",
     "text": [
      "15 masks would be added.\n"
     ]
    }
   ],
   "source": [
    "images_to_refill = images_labels_full.intersection(set(image_labels_andrew_empty))\n",
    "submission_no_minsize = pd.read_csv('./input/clouds-classifier-files/submission_no_minsize.csv')\n",
    "masks_no_minsize_refillers = submission_no_minsize.loc[submission_no_minsize['Image_Label'].isin(images_to_refill) &\n",
    "                                                       ~submission_no_minsize['EncodedPixels'].isnull()]\n",
    "print(f'{len(masks_no_minsize_refillers)} masks would be added.')"
   ]
  },
  {
   "cell_type": "code",
   "execution_count": 52,
   "metadata": {},
   "outputs": [
    {
     "name": "stdout",
     "output_type": "stream",
     "text": [
      "84 masks would be removed\n"
     ]
    }
   ],
   "source": [
    "print(f'{len(image_labels_empty.intersection(set(image_labels_andrew_nonempty)))} masks would be removed')"
   ]
  },
  {
   "cell_type": "code",
   "execution_count": 53,
   "metadata": {},
   "outputs": [],
   "source": [
    "#removing masks\n",
    "submission.loc[submission['Image_Label'].isin(image_labels_empty), 'EncodedPixels'] = np.nan\n",
    "# adding masks\n",
    "img_labels_to_refill = set(masks_no_minsize_refillers['Image_Label'].values)\n",
    "submission = submission[~submission['Image_Label'].isin(img_labels_to_refill)]\n",
    "submission = pd.concat((submission, masks_no_minsize_refillers))\n",
    "submission.to_csv('submission.csv', index=None)"
   ]
  },
  {
   "cell_type": "markdown",
   "metadata": {},
   "source": [
    "# Future work\n",
    "1. estimate distribution of classes in test set using the classifier. Then, if necessary and doable, modify val set accordingly,\n",
    "2. use the classifier with explainability technique [Gradient-weighted Class Activation Mapping](http://gradcam.cloudcv.org/) to generate a baseline,\n",
    "3. improve the classifier,\n",
    "4. use the classifier as backbone for UNet-like solution."
   ]
  }
 ],
 "metadata": {
  "kernelspec": {
   "display_name": "Python 3",
   "language": "python",
   "name": "python3"
  },
  "language_info": {
   "codemirror_mode": {
    "name": "ipython",
    "version": 3
   },
   "file_extension": ".py",
   "mimetype": "text/x-python",
   "name": "python",
   "nbconvert_exporter": "python",
   "pygments_lexer": "ipython3",
   "version": "3.7.3"
  }
 },
 "nbformat": 4,
 "nbformat_minor": 1
}
