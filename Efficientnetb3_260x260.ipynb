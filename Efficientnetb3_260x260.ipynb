{
 "cells": [
  {
   "cell_type": "markdown",
   "metadata": {},
   "source": [
    "**this kernel was forked from here : https://www.kaggle.com/samusram/cloud-classifier-for-post-processing?scriptVersionId=20265194\n",
    "\n",
    "i got 0.657 using densenet201(in version 3) **\n",
    "\n",
    "i tried  efficientnetb4 but it failed for large image size,so i will try efficientnetb3 now with bce dice loss\n",
    "if you find this kernel useful,please upvote,your upvote motivates kagglers like us to share things publicly,thanks"
   ]
  },
  {
   "cell_type": "markdown",
   "metadata": {},
   "source": [
    "**Version 13**\n",
    "\n",
    "- updating previously used submission.csv with version 3's generated submission file which achieved 0.657\n",
    "\n",
    "- threshold = 0.9\n",
    "\n",
    "- efficientnetb2\n",
    "\n",
    "- loss='categorical_crossentropy', metrics=['accuracy']"
   ]
  },
  {
   "cell_type": "markdown",
   "metadata": {
    "_cell_guid": "b1076dfc-b9ad-4769-8c92-a6c4dae69d19",
    "_uuid": "8f2839f25d086af736a60e9eeb907d3b93b6e0e5"
   },
   "source": [
    "# Intro\n",
    "In this notebook I'd create a classifier to distinguish types of cloud formations. Using this classifier I'd check if it improves currently the best LB score from the great [public notebook by Jan](https://www.kaggle.com/jpbremer/efficient-net-b4-unet-clouds). "
   ]
  },
  {
   "cell_type": "markdown",
   "metadata": {
    "_cell_guid": "79c7e3d0-c299-4dcb-8224-4455121ee9b0",
    "_uuid": "d629ff2d2480ee46fbb7e2d37f6b5fab8052498a",
    "collapsed": true
   },
   "source": [
    "# Plan\n",
    "1. [Libraries](#Libraries)\n",
    "2. [Data Generators](#Data-Generators)\n",
    "  * [One-hot encoding classes](#One-hot-encoding-classes)\n",
    "  * [Stratified split into train/val](#Stratified-split-into-train/val)\n",
    "  * [Generator class](#Generator-class)\n",
    "3. [PR-AUC-based Callback](#PR-AUC-based-Callback)\n",
    "4. [Classifier](#Classifier)\n",
    "  * [Defining a model](#Defining-a-model)\n",
    "  * [Initial tuning of the added fully-connected layer](#Initial-tuning-of-the-added-fully-connected-layer)\n",
    "  * [Fine-tuning the whole model](#Fine-tuning-the-whole-model)\n",
    "  * [Visualizing train and val PR AUC](#Visualizing-train-and-val-PR-AUC)\n",
    "5. [Selecting postprocessing thresholds](#Selecting-postprocessing-thresholds)\n",
    "6. [Post-processing segmentation submission](#Post-processing-segmentation-submission)\n",
    "7. [Future work](#Future-work)"
   ]
  },
  {
   "cell_type": "markdown",
   "metadata": {},
   "source": [
    "# Libraries"
   ]
  },
  {
   "cell_type": "code",
   "execution_count": 1,
   "metadata": {
    "_kg_hide-input": true,
    "_kg_hide-output": true
   },
   "outputs": [
    {
     "name": "stderr",
     "output_type": "stream",
     "text": [
      "Using TensorFlow backend.\n"
     ]
    }
   ],
   "source": [
    "import os, glob\n",
    "import random\n",
    "from sklearn.model_selection import train_test_split\n",
    "import cv2\n",
    "import numpy as np\n",
    "import pandas as pd\n",
    "import multiprocessing\n",
    "from copy import deepcopy\n",
    "from sklearn.metrics import precision_recall_curve, auc\n",
    "import keras\n",
    "import keras.backend as K\n",
    "from keras.optimizers import Adam\n",
    "from keras.callbacks import Callback\n",
    "from keras.applications.densenet import DenseNet201\n",
    "from keras.layers import Dense, Flatten\n",
    "from keras.models import Model, load_model\n",
    "from keras.utils import Sequence\n",
    "from albumentations import Compose, VerticalFlip, HorizontalFlip, Rotate, GridDistortion\n",
    "import matplotlib.pyplot as plt\n",
    "from IPython.display import Image\n",
    "from tqdm import tqdm_notebook as tqdm\n",
    "from numpy.random import seed\n",
    "seed(10)\n",
    "from tensorflow import set_random_seed\n",
    "set_random_seed(10)\n",
    "%matplotlib inline"
   ]
  },
  {
   "cell_type": "code",
   "execution_count": 2,
   "metadata": {},
   "outputs": [
    {
     "name": "stdout",
     "output_type": "stream",
     "text": [
      "Collecting keras-rectified-adam\n",
      "  Downloading https://files.pythonhosted.org/packages/21/79/9521f66b92186702cb58a214c1b923b416266381cd824e15a1733f6a5b06/keras-rectified-adam-0.17.0.tar.gz\n",
      "Requirement already satisfied: numpy in e:\\anaconda3\\envs\\tensorflow-gpu\\lib\\site-packages (from keras-rectified-adam) (1.16.3)\n",
      "Requirement already satisfied: Keras in e:\\anaconda3\\envs\\tensorflow-gpu\\lib\\site-packages (from keras-rectified-adam) (2.2.4)\n",
      "Requirement already satisfied: scipy>=0.14 in e:\\anaconda3\\envs\\tensorflow-gpu\\lib\\site-packages (from Keras->keras-rectified-adam) (1.2.1)\n",
      "Requirement already satisfied: six>=1.9.0 in e:\\anaconda3\\envs\\tensorflow-gpu\\lib\\site-packages (from Keras->keras-rectified-adam) (1.12.0)\n",
      "Requirement already satisfied: pyyaml in e:\\anaconda3\\envs\\tensorflow-gpu\\lib\\site-packages (from Keras->keras-rectified-adam) (5.1)\n",
      "Requirement already satisfied: h5py in e:\\anaconda3\\envs\\tensorflow-gpu\\lib\\site-packages (from Keras->keras-rectified-adam) (2.9.0)\n",
      "Requirement already satisfied: keras_applications>=1.0.6 in e:\\anaconda3\\envs\\tensorflow-gpu\\lib\\site-packages (from Keras->keras-rectified-adam) (1.0.7)\n",
      "Requirement already satisfied: keras_preprocessing>=1.0.5 in e:\\anaconda3\\envs\\tensorflow-gpu\\lib\\site-packages (from Keras->keras-rectified-adam) (1.0.9)\n",
      "Building wheels for collected packages: keras-rectified-adam\n",
      "  Building wheel for keras-rectified-adam (setup.py): started\n",
      "  Building wheel for keras-rectified-adam (setup.py): finished with status 'done'\n",
      "  Stored in directory: C:\\Users\\Einstein\\AppData\\Local\\pip\\Cache\\wheels\\7b\\01\\27\\3a934e1a5644f5b93c720422a6ef97034ea78a21ba71cfb549\n",
      "Successfully built keras-rectified-adam\n",
      "Installing collected packages: keras-rectified-adam\n",
      "Successfully installed keras-rectified-adam-0.17.0\n"
     ]
    }
   ],
   "source": [
    "!pip install keras-rectified-adam"
   ]
  },
  {
   "cell_type": "code",
   "execution_count": 3,
   "metadata": {
    "_kg_hide-input": true,
    "_kg_hide-output": true
   },
   "outputs": [],
   "source": [
    "test_imgs_folder = './input/test_images/'\n",
    "train_imgs_folder = './input/train_images/'\n",
    "num_cores = multiprocessing.cpu_count()"
   ]
  },
  {
   "cell_type": "markdown",
   "metadata": {},
   "source": [
    "# Data Generators"
   ]
  },
  {
   "cell_type": "markdown",
   "metadata": {},
   "source": [
    "## One-hot encoding classes"
   ]
  },
  {
   "cell_type": "code",
   "execution_count": 4,
   "metadata": {
    "_kg_hide-input": true
   },
   "outputs": [
    {
     "data": {
      "text/html": [
       "<div>\n",
       "<style scoped>\n",
       "    .dataframe tbody tr th:only-of-type {\n",
       "        vertical-align: middle;\n",
       "    }\n",
       "\n",
       "    .dataframe tbody tr th {\n",
       "        vertical-align: top;\n",
       "    }\n",
       "\n",
       "    .dataframe thead th {\n",
       "        text-align: right;\n",
       "    }\n",
       "</style>\n",
       "<table border=\"1\" class=\"dataframe\">\n",
       "  <thead>\n",
       "    <tr style=\"text-align: right;\">\n",
       "      <th></th>\n",
       "      <th>Image_Label</th>\n",
       "      <th>EncodedPixels</th>\n",
       "    </tr>\n",
       "  </thead>\n",
       "  <tbody>\n",
       "    <tr>\n",
       "      <th>0</th>\n",
       "      <td>0011165.jpg_Fish</td>\n",
       "      <td>264918 937 266318 937 267718 937 269118 937 27...</td>\n",
       "    </tr>\n",
       "    <tr>\n",
       "      <th>1</th>\n",
       "      <td>0011165.jpg_Flower</td>\n",
       "      <td>1355565 1002 1356965 1002 1358365 1002 1359765...</td>\n",
       "    </tr>\n",
       "    <tr>\n",
       "      <th>2</th>\n",
       "      <td>0011165.jpg_Gravel</td>\n",
       "      <td>NaN</td>\n",
       "    </tr>\n",
       "    <tr>\n",
       "      <th>3</th>\n",
       "      <td>0011165.jpg_Sugar</td>\n",
       "      <td>NaN</td>\n",
       "    </tr>\n",
       "    <tr>\n",
       "      <th>4</th>\n",
       "      <td>002be4f.jpg_Fish</td>\n",
       "      <td>233813 878 235213 878 236613 878 238010 881 23...</td>\n",
       "    </tr>\n",
       "  </tbody>\n",
       "</table>\n",
       "</div>"
      ],
      "text/plain": [
       "          Image_Label                                      EncodedPixels\n",
       "0    0011165.jpg_Fish  264918 937 266318 937 267718 937 269118 937 27...\n",
       "1  0011165.jpg_Flower  1355565 1002 1356965 1002 1358365 1002 1359765...\n",
       "2  0011165.jpg_Gravel                                                NaN\n",
       "3   0011165.jpg_Sugar                                                NaN\n",
       "4    002be4f.jpg_Fish  233813 878 235213 878 236613 878 238010 881 23..."
      ]
     },
     "execution_count": 4,
     "metadata": {},
     "output_type": "execute_result"
    }
   ],
   "source": [
    "train_df = pd.read_csv('./input/train.csv')\n",
    "train_df.head()"
   ]
  },
  {
   "cell_type": "code",
   "execution_count": 5,
   "metadata": {
    "_kg_hide-input": false
   },
   "outputs": [
    {
     "data": {
      "text/html": [
       "<div>\n",
       "<style scoped>\n",
       "    .dataframe tbody tr th:only-of-type {\n",
       "        vertical-align: middle;\n",
       "    }\n",
       "\n",
       "    .dataframe tbody tr th {\n",
       "        vertical-align: top;\n",
       "    }\n",
       "\n",
       "    .dataframe thead th {\n",
       "        text-align: right;\n",
       "    }\n",
       "</style>\n",
       "<table border=\"1\" class=\"dataframe\">\n",
       "  <thead>\n",
       "    <tr style=\"text-align: right;\">\n",
       "      <th></th>\n",
       "      <th>Image</th>\n",
       "      <th>Class</th>\n",
       "      <th>Fish</th>\n",
       "      <th>Flower</th>\n",
       "      <th>Sugar</th>\n",
       "      <th>Gravel</th>\n",
       "    </tr>\n",
       "  </thead>\n",
       "  <tbody>\n",
       "    <tr>\n",
       "      <th>0</th>\n",
       "      <td>0011165.jpg</td>\n",
       "      <td>{Fish, Flower}</td>\n",
       "      <td>1</td>\n",
       "      <td>1</td>\n",
       "      <td>0</td>\n",
       "      <td>0</td>\n",
       "    </tr>\n",
       "    <tr>\n",
       "      <th>1</th>\n",
       "      <td>002be4f.jpg</td>\n",
       "      <td>{Fish, Sugar, Flower}</td>\n",
       "      <td>1</td>\n",
       "      <td>1</td>\n",
       "      <td>1</td>\n",
       "      <td>0</td>\n",
       "    </tr>\n",
       "    <tr>\n",
       "      <th>2</th>\n",
       "      <td>0031ae9.jpg</td>\n",
       "      <td>{Fish, Sugar, Flower}</td>\n",
       "      <td>1</td>\n",
       "      <td>1</td>\n",
       "      <td>1</td>\n",
       "      <td>0</td>\n",
       "    </tr>\n",
       "    <tr>\n",
       "      <th>3</th>\n",
       "      <td>0035239.jpg</td>\n",
       "      <td>{Gravel, Flower}</td>\n",
       "      <td>0</td>\n",
       "      <td>1</td>\n",
       "      <td>0</td>\n",
       "      <td>1</td>\n",
       "    </tr>\n",
       "    <tr>\n",
       "      <th>4</th>\n",
       "      <td>003994e.jpg</td>\n",
       "      <td>{Gravel, Fish, Sugar}</td>\n",
       "      <td>1</td>\n",
       "      <td>0</td>\n",
       "      <td>1</td>\n",
       "      <td>1</td>\n",
       "    </tr>\n",
       "  </tbody>\n",
       "</table>\n",
       "</div>"
      ],
      "text/plain": [
       "         Image                  Class  Fish  Flower  Sugar  Gravel\n",
       "0  0011165.jpg         {Fish, Flower}     1       1      0       0\n",
       "1  002be4f.jpg  {Fish, Sugar, Flower}     1       1      1       0\n",
       "2  0031ae9.jpg  {Fish, Sugar, Flower}     1       1      1       0\n",
       "3  0035239.jpg       {Gravel, Flower}     0       1      0       1\n",
       "4  003994e.jpg  {Gravel, Fish, Sugar}     1       0      1       1"
      ]
     },
     "execution_count": 5,
     "metadata": {},
     "output_type": "execute_result"
    }
   ],
   "source": [
    "train_df = train_df[~train_df['EncodedPixels'].isnull()]\n",
    "train_df['Image'] = train_df['Image_Label'].map(lambda x: x.split('_')[0])\n",
    "train_df['Class'] = train_df['Image_Label'].map(lambda x: x.split('_')[1])\n",
    "classes = train_df['Class'].unique()\n",
    "train_df = train_df.groupby('Image')['Class'].agg(set).reset_index()\n",
    "for class_name in classes:\n",
    "    train_df[class_name] = train_df['Class'].map(lambda x: 1 if class_name in x else 0)\n",
    "train_df.head()"
   ]
  },
  {
   "cell_type": "code",
   "execution_count": 6,
   "metadata": {},
   "outputs": [],
   "source": [
    "# dictionary for fast access to ohe vectors\n",
    "img_2_ohe_vector = {img:vec for img, vec in zip(train_df['Image'], train_df.iloc[:, 2:].values)}"
   ]
  },
  {
   "cell_type": "markdown",
   "metadata": {},
   "source": [
    "## Stratified split into train/val"
   ]
  },
  {
   "cell_type": "code",
   "execution_count": 7,
   "metadata": {},
   "outputs": [],
   "source": [
    "train_imgs, val_imgs = train_test_split(train_df['Image'].values, \n",
    "                                        test_size=0.2, \n",
    "                                        stratify=train_df['Class'].map(lambda x: str(sorted(list(x)))), # sorting present classes in lexicographical order, just to be sure\n",
    "                                        random_state=17)"
   ]
  },
  {
   "cell_type": "markdown",
   "metadata": {},
   "source": [
    "## Generator class"
   ]
  },
  {
   "cell_type": "code",
   "execution_count": 21,
   "metadata": {},
   "outputs": [],
   "source": [
    "class DataGenenerator(Sequence):\n",
    "    def __init__(self, images_list=None, folder_imgs=train_imgs_folder, \n",
    "                 batch_size=16, shuffle=True, augmentation=None,\n",
    "                 resized_height=260, resized_width=260, num_channels=3):\n",
    "        self.batch_size = batch_size\n",
    "        self.shuffle = shuffle\n",
    "        self.augmentation = augmentation\n",
    "        if images_list is None:\n",
    "            self.images_list = os.listdir(folder_imgs)\n",
    "        else:\n",
    "            self.images_list = deepcopy(images_list)\n",
    "        self.folder_imgs = folder_imgs\n",
    "        self.len = len(self.images_list) // self.batch_size\n",
    "        self.resized_height = resized_height\n",
    "        self.resized_width = resized_width\n",
    "        self.num_channels = num_channels\n",
    "        self.num_classes = 4\n",
    "        self.is_test = not 'train' in folder_imgs\n",
    "        if not shuffle and not self.is_test:\n",
    "            self.labels = [img_2_ohe_vector[img] for img in self.images_list[:self.len*self.batch_size]]\n",
    "\n",
    "    def __len__(self):\n",
    "        return self.len\n",
    "    \n",
    "    def on_epoch_start(self):\n",
    "        if self.shuffle:\n",
    "            random.shuffle(self.images_list)\n",
    "\n",
    "    def __getitem__(self, idx):\n",
    "        current_batch = self.images_list[idx * self.batch_size: (idx + 1) * self.batch_size]\n",
    "        X = np.empty((self.batch_size, self.resized_height, self.resized_width, self.num_channels))\n",
    "        y = np.empty((self.batch_size, self.num_classes))\n",
    "\n",
    "        for i, image_name in enumerate(current_batch):\n",
    "            path = os.path.join(self.folder_imgs, image_name)\n",
    "            img = cv2.resize(cv2.imread(path), (self.resized_height, self.resized_width), interpolation=cv2.INTER_AREA).astype(np.float32)\n",
    "            if not self.augmentation is None:\n",
    "                augmented = self.augmentation(image=img)\n",
    "                img = augmented['image']\n",
    "            X[i, :, :, :] = img/255.0\n",
    "            if not self.is_test:\n",
    "                y[i, :] = img_2_ohe_vector[image_name]\n",
    "        return X, y\n",
    "\n",
    "    def get_labels(self):\n",
    "        if self.shuffle:\n",
    "            images_current = self.images_list[:self.len*self.batch_size]\n",
    "            labels = [img_2_ohe_vector[img] for img in images_current]\n",
    "        else:\n",
    "            labels = self.labels\n",
    "        return np.array(labels)"
   ]
  },
  {
   "cell_type": "code",
   "execution_count": 22,
   "metadata": {},
   "outputs": [],
   "source": [
    "albumentations_train = Compose([\n",
    "    VerticalFlip(), HorizontalFlip(), Rotate(limit=20), GridDistortion()\n",
    "], p=1)"
   ]
  },
  {
   "cell_type": "markdown",
   "metadata": {},
   "source": [
    "Generator instances"
   ]
  },
  {
   "cell_type": "code",
   "execution_count": 23,
   "metadata": {},
   "outputs": [],
   "source": [
    "data_generator_train = DataGenenerator(train_imgs, augmentation=albumentations_train)\n",
    "data_generator_train_eval = DataGenenerator(train_imgs, shuffle=False)\n",
    "data_generator_val = DataGenenerator(val_imgs, shuffle=False)"
   ]
  },
  {
   "cell_type": "markdown",
   "metadata": {},
   "source": [
    "# PR-AUC-based Callback"
   ]
  },
  {
   "cell_type": "markdown",
   "metadata": {},
   "source": [
    "The callback would be used:\n",
    "1. to estimate AUC under precision recall curve for each class,\n",
    "2. to early stop after 5 epochs of no improvement in mean PR AUC,\n",
    "3. save a model with the best PR AUC in validation,\n",
    "4. to reduce learning rate on PR AUC plateau."
   ]
  },
  {
   "cell_type": "code",
   "execution_count": 11,
   "metadata": {},
   "outputs": [],
   "source": [
    "class PrAucCallback(Callback):\n",
    "    def __init__(self, data_generator, num_workers=num_cores, \n",
    "                 early_stopping_patience=5, \n",
    "                 plateau_patience=3, reduction_rate=0.5,\n",
    "                 stage='train', checkpoints_path='checkpoints/'):\n",
    "        super(Callback, self).__init__()\n",
    "        self.data_generator = data_generator\n",
    "        self.num_workers = num_workers\n",
    "        self.class_names = ['Fish', 'Flower', 'Sugar', 'Gravel']\n",
    "        self.history = [[] for _ in range(len(self.class_names) + 1)] # to store per each class and also mean PR AUC\n",
    "        self.early_stopping_patience = early_stopping_patience\n",
    "        self.plateau_patience = plateau_patience\n",
    "        self.reduction_rate = reduction_rate\n",
    "        self.stage = stage\n",
    "        self.best_pr_auc = -float('inf')\n",
    "        if not os.path.exists(checkpoints_path):\n",
    "            os.makedirs(checkpoints_path)\n",
    "        self.checkpoints_path = checkpoints_path\n",
    "        \n",
    "    def compute_pr_auc(self, y_true, y_pred):\n",
    "        pr_auc_mean = 0\n",
    "        print(f\"\\n{'#'*30}\\n\")\n",
    "        for class_i in range(len(self.class_names)):\n",
    "            precision, recall, _ = precision_recall_curve(y_true[:, class_i], y_pred[:, class_i])\n",
    "            pr_auc = auc(recall, precision)\n",
    "            pr_auc_mean += pr_auc/len(self.class_names)\n",
    "            print(f\"PR AUC {self.class_names[class_i]}, {self.stage}: {pr_auc:.3f}\\n\")\n",
    "            self.history[class_i].append(pr_auc)        \n",
    "        print(f\"\\n{'#'*20}\\n PR AUC mean, {self.stage}: {pr_auc_mean:.3f}\\n{'#'*20}\\n\")\n",
    "        self.history[-1].append(pr_auc_mean)\n",
    "        return pr_auc_mean\n",
    "              \n",
    "    def is_patience_lost(self, patience):\n",
    "        if len(self.history[-1]) > patience:\n",
    "            best_performance = max(self.history[-1][-(patience + 1):-1])\n",
    "            return best_performance == self.history[-1][-(patience + 1)] and best_performance >= self.history[-1][-1]    \n",
    "              \n",
    "    def early_stopping_check(self, pr_auc_mean):\n",
    "        if self.is_patience_lost(self.early_stopping_patience):\n",
    "            self.model.stop_training = True    \n",
    "              \n",
    "    def model_checkpoint(self, pr_auc_mean, epoch):\n",
    "        if pr_auc_mean > self.best_pr_auc:\n",
    "            # remove previous checkpoints to save space\n",
    "            for checkpoint in glob.glob(os.path.join(self.checkpoints_path, 'efficientNetB3_260x260_epoch_*')):\n",
    "                os.remove(checkpoint)\n",
    "            self.best_pr_auc = pr_auc_mean\n",
    "            self.model.save(os.path.join(self.checkpoints_path, f'efficientNetB3_260x260_epoch_{epoch}_val_pr_auc_{pr_auc_mean}.h5'))              \n",
    "            print(f\"\\n{'#'*20}\\nSaved new checkpoint\\n{'#'*20}\\n\")\n",
    "              \n",
    "    def reduce_lr_on_plateau(self):\n",
    "        if self.is_patience_lost(self.plateau_patience):\n",
    "            new_lr = float(keras.backend.get_value(self.model.optimizer.lr)) * self.reduction_rate\n",
    "            keras.backend.set_value(self.model.optimizer.lr, new_lr)\n",
    "            print(f\"\\n{'#'*20}\\nReduced learning rate to {new_lr}.\\n{'#'*20}\\n\")\n",
    "        \n",
    "    def on_epoch_end(self, epoch, logs={}):\n",
    "        y_pred = self.model.predict_generator(self.data_generator, workers=self.num_workers)\n",
    "        y_true = self.data_generator.get_labels()\n",
    "        # estimate AUC under precision recall curve for each class\n",
    "        pr_auc_mean = self.compute_pr_auc(y_true, y_pred)\n",
    "              \n",
    "        if self.stage == 'val':\n",
    "            # early stop after early_stopping_patience=4 epochs of no improvement in mean PR AUC\n",
    "            self.early_stopping_check(pr_auc_mean)\n",
    "\n",
    "            # save a model with the best PR AUC in validation\n",
    "            self.model_checkpoint(pr_auc_mean, epoch)\n",
    "\n",
    "            # reduce learning rate on PR AUC plateau\n",
    "            self.reduce_lr_on_plateau()            \n",
    "        \n",
    "    def get_pr_auc_history(self):\n",
    "        return self.history"
   ]
  },
  {
   "cell_type": "markdown",
   "metadata": {},
   "source": [
    "Callback instances"
   ]
  },
  {
   "cell_type": "code",
   "execution_count": 12,
   "metadata": {},
   "outputs": [],
   "source": [
    "train_metric_callback = PrAucCallback(data_generator_train_eval)\n",
    "val_callback = PrAucCallback(data_generator_val, stage='val')"
   ]
  },
  {
   "cell_type": "markdown",
   "metadata": {},
   "source": [
    "# Classifier"
   ]
  },
  {
   "cell_type": "markdown",
   "metadata": {},
   "source": [
    "## Defining a model"
   ]
  },
  {
   "cell_type": "code",
   "execution_count": 13,
   "metadata": {},
   "outputs": [],
   "source": [
    "from keras.losses import binary_crossentropy\n",
    "def dice_coef(y_true, y_pred, smooth=0.0001):\n",
    "    y_true_f = K.flatten(y_true)\n",
    "    y_pred_f = K.flatten(y_pred)\n",
    "    intersection = K.sum(y_true_f * y_pred_f)\n",
    "    return (2. * intersection + smooth) / (K.sum(y_true_f) + K.sum(y_pred_f) + smooth)\n",
    "\n",
    "def dice_loss(y_true, y_pred):\n",
    "    smooth = 0.0001\n",
    "    y_true_f = K.flatten(y_true)\n",
    "    y_pred_f = K.flatten(y_pred)\n",
    "    intersection = y_true_f * y_pred_f\n",
    "    score = (2. * K.sum(intersection) + smooth) / (K.sum(y_true_f) + K.sum(y_pred_f) + smooth)\n",
    "    return 1. - score\n",
    "\n",
    "def bce_dice_loss(y_true, y_pred):\n",
    "    return binary_crossentropy(y_true, y_pred) + dice_loss(y_true, y_pred)"
   ]
  },
  {
   "cell_type": "code",
   "execution_count": 14,
   "metadata": {},
   "outputs": [
    {
     "name": "stdout",
     "output_type": "stream",
     "text": [
      "Collecting git+https://github.com/qubvel/efficientnet\n",
      "  Cloning https://github.com/qubvel/efficientnet to c:\\users\\einstein\\appdata\\local\\temp\\pip-req-build-am20l296\n"
     ]
    },
    {
     "name": "stderr",
     "output_type": "stream",
     "text": [
      "  Error [WinError 2] The system cannot find the file specified while executing command git clone -q https://github.com/qubvel/efficientnet C:\\Users\\Einstein\\AppData\\Local\\Temp\\pip-req-build-am20l296\n",
      "Cannot find command 'git' - do you have 'git' installed and in your PATH?\n"
     ]
    }
   ],
   "source": [
    "DELETE !pip install -U git+https://github.com/qubvel/efficientnet"
   ]
  },
  {
   "cell_type": "code",
   "execution_count": 15,
   "metadata": {},
   "outputs": [
    {
     "name": "stdout",
     "output_type": "stream",
     "text": [
      "Collecting efficientnet\n",
      "  Downloading https://files.pythonhosted.org/packages/97/82/f3ae07316f0461417dc54affab6e86ab188a5a22f33176d35271628b96e0/efficientnet-1.0.0-py3-none-any.whl\n",
      "Requirement already satisfied, skipping upgrade: scikit-image in e:\\anaconda3\\envs\\tensorflow-gpu\\lib\\site-packages (from efficientnet) (0.15.0)\n",
      "Requirement already satisfied, skipping upgrade: keras-applications<=1.0.8,>=1.0.7 in e:\\anaconda3\\envs\\tensorflow-gpu\\lib\\site-packages (from efficientnet) (1.0.7)\n",
      "Requirement already satisfied, skipping upgrade: pillow>=4.3.0 in e:\\anaconda3\\envs\\tensorflow-gpu\\lib\\site-packages (from scikit-image->efficientnet) (5.4.1)\n",
      "Requirement already satisfied, skipping upgrade: PyWavelets>=0.4.0 in e:\\anaconda3\\envs\\tensorflow-gpu\\lib\\site-packages (from scikit-image->efficientnet) (1.0.2)\n",
      "Requirement already satisfied, skipping upgrade: networkx>=2.0 in e:\\anaconda3\\envs\\tensorflow-gpu\\lib\\site-packages (from scikit-image->efficientnet) (2.2)\n",
      "Requirement already satisfied, skipping upgrade: imageio>=2.0.1 in e:\\anaconda3\\envs\\tensorflow-gpu\\lib\\site-packages (from scikit-image->efficientnet) (2.5.0)\n",
      "Requirement already satisfied, skipping upgrade: h5py in e:\\anaconda3\\envs\\tensorflow-gpu\\lib\\site-packages (from keras-applications<=1.0.8,>=1.0.7->efficientnet) (2.9.0)\n",
      "Requirement already satisfied, skipping upgrade: numpy>=1.9.1 in e:\\anaconda3\\envs\\tensorflow-gpu\\lib\\site-packages (from keras-applications<=1.0.8,>=1.0.7->efficientnet) (1.16.3)\n",
      "Requirement already satisfied, skipping upgrade: decorator>=4.3.0 in e:\\anaconda3\\envs\\tensorflow-gpu\\lib\\site-packages (from networkx>=2.0->scikit-image->efficientnet) (4.4.0)\n",
      "Requirement already satisfied, skipping upgrade: six in e:\\anaconda3\\envs\\tensorflow-gpu\\lib\\site-packages (from h5py->keras-applications<=1.0.8,>=1.0.7->efficientnet) (1.12.0)\n",
      "Installing collected packages: efficientnet\n",
      "Successfully installed efficientnet-1.0.0\n"
     ]
    }
   ],
   "source": [
    "!pip install -U --pre efficientnet"
   ]
  },
  {
   "cell_type": "code",
   "execution_count": 16,
   "metadata": {
    "_kg_hide-output": true
   },
   "outputs": [
    {
     "name": "stdout",
     "output_type": "stream",
     "text": [
      "WARNING:tensorflow:From E:\\Anaconda3\\envs\\tensorflow-gpu\\lib\\site-packages\\tensorflow\\python\\framework\\op_def_library.py:263: colocate_with (from tensorflow.python.framework.ops) is deprecated and will be removed in a future version.\n",
      "Instructions for updating:\n",
      "Colocations handled automatically by placer.\n",
      "WARNING:tensorflow:From E:\\Anaconda3\\envs\\tensorflow-gpu\\lib\\site-packages\\tensorflow\\python\\framework\\function.py:1007: calling Graph.create_op (from tensorflow.python.framework.ops) with compute_shapes is deprecated and will be removed in a future version.\n",
      "Instructions for updating:\n",
      "Shapes are always computed; don't use the compute_shapes as it has no effect.\n",
      "WARNING:tensorflow:From E:\\Anaconda3\\envs\\tensorflow-gpu\\lib\\site-packages\\keras\\backend\\tensorflow_backend.py:3445: calling dropout (from tensorflow.python.ops.nn_ops) with keep_prob is deprecated and will be removed in a future version.\n",
      "Instructions for updating:\n",
      "Please use `rate` instead of `keep_prob`. Rate should be set to `rate = 1 - keep_prob`.\n",
      "Downloading data from https://github.com/Callidior/keras-applications/releases/download/efficientnet/efficientnet-b3_weights_tf_dim_ordering_tf_kernels_autoaugment_notop.h5\n",
      "44113920/44107200 [==============================] - ETA: 4: - ETA: 2: - ETA: 2: - ETA: 1: - ETA: 1: - ETA: 1: - ETA: 52s - ETA: 49 - ETA: 44 - ETA: 44 - ETA: 41 - ETA: 41 - ETA: 39 - ETA: 38 - ETA: 39 - ETA: 37 - ETA: 37 - ETA: 39 - ETA: 35 - ETA: 34 - ETA: 34 - ETA: 33 - ETA: 33 - ETA: 33 - ETA: 33 - ETA: 32 - ETA: 32 - ETA: 31 - ETA: 31 - ETA: 31 - ETA: 30 - ETA: 30 - ETA: 29 - ETA: 29 - ETA: 28 - ETA: 28 - ETA: 28 - ETA: 27 - ETA: 27 - ETA: 27 - ETA: 26 - ETA: 26 - ETA: 25 - ETA: 25 - ETA: 25 - ETA: 25 - ETA: 24 - ETA: 24 - ETA: 24 - ETA: 23 - ETA: 23 - ETA: 23 - ETA: 23 - ETA: 22 - ETA: 22 - ETA: 22 - ETA: 22 - ETA: 22 - ETA: 22 - ETA: 21 - ETA: 21 - ETA: 21 - ETA: 21 - ETA: 21 - ETA: 20 - ETA: 20 - ETA: 20 - ETA: 20 - ETA: 20 - ETA: 20 - ETA: 19 - ETA: 19 - ETA: 19 - ETA: 19 - ETA: 19 - ETA: 19 - ETA: 19 - ETA: 19 - ETA: 18 - ETA: 18 - ETA: 18 - ETA: 18 - ETA: 18 - ETA: 18 - ETA: 18 - ETA: 17 - ETA: 17 - ETA: 17 - ETA: 17 - ETA: 17 - ETA: 17 - ETA: 17 - ETA: 17 - ETA: 17 - ETA: 16 - ETA: 16 - ETA: 16 - ETA: 16 - ETA: 16 - ETA: 16 - ETA: 16 - ETA: 16 - ETA: 16 - ETA: 15 - ETA: 15 - ETA: 15 - ETA: 15 - ETA: 15 - ETA: 15 - ETA: 15 - ETA: 15 - ETA: 15 - ETA: 15 - ETA: 15 - ETA: 14 - ETA: 14 - ETA: 14 - ETA: 14 - ETA: 14 - ETA: 14 - ETA: 14 - ETA: 14 - ETA: 14 - ETA: 14 - ETA: 14 - ETA: 13 - ETA: 13 - ETA: 13 - ETA: 13 - ETA: 13 - ETA: 13 - ETA: 13 - ETA: 13 - ETA: 13 - ETA: 13 - ETA: 13 - ETA: 13 - ETA: 13 - ETA: 13 - ETA: 12 - ETA: 12 - ETA: 12 - ETA: 12 - ETA: 12 - ETA: 12 - ETA: 12 - ETA: 12 - ETA: 12 - ETA: 12 - ETA: 12 - ETA: 12 - ETA: 12 - ETA: 12 - ETA: 11 - ETA: 11 - ETA: 11 - ETA: 11 - ETA: 11 - ETA: 11 - ETA: 11 - ETA: 11 - ETA: 11 - ETA: 11 - ETA: 11 - ETA: 11 - ETA: 10 - ETA: 10 - ETA: 10 - ETA: 10 - ETA: 10 - ETA: 10 - ETA: 10 - ETA: 10 - ETA: 10 - ETA: 10 - ETA: 10 - ETA: 10 - ETA: 9 - ETA:  - ETA:  - ETA:  - ETA:  - ETA:  - ETA:  - ETA:  - ETA:  - ETA:  - ETA:  - ETA:  - ETA:  - ETA:  - ETA:  - ETA:  - ETA:  - ETA:  - ETA:  - ETA:  - ETA:  - ETA:  - ETA:  - ETA:  - ETA:  - ETA:  - ETA:  - ETA:  - ETA:  - ETA:  - ETA:  - ETA:  - ETA:  - ETA:  - ETA:  - ETA:  - ETA:  - ETA:  - ETA:  - ETA:  - ETA:  - ETA:  - ETA:  - ETA:  - ETA:  - ETA:  - ETA:  - ETA:  - ETA:  - ETA:  - ETA:  - ETA:  - ETA:  - ETA:  - ETA:  - ETA:  - ETA:  - ETA:  - ETA:  - ETA:  - ETA:  - ETA:  - ETA:  - ETA:  - ETA:  - ETA:  - ETA:  - ETA:  - ETA:  - ETA:  - ETA:  - ETA:  - ETA:  - ETA:  - ETA:  - ETA:  - ETA:  - ETA:  - ETA:  - ETA:  - ETA:  - ETA:  - ETA:  - ETA:  - ETA:  - ETA:  - ETA:  - ETA:  - ETA:  - ETA:  - ETA:  - ETA:  - ETA:  - ETA:  - ETA:  - ETA:  - ETA:  - ETA:  - ETA:  - ETA:  - ETA:  - ETA:  - ETA:  - ETA:  - ETA:  - ETA:  - ETA:  - ETA:  - ETA:  - ETA:  - ETA:  - ETA:  - ETA:  - ETA:  - ETA:  - ETA:  - ETA:  - ETA:  - ETA:  - ETA:  - ETA:  - ETA:  - ETA:  - ETA:  - ETA:  - ETA:  - ETA:  - ETA:  - ETA:  - ETA:  - ETA:  - ETA:  - ETA:  - ETA:  - ETA:  - ETA:  - ETA:  - 18s 0us/step\n"
     ]
    }
   ],
   "source": [
    "import efficientnet.keras as efn \n",
    "def get_model():\n",
    "    K.clear_session()\n",
    "    base_model =  efn.EfficientNetB3(weights='imagenet', include_top=False, pooling='avg', input_shape=(260, 260, 3))\n",
    "    x = base_model.output\n",
    "    y_pred = Dense(4, activation='sigmoid')(x)\n",
    "    return Model(inputs=base_model.input, outputs=y_pred)\n",
    "\n",
    "model = get_model()"
   ]
  },
  {
   "cell_type": "code",
   "execution_count": 17,
   "metadata": {},
   "outputs": [],
   "source": [
    "from keras_radam import RAdam"
   ]
  },
  {
   "cell_type": "markdown",
   "metadata": {},
   "source": [
    "## Initial tuning of the added fully-connected layer"
   ]
  },
  {
   "cell_type": "code",
   "execution_count": 19,
   "metadata": {},
   "outputs": [
    {
     "name": "stdout",
     "output_type": "stream",
     "text": [
      "Epoch 1/10\n",
      "138/138 [==============================] - ETA: 35:40 - loss: 3.1071 - acc: 0.31 - ETA: 18:00 - loss: 3.0224 - acc: 0.31 - ETA: 12:07 - loss: 2.9138 - acc: 0.30 - ETA: 9:10 - loss: 2.8477 - acc: 0.2812 - ETA: 7:24 - loss: 2.8591 - acc: 0.287 - ETA: 6:13 - loss: 2.8263 - acc: 0.296 - ETA: 5:23 - loss: 2.8084 - acc: 0.299 - ETA: 4:45 - loss: 2.8260 - acc: 0.293 - ETA: 4:15 - loss: 2.7812 - acc: 0.312 - ETA: 3:52 - loss: 2.7937 - acc: 0.318 - ETA: 3:33 - loss: 2.7771 - acc: 0.329 - ETA: 3:16 - loss: 2.8028 - acc: 0.325 - ETA: 3:17 - loss: 2.7762 - acc: 0.334 - ETA: 3:06 - loss: 2.7686 - acc: 0.334 - ETA: 2:56 - loss: 2.7438 - acc: 0.337 - ETA: 2:46 - loss: 2.7444 - acc: 0.326 - ETA: 2:42 - loss: 2.7556 - acc: 0.323 - ETA: 2:34 - loss: 2.7716 - acc: 0.322 - ETA: 2:27 - loss: 2.7752 - acc: 0.317 - ETA: 2:20 - loss: 2.7648 - acc: 0.318 - ETA: 2:25 - loss: 2.7598 - acc: 0.324 - ETA: 2:21 - loss: 2.7536 - acc: 0.325 - ETA: 2:15 - loss: 2.7582 - acc: 0.323 - ETA: 2:10 - loss: 2.7651 - acc: 0.319 - ETA: 2:05 - loss: 2.7757 - acc: 0.320 - ETA: 2:02 - loss: 2.7717 - acc: 0.320 - ETA: 1:58 - loss: 2.7721 - acc: 0.320 - ETA: 1:54 - loss: 2.7791 - acc: 0.324 - ETA: 1:59 - loss: 2.7842 - acc: 0.325 - ETA: 1:56 - loss: 2.7925 - acc: 0.325 - ETA: 1:52 - loss: 2.7994 - acc: 0.323 - ETA: 1:48 - loss: 2.7987 - acc: 0.326 - ETA: 1:45 - loss: 2.7943 - acc: 0.325 - ETA: 1:42 - loss: 2.7859 - acc: 0.327 - ETA: 1:40 - loss: 2.7759 - acc: 0.329 - ETA: 1:38 - loss: 2.7806 - acc: 0.328 - ETA: 1:42 - loss: 2.7838 - acc: 0.325 - ETA: 1:39 - loss: 2.7830 - acc: 0.323 - ETA: 1:37 - loss: 2.7840 - acc: 0.328 - ETA: 1:34 - loss: 2.7865 - acc: 0.328 - ETA: 1:31 - loss: 2.7855 - acc: 0.329 - ETA: 1:29 - loss: 2.7841 - acc: 0.330 - ETA: 1:27 - loss: 2.7884 - acc: 0.332 - ETA: 1:26 - loss: 2.7923 - acc: 0.333 - ETA: 1:27 - loss: 2.7963 - acc: 0.332 - ETA: 1:25 - loss: 2.7993 - acc: 0.333 - ETA: 1:23 - loss: 2.8140 - acc: 0.332 - ETA: 1:22 - loss: 2.8105 - acc: 0.330 - ETA: 1:20 - loss: 2.8037 - acc: 0.327 - ETA: 1:18 - loss: 2.8023 - acc: 0.326 - ETA: 1:17 - loss: 2.8005 - acc: 0.323 - ETA: 1:16 - loss: 2.8001 - acc: 0.321 - ETA: 1:16 - loss: 2.8047 - acc: 0.320 - ETA: 1:14 - loss: 2.8068 - acc: 0.318 - ETA: 1:13 - loss: 2.8054 - acc: 0.318 - ETA: 1:12 - loss: 2.8127 - acc: 0.317 - ETA: 1:10 - loss: 2.8098 - acc: 0.318 - ETA: 1:08 - loss: 2.8115 - acc: 0.317 - ETA: 1:08 - loss: 2.8184 - acc: 0.315 - ETA: 1:07 - loss: 2.8210 - acc: 0.313 - ETA: 1:06 - loss: 2.8215 - acc: 0.312 - ETA: 1:05 - loss: 2.8260 - acc: 0.308 - ETA: 1:04 - loss: 2.8213 - acc: 0.308 - ETA: 1:03 - loss: 2.8210 - acc: 0.308 - ETA: 1:01 - loss: 2.8186 - acc: 0.308 - ETA: 1:00 - loss: 2.8141 - acc: 0.308 - ETA: 1:00 - loss: 2.8157 - acc: 0.307 - ETA: 59s - loss: 2.8140 - acc: 0.307 - ETA: 58s - loss: 2.8077 - acc: 0.30 - ETA: 57s - loss: 2.8064 - acc: 0.31 - ETA: 56s - loss: 2.8046 - acc: 0.31 - ETA: 54s - loss: 2.8033 - acc: 0.31 - ETA: 53s - loss: 2.8027 - acc: 0.31 - ETA: 52s - loss: 2.8064 - acc: 0.31 - ETA: 52s - loss: 2.8091 - acc: 0.30 - ETA: 51s - loss: 2.8078 - acc: 0.31 - ETA: 50s - loss: 2.8091 - acc: 0.31 - ETA: 49s - loss: 2.8065 - acc: 0.31 - ETA: 48s - loss: 2.8085 - acc: 0.31 - ETA: 47s - loss: 2.8127 - acc: 0.30 - ETA: 46s - loss: 2.8130 - acc: 0.30 - ETA: 45s - loss: 2.8170 - acc: 0.30 - ETA: 44s - loss: 2.8176 - acc: 0.31 - ETA: 44s - loss: 2.8228 - acc: 0.30 - ETA: 43s - loss: 2.8200 - acc: 0.30 - ETA: 42s - loss: 2.8236 - acc: 0.30 - ETA: 41s - loss: 2.8209 - acc: 0.31 - ETA: 40s - loss: 2.8193 - acc: 0.30 - ETA: 39s - loss: 2.8223 - acc: 0.31 - ETA: 38s - loss: 2.8206 - acc: 0.30 - ETA: 38s - loss: 2.8259 - acc: 0.30 - ETA: 37s - loss: 2.8273 - acc: 0.30 - ETA: 36s - loss: 2.8325 - acc: 0.30 - ETA: 35s - loss: 2.8339 - acc: 0.30 - ETA: 34s - loss: 2.8357 - acc: 0.30 - ETA: 33s - loss: 2.8349 - acc: 0.30 - ETA: 32s - loss: 2.8367 - acc: 0.30 - ETA: 31s - loss: 2.8336 - acc: 0.30 - ETA: 31s - loss: 2.8321 - acc: 0.30 - ETA: 30s - loss: 2.8331 - acc: 0.30 - ETA: 29s - loss: 2.8340 - acc: 0.30 - ETA: 28s - loss: 2.8304 - acc: 0.30 - ETA: 27s - loss: 2.8290 - acc: 0.30 - ETA: 26s - loss: 2.8282 - acc: 0.30 - ETA: 26s - loss: 2.8264 - acc: 0.30 - ETA: 25s - loss: 2.8284 - acc: 0.30 - ETA: 24s - loss: 2.8245 - acc: 0.30 - ETA: 23s - loss: 2.8225 - acc: 0.30 - ETA: 22s - loss: 2.8239 - acc: 0.30 - ETA: 22s - loss: 2.8244 - acc: 0.30 - ETA: 21s - loss: 2.8208 - acc: 0.30 - ETA: 20s - loss: 2.8211 - acc: 0.30 - ETA: 19s - loss: 2.8203 - acc: 0.30 - ETA: 18s - loss: 2.8222 - acc: 0.30 - ETA: 18s - loss: 2.8217 - acc: 0.30 - ETA: 17s - loss: 2.8212 - acc: 0.30 - ETA: 16s - loss: 2.8212 - acc: 0.30 - ETA: 15s - loss: 2.8208 - acc: 0.30 - ETA: 14s - loss: 2.8212 - acc: 0.30 - ETA: 13s - loss: 2.8231 - acc: 0.30 - ETA: 13s - loss: 2.8249 - acc: 0.30 - ETA: 12s - loss: 2.8302 - acc: 0.30 - ETA: 11s - loss: 2.8281 - acc: 0.30 - ETA: 10s - loss: 2.8281 - acc: 0.30 - ETA: 10s - loss: 2.8320 - acc: 0.30 - ETA: 9s - loss: 2.8319 - acc: 0.3070 - ETA: 8s - loss: 2.8349 - acc: 0.306 - ETA: 7s - loss: 2.8368 - acc: 0.306 - ETA: 7s - loss: 2.8358 - acc: 0.306 - ETA: 6s - loss: 2.8375 - acc: 0.307 - ETA: 5s - loss: 2.8389 - acc: 0.306 - ETA: 4s - loss: 2.8411 - acc: 0.305 - ETA: 3s - loss: 2.8414 - acc: 0.306 - ETA: 3s - loss: 2.8417 - acc: 0.306 - ETA: 2s - loss: 2.8423 - acc: 0.305 - ETA: 1s - loss: 2.8443 - acc: 0.305 - ETA: 0s - loss: 2.8472 - acc: 0.305 - 129s 937ms/step - loss: 2.8502 - acc: 0.3055 - val_loss: 3.0003 - val_acc: 0.3824\n",
      "\n",
      "##############################\n",
      "\n",
      "PR AUC Fish, train: 0.622\n",
      "\n",
      "PR AUC Flower, train: 0.630\n",
      "\n",
      "PR AUC Sugar, train: 0.697\n",
      "\n",
      "PR AUC Gravel, train: 0.518\n",
      "\n",
      "\n",
      "####################\n",
      " PR AUC mean, train: 0.617\n",
      "####################\n",
      "\n",
      "\n",
      "##############################\n",
      "\n",
      "PR AUC Fish, val: 0.633\n",
      "\n",
      "PR AUC Flower, val: 0.626\n",
      "\n",
      "PR AUC Sugar, val: 0.724\n",
      "\n",
      "PR AUC Gravel, val: 0.548\n",
      "\n",
      "\n",
      "####################\n",
      " PR AUC mean, val: 0.633\n",
      "####################\n",
      "\n",
      "\n",
      "####################\n",
      "Saved new checkpoint\n",
      "####################\n",
      "\n",
      "Epoch 2/10\n"
     ]
    },
    {
     "name": "stdout",
     "output_type": "stream",
     "text": [
      "138/138 [==============================] - ETA: 37s - loss: 2.8791 - acc: 0.31 - ETA: 37s - loss: 2.9442 - acc: 0.34 - ETA: 37s - loss: 2.9465 - acc: 0.32 - ETA: 37s - loss: 2.9042 - acc: 0.31 - ETA: 37s - loss: 2.8031 - acc: 0.36 - ETA: 37s - loss: 2.8094 - acc: 0.36 - ETA: 37s - loss: 2.8237 - acc: 0.34 - ETA: 37s - loss: 2.8494 - acc: 0.35 - ETA: 36s - loss: 2.8402 - acc: 0.35 - ETA: 36s - loss: 2.8588 - acc: 0.34 - ETA: 36s - loss: 2.8236 - acc: 0.34 - ETA: 49s - loss: 2.8410 - acc: 0.34 - ETA: 52s - loss: 2.8328 - acc: 0.34 - ETA: 54s - loss: 2.8328 - acc: 0.34 - ETA: 53s - loss: 2.8498 - acc: 0.33 - ETA: 53s - loss: 2.8419 - acc: 0.33 - ETA: 52s - loss: 2.8368 - acc: 0.33 - ETA: 52s - loss: 2.8483 - acc: 0.34 - ETA: 51s - loss: 2.8387 - acc: 0.34 - ETA: 1:01 - loss: 2.8310 - acc: 0.343 - ETA: 1:03 - loss: 2.8309 - acc: 0.337 - ETA: 1:04 - loss: 2.8222 - acc: 0.335 - ETA: 1:02 - loss: 2.8137 - acc: 0.339 - ETA: 1:02 - loss: 2.8106 - acc: 0.341 - ETA: 1:00 - loss: 2.8181 - acc: 0.338 - ETA: 59s - loss: 2.8259 - acc: 0.337 - ETA: 57s - loss: 2.8515 - acc: 0.33 - ETA: 1:02 - loss: 2.8498 - acc: 0.334 - ETA: 1:04 - loss: 2.8508 - acc: 0.333 - ETA: 1:03 - loss: 2.8346 - acc: 0.337 - ETA: 1:02 - loss: 2.8239 - acc: 0.339 - ETA: 1:01 - loss: 2.8287 - acc: 0.338 - ETA: 59s - loss: 2.8231 - acc: 0.340 - ETA: 58s - loss: 2.8128 - acc: 0.34 - ETA: 57s - loss: 2.8150 - acc: 0.34 - ETA: 1:00 - loss: 2.8142 - acc: 0.346 - ETA: 1:03 - loss: 2.8166 - acc: 0.348 - ETA: 1:01 - loss: 2.8180 - acc: 0.347 - ETA: 1:00 - loss: 2.8193 - acc: 0.351 - ETA: 59s - loss: 2.8208 - acc: 0.352 - ETA: 57s - loss: 2.8265 - acc: 0.35 - ETA: 56s - loss: 2.8183 - acc: 0.35 - ETA: 56s - loss: 2.8130 - acc: 0.34 - ETA: 57s - loss: 2.8189 - acc: 0.34 - ETA: 58s - loss: 2.8302 - acc: 0.34 - ETA: 58s - loss: 2.8356 - acc: 0.34 - ETA: 57s - loss: 2.8271 - acc: 0.34 - ETA: 56s - loss: 2.8251 - acc: 0.34 - ETA: 54s - loss: 2.8332 - acc: 0.34 - ETA: 54s - loss: 2.8293 - acc: 0.34 - ETA: 53s - loss: 2.8251 - acc: 0.34 - ETA: 53s - loss: 2.8296 - acc: 0.34 - ETA: 54s - loss: 2.8371 - acc: 0.34 - ETA: 53s - loss: 2.8438 - acc: 0.34 - ETA: 53s - loss: 2.8371 - acc: 0.34 - ETA: 52s - loss: 2.8369 - acc: 0.34 - ETA: 51s - loss: 2.8378 - acc: 0.34 - ETA: 50s - loss: 2.8414 - acc: 0.34 - ETA: 49s - loss: 2.8446 - acc: 0.33 - ETA: 49s - loss: 2.8458 - acc: 0.33 - ETA: 49s - loss: 2.8486 - acc: 0.33 - ETA: 49s - loss: 2.8473 - acc: 0.33 - ETA: 48s - loss: 2.8493 - acc: 0.33 - ETA: 47s - loss: 2.8506 - acc: 0.33 - ETA: 46s - loss: 2.8491 - acc: 0.33 - ETA: 46s - loss: 2.8490 - acc: 0.33 - ETA: 45s - loss: 2.8498 - acc: 0.33 - ETA: 44s - loss: 2.8467 - acc: 0.33 - ETA: 44s - loss: 2.8479 - acc: 0.33 - ETA: 44s - loss: 2.8524 - acc: 0.33 - ETA: 43s - loss: 2.8520 - acc: 0.33 - ETA: 42s - loss: 2.8562 - acc: 0.33 - ETA: 41s - loss: 2.8553 - acc: 0.33 - ETA: 41s - loss: 2.8571 - acc: 0.33 - ETA: 40s - loss: 2.8592 - acc: 0.33 - ETA: 39s - loss: 2.8572 - acc: 0.33 - ETA: 39s - loss: 2.8551 - acc: 0.33 - ETA: 39s - loss: 2.8564 - acc: 0.33 - ETA: 38s - loss: 2.8575 - acc: 0.33 - ETA: 37s - loss: 2.8580 - acc: 0.33 - ETA: 37s - loss: 2.8547 - acc: 0.33 - ETA: 36s - loss: 2.8573 - acc: 0.33 - ETA: 35s - loss: 2.8570 - acc: 0.33 - ETA: 35s - loss: 2.8512 - acc: 0.33 - ETA: 34s - loss: 2.8488 - acc: 0.33 - ETA: 34s - loss: 2.8478 - acc: 0.33 - ETA: 33s - loss: 2.8460 - acc: 0.34 - ETA: 32s - loss: 2.8453 - acc: 0.33 - ETA: 32s - loss: 2.8428 - acc: 0.33 - ETA: 31s - loss: 2.8426 - acc: 0.33 - ETA: 30s - loss: 2.8425 - acc: 0.33 - ETA: 30s - loss: 2.8472 - acc: 0.33 - ETA: 29s - loss: 2.8472 - acc: 0.33 - ETA: 29s - loss: 2.8473 - acc: 0.33 - ETA: 28s - loss: 2.8422 - acc: 0.33 - ETA: 27s - loss: 2.8391 - acc: 0.34 - ETA: 26s - loss: 2.8369 - acc: 0.33 - ETA: 26s - loss: 2.8339 - acc: 0.33 - ETA: 25s - loss: 2.8399 - acc: 0.33 - ETA: 25s - loss: 2.8419 - acc: 0.33 - ETA: 24s - loss: 2.8393 - acc: 0.33 - ETA: 24s - loss: 2.8371 - acc: 0.33 - ETA: 23s - loss: 2.8353 - acc: 0.33 - ETA: 22s - loss: 2.8309 - acc: 0.33 - ETA: 21s - loss: 2.8332 - acc: 0.33 - ETA: 21s - loss: 2.8349 - acc: 0.33 - ETA: 20s - loss: 2.8365 - acc: 0.33 - ETA: 19s - loss: 2.8346 - acc: 0.33 - ETA: 19s - loss: 2.8387 - acc: 0.33 - ETA: 18s - loss: 2.8369 - acc: 0.33 - ETA: 18s - loss: 2.8385 - acc: 0.33 - ETA: 17s - loss: 2.8370 - acc: 0.33 - ETA: 16s - loss: 2.8379 - acc: 0.33 - ETA: 16s - loss: 2.8339 - acc: 0.33 - ETA: 15s - loss: 2.8378 - acc: 0.33 - ETA: 14s - loss: 2.8381 - acc: 0.33 - ETA: 14s - loss: 2.8355 - acc: 0.33 - ETA: 13s - loss: 2.8348 - acc: 0.33 - ETA: 12s - loss: 2.8336 - acc: 0.33 - ETA: 12s - loss: 2.8359 - acc: 0.33 - ETA: 11s - loss: 2.8326 - acc: 0.32 - ETA: 10s - loss: 2.8338 - acc: 0.32 - ETA: 10s - loss: 2.8358 - acc: 0.32 - ETA: 9s - loss: 2.8352 - acc: 0.3284 - ETA: 8s - loss: 2.8347 - acc: 0.328 - ETA: 8s - loss: 2.8332 - acc: 0.328 - ETA: 7s - loss: 2.8336 - acc: 0.329 - ETA: 6s - loss: 2.8321 - acc: 0.329 - ETA: 6s - loss: 2.8317 - acc: 0.329 - ETA: 5s - loss: 2.8348 - acc: 0.328 - ETA: 4s - loss: 2.8327 - acc: 0.329 - ETA: 4s - loss: 2.8327 - acc: 0.330 - ETA: 3s - loss: 2.8308 - acc: 0.330 - ETA: 2s - loss: 2.8317 - acc: 0.330 - ETA: 2s - loss: 2.8311 - acc: 0.330 - ETA: 1s - loss: 2.8312 - acc: 0.330 - ETA: 0s - loss: 2.8308 - acc: 0.330 - 115s 837ms/step - loss: 2.8309 - acc: 0.3304 - val_loss: 2.9889 - val_acc: 0.5018\n",
      "\n",
      "##############################\n",
      "\n",
      "PR AUC Fish, train: 0.625\n",
      "\n",
      "PR AUC Flower, train: 0.638\n",
      "\n",
      "PR AUC Sugar, train: 0.707\n",
      "\n",
      "PR AUC Gravel, train: 0.521\n",
      "\n",
      "\n",
      "####################\n",
      " PR AUC mean, train: 0.623\n",
      "####################\n",
      "\n",
      "\n",
      "##############################\n",
      "\n",
      "PR AUC Fish, val: 0.636\n",
      "\n",
      "PR AUC Flower, val: 0.638\n",
      "\n",
      "PR AUC Sugar, val: 0.731\n",
      "\n",
      "PR AUC Gravel, val: 0.558\n",
      "\n",
      "\n",
      "####################\n",
      " PR AUC mean, val: 0.641\n",
      "####################\n",
      "\n",
      "\n",
      "####################\n",
      "Saved new checkpoint\n",
      "####################\n",
      "\n",
      "Epoch 3/10\n"
     ]
    },
    {
     "name": "stdout",
     "output_type": "stream",
     "text": [
      "138/138 [==============================] - ETA: 40s - loss: 2.8489 - acc: 0.21 - ETA: 42s - loss: 2.7623 - acc: 0.28 - ETA: 43s - loss: 2.8708 - acc: 0.22 - ETA: 43s - loss: 2.8539 - acc: 0.26 - ETA: 44s - loss: 2.8717 - acc: 0.28 - ETA: 45s - loss: 2.8640 - acc: 0.32 - ETA: 46s - loss: 2.8772 - acc: 0.33 - ETA: 45s - loss: 2.9185 - acc: 0.33 - ETA: 45s - loss: 2.9086 - acc: 0.35 - ETA: 45s - loss: 2.8860 - acc: 0.36 - ETA: 45s - loss: 2.8635 - acc: 0.36 - ETA: 1:19 - loss: 2.8390 - acc: 0.369 - ETA: 1:23 - loss: 2.8217 - acc: 0.363 - ETA: 1:20 - loss: 2.8595 - acc: 0.359 - ETA: 1:17 - loss: 2.8607 - acc: 0.368 - ETA: 1:14 - loss: 2.8612 - acc: 0.373 - ETA: 1:11 - loss: 2.8597 - acc: 0.364 - ETA: 1:09 - loss: 2.8382 - acc: 0.362 - ETA: 1:06 - loss: 2.8283 - acc: 0.361 - ETA: 1:15 - loss: 2.8159 - acc: 0.365 - ETA: 1:16 - loss: 2.8202 - acc: 0.363 - ETA: 1:15 - loss: 2.8285 - acc: 0.363 - ETA: 1:13 - loss: 2.8373 - acc: 0.357 - ETA: 1:11 - loss: 2.8294 - acc: 0.360 - ETA: 1:09 - loss: 2.8447 - acc: 0.357 - ETA: 1:07 - loss: 2.8454 - acc: 0.353 - ETA: 1:05 - loss: 2.8417 - acc: 0.347 - ETA: 1:11 - loss: 2.8508 - acc: 0.346 - ETA: 1:11 - loss: 2.8476 - acc: 0.345 - ETA: 1:10 - loss: 2.8480 - acc: 0.349 - ETA: 1:09 - loss: 2.8526 - acc: 0.348 - ETA: 1:07 - loss: 2.8357 - acc: 0.353 - ETA: 1:06 - loss: 2.8274 - acc: 0.354 - ETA: 1:04 - loss: 2.8362 - acc: 0.353 - ETA: 1:03 - loss: 2.8395 - acc: 0.354 - ETA: 1:06 - loss: 2.8340 - acc: 0.355 - ETA: 1:05 - loss: 2.8250 - acc: 0.355 - ETA: 1:06 - loss: 2.8134 - acc: 0.359 - ETA: 1:04 - loss: 2.8182 - acc: 0.359 - ETA: 1:03 - loss: 2.8128 - acc: 0.363 - ETA: 1:02 - loss: 2.8179 - acc: 0.359 - ETA: 1:02 - loss: 2.8200 - acc: 0.362 - ETA: 1:00 - loss: 2.8177 - acc: 0.364 - ETA: 1:01 - loss: 2.8218 - acc: 0.364 - ETA: 1:01 - loss: 2.8246 - acc: 0.363 - ETA: 1:00 - loss: 2.8317 - acc: 0.362 - ETA: 59s - loss: 2.8271 - acc: 0.363 - ETA: 59s - loss: 2.8283 - acc: 0.36 - ETA: 58s - loss: 2.8319 - acc: 0.36 - ETA: 57s - loss: 2.8234 - acc: 0.36 - ETA: 56s - loss: 2.8160 - acc: 0.36 - ETA: 56s - loss: 2.8092 - acc: 0.36 - ETA: 56s - loss: 2.8005 - acc: 0.36 - ETA: 55s - loss: 2.7985 - acc: 0.36 - ETA: 54s - loss: 2.8087 - acc: 0.36 - ETA: 54s - loss: 2.8107 - acc: 0.36 - ETA: 54s - loss: 2.8120 - acc: 0.36 - ETA: 53s - loss: 2.8088 - acc: 0.36 - ETA: 52s - loss: 2.8086 - acc: 0.36 - ETA: 51s - loss: 2.8049 - acc: 0.35 - ETA: 51s - loss: 2.8042 - acc: 0.36 - ETA: 50s - loss: 2.8049 - acc: 0.35 - ETA: 49s - loss: 2.8113 - acc: 0.36 - ETA: 49s - loss: 2.8136 - acc: 0.35 - ETA: 49s - loss: 2.8068 - acc: 0.35 - ETA: 48s - loss: 2.8099 - acc: 0.35 - ETA: 47s - loss: 2.8193 - acc: 0.36 - ETA: 46s - loss: 2.8189 - acc: 0.36 - ETA: 46s - loss: 2.8164 - acc: 0.36 - ETA: 45s - loss: 2.8136 - acc: 0.36 - ETA: 44s - loss: 2.8108 - acc: 0.36 - ETA: 44s - loss: 2.8048 - acc: 0.36 - ETA: 44s - loss: 2.8076 - acc: 0.36 - ETA: 43s - loss: 2.8122 - acc: 0.36 - ETA: 42s - loss: 2.8069 - acc: 0.36 - ETA: 41s - loss: 2.8038 - acc: 0.36 - ETA: 40s - loss: 2.8003 - acc: 0.36 - ETA: 40s - loss: 2.8023 - acc: 0.36 - ETA: 39s - loss: 2.8044 - acc: 0.36 - ETA: 39s - loss: 2.8044 - acc: 0.35 - ETA: 39s - loss: 2.8027 - acc: 0.35 - ETA: 38s - loss: 2.8032 - acc: 0.35 - ETA: 37s - loss: 2.8001 - acc: 0.35 - ETA: 36s - loss: 2.7998 - acc: 0.35 - ETA: 35s - loss: 2.7998 - acc: 0.36 - ETA: 34s - loss: 2.8029 - acc: 0.36 - ETA: 34s - loss: 2.8024 - acc: 0.36 - ETA: 34s - loss: 2.7987 - acc: 0.36 - ETA: 33s - loss: 2.8006 - acc: 0.36 - ETA: 32s - loss: 2.8009 - acc: 0.36 - ETA: 31s - loss: 2.8005 - acc: 0.36 - ETA: 30s - loss: 2.8019 - acc: 0.36 - ETA: 30s - loss: 2.8011 - acc: 0.36 - ETA: 29s - loss: 2.8043 - acc: 0.35 - ETA: 28s - loss: 2.8060 - acc: 0.35 - ETA: 28s - loss: 2.8044 - acc: 0.35 - ETA: 28s - loss: 2.8040 - acc: 0.35 - ETA: 27s - loss: 2.8088 - acc: 0.35 - ETA: 26s - loss: 2.8116 - acc: 0.36 - ETA: 25s - loss: 2.8072 - acc: 0.36 - ETA: 24s - loss: 2.8090 - acc: 0.36 - ETA: 24s - loss: 2.8125 - acc: 0.36 - ETA: 23s - loss: 2.8104 - acc: 0.36 - ETA: 23s - loss: 2.8116 - acc: 0.36 - ETA: 22s - loss: 2.8124 - acc: 0.36 - ETA: 22s - loss: 2.8085 - acc: 0.36 - ETA: 21s - loss: 2.8058 - acc: 0.36 - ETA: 20s - loss: 2.8086 - acc: 0.36 - ETA: 19s - loss: 2.8070 - acc: 0.36 - ETA: 18s - loss: 2.8060 - acc: 0.36 - ETA: 18s - loss: 2.8055 - acc: 0.36 - ETA: 17s - loss: 2.8051 - acc: 0.36 - ETA: 17s - loss: 2.8049 - acc: 0.36 - ETA: 16s - loss: 2.8039 - acc: 0.36 - ETA: 15s - loss: 2.8059 - acc: 0.36 - ETA: 15s - loss: 2.8074 - acc: 0.36 - ETA: 14s - loss: 2.8057 - acc: 0.35 - ETA: 13s - loss: 2.8056 - acc: 0.36 - ETA: 12s - loss: 2.8038 - acc: 0.36 - ETA: 12s - loss: 2.8019 - acc: 0.36 - ETA: 11s - loss: 2.8006 - acc: 0.36 - ETA: 11s - loss: 2.8060 - acc: 0.36 - ETA: 10s - loss: 2.8066 - acc: 0.36 - ETA: 9s - loss: 2.8050 - acc: 0.3614 - ETA: 8s - loss: 2.8051 - acc: 0.361 - ETA: 8s - loss: 2.8056 - acc: 0.361 - ETA: 7s - loss: 2.8068 - acc: 0.361 - ETA: 6s - loss: 2.8084 - acc: 0.362 - ETA: 6s - loss: 2.8076 - acc: 0.362 - ETA: 5s - loss: 2.8071 - acc: 0.363 - ETA: 4s - loss: 2.8071 - acc: 0.363 - ETA: 4s - loss: 2.8083 - acc: 0.362 - ETA: 3s - loss: 2.8096 - acc: 0.362 - ETA: 2s - loss: 2.8122 - acc: 0.361 - ETA: 2s - loss: 2.8125 - acc: 0.361 - ETA: 1s - loss: 2.8129 - acc: 0.361 - ETA: 0s - loss: 2.8141 - acc: 0.361 - 119s 865ms/step - loss: 2.8141 - acc: 0.3616 - val_loss: 2.9440 - val_acc: 0.4779\n",
      "\n",
      "##############################\n",
      "\n",
      "PR AUC Fish, train: 0.630\n",
      "\n",
      "PR AUC Flower, train: 0.636\n",
      "\n",
      "PR AUC Sugar, train: 0.710\n",
      "\n",
      "PR AUC Gravel, train: 0.536\n",
      "\n",
      "\n",
      "####################\n",
      " PR AUC mean, train: 0.628\n",
      "####################\n",
      "\n",
      "\n",
      "##############################\n",
      "\n",
      "PR AUC Fish, val: 0.640\n",
      "\n",
      "PR AUC Flower, val: 0.637\n",
      "\n",
      "PR AUC Sugar, val: 0.733\n",
      "\n",
      "PR AUC Gravel, val: 0.577\n",
      "\n",
      "\n",
      "####################\n",
      " PR AUC mean, val: 0.647\n",
      "####################\n",
      "\n",
      "\n",
      "####################\n",
      "Saved new checkpoint\n",
      "####################\n",
      "\n",
      "Epoch 4/10\n"
     ]
    },
    {
     "name": "stdout",
     "output_type": "stream",
     "text": [
      "138/138 [==============================] - ETA: 39s - loss: 2.8700 - acc: 0.46 - ETA: 42s - loss: 2.7872 - acc: 0.43 - ETA: 42s - loss: 2.8020 - acc: 0.44 - ETA: 43s - loss: 2.8046 - acc: 0.42 - ETA: 43s - loss: 2.7779 - acc: 0.40 - ETA: 43s - loss: 2.7560 - acc: 0.42 - ETA: 44s - loss: 2.7825 - acc: 0.40 - ETA: 44s - loss: 2.7970 - acc: 0.40 - ETA: 44s - loss: 2.8276 - acc: 0.40 - ETA: 43s - loss: 2.7818 - acc: 0.41 - ETA: 43s - loss: 2.8225 - acc: 0.40 - ETA: 1:33 - loss: 2.8245 - acc: 0.393 - ETA: 1:28 - loss: 2.8317 - acc: 0.384 - ETA: 1:24 - loss: 2.8466 - acc: 0.370 - ETA: 1:20 - loss: 2.8376 - acc: 0.370 - ETA: 1:16 - loss: 2.8301 - acc: 0.371 - ETA: 1:14 - loss: 2.8164 - acc: 0.371 - ETA: 1:11 - loss: 2.8206 - acc: 0.362 - ETA: 1:09 - loss: 2.8087 - acc: 0.366 - ETA: 1:23 - loss: 2.8206 - acc: 0.368 - ETA: 1:22 - loss: 2.8304 - acc: 0.363 - ETA: 1:19 - loss: 2.8373 - acc: 0.365 - ETA: 1:17 - loss: 2.8459 - acc: 0.360 - ETA: 1:14 - loss: 2.8445 - acc: 0.363 - ETA: 1:12 - loss: 2.8470 - acc: 0.358 - ETA: 1:10 - loss: 2.8422 - acc: 0.358 - ETA: 1:08 - loss: 2.8435 - acc: 0.356 - ETA: 1:17 - loss: 2.8471 - acc: 0.353 - ETA: 1:16 - loss: 2.8453 - acc: 0.358 - ETA: 1:14 - loss: 2.8320 - acc: 0.362 - ETA: 1:12 - loss: 2.8250 - acc: 0.362 - ETA: 1:10 - loss: 2.8091 - acc: 0.365 - ETA: 1:08 - loss: 2.7972 - acc: 0.363 - ETA: 1:06 - loss: 2.7962 - acc: 0.364 - ETA: 1:05 - loss: 2.8032 - acc: 0.360 - ETA: 1:11 - loss: 2.8062 - acc: 0.356 - ETA: 1:10 - loss: 2.8022 - acc: 0.356 - ETA: 1:08 - loss: 2.7971 - acc: 0.361 - ETA: 1:07 - loss: 2.7932 - acc: 0.363 - ETA: 1:05 - loss: 2.7970 - acc: 0.363 - ETA: 1:04 - loss: 2.7947 - acc: 0.364 - ETA: 1:02 - loss: 2.8059 - acc: 0.362 - ETA: 1:01 - loss: 2.8030 - acc: 0.362 - ETA: 1:05 - loss: 2.8035 - acc: 0.363 - ETA: 1:04 - loss: 2.7962 - acc: 0.363 - ETA: 1:03 - loss: 2.7993 - acc: 0.360 - ETA: 1:02 - loss: 2.7957 - acc: 0.361 - ETA: 1:00 - loss: 2.7941 - acc: 0.362 - ETA: 59s - loss: 2.7900 - acc: 0.362 - ETA: 58s - loss: 2.7892 - acc: 0.36 - ETA: 56s - loss: 2.7917 - acc: 0.36 - ETA: 59s - loss: 2.7973 - acc: 0.36 - ETA: 58s - loss: 2.7981 - acc: 0.36 - ETA: 57s - loss: 2.7988 - acc: 0.36 - ETA: 56s - loss: 2.7967 - acc: 0.36 - ETA: 55s - loss: 2.7993 - acc: 0.36 - ETA: 54s - loss: 2.7963 - acc: 0.36 - ETA: 53s - loss: 2.8019 - acc: 0.36 - ETA: 52s - loss: 2.8028 - acc: 0.35 - ETA: 54s - loss: 2.7971 - acc: 0.35 - ETA: 53s - loss: 2.7976 - acc: 0.35 - ETA: 52s - loss: 2.7899 - acc: 0.35 - ETA: 51s - loss: 2.7922 - acc: 0.35 - ETA: 50s - loss: 2.7886 - acc: 0.35 - ETA: 49s - loss: 2.7871 - acc: 0.36 - ETA: 48s - loss: 2.7835 - acc: 0.35 - ETA: 47s - loss: 2.7883 - acc: 0.35 - ETA: 48s - loss: 2.7829 - acc: 0.35 - ETA: 48s - loss: 2.7859 - acc: 0.35 - ETA: 47s - loss: 2.7856 - acc: 0.35 - ETA: 46s - loss: 2.7833 - acc: 0.36 - ETA: 45s - loss: 2.7811 - acc: 0.36 - ETA: 44s - loss: 2.7785 - acc: 0.35 - ETA: 43s - loss: 2.7769 - acc: 0.35 - ETA: 42s - loss: 2.7749 - acc: 0.35 - ETA: 43s - loss: 2.7795 - acc: 0.35 - ETA: 42s - loss: 2.7757 - acc: 0.35 - ETA: 41s - loss: 2.7734 - acc: 0.35 - ETA: 40s - loss: 2.7716 - acc: 0.35 - ETA: 39s - loss: 2.7726 - acc: 0.35 - ETA: 38s - loss: 2.7782 - acc: 0.35 - ETA: 37s - loss: 2.7777 - acc: 0.35 - ETA: 37s - loss: 2.7854 - acc: 0.35 - ETA: 37s - loss: 2.7849 - acc: 0.35 - ETA: 37s - loss: 2.7868 - acc: 0.35 - ETA: 36s - loss: 2.7886 - acc: 0.35 - ETA: 35s - loss: 2.7913 - acc: 0.35 - ETA: 34s - loss: 2.7916 - acc: 0.35 - ETA: 33s - loss: 2.7902 - acc: 0.35 - ETA: 32s - loss: 2.7880 - acc: 0.35 - ETA: 31s - loss: 2.7905 - acc: 0.35 - ETA: 32s - loss: 2.7927 - acc: 0.35 - ETA: 31s - loss: 2.7938 - acc: 0.35 - ETA: 30s - loss: 2.7967 - acc: 0.35 - ETA: 29s - loss: 2.7927 - acc: 0.35 - ETA: 28s - loss: 2.7929 - acc: 0.35 - ETA: 28s - loss: 2.7955 - acc: 0.35 - ETA: 27s - loss: 2.7938 - acc: 0.35 - ETA: 26s - loss: 2.7931 - acc: 0.35 - ETA: 26s - loss: 2.7929 - acc: 0.35 - ETA: 25s - loss: 2.7938 - acc: 0.35 - ETA: 24s - loss: 2.7964 - acc: 0.35 - ETA: 24s - loss: 2.7946 - acc: 0.35 - ETA: 23s - loss: 2.7959 - acc: 0.35 - ETA: 22s - loss: 2.7945 - acc: 0.35 - ETA: 21s - loss: 2.7929 - acc: 0.35 - ETA: 21s - loss: 2.7935 - acc: 0.36 - ETA: 20s - loss: 2.7982 - acc: 0.36 - ETA: 20s - loss: 2.7942 - acc: 0.36 - ETA: 19s - loss: 2.7933 - acc: 0.36 - ETA: 18s - loss: 2.7933 - acc: 0.36 - ETA: 18s - loss: 2.7992 - acc: 0.35 - ETA: 17s - loss: 2.7989 - acc: 0.35 - ETA: 16s - loss: 2.8002 - acc: 0.35 - ETA: 15s - loss: 2.7986 - acc: 0.35 - ETA: 15s - loss: 2.7960 - acc: 0.36 - ETA: 14s - loss: 2.7926 - acc: 0.36 - ETA: 13s - loss: 2.7945 - acc: 0.36 - ETA: 13s - loss: 2.7960 - acc: 0.36 - ETA: 12s - loss: 2.7982 - acc: 0.35 - ETA: 11s - loss: 2.7983 - acc: 0.36 - ETA: 11s - loss: 2.7990 - acc: 0.36 - ETA: 10s - loss: 2.8031 - acc: 0.36 - ETA: 9s - loss: 2.7987 - acc: 0.3616 - ETA: 9s - loss: 2.7978 - acc: 0.361 - ETA: 8s - loss: 2.8011 - acc: 0.360 - ETA: 7s - loss: 2.7976 - acc: 0.361 - ETA: 7s - loss: 2.7981 - acc: 0.361 - ETA: 6s - loss: 2.7973 - acc: 0.360 - ETA: 5s - loss: 2.7975 - acc: 0.361 - ETA: 4s - loss: 2.7941 - acc: 0.361 - ETA: 4s - loss: 2.7955 - acc: 0.360 - ETA: 3s - loss: 2.7945 - acc: 0.360 - ETA: 2s - loss: 2.7923 - acc: 0.360 - ETA: 2s - loss: 2.7926 - acc: 0.360 - ETA: 1s - loss: 2.7945 - acc: 0.360 - ETA: 0s - loss: 2.7976 - acc: 0.360 - 119s 860ms/step - loss: 2.7980 - acc: 0.3603 - val_loss: 2.8985 - val_acc: 0.4283\n",
      "\n",
      "##############################\n",
      "\n",
      "PR AUC Fish, train: 0.623\n",
      "\n",
      "PR AUC Flower, train: 0.652\n",
      "\n",
      "PR AUC Sugar, train: 0.720\n",
      "\n",
      "PR AUC Gravel, train: 0.540\n",
      "\n",
      "\n",
      "####################\n",
      " PR AUC mean, train: 0.634\n",
      "####################\n",
      "\n",
      "\n",
      "##############################\n",
      "\n",
      "PR AUC Fish, val: 0.635\n",
      "\n",
      "PR AUC Flower, val: 0.660\n",
      "\n",
      "PR AUC Sugar, val: 0.739\n",
      "\n",
      "PR AUC Gravel, val: 0.579\n",
      "\n",
      "\n",
      "####################\n",
      " PR AUC mean, val: 0.653\n",
      "####################\n",
      "\n",
      "\n",
      "####################\n",
      "Saved new checkpoint\n",
      "####################\n",
      "\n",
      "Epoch 5/10\n"
     ]
    },
    {
     "name": "stdout",
     "output_type": "stream",
     "text": [
      "138/138 [==============================] - ETA: 41s - loss: 2.5473 - acc: 0.37 - ETA: 42s - loss: 2.7223 - acc: 0.29 - ETA: 43s - loss: 2.8137 - acc: 0.34 - ETA: 43s - loss: 2.7147 - acc: 0.33 - ETA: 43s - loss: 2.7015 - acc: 0.36 - ETA: 43s - loss: 2.7050 - acc: 0.34 - ETA: 43s - loss: 2.7456 - acc: 0.33 - ETA: 43s - loss: 2.8120 - acc: 0.32 - ETA: 43s - loss: 2.7694 - acc: 0.33 - ETA: 43s - loss: 2.7642 - acc: 0.35 - ETA: 43s - loss: 2.7640 - acc: 0.34 - ETA: 1:25 - loss: 2.7392 - acc: 0.343 - ETA: 1:27 - loss: 2.7391 - acc: 0.348 - ETA: 1:23 - loss: 2.7942 - acc: 0.343 - ETA: 1:20 - loss: 2.7949 - acc: 0.352 - ETA: 1:16 - loss: 2.7803 - acc: 0.351 - ETA: 1:14 - loss: 2.7763 - acc: 0.354 - ETA: 1:11 - loss: 2.7679 - acc: 0.352 - ETA: 1:09 - loss: 2.7563 - acc: 0.353 - ETA: 1:23 - loss: 2.7624 - acc: 0.348 - ETA: 1:27 - loss: 2.7605 - acc: 0.349 - ETA: 1:24 - loss: 2.7692 - acc: 0.350 - ETA: 1:21 - loss: 2.7699 - acc: 0.351 - ETA: 1:18 - loss: 2.7776 - acc: 0.350 - ETA: 1:16 - loss: 2.7866 - acc: 0.350 - ETA: 1:14 - loss: 2.7960 - acc: 0.347 - ETA: 1:12 - loss: 2.7919 - acc: 0.350 - ETA: 1:17 - loss: 2.7977 - acc: 0.349 - ETA: 1:17 - loss: 2.7923 - acc: 0.349 - ETA: 1:15 - loss: 2.8073 - acc: 0.347 - ETA: 1:13 - loss: 2.8103 - acc: 0.346 - ETA: 1:12 - loss: 2.8043 - acc: 0.347 - ETA: 1:10 - loss: 2.8044 - acc: 0.350 - ETA: 1:08 - loss: 2.8029 - acc: 0.350 - ETA: 1:07 - loss: 2.8008 - acc: 0.351 - ETA: 1:11 - loss: 2.7958 - acc: 0.353 - ETA: 1:11 - loss: 2.7952 - acc: 0.355 - ETA: 1:09 - loss: 2.8000 - acc: 0.351 - ETA: 1:08 - loss: 2.8067 - acc: 0.349 - ETA: 1:07 - loss: 2.7963 - acc: 0.351 - ETA: 1:06 - loss: 2.8037 - acc: 0.353 - ETA: 1:04 - loss: 2.8012 - acc: 0.356 - ETA: 1:03 - loss: 2.8066 - acc: 0.356 - ETA: 1:05 - loss: 2.7992 - acc: 0.356 - ETA: 1:05 - loss: 2.7895 - acc: 0.358 - ETA: 1:04 - loss: 2.7975 - acc: 0.357 - ETA: 1:02 - loss: 2.7882 - acc: 0.357 - ETA: 1:02 - loss: 2.7914 - acc: 0.356 - ETA: 1:01 - loss: 2.7914 - acc: 0.356 - ETA: 1:00 - loss: 2.7955 - acc: 0.355 - ETA: 58s - loss: 2.7963 - acc: 0.358 - ETA: 1:00 - loss: 2.8000 - acc: 0.359 - ETA: 1:00 - loss: 2.8019 - acc: 0.356 - ETA: 58s - loss: 2.7984 - acc: 0.357 - ETA: 57s - loss: 2.7953 - acc: 0.35 - ETA: 57s - loss: 2.7976 - acc: 0.35 - ETA: 56s - loss: 2.8024 - acc: 0.35 - ETA: 55s - loss: 2.7943 - acc: 0.36 - ETA: 54s - loss: 2.7988 - acc: 0.35 - ETA: 55s - loss: 2.7989 - acc: 0.35 - ETA: 54s - loss: 2.7992 - acc: 0.35 - ETA: 53s - loss: 2.8018 - acc: 0.35 - ETA: 52s - loss: 2.8057 - acc: 0.35 - ETA: 51s - loss: 2.8062 - acc: 0.35 - ETA: 50s - loss: 2.8041 - acc: 0.35 - ETA: 50s - loss: 2.7987 - acc: 0.35 - ETA: 49s - loss: 2.7956 - acc: 0.36 - ETA: 49s - loss: 2.7988 - acc: 0.36 - ETA: 48s - loss: 2.7967 - acc: 0.36 - ETA: 47s - loss: 2.7897 - acc: 0.36 - ETA: 46s - loss: 2.7940 - acc: 0.36 - ETA: 46s - loss: 2.7953 - acc: 0.36 - ETA: 45s - loss: 2.7923 - acc: 0.36 - ETA: 44s - loss: 2.7930 - acc: 0.36 - ETA: 43s - loss: 2.7986 - acc: 0.36 - ETA: 43s - loss: 2.7971 - acc: 0.35 - ETA: 42s - loss: 2.8008 - acc: 0.35 - ETA: 41s - loss: 2.7988 - acc: 0.35 - ETA: 40s - loss: 2.8001 - acc: 0.35 - ETA: 40s - loss: 2.8008 - acc: 0.35 - ETA: 39s - loss: 2.7993 - acc: 0.35 - ETA: 39s - loss: 2.7997 - acc: 0.35 - ETA: 38s - loss: 2.8022 - acc: 0.35 - ETA: 37s - loss: 2.7973 - acc: 0.35 - ETA: 36s - loss: 2.7986 - acc: 0.36 - ETA: 35s - loss: 2.8006 - acc: 0.36 - ETA: 35s - loss: 2.8048 - acc: 0.36 - ETA: 35s - loss: 2.8031 - acc: 0.36 - ETA: 34s - loss: 2.8005 - acc: 0.36 - ETA: 33s - loss: 2.8031 - acc: 0.36 - ETA: 32s - loss: 2.8013 - acc: 0.36 - ETA: 32s - loss: 2.8022 - acc: 0.36 - ETA: 31s - loss: 2.8010 - acc: 0.36 - ETA: 30s - loss: 2.7991 - acc: 0.36 - ETA: 29s - loss: 2.7956 - acc: 0.36 - ETA: 29s - loss: 2.7932 - acc: 0.36 - ETA: 28s - loss: 2.7923 - acc: 0.36 - ETA: 28s - loss: 2.7909 - acc: 0.36 - ETA: 27s - loss: 2.7905 - acc: 0.36 - ETA: 26s - loss: 2.7912 - acc: 0.36 - ETA: 25s - loss: 2.7962 - acc: 0.36 - ETA: 24s - loss: 2.7985 - acc: 0.36 - ETA: 24s - loss: 2.7951 - acc: 0.36 - ETA: 24s - loss: 2.7919 - acc: 0.36 - ETA: 23s - loss: 2.7912 - acc: 0.36 - ETA: 22s - loss: 2.7890 - acc: 0.36 - ETA: 21s - loss: 2.7904 - acc: 0.36 - ETA: 20s - loss: 2.7888 - acc: 0.36 - ETA: 20s - loss: 2.7893 - acc: 0.36 - ETA: 19s - loss: 2.7849 - acc: 0.36 - ETA: 18s - loss: 2.7818 - acc: 0.36 - ETA: 18s - loss: 2.7812 - acc: 0.36 - ETA: 17s - loss: 2.7869 - acc: 0.36 - ETA: 16s - loss: 2.7860 - acc: 0.36 - ETA: 16s - loss: 2.7852 - acc: 0.36 - ETA: 15s - loss: 2.7859 - acc: 0.36 - ETA: 14s - loss: 2.7897 - acc: 0.35 - ETA: 13s - loss: 2.7932 - acc: 0.36 - ETA: 13s - loss: 2.7940 - acc: 0.36 - ETA: 12s - loss: 2.7941 - acc: 0.36 - ETA: 11s - loss: 2.7952 - acc: 0.35 - ETA: 11s - loss: 2.7966 - acc: 0.35 - ETA: 10s - loss: 2.7968 - acc: 0.35 - ETA: 9s - loss: 2.7952 - acc: 0.3584 - ETA: 9s - loss: 2.7956 - acc: 0.359 - ETA: 8s - loss: 2.7963 - acc: 0.359 - ETA: 7s - loss: 2.7981 - acc: 0.357 - ETA: 7s - loss: 2.7984 - acc: 0.357 - ETA: 6s - loss: 2.7993 - acc: 0.358 - ETA: 5s - loss: 2.7995 - acc: 0.357 - ETA: 4s - loss: 2.7980 - acc: 0.358 - ETA: 4s - loss: 2.7981 - acc: 0.356 - ETA: 3s - loss: 2.8003 - acc: 0.355 - ETA: 2s - loss: 2.7982 - acc: 0.356 - ETA: 2s - loss: 2.7984 - acc: 0.356 - ETA: 1s - loss: 2.7983 - acc: 0.356 - ETA: 0s - loss: 2.7969 - acc: 0.356 - 119s 860ms/step - loss: 2.7941 - acc: 0.3567 - val_loss: 2.9358 - val_acc: 0.5414\n",
      "\n",
      "##############################\n",
      "\n",
      "PR AUC Fish, train: 0.631\n",
      "\n",
      "PR AUC Flower, train: 0.670\n",
      "\n",
      "PR AUC Sugar, train: 0.716\n",
      "\n",
      "PR AUC Gravel, train: 0.538\n",
      "\n",
      "\n",
      "####################\n",
      " PR AUC mean, train: 0.639\n",
      "####################\n",
      "\n",
      "\n",
      "##############################\n",
      "\n",
      "PR AUC Fish, val: 0.638\n",
      "\n",
      "PR AUC Flower, val: 0.672\n",
      "\n",
      "PR AUC Sugar, val: 0.735\n",
      "\n",
      "PR AUC Gravel, val: 0.575\n",
      "\n",
      "\n",
      "####################\n",
      " PR AUC mean, val: 0.655\n",
      "####################\n",
      "\n",
      "\n",
      "####################\n",
      "Saved new checkpoint\n",
      "####################\n",
      "\n",
      "Epoch 6/10\n"
     ]
    },
    {
     "name": "stdout",
     "output_type": "stream",
     "text": [
      "138/138 [==============================] - ETA: 38s - loss: 2.6090 - acc: 0.34 - ETA: 40s - loss: 2.5785 - acc: 0.35 - ETA: 41s - loss: 2.6821 - acc: 0.34 - ETA: 42s - loss: 2.6167 - acc: 0.32 - ETA: 42s - loss: 2.6277 - acc: 0.32 - ETA: 43s - loss: 2.6086 - acc: 0.33 - ETA: 43s - loss: 2.5709 - acc: 0.34 - ETA: 44s - loss: 2.5812 - acc: 0.34 - ETA: 44s - loss: 2.6073 - acc: 0.34 - ETA: 44s - loss: 2.6145 - acc: 0.36 - ETA: 44s - loss: 2.6221 - acc: 0.37 - ETA: 1:21 - loss: 2.6564 - acc: 0.380 - ETA: 1:23 - loss: 2.6631 - acc: 0.379 - ETA: 1:19 - loss: 2.6612 - acc: 0.377 - ETA: 1:16 - loss: 2.6808 - acc: 0.381 - ETA: 1:13 - loss: 2.6957 - acc: 0.377 - ETA: 1:10 - loss: 2.6915 - acc: 0.380 - ETA: 1:08 - loss: 2.6963 - acc: 0.376 - ETA: 1:05 - loss: 2.7140 - acc: 0.378 - ETA: 1:17 - loss: 2.7145 - acc: 0.381 - ETA: 1:18 - loss: 2.7348 - acc: 0.376 - ETA: 1:16 - loss: 2.7464 - acc: 0.377 - ETA: 1:14 - loss: 2.7443 - acc: 0.380 - ETA: 1:12 - loss: 2.7650 - acc: 0.377 - ETA: 1:09 - loss: 2.7605 - acc: 0.378 - ETA: 1:07 - loss: 2.7440 - acc: 0.383 - ETA: 1:06 - loss: 2.7458 - acc: 0.384 - ETA: 1:13 - loss: 2.7402 - acc: 0.383 - ETA: 1:12 - loss: 2.7469 - acc: 0.385 - ETA: 1:11 - loss: 2.7528 - acc: 0.385 - ETA: 1:09 - loss: 2.7435 - acc: 0.377 - ETA: 1:07 - loss: 2.7412 - acc: 0.380 - ETA: 1:05 - loss: 2.7337 - acc: 0.381 - ETA: 1:04 - loss: 2.7431 - acc: 0.377 - ETA: 1:03 - loss: 2.7488 - acc: 0.375 - ETA: 1:08 - loss: 2.7444 - acc: 0.374 - ETA: 1:07 - loss: 2.7497 - acc: 0.371 - ETA: 1:06 - loss: 2.7510 - acc: 0.369 - ETA: 1:05 - loss: 2.7552 - acc: 0.366 - ETA: 1:04 - loss: 2.7538 - acc: 0.365 - ETA: 1:02 - loss: 2.7568 - acc: 0.365 - ETA: 1:01 - loss: 2.7550 - acc: 0.369 - ETA: 1:00 - loss: 2.7563 - acc: 0.372 - ETA: 1:02 - loss: 2.7455 - acc: 0.372 - ETA: 1:02 - loss: 2.7463 - acc: 0.374 - ETA: 1:01 - loss: 2.7518 - acc: 0.372 - ETA: 1:00 - loss: 2.7490 - acc: 0.373 - ETA: 59s - loss: 2.7450 - acc: 0.371 - ETA: 58s - loss: 2.7379 - acc: 0.37 - ETA: 57s - loss: 2.7389 - acc: 0.37 - ETA: 56s - loss: 2.7435 - acc: 0.36 - ETA: 57s - loss: 2.7463 - acc: 0.36 - ETA: 57s - loss: 2.7492 - acc: 0.36 - ETA: 56s - loss: 2.7522 - acc: 0.36 - ETA: 55s - loss: 2.7532 - acc: 0.36 - ETA: 54s - loss: 2.7612 - acc: 0.36 - ETA: 53s - loss: 2.7655 - acc: 0.36 - ETA: 52s - loss: 2.7631 - acc: 0.36 - ETA: 51s - loss: 2.7662 - acc: 0.36 - ETA: 52s - loss: 2.7704 - acc: 0.36 - ETA: 51s - loss: 2.7673 - acc: 0.36 - ETA: 50s - loss: 2.7712 - acc: 0.37 - ETA: 49s - loss: 2.7788 - acc: 0.36 - ETA: 49s - loss: 2.7833 - acc: 0.36 - ETA: 48s - loss: 2.7846 - acc: 0.36 - ETA: 47s - loss: 2.7824 - acc: 0.36 - ETA: 47s - loss: 2.7808 - acc: 0.36 - ETA: 46s - loss: 2.7827 - acc: 0.36 - ETA: 46s - loss: 2.7790 - acc: 0.36 - ETA: 45s - loss: 2.7804 - acc: 0.36 - ETA: 44s - loss: 2.7857 - acc: 0.36 - ETA: 44s - loss: 2.7824 - acc: 0.36 - ETA: 43s - loss: 2.7800 - acc: 0.36 - ETA: 42s - loss: 2.7779 - acc: 0.36 - ETA: 42s - loss: 2.7793 - acc: 0.36 - ETA: 41s - loss: 2.7834 - acc: 0.36 - ETA: 40s - loss: 2.7834 - acc: 0.36 - ETA: 40s - loss: 2.7933 - acc: 0.36 - ETA: 39s - loss: 2.7928 - acc: 0.36 - ETA: 39s - loss: 2.7937 - acc: 0.36 - ETA: 38s - loss: 2.7934 - acc: 0.36 - ETA: 37s - loss: 2.7877 - acc: 0.37 - ETA: 36s - loss: 2.7909 - acc: 0.36 - ETA: 36s - loss: 2.7887 - acc: 0.36 - ETA: 35s - loss: 2.7861 - acc: 0.36 - ETA: 34s - loss: 2.7894 - acc: 0.36 - ETA: 34s - loss: 2.7897 - acc: 0.36 - ETA: 34s - loss: 2.7851 - acc: 0.36 - ETA: 33s - loss: 2.7831 - acc: 0.36 - ETA: 32s - loss: 2.7816 - acc: 0.36 - ETA: 31s - loss: 2.7834 - acc: 0.36 - ETA: 30s - loss: 2.7890 - acc: 0.36 - ETA: 30s - loss: 2.7905 - acc: 0.36 - ETA: 29s - loss: 2.7903 - acc: 0.36 - ETA: 28s - loss: 2.7906 - acc: 0.36 - ETA: 28s - loss: 2.7892 - acc: 0.36 - ETA: 27s - loss: 2.7893 - acc: 0.36 - ETA: 27s - loss: 2.7938 - acc: 0.36 - ETA: 26s - loss: 2.7937 - acc: 0.36 - ETA: 25s - loss: 2.7959 - acc: 0.36 - ETA: 24s - loss: 2.7939 - acc: 0.36 - ETA: 24s - loss: 2.7969 - acc: 0.36 - ETA: 23s - loss: 2.7992 - acc: 0.36 - ETA: 23s - loss: 2.7999 - acc: 0.36 - ETA: 22s - loss: 2.8010 - acc: 0.36 - ETA: 21s - loss: 2.7987 - acc: 0.36 - ETA: 21s - loss: 2.7953 - acc: 0.36 - ETA: 20s - loss: 2.7945 - acc: 0.36 - ETA: 19s - loss: 2.7931 - acc: 0.36 - ETA: 18s - loss: 2.7947 - acc: 0.36 - ETA: 18s - loss: 2.7958 - acc: 0.36 - ETA: 17s - loss: 2.7940 - acc: 0.36 - ETA: 17s - loss: 2.7937 - acc: 0.36 - ETA: 16s - loss: 2.7972 - acc: 0.36 - ETA: 15s - loss: 2.7959 - acc: 0.36 - ETA: 14s - loss: 2.7965 - acc: 0.36 - ETA: 14s - loss: 2.7959 - acc: 0.36 - ETA: 13s - loss: 2.7973 - acc: 0.36 - ETA: 12s - loss: 2.7960 - acc: 0.36 - ETA: 12s - loss: 2.7925 - acc: 0.36 - ETA: 11s - loss: 2.7941 - acc: 0.36 - ETA: 10s - loss: 2.7942 - acc: 0.36 - ETA: 10s - loss: 2.7927 - acc: 0.36 - ETA: 9s - loss: 2.7982 - acc: 0.3684 - ETA: 8s - loss: 2.7984 - acc: 0.367 - ETA: 8s - loss: 2.7958 - acc: 0.367 - ETA: 7s - loss: 2.7917 - acc: 0.368 - ETA: 6s - loss: 2.7935 - acc: 0.367 - ETA: 6s - loss: 2.7943 - acc: 0.368 - ETA: 5s - loss: 2.7909 - acc: 0.368 - ETA: 4s - loss: 2.7870 - acc: 0.369 - ETA: 4s - loss: 2.7852 - acc: 0.369 - ETA: 3s - loss: 2.7836 - acc: 0.369 - ETA: 2s - loss: 2.7836 - acc: 0.369 - ETA: 2s - loss: 2.7857 - acc: 0.368 - ETA: 1s - loss: 2.7844 - acc: 0.367 - ETA: 0s - loss: 2.7841 - acc: 0.367 - 117s 847ms/step - loss: 2.7840 - acc: 0.3673 - val_loss: 2.9230 - val_acc: 0.5276\n",
      "\n",
      "##############################\n",
      "\n",
      "PR AUC Fish, train: 0.629\n",
      "\n",
      "PR AUC Flower, train: 0.676\n",
      "\n",
      "PR AUC Sugar, train: 0.726\n",
      "\n",
      "PR AUC Gravel, train: 0.531\n",
      "\n",
      "\n",
      "####################\n",
      " PR AUC mean, train: 0.640\n",
      "####################\n",
      "\n",
      "\n",
      "##############################\n",
      "\n",
      "PR AUC Fish, val: 0.638\n",
      "\n",
      "PR AUC Flower, val: 0.675\n",
      "\n",
      "PR AUC Sugar, val: 0.738\n",
      "\n",
      "PR AUC Gravel, val: 0.560\n",
      "\n",
      "\n",
      "####################\n",
      " PR AUC mean, val: 0.653\n",
      "####################\n",
      "\n",
      "Epoch 7/10\n"
     ]
    },
    {
     "name": "stdout",
     "output_type": "stream",
     "text": [
      "138/138 [==============================] - ETA: 42s - loss: 2.7293 - acc: 0.25 - ETA: 42s - loss: 2.8802 - acc: 0.28 - ETA: 42s - loss: 2.7325 - acc: 0.33 - ETA: 43s - loss: 2.7700 - acc: 0.35 - ETA: 43s - loss: 2.8303 - acc: 0.36 - ETA: 43s - loss: 2.8127 - acc: 0.35 - ETA: 44s - loss: 2.8310 - acc: 0.33 - ETA: 44s - loss: 2.9030 - acc: 0.34 - ETA: 44s - loss: 2.8662 - acc: 0.34 - ETA: 43s - loss: 2.8309 - acc: 0.35 - ETA: 43s - loss: 2.8868 - acc: 0.36 - ETA: 1:39 - loss: 2.8620 - acc: 0.364 - ETA: 1:38 - loss: 2.8731 - acc: 0.358 - ETA: 1:33 - loss: 2.8350 - acc: 0.361 - ETA: 1:29 - loss: 2.8269 - acc: 0.358 - ETA: 1:25 - loss: 2.8210 - acc: 0.357 - ETA: 1:22 - loss: 2.8173 - acc: 0.360 - ETA: 1:18 - loss: 2.8060 - acc: 0.362 - ETA: 1:16 - loss: 2.7907 - acc: 0.370 - ETA: 1:28 - loss: 2.7961 - acc: 0.364 - ETA: 1:29 - loss: 2.7799 - acc: 0.363 - ETA: 1:25 - loss: 2.7919 - acc: 0.355 - ETA: 1:22 - loss: 2.7991 - acc: 0.360 - ETA: 1:20 - loss: 2.8035 - acc: 0.355 - ETA: 1:17 - loss: 2.8068 - acc: 0.352 - ETA: 1:15 - loss: 2.8090 - acc: 0.349 - ETA: 1:13 - loss: 2.8078 - acc: 0.350 - ETA: 1:19 - loss: 2.8147 - acc: 0.352 - ETA: 1:19 - loss: 2.8154 - acc: 0.350 - ETA: 1:19 - loss: 2.8223 - acc: 0.347 - ETA: 1:17 - loss: 2.8100 - acc: 0.347 - ETA: 1:15 - loss: 2.8096 - acc: 0.349 - ETA: 1:13 - loss: 2.8185 - acc: 0.350 - ETA: 1:11 - loss: 2.8107 - acc: 0.352 - ETA: 1:09 - loss: 2.8182 - acc: 0.356 - ETA: 1:12 - loss: 2.8115 - acc: 0.358 - ETA: 1:12 - loss: 2.8047 - acc: 0.363 - ETA: 1:10 - loss: 2.8034 - acc: 0.362 - ETA: 1:09 - loss: 2.8131 - acc: 0.363 - ETA: 1:08 - loss: 2.8160 - acc: 0.364 - ETA: 1:06 - loss: 2.8036 - acc: 0.366 - ETA: 1:05 - loss: 2.8047 - acc: 0.364 - ETA: 1:03 - loss: 2.8072 - acc: 0.362 - ETA: 1:06 - loss: 2.8034 - acc: 0.363 - ETA: 1:06 - loss: 2.7943 - acc: 0.364 - ETA: 1:04 - loss: 2.7848 - acc: 0.364 - ETA: 1:03 - loss: 2.7812 - acc: 0.365 - ETA: 1:02 - loss: 2.7851 - acc: 0.365 - ETA: 1:01 - loss: 2.7854 - acc: 0.366 - ETA: 59s - loss: 2.7895 - acc: 0.365 - ETA: 59s - loss: 2.7836 - acc: 0.36 - ETA: 1:00 - loss: 2.7939 - acc: 0.366 - ETA: 1:00 - loss: 2.7982 - acc: 0.367 - ETA: 59s - loss: 2.7974 - acc: 0.367 - ETA: 57s - loss: 2.8005 - acc: 0.36 - ETA: 57s - loss: 2.7956 - acc: 0.36 - ETA: 56s - loss: 2.7967 - acc: 0.36 - ETA: 55s - loss: 2.7951 - acc: 0.36 - ETA: 54s - loss: 2.7998 - acc: 0.36 - ETA: 54s - loss: 2.7975 - acc: 0.36 - ETA: 54s - loss: 2.7943 - acc: 0.36 - ETA: 52s - loss: 2.7924 - acc: 0.36 - ETA: 51s - loss: 2.7919 - acc: 0.36 - ETA: 51s - loss: 2.7922 - acc: 0.37 - ETA: 50s - loss: 2.7941 - acc: 0.36 - ETA: 49s - loss: 2.7954 - acc: 0.37 - ETA: 48s - loss: 2.7916 - acc: 0.37 - ETA: 48s - loss: 2.7882 - acc: 0.37 - ETA: 48s - loss: 2.7854 - acc: 0.37 - ETA: 47s - loss: 2.7844 - acc: 0.37 - ETA: 46s - loss: 2.7853 - acc: 0.37 - ETA: 46s - loss: 2.7842 - acc: 0.37 - ETA: 45s - loss: 2.7879 - acc: 0.37 - ETA: 44s - loss: 2.7900 - acc: 0.37 - ETA: 43s - loss: 2.7923 - acc: 0.37 - ETA: 42s - loss: 2.7933 - acc: 0.37 - ETA: 42s - loss: 2.7994 - acc: 0.37 - ETA: 41s - loss: 2.7996 - acc: 0.37 - ETA: 40s - loss: 2.8035 - acc: 0.36 - ETA: 40s - loss: 2.8010 - acc: 0.36 - ETA: 39s - loss: 2.8017 - acc: 0.36 - ETA: 38s - loss: 2.8006 - acc: 0.36 - ETA: 38s - loss: 2.7990 - acc: 0.36 - ETA: 37s - loss: 2.7962 - acc: 0.36 - ETA: 36s - loss: 2.7949 - acc: 0.36 - ETA: 35s - loss: 2.7909 - acc: 0.36 - ETA: 34s - loss: 2.7854 - acc: 0.36 - ETA: 35s - loss: 2.7863 - acc: 0.36 - ETA: 34s - loss: 2.7830 - acc: 0.36 - ETA: 33s - loss: 2.7786 - acc: 0.36 - ETA: 32s - loss: 2.7772 - acc: 0.36 - ETA: 31s - loss: 2.7744 - acc: 0.36 - ETA: 31s - loss: 2.7738 - acc: 0.36 - ETA: 30s - loss: 2.7731 - acc: 0.36 - ETA: 29s - loss: 2.7752 - acc: 0.36 - ETA: 29s - loss: 2.7761 - acc: 0.36 - ETA: 28s - loss: 2.7779 - acc: 0.36 - ETA: 27s - loss: 2.7729 - acc: 0.36 - ETA: 27s - loss: 2.7703 - acc: 0.36 - ETA: 26s - loss: 2.7724 - acc: 0.36 - ETA: 25s - loss: 2.7720 - acc: 0.36 - ETA: 24s - loss: 2.7774 - acc: 0.36 - ETA: 23s - loss: 2.7779 - acc: 0.36 - ETA: 23s - loss: 2.7791 - acc: 0.36 - ETA: 23s - loss: 2.7831 - acc: 0.36 - ETA: 22s - loss: 2.7837 - acc: 0.36 - ETA: 21s - loss: 2.7857 - acc: 0.36 - ETA: 20s - loss: 2.7840 - acc: 0.36 - ETA: 19s - loss: 2.7847 - acc: 0.36 - ETA: 19s - loss: 2.7827 - acc: 0.36 - ETA: 18s - loss: 2.7834 - acc: 0.36 - ETA: 18s - loss: 2.7867 - acc: 0.36 - ETA: 17s - loss: 2.7877 - acc: 0.36 - ETA: 16s - loss: 2.7884 - acc: 0.36 - ETA: 15s - loss: 2.7898 - acc: 0.36 - ETA: 15s - loss: 2.7876 - acc: 0.36 - ETA: 14s - loss: 2.7868 - acc: 0.36 - ETA: 13s - loss: 2.7882 - acc: 0.36 - ETA: 12s - loss: 2.7871 - acc: 0.36 - ETA: 12s - loss: 2.7874 - acc: 0.36 - ETA: 11s - loss: 2.7864 - acc: 0.36 - ETA: 11s - loss: 2.7861 - acc: 0.36 - ETA: 10s - loss: 2.7842 - acc: 0.36 - ETA: 9s - loss: 2.7829 - acc: 0.3627 - ETA: 8s - loss: 2.7827 - acc: 0.363 - ETA: 8s - loss: 2.7807 - acc: 0.364 - ETA: 7s - loss: 2.7808 - acc: 0.363 - ETA: 7s - loss: 2.7790 - acc: 0.362 - ETA: 6s - loss: 2.7758 - acc: 0.362 - ETA: 5s - loss: 2.7786 - acc: 0.361 - ETA: 4s - loss: 2.7802 - acc: 0.360 - ETA: 4s - loss: 2.7789 - acc: 0.360 - ETA: 3s - loss: 2.7813 - acc: 0.359 - ETA: 2s - loss: 2.7829 - acc: 0.359 - ETA: 2s - loss: 2.7815 - acc: 0.358 - ETA: 1s - loss: 2.7793 - acc: 0.359 - ETA: 0s - loss: 2.7810 - acc: 0.359 - 118s 855ms/step - loss: 2.7813 - acc: 0.3605 - val_loss: 2.9151 - val_acc: 0.5230\n",
      "\n",
      "##############################\n",
      "\n",
      "PR AUC Fish, train: 0.620\n",
      "\n",
      "PR AUC Flower, train: 0.673\n",
      "\n",
      "PR AUC Sugar, train: 0.728\n",
      "\n",
      "PR AUC Gravel, train: 0.529\n",
      "\n",
      "\n",
      "####################\n",
      " PR AUC mean, train: 0.637\n",
      "####################\n",
      "\n",
      "\n",
      "##############################\n",
      "\n",
      "PR AUC Fish, val: 0.630\n",
      "\n",
      "PR AUC Flower, val: 0.674\n",
      "\n",
      "PR AUC Sugar, val: 0.736\n",
      "\n",
      "PR AUC Gravel, val: 0.552\n",
      "\n",
      "\n",
      "####################\n",
      " PR AUC mean, val: 0.648\n",
      "####################\n",
      "\n",
      "Epoch 8/10\n"
     ]
    },
    {
     "name": "stdout",
     "output_type": "stream",
     "text": [
      "138/138 [==============================] - ETA: 49s - loss: 2.7643 - acc: 0.34 - ETA: 46s - loss: 2.6063 - acc: 0.42 - ETA: 46s - loss: 2.6510 - acc: 0.38 - ETA: 46s - loss: 2.7843 - acc: 0.37 - ETA: 45s - loss: 2.8075 - acc: 0.35 - ETA: 46s - loss: 2.8444 - acc: 0.36 - ETA: 46s - loss: 2.8334 - acc: 0.38 - ETA: 46s - loss: 2.8426 - acc: 0.38 - ETA: 48s - loss: 2.8107 - acc: 0.39 - ETA: 48s - loss: 2.8177 - acc: 0.38 - ETA: 48s - loss: 2.8156 - acc: 0.38 - ETA: 1:38 - loss: 2.8273 - acc: 0.380 - ETA: 1:39 - loss: 2.8539 - acc: 0.379 - ETA: 1:34 - loss: 2.8153 - acc: 0.388 - ETA: 1:30 - loss: 2.8257 - acc: 0.393 - ETA: 1:26 - loss: 2.8068 - acc: 0.394 - ETA: 1:22 - loss: 2.7798 - acc: 0.402 - ETA: 1:19 - loss: 2.7832 - acc: 0.397 - ETA: 1:16 - loss: 2.7952 - acc: 0.396 - ETA: 1:26 - loss: 2.8046 - acc: 0.393 - ETA: 1:26 - loss: 2.7980 - acc: 0.397 - ETA: 1:25 - loss: 2.8016 - acc: 0.400 - ETA: 1:22 - loss: 2.7993 - acc: 0.399 - ETA: 1:20 - loss: 2.8062 - acc: 0.399 - ETA: 1:17 - loss: 2.7865 - acc: 0.402 - ETA: 1:15 - loss: 2.7876 - acc: 0.401 - ETA: 1:13 - loss: 2.7776 - acc: 0.401 - ETA: 1:18 - loss: 2.7710 - acc: 0.401 - ETA: 1:18 - loss: 2.7814 - acc: 0.401 - ETA: 1:17 - loss: 2.7755 - acc: 0.401 - ETA: 1:15 - loss: 2.7608 - acc: 0.401 - ETA: 1:13 - loss: 2.7541 - acc: 0.404 - ETA: 1:11 - loss: 2.7537 - acc: 0.404 - ETA: 1:10 - loss: 2.7546 - acc: 0.402 - ETA: 1:08 - loss: 2.7488 - acc: 0.400 - ETA: 1:12 - loss: 2.7609 - acc: 0.396 - ETA: 1:11 - loss: 2.7605 - acc: 0.400 - ETA: 1:11 - loss: 2.7655 - acc: 0.397 - ETA: 1:09 - loss: 2.7664 - acc: 0.398 - ETA: 1:07 - loss: 2.7624 - acc: 0.397 - ETA: 1:06 - loss: 2.7721 - acc: 0.394 - ETA: 1:05 - loss: 2.7789 - acc: 0.392 - ETA: 1:04 - loss: 2.7774 - acc: 0.390 - ETA: 1:06 - loss: 2.7773 - acc: 0.388 - ETA: 1:05 - loss: 2.7746 - acc: 0.388 - ETA: 1:05 - loss: 2.7728 - acc: 0.385 - ETA: 1:03 - loss: 2.7691 - acc: 0.383 - ETA: 1:02 - loss: 2.7737 - acc: 0.382 - ETA: 1:01 - loss: 2.7726 - acc: 0.382 - ETA: 1:00 - loss: 2.7751 - acc: 0.381 - ETA: 59s - loss: 2.7719 - acc: 0.384 - ETA: 1:00 - loss: 2.7763 - acc: 0.385 - ETA: 59s - loss: 2.7679 - acc: 0.388 - ETA: 59s - loss: 2.7681 - acc: 0.38 - ETA: 58s - loss: 2.7663 - acc: 0.38 - ETA: 57s - loss: 2.7788 - acc: 0.38 - ETA: 56s - loss: 2.7806 - acc: 0.38 - ETA: 55s - loss: 2.7767 - acc: 0.38 - ETA: 54s - loss: 2.7700 - acc: 0.38 - ETA: 54s - loss: 2.7712 - acc: 0.38 - ETA: 54s - loss: 2.7760 - acc: 0.38 - ETA: 53s - loss: 2.7802 - acc: 0.38 - ETA: 52s - loss: 2.7859 - acc: 0.38 - ETA: 51s - loss: 2.7866 - acc: 0.38 - ETA: 50s - loss: 2.7943 - acc: 0.37 - ETA: 49s - loss: 2.7917 - acc: 0.38 - ETA: 48s - loss: 2.7873 - acc: 0.38 - ETA: 48s - loss: 2.7832 - acc: 0.38 - ETA: 48s - loss: 2.7890 - acc: 0.38 - ETA: 47s - loss: 2.7889 - acc: 0.38 - ETA: 46s - loss: 2.7844 - acc: 0.37 - ETA: 46s - loss: 2.7822 - acc: 0.37 - ETA: 45s - loss: 2.7864 - acc: 0.37 - ETA: 44s - loss: 2.7851 - acc: 0.37 - ETA: 43s - loss: 2.7876 - acc: 0.37 - ETA: 42s - loss: 2.7894 - acc: 0.37 - ETA: 42s - loss: 2.7863 - acc: 0.37 - ETA: 41s - loss: 2.7850 - acc: 0.37 - ETA: 40s - loss: 2.7866 - acc: 0.37 - ETA: 40s - loss: 2.7824 - acc: 0.37 - ETA: 39s - loss: 2.7799 - acc: 0.37 - ETA: 38s - loss: 2.7830 - acc: 0.37 - ETA: 38s - loss: 2.7828 - acc: 0.37 - ETA: 37s - loss: 2.7886 - acc: 0.37 - ETA: 36s - loss: 2.7907 - acc: 0.37 - ETA: 36s - loss: 2.7888 - acc: 0.37 - ETA: 35s - loss: 2.7906 - acc: 0.37 - ETA: 35s - loss: 2.7904 - acc: 0.37 - ETA: 34s - loss: 2.7887 - acc: 0.37 - ETA: 33s - loss: 2.7905 - acc: 0.37 - ETA: 32s - loss: 2.7904 - acc: 0.37 - ETA: 31s - loss: 2.7907 - acc: 0.37 - ETA: 31s - loss: 2.7931 - acc: 0.37 - ETA: 30s - loss: 2.7942 - acc: 0.37 - ETA: 29s - loss: 2.7914 - acc: 0.37 - ETA: 29s - loss: 2.7905 - acc: 0.37 - ETA: 28s - loss: 2.7910 - acc: 0.37 - ETA: 28s - loss: 2.7903 - acc: 0.37 - ETA: 27s - loss: 2.7926 - acc: 0.37 - ETA: 26s - loss: 2.7903 - acc: 0.37 - ETA: 25s - loss: 2.7879 - acc: 0.37 - ETA: 24s - loss: 2.7863 - acc: 0.37 - ETA: 24s - loss: 2.7825 - acc: 0.37 - ETA: 24s - loss: 2.7830 - acc: 0.37 - ETA: 23s - loss: 2.7839 - acc: 0.37 - ETA: 22s - loss: 2.7821 - acc: 0.37 - ETA: 21s - loss: 2.7786 - acc: 0.37 - ETA: 20s - loss: 2.7792 - acc: 0.37 - ETA: 20s - loss: 2.7782 - acc: 0.37 - ETA: 19s - loss: 2.7768 - acc: 0.37 - ETA: 18s - loss: 2.7784 - acc: 0.37 - ETA: 18s - loss: 2.7792 - acc: 0.37 - ETA: 17s - loss: 2.7809 - acc: 0.37 - ETA: 16s - loss: 2.7819 - acc: 0.37 - ETA: 16s - loss: 2.7828 - acc: 0.37 - ETA: 15s - loss: 2.7888 - acc: 0.37 - ETA: 14s - loss: 2.7871 - acc: 0.37 - ETA: 13s - loss: 2.7887 - acc: 0.37 - ETA: 13s - loss: 2.7844 - acc: 0.37 - ETA: 12s - loss: 2.7864 - acc: 0.37 - ETA: 11s - loss: 2.7856 - acc: 0.37 - ETA: 11s - loss: 2.7822 - acc: 0.37 - ETA: 10s - loss: 2.7800 - acc: 0.37 - ETA: 9s - loss: 2.7805 - acc: 0.3795 - ETA: 9s - loss: 2.7791 - acc: 0.379 - ETA: 8s - loss: 2.7781 - acc: 0.378 - ETA: 7s - loss: 2.7793 - acc: 0.378 - ETA: 7s - loss: 2.7793 - acc: 0.378 - ETA: 6s - loss: 2.7799 - acc: 0.376 - ETA: 5s - loss: 2.7814 - acc: 0.376 - ETA: 4s - loss: 2.7828 - acc: 0.376 - ETA: 4s - loss: 2.7815 - acc: 0.376 - ETA: 3s - loss: 2.7819 - acc: 0.376 - ETA: 2s - loss: 2.7840 - acc: 0.375 - ETA: 2s - loss: 2.7821 - acc: 0.375 - ETA: 1s - loss: 2.7789 - acc: 0.376 - ETA: 0s - loss: 2.7796 - acc: 0.376 - 119s 861ms/step - loss: 2.7801 - acc: 0.3766 - val_loss: 2.9200 - val_acc: 0.5184\n",
      "\n",
      "##############################\n",
      "\n",
      "PR AUC Fish, train: 0.626\n",
      "\n",
      "PR AUC Flower, train: 0.680\n",
      "\n",
      "PR AUC Sugar, train: 0.734\n",
      "\n",
      "PR AUC Gravel, train: 0.545\n",
      "\n",
      "\n",
      "####################\n",
      " PR AUC mean, train: 0.646\n",
      "####################\n",
      "\n",
      "\n",
      "##############################\n",
      "\n",
      "PR AUC Fish, val: 0.635\n",
      "\n",
      "PR AUC Flower, val: 0.677\n",
      "\n",
      "PR AUC Sugar, val: 0.739\n",
      "\n",
      "PR AUC Gravel, val: 0.563\n",
      "\n",
      "\n",
      "####################\n",
      " PR AUC mean, val: 0.653\n",
      "####################\n",
      "\n",
      "\n",
      "####################\n",
      "Reduced learning rate to 0.0005000000237487257.\n",
      "####################\n",
      "\n",
      "Epoch 9/10\n"
     ]
    },
    {
     "name": "stdout",
     "output_type": "stream",
     "text": [
      "138/138 [==============================] - ETA: 42s - loss: 2.9585 - acc: 0.18 - ETA: 42s - loss: 2.8136 - acc: 0.25 - ETA: 42s - loss: 2.7358 - acc: 0.31 - ETA: 43s - loss: 2.8183 - acc: 0.32 - ETA: 43s - loss: 2.8436 - acc: 0.31 - ETA: 44s - loss: 2.7900 - acc: 0.35 - ETA: 46s - loss: 2.7750 - acc: 0.35 - ETA: 45s - loss: 2.7679 - acc: 0.34 - ETA: 45s - loss: 2.7456 - acc: 0.37 - ETA: 44s - loss: 2.7402 - acc: 0.37 - ETA: 44s - loss: 2.7407 - acc: 0.37 - ETA: 1:26 - loss: 2.7491 - acc: 0.372 - ETA: 1:29 - loss: 2.7376 - acc: 0.370 - ETA: 1:26 - loss: 2.7516 - acc: 0.357 - ETA: 1:22 - loss: 2.7262 - acc: 0.366 - ETA: 1:19 - loss: 2.7300 - acc: 0.380 - ETA: 1:16 - loss: 2.7398 - acc: 0.384 - ETA: 1:13 - loss: 2.7592 - acc: 0.383 - ETA: 1:11 - loss: 2.7781 - acc: 0.379 - ETA: 1:19 - loss: 2.7856 - acc: 0.382 - ETA: 1:19 - loss: 2.7644 - acc: 0.389 - ETA: 1:19 - loss: 2.7692 - acc: 0.386 - ETA: 1:16 - loss: 2.7694 - acc: 0.380 - ETA: 1:14 - loss: 2.7730 - acc: 0.377 - ETA: 1:12 - loss: 2.7667 - acc: 0.375 - ETA: 1:10 - loss: 2.7617 - acc: 0.376 - ETA: 1:08 - loss: 2.7430 - acc: 0.383 - ETA: 1:13 - loss: 2.7330 - acc: 0.379 - ETA: 1:14 - loss: 2.7263 - acc: 0.377 - ETA: 1:12 - loss: 2.7321 - acc: 0.380 - ETA: 1:11 - loss: 2.7295 - acc: 0.377 - ETA: 1:10 - loss: 2.7363 - acc: 0.376 - ETA: 1:09 - loss: 2.7301 - acc: 0.381 - ETA: 1:07 - loss: 2.7300 - acc: 0.382 - ETA: 1:05 - loss: 2.7380 - acc: 0.380 - ETA: 1:08 - loss: 2.7372 - acc: 0.379 - ETA: 1:08 - loss: 2.7334 - acc: 0.380 - ETA: 1:07 - loss: 2.7365 - acc: 0.379 - ETA: 1:07 - loss: 2.7322 - acc: 0.381 - ETA: 1:05 - loss: 2.7378 - acc: 0.380 - ETA: 1:04 - loss: 2.7293 - acc: 0.381 - ETA: 1:02 - loss: 2.7337 - acc: 0.378 - ETA: 1:01 - loss: 2.7438 - acc: 0.374 - ETA: 1:02 - loss: 2.7496 - acc: 0.375 - ETA: 1:03 - loss: 2.7468 - acc: 0.373 - ETA: 1:01 - loss: 2.7537 - acc: 0.376 - ETA: 1:01 - loss: 2.7587 - acc: 0.373 - ETA: 1:00 - loss: 2.7487 - acc: 0.375 - ETA: 59s - loss: 2.7526 - acc: 0.372 - ETA: 58s - loss: 2.7522 - acc: 0.37 - ETA: 57s - loss: 2.7567 - acc: 0.36 - ETA: 57s - loss: 2.7534 - acc: 0.36 - ETA: 57s - loss: 2.7613 - acc: 0.36 - ETA: 56s - loss: 2.7604 - acc: 0.36 - ETA: 56s - loss: 2.7576 - acc: 0.36 - ETA: 55s - loss: 2.7561 - acc: 0.36 - ETA: 55s - loss: 2.7496 - acc: 0.36 - ETA: 53s - loss: 2.7539 - acc: 0.36 - ETA: 52s - loss: 2.7619 - acc: 0.36 - ETA: 52s - loss: 2.7633 - acc: 0.36 - ETA: 52s - loss: 2.7718 - acc: 0.36 - ETA: 51s - loss: 2.7695 - acc: 0.36 - ETA: 50s - loss: 2.7668 - acc: 0.36 - ETA: 50s - loss: 2.7773 - acc: 0.36 - ETA: 49s - loss: 2.7792 - acc: 0.36 - ETA: 48s - loss: 2.7830 - acc: 0.36 - ETA: 47s - loss: 2.7816 - acc: 0.36 - ETA: 47s - loss: 2.7814 - acc: 0.36 - ETA: 46s - loss: 2.7769 - acc: 0.36 - ETA: 45s - loss: 2.7733 - acc: 0.36 - ETA: 45s - loss: 2.7770 - acc: 0.36 - ETA: 45s - loss: 2.7766 - acc: 0.36 - ETA: 44s - loss: 2.7763 - acc: 0.36 - ETA: 43s - loss: 2.7775 - acc: 0.36 - ETA: 42s - loss: 2.7744 - acc: 0.36 - ETA: 41s - loss: 2.7777 - acc: 0.36 - ETA: 41s - loss: 2.7747 - acc: 0.36 - ETA: 40s - loss: 2.7726 - acc: 0.36 - ETA: 39s - loss: 2.7696 - acc: 0.36 - ETA: 40s - loss: 2.7669 - acc: 0.36 - ETA: 39s - loss: 2.7672 - acc: 0.36 - ETA: 38s - loss: 2.7701 - acc: 0.37 - ETA: 37s - loss: 2.7646 - acc: 0.37 - ETA: 36s - loss: 2.7662 - acc: 0.37 - ETA: 35s - loss: 2.7654 - acc: 0.36 - ETA: 34s - loss: 2.7674 - acc: 0.36 - ETA: 34s - loss: 2.7683 - acc: 0.36 - ETA: 34s - loss: 2.7706 - acc: 0.36 - ETA: 33s - loss: 2.7709 - acc: 0.36 - ETA: 32s - loss: 2.7711 - acc: 0.36 - ETA: 32s - loss: 2.7711 - acc: 0.36 - ETA: 31s - loss: 2.7668 - acc: 0.36 - ETA: 30s - loss: 2.7743 - acc: 0.36 - ETA: 29s - loss: 2.7758 - acc: 0.36 - ETA: 28s - loss: 2.7735 - acc: 0.36 - ETA: 29s - loss: 2.7750 - acc: 0.36 - ETA: 28s - loss: 2.7764 - acc: 0.36 - ETA: 27s - loss: 2.7754 - acc: 0.36 - ETA: 26s - loss: 2.7742 - acc: 0.37 - ETA: 25s - loss: 2.7753 - acc: 0.37 - ETA: 25s - loss: 2.7747 - acc: 0.37 - ETA: 24s - loss: 2.7759 - acc: 0.37 - ETA: 23s - loss: 2.7773 - acc: 0.37 - ETA: 23s - loss: 2.7755 - acc: 0.37 - ETA: 22s - loss: 2.7763 - acc: 0.37 - ETA: 22s - loss: 2.7714 - acc: 0.37 - ETA: 21s - loss: 2.7712 - acc: 0.37 - ETA: 20s - loss: 2.7715 - acc: 0.37 - ETA: 19s - loss: 2.7716 - acc: 0.37 - ETA: 18s - loss: 2.7719 - acc: 0.37 - ETA: 18s - loss: 2.7705 - acc: 0.37 - ETA: 18s - loss: 2.7674 - acc: 0.37 - ETA: 17s - loss: 2.7673 - acc: 0.37 - ETA: 16s - loss: 2.7696 - acc: 0.37 - ETA: 15s - loss: 2.7730 - acc: 0.37 - ETA: 15s - loss: 2.7700 - acc: 0.37 - ETA: 14s - loss: 2.7716 - acc: 0.37 - ETA: 13s - loss: 2.7715 - acc: 0.37 - ETA: 12s - loss: 2.7691 - acc: 0.37 - ETA: 12s - loss: 2.7679 - acc: 0.37 - ETA: 11s - loss: 2.7702 - acc: 0.37 - ETA: 11s - loss: 2.7724 - acc: 0.37 - ETA: 10s - loss: 2.7732 - acc: 0.37 - ETA: 9s - loss: 2.7701 - acc: 0.3735 - ETA: 8s - loss: 2.7708 - acc: 0.374 - ETA: 8s - loss: 2.7713 - acc: 0.375 - ETA: 7s - loss: 2.7713 - acc: 0.375 - ETA: 6s - loss: 2.7678 - acc: 0.376 - ETA: 6s - loss: 2.7685 - acc: 0.376 - ETA: 5s - loss: 2.7710 - acc: 0.376 - ETA: 4s - loss: 2.7744 - acc: 0.375 - ETA: 4s - loss: 2.7748 - acc: 0.375 - ETA: 3s - loss: 2.7737 - acc: 0.375 - ETA: 2s - loss: 2.7769 - acc: 0.375 - ETA: 2s - loss: 2.7810 - acc: 0.374 - ETA: 1s - loss: 2.7798 - acc: 0.375 - ETA: 0s - loss: 2.7791 - acc: 0.376 - 117s 849ms/step - loss: 2.7770 - acc: 0.3761 - val_loss: 2.9396 - val_acc: 0.5285\n",
      "\n",
      "##############################\n",
      "\n",
      "PR AUC Fish, train: 0.633\n",
      "\n",
      "PR AUC Flower, train: 0.679\n",
      "\n",
      "PR AUC Sugar, train: 0.738\n",
      "\n",
      "PR AUC Gravel, train: 0.555\n",
      "\n",
      "\n",
      "####################\n",
      " PR AUC mean, train: 0.651\n",
      "####################\n",
      "\n",
      "\n",
      "##############################\n",
      "\n",
      "PR AUC Fish, val: 0.640\n",
      "\n",
      "PR AUC Flower, val: 0.675\n",
      "\n",
      "PR AUC Sugar, val: 0.740\n",
      "\n",
      "PR AUC Gravel, val: 0.577\n",
      "\n",
      "\n",
      "####################\n",
      " PR AUC mean, val: 0.658\n",
      "####################\n",
      "\n",
      "\n",
      "####################\n",
      "Saved new checkpoint\n",
      "####################\n",
      "\n",
      "Epoch 10/10\n"
     ]
    },
    {
     "name": "stdout",
     "output_type": "stream",
     "text": [
      "138/138 [==============================] - ETA: 40s - loss: 2.7194 - acc: 0.40 - ETA: 41s - loss: 2.7165 - acc: 0.37 - ETA: 42s - loss: 2.7294 - acc: 0.39 - ETA: 42s - loss: 2.7886 - acc: 0.37 - ETA: 42s - loss: 2.7252 - acc: 0.38 - ETA: 42s - loss: 2.7393 - acc: 0.38 - ETA: 42s - loss: 2.7192 - acc: 0.37 - ETA: 44s - loss: 2.7598 - acc: 0.35 - ETA: 44s - loss: 2.7402 - acc: 0.36 - ETA: 44s - loss: 2.7689 - acc: 0.35 - ETA: 44s - loss: 2.7856 - acc: 0.36 - ETA: 1:22 - loss: 2.8429 - acc: 0.364 - ETA: 1:24 - loss: 2.8410 - acc: 0.363 - ETA: 1:20 - loss: 2.8212 - acc: 0.366 - ETA: 1:16 - loss: 2.8273 - acc: 0.368 - ETA: 1:13 - loss: 2.8400 - acc: 0.373 - ETA: 1:11 - loss: 2.8430 - acc: 0.365 - ETA: 1:08 - loss: 2.8289 - acc: 0.364 - ETA: 1:06 - loss: 2.8224 - acc: 0.363 - ETA: 1:17 - loss: 2.8436 - acc: 0.365 - ETA: 1:17 - loss: 2.8267 - acc: 0.367 - ETA: 1:16 - loss: 2.8302 - acc: 0.369 - ETA: 1:14 - loss: 2.8287 - acc: 0.365 - ETA: 1:11 - loss: 2.8127 - acc: 0.363 - ETA: 1:09 - loss: 2.8288 - acc: 0.358 - ETA: 1:07 - loss: 2.8074 - acc: 0.366 - ETA: 1:05 - loss: 2.8031 - acc: 0.365 - ETA: 1:12 - loss: 2.8035 - acc: 0.369 - ETA: 1:12 - loss: 2.8031 - acc: 0.369 - ETA: 1:10 - loss: 2.7954 - acc: 0.375 - ETA: 1:10 - loss: 2.7918 - acc: 0.375 - ETA: 1:08 - loss: 2.7909 - acc: 0.377 - ETA: 1:06 - loss: 2.7949 - acc: 0.376 - ETA: 1:04 - loss: 2.8067 - acc: 0.373 - ETA: 1:03 - loss: 2.8103 - acc: 0.371 - ETA: 1:07 - loss: 2.8001 - acc: 0.371 - ETA: 1:07 - loss: 2.7953 - acc: 0.371 - ETA: 1:05 - loss: 2.7824 - acc: 0.378 - ETA: 1:04 - loss: 2.7837 - acc: 0.377 - ETA: 1:04 - loss: 2.7820 - acc: 0.374 - ETA: 1:02 - loss: 2.7849 - acc: 0.372 - ETA: 1:01 - loss: 2.7862 - acc: 0.373 - ETA: 1:00 - loss: 2.7893 - acc: 0.372 - ETA: 1:02 - loss: 2.7920 - acc: 0.374 - ETA: 1:02 - loss: 2.7798 - acc: 0.375 - ETA: 1:00 - loss: 2.7835 - acc: 0.375 - ETA: 59s - loss: 2.7887 - acc: 0.377 - ETA: 59s - loss: 2.7836 - acc: 0.37 - ETA: 58s - loss: 2.7860 - acc: 0.38 - ETA: 57s - loss: 2.7895 - acc: 0.38 - ETA: 56s - loss: 2.7966 - acc: 0.37 - ETA: 57s - loss: 2.7964 - acc: 0.37 - ETA: 56s - loss: 2.7915 - acc: 0.37 - ETA: 55s - loss: 2.7859 - acc: 0.38 - ETA: 54s - loss: 2.7795 - acc: 0.38 - ETA: 54s - loss: 2.7833 - acc: 0.38 - ETA: 53s - loss: 2.7812 - acc: 0.38 - ETA: 52s - loss: 2.7841 - acc: 0.38 - ETA: 51s - loss: 2.7843 - acc: 0.38 - ETA: 52s - loss: 2.7867 - acc: 0.38 - ETA: 51s - loss: 2.7852 - acc: 0.38 - ETA: 50s - loss: 2.7866 - acc: 0.37 - ETA: 49s - loss: 2.7848 - acc: 0.37 - ETA: 49s - loss: 2.7843 - acc: 0.37 - ETA: 48s - loss: 2.7822 - acc: 0.37 - ETA: 47s - loss: 2.7814 - acc: 0.37 - ETA: 46s - loss: 2.7745 - acc: 0.37 - ETA: 46s - loss: 2.7705 - acc: 0.37 - ETA: 46s - loss: 2.7711 - acc: 0.37 - ETA: 45s - loss: 2.7682 - acc: 0.37 - ETA: 44s - loss: 2.7658 - acc: 0.37 - ETA: 44s - loss: 2.7645 - acc: 0.37 - ETA: 43s - loss: 2.7710 - acc: 0.37 - ETA: 42s - loss: 2.7739 - acc: 0.37 - ETA: 42s - loss: 2.7713 - acc: 0.38 - ETA: 41s - loss: 2.7736 - acc: 0.37 - ETA: 40s - loss: 2.7726 - acc: 0.37 - ETA: 39s - loss: 2.7705 - acc: 0.37 - ETA: 39s - loss: 2.7692 - acc: 0.37 - ETA: 39s - loss: 2.7663 - acc: 0.38 - ETA: 38s - loss: 2.7645 - acc: 0.38 - ETA: 37s - loss: 2.7650 - acc: 0.38 - ETA: 36s - loss: 2.7636 - acc: 0.38 - ETA: 36s - loss: 2.7658 - acc: 0.38 - ETA: 35s - loss: 2.7663 - acc: 0.38 - ETA: 34s - loss: 2.7710 - acc: 0.37 - ETA: 33s - loss: 2.7715 - acc: 0.37 - ETA: 34s - loss: 2.7672 - acc: 0.37 - ETA: 33s - loss: 2.7630 - acc: 0.37 - ETA: 32s - loss: 2.7622 - acc: 0.37 - ETA: 31s - loss: 2.7567 - acc: 0.37 - ETA: 30s - loss: 2.7606 - acc: 0.37 - ETA: 30s - loss: 2.7586 - acc: 0.37 - ETA: 29s - loss: 2.7561 - acc: 0.37 - ETA: 28s - loss: 2.7541 - acc: 0.37 - ETA: 28s - loss: 2.7584 - acc: 0.37 - ETA: 28s - loss: 2.7623 - acc: 0.37 - ETA: 27s - loss: 2.7637 - acc: 0.37 - ETA: 26s - loss: 2.7597 - acc: 0.37 - ETA: 25s - loss: 2.7665 - acc: 0.37 - ETA: 24s - loss: 2.7679 - acc: 0.37 - ETA: 24s - loss: 2.7708 - acc: 0.37 - ETA: 23s - loss: 2.7689 - acc: 0.37 - ETA: 23s - loss: 2.7659 - acc: 0.37 - ETA: 22s - loss: 2.7682 - acc: 0.37 - ETA: 21s - loss: 2.7646 - acc: 0.37 - ETA: 21s - loss: 2.7648 - acc: 0.38 - ETA: 20s - loss: 2.7678 - acc: 0.38 - ETA: 19s - loss: 2.7640 - acc: 0.38 - ETA: 18s - loss: 2.7651 - acc: 0.38 - ETA: 18s - loss: 2.7657 - acc: 0.38 - ETA: 17s - loss: 2.7680 - acc: 0.38 - ETA: 17s - loss: 2.7674 - acc: 0.38 - ETA: 16s - loss: 2.7658 - acc: 0.38 - ETA: 15s - loss: 2.7651 - acc: 0.38 - ETA: 14s - loss: 2.7656 - acc: 0.38 - ETA: 14s - loss: 2.7662 - acc: 0.37 - ETA: 13s - loss: 2.7643 - acc: 0.38 - ETA: 12s - loss: 2.7637 - acc: 0.37 - ETA: 12s - loss: 2.7643 - acc: 0.37 - ETA: 11s - loss: 2.7657 - acc: 0.37 - ETA: 10s - loss: 2.7642 - acc: 0.37 - ETA: 10s - loss: 2.7645 - acc: 0.37 - ETA: 9s - loss: 2.7647 - acc: 0.3803 - ETA: 8s - loss: 2.7667 - acc: 0.379 - ETA: 8s - loss: 2.7654 - acc: 0.380 - ETA: 7s - loss: 2.7660 - acc: 0.379 - ETA: 6s - loss: 2.7643 - acc: 0.379 - ETA: 6s - loss: 2.7635 - acc: 0.380 - ETA: 5s - loss: 2.7663 - acc: 0.379 - ETA: 4s - loss: 2.7646 - acc: 0.378 - ETA: 4s - loss: 2.7646 - acc: 0.379 - ETA: 3s - loss: 2.7634 - acc: 0.379 - ETA: 2s - loss: 2.7635 - acc: 0.379 - ETA: 2s - loss: 2.7649 - acc: 0.378 - ETA: 1s - loss: 2.7672 - acc: 0.378 - ETA: 0s - loss: 2.7680 - acc: 0.377 - 117s 846ms/step - loss: 2.7649 - acc: 0.3784 - val_loss: 2.9502 - val_acc: 0.5349\n",
      "\n",
      "##############################\n",
      "\n",
      "PR AUC Fish, train: 0.631\n",
      "\n",
      "PR AUC Flower, train: 0.675\n",
      "\n",
      "PR AUC Sugar, train: 0.737\n",
      "\n",
      "PR AUC Gravel, train: 0.560\n",
      "\n",
      "\n",
      "####################\n",
      " PR AUC mean, train: 0.651\n",
      "####################\n",
      "\n",
      "\n",
      "##############################\n",
      "\n",
      "PR AUC Fish, val: 0.637\n",
      "\n",
      "PR AUC Flower, val: 0.673\n",
      "\n",
      "PR AUC Sugar, val: 0.740\n",
      "\n",
      "PR AUC Gravel, val: 0.585\n",
      "\n",
      "\n",
      "####################\n",
      " PR AUC mean, val: 0.659\n",
      "####################\n",
      "\n",
      "\n",
      "####################\n",
      "Saved new checkpoint\n",
      "####################\n",
      "\n"
     ]
    }
   ],
   "source": [
    "for base_layer in model.layers[:-3]:\n",
    "    base_layer.trainable = False\n",
    "    \n",
    "model.compile(optimizer=RAdam(warmup_proportion=0.1, min_lr=1e-5),  loss='categorical_crossentropy', metrics=['accuracy'])\n",
    "history_0 = model.fit_generator(generator=data_generator_train,\n",
    "                              validation_data=data_generator_val,\n",
    "                              epochs=10,\n",
    "                              callbacks=[train_metric_callback, val_callback],\n",
    "                              workers=num_cores,\n",
    "                              verbose=1\n",
    "                             )"
   ]
  },
  {
   "cell_type": "markdown",
   "metadata": {},
   "source": [
    "## Fine-tuning the whole model"
   ]
  },
  {
   "cell_type": "markdown",
   "metadata": {},
   "source": [
    "After unfreezing all the layers(except last 3) I set a less aggressive initial learning rate and train until early stopping (or 100 epochs max)."
   ]
  },
  {
   "cell_type": "code",
   "execution_count": 35,
   "metadata": {},
   "outputs": [
    {
     "name": "stdout",
     "output_type": "stream",
     "text": [
      "Epoch 2/6\n"
     ]
    },
    {
     "name": "stdout",
     "output_type": "stream",
     "text": [
      "204/277 [=====================>........] - ETA: 5:30:40 - loss: 1.9811 - acc: 0.62 - ETA: 2:46:14 - loss: 1.9109 - acc: 0.53 - ETA: 1:51:23 - loss: 2.0578 - acc: 0.54 - ETA: 1:23:58 - loss: 2.1168 - acc: 0.54 - ETA: 1:07:31 - loss: 2.1411 - acc: 0.55 - ETA: 56:33 - loss: 2.0947 - acc: 0.5208 - ETA: 48:43 - loss: 2.1552 - acc: 0.49 - ETA: 42:50 - loss: 2.1568 - acc: 0.47 - ETA: 38:15 - loss: 2.1254 - acc: 0.48 - ETA: 34:35 - loss: 2.0804 - acc: 0.51 - ETA: 31:35 - loss: 2.1318 - acc: 0.51 - ETA: 29:05 - loss: 2.1302 - acc: 0.52 - ETA: 26:58 - loss: 2.1574 - acc: 0.53 - ETA: 25:09 - loss: 2.1882 - acc: 0.54 - ETA: 23:34 - loss: 2.2072 - acc: 0.53 - ETA: 22:12 - loss: 2.2090 - acc: 0.53 - ETA: 20:59 - loss: 2.1849 - acc: 0.53 - ETA: 19:53 - loss: 2.2011 - acc: 0.53 - ETA: 18:55 - loss: 2.2309 - acc: 0.53 - ETA: 18:02 - loss: 2.2430 - acc: 0.52 - ETA: 17:15 - loss: 2.2262 - acc: 0.52 - ETA: 16:32 - loss: 2.2267 - acc: 0.53 - ETA: 15:52 - loss: 2.2082 - acc: 0.52 - ETA: 15:16 - loss: 2.2090 - acc: 0.51 - ETA: 14:42 - loss: 2.2179 - acc: 0.51 - ETA: 14:11 - loss: 2.2150 - acc: 0.50 - ETA: 13:42 - loss: 2.2240 - acc: 0.50 - ETA: 13:16 - loss: 2.2257 - acc: 0.51 - ETA: 12:51 - loss: 2.2263 - acc: 0.51 - ETA: 12:28 - loss: 2.2433 - acc: 0.51 - ETA: 12:06 - loss: 2.2464 - acc: 0.50 - ETA: 11:45 - loss: 2.2501 - acc: 0.50 - ETA: 11:26 - loss: 2.2527 - acc: 0.50 - ETA: 11:08 - loss: 2.2595 - acc: 0.50 - ETA: 10:50 - loss: 2.2554 - acc: 0.50 - ETA: 10:34 - loss: 2.2672 - acc: 0.50 - ETA: 10:19 - loss: 2.2721 - acc: 0.50 - ETA: 10:04 - loss: 2.2676 - acc: 0.50 - ETA: 9:50 - loss: 2.2747 - acc: 0.5048 - ETA: 9:37 - loss: 2.2777 - acc: 0.500 - ETA: 9:24 - loss: 2.2803 - acc: 0.506 - ETA: 9:12 - loss: 2.2816 - acc: 0.501 - ETA: 9:00 - loss: 2.2894 - acc: 0.498 - ETA: 8:49 - loss: 2.2918 - acc: 0.495 - ETA: 8:38 - loss: 2.3081 - acc: 0.491 - ETA: 8:28 - loss: 2.3002 - acc: 0.493 - ETA: 8:19 - loss: 2.3189 - acc: 0.489 - ETA: 8:09 - loss: 2.3196 - acc: 0.487 - ETA: 8:00 - loss: 2.3228 - acc: 0.484 - ETA: 7:51 - loss: 2.3296 - acc: 0.480 - ETA: 7:43 - loss: 2.3151 - acc: 0.485 - ETA: 7:35 - loss: 2.3223 - acc: 0.486 - ETA: 7:27 - loss: 2.3199 - acc: 0.491 - ETA: 7:20 - loss: 2.3213 - acc: 0.490 - ETA: 7:12 - loss: 2.3124 - acc: 0.490 - ETA: 7:05 - loss: 2.3232 - acc: 0.486 - ETA: 6:58 - loss: 2.3162 - acc: 0.483 - ETA: 6:52 - loss: 2.3126 - acc: 0.487 - ETA: 6:45 - loss: 2.3190 - acc: 0.485 - ETA: 6:39 - loss: 2.3046 - acc: 0.488 - ETA: 6:33 - loss: 2.2995 - acc: 0.486 - ETA: 6:27 - loss: 2.2952 - acc: 0.486 - ETA: 6:22 - loss: 2.2892 - acc: 0.487 - ETA: 6:16 - loss: 2.2864 - acc: 0.491 - ETA: 6:11 - loss: 2.2797 - acc: 0.493 - ETA: 6:05 - loss: 2.2796 - acc: 0.496 - ETA: 6:00 - loss: 2.2650 - acc: 0.498 - ETA: 5:55 - loss: 2.2679 - acc: 0.496 - ETA: 5:51 - loss: 2.2695 - acc: 0.494 - ETA: 5:46 - loss: 2.2753 - acc: 0.493 - ETA: 5:41 - loss: 2.2733 - acc: 0.492 - ETA: 5:37 - loss: 2.2723 - acc: 0.493 - ETA: 5:32 - loss: 2.2767 - acc: 0.491 - ETA: 5:28 - loss: 2.2779 - acc: 0.491 - ETA: 5:24 - loss: 2.2661 - acc: 0.491 - ETA: 5:20 - loss: 2.2605 - acc: 0.493 - ETA: 5:16 - loss: 2.2592 - acc: 0.494 - ETA: 5:12 - loss: 2.2633 - acc: 0.494 - ETA: 5:08 - loss: 2.2582 - acc: 0.492 - ETA: 5:04 - loss: 2.2614 - acc: 0.492 - ETA: 5:01 - loss: 2.2600 - acc: 0.492 - ETA: 4:57 - loss: 2.2556 - acc: 0.493 - ETA: 4:53 - loss: 2.2553 - acc: 0.496 - ETA: 4:50 - loss: 2.2524 - acc: 0.494 - ETA: 4:47 - loss: 2.2502 - acc: 0.493 - ETA: 4:43 - loss: 2.2512 - acc: 0.493 - ETA: 4:40 - loss: 2.2456 - acc: 0.493 - ETA: 4:37 - loss: 2.2413 - acc: 0.496 - ETA: 4:34 - loss: 2.2382 - acc: 0.497 - ETA: 4:30 - loss: 2.2431 - acc: 0.496 - ETA: 4:27 - loss: 2.2399 - acc: 0.498 - ETA: 4:24 - loss: 2.2401 - acc: 0.498 - ETA: 4:21 - loss: 2.2425 - acc: 0.498 - ETA: 4:18 - loss: 2.2442 - acc: 0.496 - ETA: 4:16 - loss: 2.2405 - acc: 0.495 - ETA: 4:13 - loss: 2.2438 - acc: 0.494 - ETA: 4:10 - loss: 2.2460 - acc: 0.492 - ETA: 4:07 - loss: 2.2519 - acc: 0.493 - ETA: 4:05 - loss: 2.2536 - acc: 0.494 - ETA: 4:02 - loss: 2.2572 - acc: 0.493 - ETA: 3:59 - loss: 2.2583 - acc: 0.493 - ETA: 3:57 - loss: 2.2585 - acc: 0.493 - ETA: 3:54 - loss: 2.2615 - acc: 0.495 - ETA: 3:52 - loss: 2.2569 - acc: 0.497 - ETA: 3:49 - loss: 2.2494 - acc: 0.497 - ETA: 3:47 - loss: 2.2563 - acc: 0.494 - ETA: 3:44 - loss: 2.2580 - acc: 0.494 - ETA: 3:42 - loss: 2.2622 - acc: 0.491 - ETA: 3:40 - loss: 2.2601 - acc: 0.493 - ETA: 3:37 - loss: 2.2558 - acc: 0.495 - ETA: 3:35 - loss: 2.2567 - acc: 0.495 - ETA: 3:33 - loss: 2.2535 - acc: 0.496 - ETA: 3:31 - loss: 2.2512 - acc: 0.496 - ETA: 3:29 - loss: 2.2496 - acc: 0.497 - ETA: 3:26 - loss: 2.2487 - acc: 0.496 - ETA: 3:24 - loss: 2.2452 - acc: 0.497 - ETA: 3:22 - loss: 2.2421 - acc: 0.497 - ETA: 3:20 - loss: 2.2433 - acc: 0.498 - ETA: 3:18 - loss: 2.2459 - acc: 0.498 - ETA: 3:16 - loss: 2.2502 - acc: 0.498 - ETA: 3:14 - loss: 2.2531 - acc: 0.496 - ETA: 3:12 - loss: 2.2536 - acc: 0.496 - ETA: 3:10 - loss: 2.2510 - acc: 0.497 - ETA: 3:08 - loss: 2.2499 - acc: 0.499 - ETA: 3:06 - loss: 2.2474 - acc: 0.500 - ETA: 3:04 - loss: 2.2475 - acc: 0.499 - ETA: 3:02 - loss: 2.2477 - acc: 0.500 - ETA: 3:00 - loss: 2.2470 - acc: 0.500 - ETA: 2:59 - loss: 2.2476 - acc: 0.500 - ETA: 2:57 - loss: 2.2548 - acc: 0.500 - ETA: 2:55 - loss: 2.2508 - acc: 0.501 - ETA: 2:53 - loss: 2.2501 - acc: 0.501 - ETA: 2:51 - loss: 2.2491 - acc: 0.500 - ETA: 2:50 - loss: 2.2470 - acc: 0.501 - ETA: 2:48 - loss: 2.2498 - acc: 0.500 - ETA: 2:46 - loss: 2.2531 - acc: 0.498 - ETA: 2:45 - loss: 2.2534 - acc: 0.497 - ETA: 2:43 - loss: 2.2484 - acc: 0.499 - ETA: 2:41 - loss: 2.2519 - acc: 0.499 - ETA: 2:39 - loss: 2.2511 - acc: 0.498 - ETA: 2:38 - loss: 2.2571 - acc: 0.498 - ETA: 2:36 - loss: 2.2568 - acc: 0.498 - ETA: 2:35 - loss: 2.2589 - acc: 0.498 - ETA: 2:33 - loss: 2.2596 - acc: 0.499 - ETA: 2:31 - loss: 2.2560 - acc: 0.500 - ETA: 2:30 - loss: 2.2579 - acc: 0.500 - ETA: 2:28 - loss: 2.2601 - acc: 0.499 - ETA: 2:27 - loss: 2.2619 - acc: 0.499 - ETA: 2:25 - loss: 2.2597 - acc: 0.498 - ETA: 2:23 - loss: 2.2597 - acc: 0.497 - ETA: 2:22 - loss: 2.2583 - acc: 0.498 - ETA: 2:20 - loss: 2.2571 - acc: 0.499 - ETA: 2:19 - loss: 2.2542 - acc: 0.500 - ETA: 2:17 - loss: 2.2552 - acc: 0.500 - ETA: 2:16 - loss: 2.2534 - acc: 0.500 - ETA: 2:14 - loss: 2.2555 - acc: 0.499 - ETA: 2:13 - loss: 2.2573 - acc: 0.497 - ETA: 2:12 - loss: 2.2578 - acc: 0.497 - ETA: 2:10 - loss: 2.2554 - acc: 0.497 - ETA: 2:09 - loss: 2.2537 - acc: 0.498 - ETA: 2:07 - loss: 2.2514 - acc: 0.499 - ETA: 2:06 - loss: 2.2534 - acc: 0.499 - ETA: 2:04 - loss: 2.2532 - acc: 0.498 - ETA: 2:03 - loss: 2.2510 - acc: 0.498 - ETA: 2:02 - loss: 2.2523 - acc: 0.497 - ETA: 2:00 - loss: 2.2521 - acc: 0.496 - ETA: 1:59 - loss: 2.2543 - acc: 0.496 - ETA: 1:58 - loss: 2.2586 - acc: 0.495 - ETA: 1:56 - loss: 2.2610 - acc: 0.495 - ETA: 1:55 - loss: 2.2614 - acc: 0.494 - ETA: 1:54 - loss: 2.2607 - acc: 0.495 - ETA: 1:52 - loss: 2.2613 - acc: 0.496 - ETA: 1:51 - loss: 2.2606 - acc: 0.496 - ETA: 1:50 - loss: 2.2590 - acc: 0.496 - ETA: 1:48 - loss: 2.2600 - acc: 0.496 - ETA: 1:47 - loss: 2.2585 - acc: 0.496 - ETA: 1:46 - loss: 2.2625 - acc: 0.495 - ETA: 1:44 - loss: 2.2647 - acc: 0.495 - ETA: 1:43 - loss: 2.2618 - acc: 0.496 - ETA: 1:42 - loss: 2.2641 - acc: 0.494 - ETA: 1:41 - loss: 2.2645 - acc: 0.495 - ETA: 1:39 - loss: 2.2679 - acc: 0.493 - ETA: 1:38 - loss: 2.2692 - acc: 0.492 - ETA: 1:37 - loss: 2.2719 - acc: 0.493 - ETA: 1:36 - loss: 2.2719 - acc: 0.493 - ETA: 1:34 - loss: 2.2725 - acc: 0.493 - ETA: 1:33 - loss: 2.2751 - acc: 0.493 - ETA: 1:32 - loss: 2.2744 - acc: 0.494 - ETA: 1:31 - loss: 2.2761 - acc: 0.494 - ETA: 1:29 - loss: 2.2731 - acc: 0.494 - ETA: 1:28 - loss: 2.2743 - acc: 0.494 - ETA: 1:27 - loss: 2.2725 - acc: 0.495 - ETA: 1:26 - loss: 2.2756 - acc: 0.494 - ETA: 1:25 - loss: 2.2787 - acc: 0.493 - ETA: 1:24 - loss: 2.2773 - acc: 0.494 - ETA: 1:22 - loss: 2.2786 - acc: 0.493 - ETA: 1:21 - loss: 2.2821 - acc: 0.492 - ETA: 1:20 - loss: 2.2825 - acc: 0.492 - ETA: 1:19 - loss: 2.2854 - acc: 0.491 - ETA: 1:18 - loss: 2.2852 - acc: 0.492 - ETA: 1:17 - loss: 2.2861 - acc: 0.491 - ETA: 1:15 - loss: 2.2855 - acc: 0.492 - ETA: 1:14 - loss: 2.2858 - acc: 0.492 - ETA: 1:13 - loss: 2.2843 - acc: 0.4926\b\b\b\b\b\b\b\b\b\b\b\b\b\b\b\b\b\b\b\b\b\b\b\b\b\b\b\b\b\b\b\b\b\b\b\b\b\b\b\b\b\b\b\b\b\b\b\b\b\b\b\b\b\b\b\b\b\b\b\b\b\b\b\b\b\b\b\b\b\b\b\b\b\b\b\b\b\b\b\b\b"
     ]
    },
    {
     "name": "stdout",
     "output_type": "stream",
     "text": [
      "277/277 [==============================] - ETA: 1:12 - loss: 2.2820 - acc: 0.492 - ETA: 1:11 - loss: 2.2824 - acc: 0.492 - ETA: 1:10 - loss: 2.2848 - acc: 0.491 - ETA: 1:09 - loss: 2.2841 - acc: 0.492 - ETA: 1:08 - loss: 2.2835 - acc: 0.493 - ETA: 1:06 - loss: 2.2836 - acc: 0.493 - ETA: 1:05 - loss: 2.2839 - acc: 0.493 - ETA: 1:04 - loss: 2.2836 - acc: 0.492 - ETA: 1:03 - loss: 2.2836 - acc: 0.492 - ETA: 1:02 - loss: 2.2847 - acc: 0.492 - ETA: 1:01 - loss: 2.2843 - acc: 0.492 - ETA: 1:00 - loss: 2.2863 - acc: 0.492 - ETA: 59s - loss: 2.2868 - acc: 0.491 - ETA: 58s - loss: 2.2875 - acc: 0.49 - ETA: 57s - loss: 2.2897 - acc: 0.49 - ETA: 56s - loss: 2.2886 - acc: 0.49 - ETA: 54s - loss: 2.2875 - acc: 0.49 - ETA: 53s - loss: 2.2895 - acc: 0.49 - ETA: 52s - loss: 2.2894 - acc: 0.49 - ETA: 51s - loss: 2.2918 - acc: 0.49 - ETA: 50s - loss: 2.2929 - acc: 0.49 - ETA: 49s - loss: 2.2904 - acc: 0.49 - ETA: 48s - loss: 2.2886 - acc: 0.49 - ETA: 47s - loss: 2.2906 - acc: 0.49 - ETA: 46s - loss: 2.2899 - acc: 0.49 - ETA: 45s - loss: 2.2928 - acc: 0.49 - ETA: 44s - loss: 2.2919 - acc: 0.49 - ETA: 43s - loss: 2.2944 - acc: 0.49 - ETA: 42s - loss: 2.2964 - acc: 0.49 - ETA: 41s - loss: 2.2940 - acc: 0.49 - ETA: 40s - loss: 2.2956 - acc: 0.49 - ETA: 39s - loss: 2.2942 - acc: 0.49 - ETA: 38s - loss: 2.2947 - acc: 0.49 - ETA: 37s - loss: 2.2959 - acc: 0.49 - ETA: 36s - loss: 2.2979 - acc: 0.49 - ETA: 35s - loss: 2.2992 - acc: 0.49 - ETA: 34s - loss: 2.2975 - acc: 0.49 - ETA: 33s - loss: 2.2949 - acc: 0.49 - ETA: 32s - loss: 2.2942 - acc: 0.49 - ETA: 31s - loss: 2.2942 - acc: 0.49 - ETA: 30s - loss: 2.2964 - acc: 0.49 - ETA: 29s - loss: 2.2942 - acc: 0.49 - ETA: 28s - loss: 2.2949 - acc: 0.49 - ETA: 27s - loss: 2.2942 - acc: 0.49 - ETA: 26s - loss: 2.2956 - acc: 0.49 - ETA: 25s - loss: 2.2959 - acc: 0.49 - ETA: 24s - loss: 2.2932 - acc: 0.49 - ETA: 23s - loss: 2.2925 - acc: 0.49 - ETA: 22s - loss: 2.2926 - acc: 0.49 - ETA: 21s - loss: 2.2906 - acc: 0.49 - ETA: 20s - loss: 2.2909 - acc: 0.49 - ETA: 19s - loss: 2.2911 - acc: 0.49 - ETA: 18s - loss: 2.2913 - acc: 0.49 - ETA: 17s - loss: 2.2932 - acc: 0.49 - ETA: 16s - loss: 2.2971 - acc: 0.49 - ETA: 15s - loss: 2.2978 - acc: 0.49 - ETA: 14s - loss: 2.2978 - acc: 0.49 - ETA: 13s - loss: 2.2972 - acc: 0.49 - ETA: 13s - loss: 2.2974 - acc: 0.49 - ETA: 12s - loss: 2.2983 - acc: 0.49 - ETA: 11s - loss: 2.2982 - acc: 0.49 - ETA: 10s - loss: 2.3019 - acc: 0.49 - ETA: 9s - loss: 2.3011 - acc: 0.4937 - ETA: 8s - loss: 2.3010 - acc: 0.493 - ETA: 7s - loss: 2.3009 - acc: 0.494 - ETA: 6s - loss: 2.3044 - acc: 0.493 - ETA: 5s - loss: 2.3049 - acc: 0.494 - ETA: 4s - loss: 2.3021 - acc: 0.494 - ETA: 3s - loss: 2.3028 - acc: 0.494 - ETA: 2s - loss: 2.3021 - acc: 0.494 - ETA: 1s - loss: 2.3016 - acc: 0.495 - ETA: 0s - loss: 2.3019 - acc: 0.495 - 285s 1s/step - loss: 2.3027 - acc: 0.4953 - val_loss: 2.9377 - val_acc: 0.4755\n",
      "\n",
      "##############################\n",
      "\n",
      "PR AUC Fish, train: 0.881\n",
      "\n",
      "PR AUC Flower, train: 0.930\n",
      "\n",
      "PR AUC Sugar, train: 0.926\n",
      "\n",
      "PR AUC Gravel, train: 0.905\n",
      "\n",
      "\n",
      "####################\n",
      " PR AUC mean, train: 0.910\n",
      "####################\n",
      "\n",
      "\n",
      "##############################\n",
      "\n",
      "PR AUC Fish, val: 0.709\n",
      "\n",
      "PR AUC Flower, val: 0.857\n",
      "\n",
      "PR AUC Sugar, val: 0.875\n",
      "\n",
      "PR AUC Gravel, val: 0.771\n",
      "\n",
      "\n",
      "####################\n",
      " PR AUC mean, val: 0.803\n",
      "####################\n",
      "\n",
      "\n",
      "####################\n",
      "Reduced learning rate to 0.0005000000237487257.\n",
      "####################\n",
      "\n"
     ]
    }
   ],
   "source": [
    "for base_layer in model.layers[:-3]:\n",
    "    base_layer.trainable = True\n",
    "    \n",
    "model.compile(optimizer=RAdam(warmup_proportion=0.1, min_lr=1e-5),  loss='categorical_crossentropy', metrics=['accuracy'])\n",
    "history_1 = model.fit_generator(generator=data_generator_train,\n",
    "                              validation_data=data_generator_val,\n",
    "                              epochs=6,\n",
    "                              callbacks=[train_metric_callback, val_callback],\n",
    "                              workers=num_cores,\n",
    "                              verbose=1,\n",
    "                              initial_epoch=1\n",
    "                             )"
   ]
  },
  {
   "cell_type": "markdown",
   "metadata": {},
   "source": [
    "## Visualizing train and val PR AUC"
   ]
  },
  {
   "cell_type": "code",
   "execution_count": 25,
   "metadata": {},
   "outputs": [],
   "source": [
    "def plot_with_dots(ax, np_array):\n",
    "    ax.scatter(list(range(1, len(np_array) + 1)), np_array, s=50)\n",
    "    ax.plot(list(range(1, len(np_array) + 1)), np_array)"
   ]
  },
  {
   "cell_type": "code",
   "execution_count": 36,
   "metadata": {
    "scrolled": true
   },
   "outputs": [
    {
     "data": {
      "image/png": "[encoded data removed]",
      "text/plain": [
       "<Figure size 720x504 with 1 Axes>"
      ]
     },
     "metadata": {
      "needs_background": "light"
     },
     "output_type": "display_data"
    }
   ],
   "source": [
    "pr_auc_history_train = train_metric_callback.get_pr_auc_history()\n",
    "pr_auc_history_val = val_callback.get_pr_auc_history()\n",
    "\n",
    "plt.figure(figsize=(10, 7))\n",
    "plot_with_dots(plt, pr_auc_history_train[-1])\n",
    "plot_with_dots(plt, pr_auc_history_val[-1])\n",
    "\n",
    "plt.xlabel('Epoch', fontsize=15)\n",
    "plt.ylabel('Mean PR AUC', fontsize=15)\n",
    "plt.legend(['Train', 'Val'])\n",
    "plt.title('Training and Validation PR AUC', fontsize=20)\n",
    "plt.savefig('pr_auc_hist.png')"
   ]
  },
  {
   "cell_type": "code",
   "execution_count": null,
   "metadata": {},
   "outputs": [],
   "source": [
    "plt.figure(figsize=(10, 7))\n",
    "plot_with_dots(plt, history_0.history['loss']+history_1.history['loss'])\n",
    "plot_with_dots(plt, history_0.history['val_loss']+history_1.history['val_loss'])\n",
    "\n",
    "plt.xlabel('Epoch', fontsize=15)\n",
    "plt.ylabel('Binary Crossentropy', fontsize=15)\n",
    "plt.legend(['Train', 'Val'])\n",
    "plt.title('Training and Validation Loss', fontsize=20)\n",
    "plt.savefig('loss_hist.png')"
   ]
  },
  {
   "cell_type": "markdown",
   "metadata": {},
   "source": [
    "I left the model to train longer on my local GPU. I then upload the best model and plots from the model training."
   ]
  },
  {
   "cell_type": "code",
   "execution_count": null,
   "metadata": {},
   "outputs": [],
   "source": [
    "#model = load_model('../input/clouds-classifier-files/classifier_densenet169_epoch_21_val_pr_auc_0.8365921057512743.h5')"
   ]
  },
  {
   "cell_type": "code",
   "execution_count": null,
   "metadata": {},
   "outputs": [],
   "source": [
    "Image(\"../input/clouds-classifier-files/loss_hist_densenet169.png\")"
   ]
  },
  {
   "cell_type": "code",
   "execution_count": null,
   "metadata": {},
   "outputs": [],
   "source": [
    "Image(\"../input/clouds-classifier-files/pr_auc_hist_densenet169.png\")"
   ]
  },
  {
   "cell_type": "markdown",
   "metadata": {},
   "source": [
    "# Selecting postprocessing thresholds"
   ]
  },
  {
   "cell_type": "code",
   "execution_count": null,
   "metadata": {},
   "outputs": [],
   "source": [
    "class_names = ['Fish', 'Flower', 'Sugar', 'Gravel']\n",
    "def get_threshold_for_recall(y_true, y_pred, class_i, recall_threshold=0.94, precision_threshold=0.90, plot=False):\n",
    "    precision, recall, thresholds = precision_recall_curve(y_true[:, class_i], y_pred[:, class_i])\n",
    "    i = len(thresholds) - 1\n",
    "    best_recall_threshold = None\n",
    "    while best_recall_threshold is None:\n",
    "        next_threshold = thresholds[i]\n",
    "        next_recall = recall[i]\n",
    "        if next_recall >= recall_threshold:\n",
    "            best_recall_threshold = next_threshold\n",
    "        i -= 1\n",
    "        \n",
    "    # consice, even though unnecessary passing through all the values\n",
    "    best_precision_threshold = [thres for prec, thres in zip(precision, thresholds) if prec >= precision_threshold][0]\n",
    "    \n",
    "    if plot:\n",
    "        plt.figure(figsize=(10, 7))\n",
    "        plt.step(recall, precision, color='r', alpha=0.3, where='post')\n",
    "        plt.fill_between(recall, precision, alpha=0.3, color='r')\n",
    "        plt.axhline(y=precision[i + 1])\n",
    "        recall_for_prec_thres = [rec for rec, thres in zip(recall, thresholds) \n",
    "                                 if thres == best_precision_threshold][0]\n",
    "        plt.axvline(x=recall_for_prec_thres, color='g')\n",
    "        plt.xlabel('Recall')\n",
    "        plt.ylabel('Precision')\n",
    "        plt.ylim([0.0, 1.05])\n",
    "        plt.xlim([0.0, 1.0])\n",
    "        plt.legend(['PR curve', \n",
    "                    f'Precision {precision[i + 1]: .2f} corresponding to selected recall threshold',\n",
    "                    f'Recall {recall_for_prec_thres: .2f} corresponding to selected precision threshold'])\n",
    "        plt.title(f'Precision-Recall curve for Class {class_names[class_i]}')\n",
    "    return best_recall_threshold, best_precision_threshold\n",
    "\n",
    "y_pred = model.predict_generator(data_generator_val, workers=num_cores)\n",
    "y_true = data_generator_val.get_labels()\n",
    "recall_thresholds = dict()\n",
    "precision_thresholds = dict()\n",
    "for i, class_name in tqdm(enumerate(class_names)):\n",
    "    recall_thresholds[class_name], precision_thresholds[class_name] = get_threshold_for_recall(y_true, y_pred, i, plot=True)"
   ]
  },
  {
   "cell_type": "markdown",
   "metadata": {},
   "source": [
    "# Post-processing segmentation submission"
   ]
  },
  {
   "cell_type": "markdown",
   "metadata": {},
   "source": [
    "Predicting cloud classes for test."
   ]
  },
  {
   "cell_type": "code",
   "execution_count": null,
   "metadata": {},
   "outputs": [],
   "source": [
    "data_generator_test = DataGenenerator(folder_imgs=test_imgs_folder, shuffle=False)\n",
    "y_pred_test = model.predict_generator(data_generator_test, workers=num_cores)"
   ]
  },
  {
   "cell_type": "markdown",
   "metadata": {},
   "source": [
    "Estimating set of images without masks."
   ]
  },
  {
   "cell_type": "code",
   "execution_count": null,
   "metadata": {},
   "outputs": [],
   "source": [
    "image_labels_empty = set()\n",
    "for i, (img, predictions) in enumerate(zip(os.listdir(test_imgs_folder), y_pred_test)):\n",
    "    for class_i, class_name in enumerate(class_names):\n",
    "        if predictions[class_i] < recall_thresholds[class_name]:\n",
    "            image_labels_empty.add(f'{img}_{class_name}')"
   ]
  },
  {
   "cell_type": "markdown",
   "metadata": {},
   "source": [
    "Segmentation results:"
   ]
  },
  {
   "cell_type": "code",
   "execution_count": null,
   "metadata": {},
   "outputs": [],
   "source": [
    "submission = pd.read_csv('../input/densenet201cloudy/densenet201.csv')\n",
    "submission.head()"
   ]
  },
  {
   "cell_type": "code",
   "execution_count": null,
   "metadata": {},
   "outputs": [],
   "source": [
    "predictions_nonempty = set(submission.loc[~submission['EncodedPixels'].isnull(), 'Image_Label'].values)"
   ]
  },
  {
   "cell_type": "code",
   "execution_count": null,
   "metadata": {},
   "outputs": [],
   "source": [
    "print(f'{len(image_labels_empty.intersection(predictions_nonempty))} masks would be removed')"
   ]
  },
  {
   "cell_type": "code",
   "execution_count": null,
   "metadata": {},
   "outputs": [],
   "source": [
    "#removing masks\n",
    "submission.loc[submission['Image_Label'].isin(image_labels_empty), 'EncodedPixels'] = np.nan\n",
    "submission.to_csv('submission_segmentation_and_classifier.csv', index=None)"
   ]
  },
  {
   "cell_type": "markdown",
   "metadata": {},
   "source": [
    "# Future work\n",
    "1. estimate distribution of classes in test set using the classifier. Then, if necessary and doable, modify val set accordingly,\n",
    "2. use the classifier with explainability technique [Gradient-weighted Class Activation Mapping](http://gradcam.cloudcv.org/) to generate a baseline, (please see [GradCAM: extracting masks from classifier](https://www.kaggle.com/samusram/gradcam-extracting-masks-from-classifier)),\n",
    "3. improve the classifier,\n",
    "4. use the classifier as backbone for UNet-like solution."
   ]
  }
 ],
 "metadata": {
  "kernelspec": {
   "display_name": "Python 3",
   "language": "python",
   "name": "python3"
  },
  "language_info": {
   "codemirror_mode": {
    "name": "ipython",
    "version": 3
   },
   "file_extension": ".py",
   "mimetype": "text/x-python",
   "name": "python",
   "nbconvert_exporter": "python",
   "pygments_lexer": "ipython3",
   "version": "3.7.3"
  },
  "widgets": {
   "application/vnd.jupyter.widget-state+json": {
    "state": {
     "22d16de5dc5140928a6c0d581b8e3a3b": {
      "model_module": "@jupyter-widgets/controls",
      "model_module_version": "1.5.0",
      "model_name": "DescriptionStyleModel",
      "state": {
       "_model_module": "@jupyter-widgets/controls",
       "_model_module_version": "1.5.0",
       "_model_name": "DescriptionStyleModel",
       "_view_count": null,
       "_view_module": "@jupyter-widgets/base",
       "_view_module_version": "1.2.0",
       "_view_name": "StyleView",
       "description_width": ""
      }
     },
     "417ad312018e44dfad8151c6be6e9331": {
      "model_module": "@jupyter-widgets/base",
      "model_module_version": "1.2.0",
      "model_name": "LayoutModel",
      "state": {
       "_model_module": "@jupyter-widgets/base",
       "_model_module_version": "1.2.0",
       "_model_name": "LayoutModel",
       "_view_count": null,
       "_view_module": "@jupyter-widgets/base",
       "_view_module_version": "1.2.0",
       "_view_name": "LayoutView",
       "align_content": null,
       "align_items": null,
       "align_self": null,
       "border": null,
       "bottom": null,
       "display": null,
       "flex": null,
       "flex_flow": null,
       "grid_area": null,
       "grid_auto_columns": null,
       "grid_auto_flow": null,
       "grid_auto_rows": null,
       "grid_column": null,
       "grid_gap": null,
       "grid_row": null,
       "grid_template_areas": null,
       "grid_template_columns": null,
       "grid_template_rows": null,
       "height": null,
       "justify_content": null,
       "justify_items": null,
       "left": null,
       "margin": null,
       "max_height": null,
       "max_width": null,
       "min_height": null,
       "min_width": null,
       "object_fit": null,
       "object_position": null,
       "order": null,
       "overflow": null,
       "overflow_x": null,
       "overflow_y": null,
       "padding": null,
       "right": null,
       "top": null,
       "visibility": null,
       "width": null
      }
     },
     "6ef1f8163f6040268ece907cf7b15b03": {
      "model_module": "@jupyter-widgets/base",
      "model_module_version": "1.2.0",
      "model_name": "LayoutModel",
      "state": {
       "_model_module": "@jupyter-widgets/base",
       "_model_module_version": "1.2.0",
       "_model_name": "LayoutModel",
       "_view_count": null,
       "_view_module": "@jupyter-widgets/base",
       "_view_module_version": "1.2.0",
       "_view_name": "LayoutView",
       "align_content": null,
       "align_items": null,
       "align_self": null,
       "border": null,
       "bottom": null,
       "display": null,
       "flex": null,
       "flex_flow": null,
       "grid_area": null,
       "grid_auto_columns": null,
       "grid_auto_flow": null,
       "grid_auto_rows": null,
       "grid_column": null,
       "grid_gap": null,
       "grid_row": null,
       "grid_template_areas": null,
       "grid_template_columns": null,
       "grid_template_rows": null,
       "height": null,
       "justify_content": null,
       "justify_items": null,
       "left": null,
       "margin": null,
       "max_height": null,
       "max_width": null,
       "min_height": null,
       "min_width": null,
       "object_fit": null,
       "object_position": null,
       "order": null,
       "overflow": null,
       "overflow_x": null,
       "overflow_y": null,
       "padding": null,
       "right": null,
       "top": null,
       "visibility": null,
       "width": null
      }
     },
     "b3fa440860214293b4d3c9c04fadc9ac": {
      "model_module": "@jupyter-widgets/base",
      "model_module_version": "1.2.0",
      "model_name": "LayoutModel",
      "state": {
       "_model_module": "@jupyter-widgets/base",
       "_model_module_version": "1.2.0",
       "_model_name": "LayoutModel",
       "_view_count": null,
       "_view_module": "@jupyter-widgets/base",
       "_view_module_version": "1.2.0",
       "_view_name": "LayoutView",
       "align_content": null,
       "align_items": null,
       "align_self": null,
       "border": null,
       "bottom": null,
       "display": null,
       "flex": null,
       "flex_flow": null,
       "grid_area": null,
       "grid_auto_columns": null,
       "grid_auto_flow": null,
       "grid_auto_rows": null,
       "grid_column": null,
       "grid_gap": null,
       "grid_row": null,
       "grid_template_areas": null,
       "grid_template_columns": null,
       "grid_template_rows": null,
       "height": null,
       "justify_content": null,
       "justify_items": null,
       "left": null,
       "margin": null,
       "max_height": null,
       "max_width": null,
       "min_height": null,
       "min_width": null,
       "object_fit": null,
       "object_position": null,
       "order": null,
       "overflow": null,
       "overflow_x": null,
       "overflow_y": null,
       "padding": null,
       "right": null,
       "top": null,
       "visibility": null,
       "width": null
      }
     },
     "b93962a03ebf4c868a8b9f8e8a804dc0": {
      "model_module": "@jupyter-widgets/controls",
      "model_module_version": "1.5.0",
      "model_name": "HTMLModel",
      "state": {
       "_dom_classes": [],
       "_model_module": "@jupyter-widgets/controls",
       "_model_module_version": "1.5.0",
       "_model_name": "HTMLModel",
       "_view_count": null,
       "_view_module": "@jupyter-widgets/controls",
       "_view_module_version": "1.5.0",
       "_view_name": "HTMLView",
       "description": "",
       "description_tooltip": null,
       "layout": "IPY_MODEL_6ef1f8163f6040268ece907cf7b15b03",
       "placeholder": "​",
       "style": "IPY_MODEL_22d16de5dc5140928a6c0d581b8e3a3b",
       "value": "0/|/| 0/? [00:00&lt;?, ?it/s]"
      }
     },
     "bd48f48b47df48af8d3ef36314ecdf91": {
      "model_module": "@jupyter-widgets/controls",
      "model_module_version": "1.5.0",
      "model_name": "HBoxModel",
      "state": {
       "_dom_classes": [],
       "_model_module": "@jupyter-widgets/controls",
       "_model_module_version": "1.5.0",
       "_model_name": "HBoxModel",
       "_view_count": null,
       "_view_module": "@jupyter-widgets/controls",
       "_view_module_version": "1.5.0",
       "_view_name": "HBoxView",
       "box_style": "",
       "children": [
        "IPY_MODEL_e67d77e01ab64050a9016af3b1502206",
        "IPY_MODEL_b93962a03ebf4c868a8b9f8e8a804dc0"
       ],
       "layout": "IPY_MODEL_417ad312018e44dfad8151c6be6e9331"
      }
     },
     "e0b948daaa3e4fcf96acfb58c17fc67d": {
      "model_module": "@jupyter-widgets/controls",
      "model_module_version": "1.5.0",
      "model_name": "ProgressStyleModel",
      "state": {
       "_model_module": "@jupyter-widgets/controls",
       "_model_module_version": "1.5.0",
       "_model_name": "ProgressStyleModel",
       "_view_count": null,
       "_view_module": "@jupyter-widgets/base",
       "_view_module_version": "1.2.0",
       "_view_name": "StyleView",
       "bar_color": null,
       "description_width": ""
      }
     },
     "e67d77e01ab64050a9016af3b1502206": {
      "model_module": "@jupyter-widgets/controls",
      "model_module_version": "1.5.0",
      "model_name": "IntProgressModel",
      "state": {
       "_dom_classes": [],
       "_model_module": "@jupyter-widgets/controls",
       "_model_module_version": "1.5.0",
       "_model_name": "IntProgressModel",
       "_view_count": null,
       "_view_module": "@jupyter-widgets/controls",
       "_view_module_version": "1.5.0",
       "_view_name": "ProgressView",
       "bar_style": "danger",
       "description": "",
       "description_tooltip": null,
       "layout": "IPY_MODEL_b3fa440860214293b4d3c9c04fadc9ac",
       "max": 1,
       "min": 0,
       "orientation": "horizontal",
       "style": "IPY_MODEL_e0b948daaa3e4fcf96acfb58c17fc67d",
       "value": 1
      }
     }
    },
    "version_major": 2,
    "version_minor": 0
   }
  }
 },
 "nbformat": 4,
 "nbformat_minor": 1
}
